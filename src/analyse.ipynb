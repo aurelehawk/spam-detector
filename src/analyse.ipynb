{
 "cells": [
  {
   "cell_type": "markdown",
   "id": "introduction",
   "metadata": {},
   "source": [
    "# Analyse de Détection de Spam\n",
    "\n",
    "Ce notebook présente une analyse complète du modèle de détection de spam, incluant:\n",
    "\n",
    "1. **Exploration des données** - Analyse statistique et visualisation du dataset\n",
    "2. **Préparation et entraînement du modèle** - Pipeline TF-IDF + Régression Logistique\n",
    "3. **Évaluation des performances** - Métriques et visualisations des résultats\n",
    "4. **Analyse des caractéristiques importantes** - Mots-clés discriminants\n",
    "5. **Sauvegarde et exemples pratiques** - Modèle prêt pour la production"
   ]
  },
  {
   "cell_type": "markdown",
   "id": "imports-section",
   "metadata": {},
   "source": [
    "## 📦 Importation des Bibliothèques\n",
    "\n",
    "Chargement de toutes les bibliothèques nécessaires pour l'analyse et la modélisation."
   ]
  },
  {
   "cell_type": "code",
   "execution_count": 1,
   "id": "imports",
   "metadata": {
    "execution": {
     "iopub.execute_input": "2025-09-04T16:03:33.198240Z",
     "iopub.status.busy": "2025-09-04T16:03:33.197241Z",
     "iopub.status.idle": "2025-09-04T16:03:39.491189Z",
     "shell.execute_reply": "2025-09-04T16:03:39.490176Z"
    }
   },
   "outputs": [
    {
     "name": "stdout",
     "output_type": "stream",
     "text": [
      "✅ Toutes les bibliothèques ont été importées avec succès!\n"
     ]
    }
   ],
   "source": [
    "# Bibliothèques pour la manipulation des données\n",
    "import pandas as pd\n",
    "import numpy as np\n",
    "from pathlib import Path\n",
    "\n",
    "# Bibliothèques pour la visualisation\n",
    "import matplotlib.pyplot as plt\n",
    "import seaborn as sns\n",
    "import plotly.express as px\n",
    "import plotly.graph_objects as go\n",
    "from plotly.subplots import make_subplots\n",
    "\n",
    "# Bibliothèques pour le machine learning\n",
    "from sklearn.model_selection import train_test_split, learning_curve\n",
    "from sklearn.feature_extraction.text import TfidfVectorizer\n",
    "from sklearn.linear_model import LogisticRegression\n",
    "from sklearn.pipeline import Pipeline\n",
    "\n",
    "# Bibliothèques pour l'évaluation du modèle\n",
    "from sklearn.metrics import (accuracy_score, precision_score, recall_score, f1_score,\n",
    "                           confusion_matrix, classification_report,\n",
    "                           roc_curve, auc, precision_recall_curve, average_precision_score)\n",
    "\n",
    "# Bibliothèque pour la sauvegarde du modèle\n",
    "import joblib\n",
    "\n",
    "# Configuration des graphiques\n",
    "plt.style.use('seaborn-v0_8-whitegrid')\n",
    "sns.set_palette('Set2')\n",
    "\n",
    "# Configuration des chemins\n",
    "BASE_DIR = Path().resolve()\n",
    "DATA_PATH = BASE_DIR.parent / 'data' / 'spam.csv'\n",
    "MODEL_DIR = BASE_DIR.parent / 'models'\n",
    "\n",
    "print('✅ Toutes les bibliothèques ont été importées avec succès!')"
   ]
  },
  {
   "cell_type": "markdown",
   "id": "data-loading-section",
   "metadata": {},
   "source": [
    "## 📊 Chargement et Exploration des Données\n",
    "\n",
    "Chargement du dataset de messages spam/ham et analyse exploratoire initiale."
   ]
  },
  {
   "cell_type": "code",
   "execution_count": 2,
   "id": "load-data",
   "metadata": {
    "execution": {
     "iopub.execute_input": "2025-09-04T16:03:39.496187Z",
     "iopub.status.busy": "2025-09-04T16:03:39.495187Z",
     "iopub.status.idle": "2025-09-04T16:03:39.555741Z",
     "shell.execute_reply": "2025-09-04T16:03:39.554723Z"
    }
   },
   "outputs": [
    {
     "name": "stdout",
     "output_type": "stream",
     "text": [
      "✅ Dataset chargé avec succès!\n",
      "📏 Dimensions du dataset: 5572 lignes × 2 colonnes\n",
      "\n",
      "📋 Aperçu des données:\n"
     ]
    },
    {
     "data": {
      "text/html": [
       "<div>\n",
       "<style scoped>\n",
       "    .dataframe tbody tr th:only-of-type {\n",
       "        vertical-align: middle;\n",
       "    }\n",
       "\n",
       "    .dataframe tbody tr th {\n",
       "        vertical-align: top;\n",
       "    }\n",
       "\n",
       "    .dataframe thead th {\n",
       "        text-align: right;\n",
       "    }\n",
       "</style>\n",
       "<table border=\"1\" class=\"dataframe\">\n",
       "  <thead>\n",
       "    <tr style=\"text-align: right;\">\n",
       "      <th></th>\n",
       "      <th>Category</th>\n",
       "      <th>Message</th>\n",
       "    </tr>\n",
       "  </thead>\n",
       "  <tbody>\n",
       "    <tr>\n",
       "      <th>0</th>\n",
       "      <td>ham</td>\n",
       "      <td>Go until jurong point, crazy.. Available only ...</td>\n",
       "    </tr>\n",
       "    <tr>\n",
       "      <th>1</th>\n",
       "      <td>ham</td>\n",
       "      <td>Ok lar... Joking wif u oni...</td>\n",
       "    </tr>\n",
       "    <tr>\n",
       "      <th>2</th>\n",
       "      <td>spam</td>\n",
       "      <td>Free entry in 2 a wkly comp to win FA Cup fina...</td>\n",
       "    </tr>\n",
       "    <tr>\n",
       "      <th>3</th>\n",
       "      <td>ham</td>\n",
       "      <td>U dun say so early hor... U c already then say...</td>\n",
       "    </tr>\n",
       "    <tr>\n",
       "      <th>4</th>\n",
       "      <td>ham</td>\n",
       "      <td>Nah I don't think he goes to usf, he lives aro...</td>\n",
       "    </tr>\n",
       "  </tbody>\n",
       "</table>\n",
       "</div>"
      ],
      "text/plain": [
       "  Category                                            Message\n",
       "0      ham  Go until jurong point, crazy.. Available only ...\n",
       "1      ham                      Ok lar... Joking wif u oni...\n",
       "2     spam  Free entry in 2 a wkly comp to win FA Cup fina...\n",
       "3      ham  U dun say so early hor... U c already then say...\n",
       "4      ham  Nah I don't think he goes to usf, he lives aro..."
      ]
     },
     "execution_count": 2,
     "metadata": {},
     "output_type": "execute_result"
    }
   ],
   "source": [
    "# Chargement des données\n",
    "try:\n",
    "    df = pd.read_csv(DATA_PATH, encoding='utf-8')\n",
    "    print(f'✅ Dataset chargé avec succès!')\n",
    "    print(f'📏 Dimensions du dataset: {df.shape[0]} lignes × {df.shape[1]} colonnes')\n",
    "except FileNotFoundError:\n",
    "    print('❌ Erreur: Fichier spam.csv non trouvé!')\n",
    "    print(f'📂 Chemin recherché: {DATA_PATH}')\n",
    "\n",
    "# Affichage des premières lignes\n",
    "print('\\n📋 Aperçu des données:')\n",
    "df.head()"
   ]
  },
  {
   "cell_type": "code",
   "execution_count": 3,
   "id": "data-info",
   "metadata": {
    "execution": {
     "iopub.execute_input": "2025-09-04T16:03:39.560737Z",
     "iopub.status.busy": "2025-09-04T16:03:39.559737Z",
     "iopub.status.idle": "2025-09-04T16:03:39.597061Z",
     "shell.execute_reply": "2025-09-04T16:03:39.596049Z"
    }
   },
   "outputs": [
    {
     "name": "stdout",
     "output_type": "stream",
     "text": [
      "📊 Informations sur le dataset:\n",
      "<class 'pandas.core.frame.DataFrame'>\n",
      "RangeIndex: 5572 entries, 0 to 5571\n",
      "Data columns (total 2 columns):\n",
      " #   Column    Non-Null Count  Dtype \n",
      "---  ------    --------------  ----- \n",
      " 0   Category  5572 non-null   object\n",
      " 1   Message   5572 non-null   object\n",
      "dtypes: object(2)\n",
      "memory usage: 87.2+ KB\n",
      "\n",
      "📈 Statistiques descriptives:\n",
      "\n",
      "🔍 Valeurs manquantes par colonne:\n",
      "  Category: ✅ Aucune valeur manquante\n",
      "  Message: ✅ Aucune valeur manquante\n"
     ]
    }
   ],
   "source": [
    "# Informations détaillées sur le dataset\n",
    "print('📊 Informations sur le dataset:')\n",
    "df.info()\n",
    "\n",
    "print('\\n📈 Statistiques descriptives:')\n",
    "df.describe(include='all')\n",
    "\n",
    "# Vérification des valeurs manquantes\n",
    "print('\\n🔍 Valeurs manquantes par colonne:')\n",
    "missing_values = df.isnull().sum()\n",
    "for col, count in missing_values.items():\n",
    "    if count > 0:\n",
    "        print(f'  {col}: {count} valeurs manquantes')\n",
    "    else:\n",
    "        print(f'  {col}: ✅ Aucune valeur manquante')"
   ]
  },
  {
   "cell_type": "markdown",
   "id": "data-visualization-section",
   "metadata": {},
   "source": [
    "## 📈 Visualisation de la Distribution des Données\n",
    "\n",
    "Analyse visuelle de la répartition des classes et des caractéristiques des messages."
   ]
  },
  {
   "cell_type": "code",
   "execution_count": 4,
   "id": "category-distribution",
   "metadata": {
    "execution": {
     "iopub.execute_input": "2025-09-04T16:03:39.606409Z",
     "iopub.status.busy": "2025-09-04T16:03:39.605063Z",
     "iopub.status.idle": "2025-09-04T16:03:40.460809Z",
     "shell.execute_reply": "2025-09-04T16:03:40.459799Z"
    }
   },
   "outputs": [
    {
     "name": "stdout",
     "output_type": "stream",
     "text": [
      "📊 Distribution des catégories:\n",
      "  ham: 4825 messages (86.6%)\n",
      "  spam: 747 messages (13.4%)\n"
     ]
    },
    {
     "data": {
      "application/vnd.plotly.v1+json": {
       "config": {
        "plotlyServerURL": "https://plot.ly"
       },
       "data": [
        {
         "customdata": {
          "bdata": "2RLrAg==",
          "dtype": "i2",
          "shape": "2, 1"
         },
         "domain": {
          "x": [
           0.0,
           1.0
          ],
          "y": [
           0.0,
           1.0
          ]
         },
         "hovertemplate": "label=%{label}<br>value=%{value}<br>hover_data_0=%{customdata[0]}<extra></extra>",
         "labels": [
          "ham",
          "spam"
         ],
         "legendgroup": "",
         "name": "",
         "showlegend": true,
         "type": "pie",
         "values": {
          "bdata": "2RLrAg==",
          "dtype": "i2"
         }
        }
       ],
       "layout": {
        "font": {
         "size": 14
        },
        "legend": {
         "title": {
          "text": "Catégorie"
         },
         "tracegroupgap": 0
        },
        "piecolorway": [
         "#ff9999",
         "#66b3ff"
        ],
        "template": {
         "data": {
          "bar": [
           {
            "error_x": {
             "color": "#2a3f5f"
            },
            "error_y": {
             "color": "#2a3f5f"
            },
            "marker": {
             "line": {
              "color": "#E5ECF6",
              "width": 0.5
             },
             "pattern": {
              "fillmode": "overlay",
              "size": 10,
              "solidity": 0.2
             }
            },
            "type": "bar"
           }
          ],
          "barpolar": [
           {
            "marker": {
             "line": {
              "color": "#E5ECF6",
              "width": 0.5
             },
             "pattern": {
              "fillmode": "overlay",
              "size": 10,
              "solidity": 0.2
             }
            },
            "type": "barpolar"
           }
          ],
          "carpet": [
           {
            "aaxis": {
             "endlinecolor": "#2a3f5f",
             "gridcolor": "white",
             "linecolor": "white",
             "minorgridcolor": "white",
             "startlinecolor": "#2a3f5f"
            },
            "baxis": {
             "endlinecolor": "#2a3f5f",
             "gridcolor": "white",
             "linecolor": "white",
             "minorgridcolor": "white",
             "startlinecolor": "#2a3f5f"
            },
            "type": "carpet"
           }
          ],
          "choropleth": [
           {
            "colorbar": {
             "outlinewidth": 0,
             "ticks": ""
            },
            "type": "choropleth"
           }
          ],
          "contour": [
           {
            "colorbar": {
             "outlinewidth": 0,
             "ticks": ""
            },
            "colorscale": [
             [
              0.0,
              "#0d0887"
             ],
             [
              0.1111111111111111,
              "#46039f"
             ],
             [
              0.2222222222222222,
              "#7201a8"
             ],
             [
              0.3333333333333333,
              "#9c179e"
             ],
             [
              0.4444444444444444,
              "#bd3786"
             ],
             [
              0.5555555555555556,
              "#d8576b"
             ],
             [
              0.6666666666666666,
              "#ed7953"
             ],
             [
              0.7777777777777778,
              "#fb9f3a"
             ],
             [
              0.8888888888888888,
              "#fdca26"
             ],
             [
              1.0,
              "#f0f921"
             ]
            ],
            "type": "contour"
           }
          ],
          "contourcarpet": [
           {
            "colorbar": {
             "outlinewidth": 0,
             "ticks": ""
            },
            "type": "contourcarpet"
           }
          ],
          "heatmap": [
           {
            "colorbar": {
             "outlinewidth": 0,
             "ticks": ""
            },
            "colorscale": [
             [
              0.0,
              "#0d0887"
             ],
             [
              0.1111111111111111,
              "#46039f"
             ],
             [
              0.2222222222222222,
              "#7201a8"
             ],
             [
              0.3333333333333333,
              "#9c179e"
             ],
             [
              0.4444444444444444,
              "#bd3786"
             ],
             [
              0.5555555555555556,
              "#d8576b"
             ],
             [
              0.6666666666666666,
              "#ed7953"
             ],
             [
              0.7777777777777778,
              "#fb9f3a"
             ],
             [
              0.8888888888888888,
              "#fdca26"
             ],
             [
              1.0,
              "#f0f921"
             ]
            ],
            "type": "heatmap"
           }
          ],
          "histogram": [
           {
            "marker": {
             "pattern": {
              "fillmode": "overlay",
              "size": 10,
              "solidity": 0.2
             }
            },
            "type": "histogram"
           }
          ],
          "histogram2d": [
           {
            "colorbar": {
             "outlinewidth": 0,
             "ticks": ""
            },
            "colorscale": [
             [
              0.0,
              "#0d0887"
             ],
             [
              0.1111111111111111,
              "#46039f"
             ],
             [
              0.2222222222222222,
              "#7201a8"
             ],
             [
              0.3333333333333333,
              "#9c179e"
             ],
             [
              0.4444444444444444,
              "#bd3786"
             ],
             [
              0.5555555555555556,
              "#d8576b"
             ],
             [
              0.6666666666666666,
              "#ed7953"
             ],
             [
              0.7777777777777778,
              "#fb9f3a"
             ],
             [
              0.8888888888888888,
              "#fdca26"
             ],
             [
              1.0,
              "#f0f921"
             ]
            ],
            "type": "histogram2d"
           }
          ],
          "histogram2dcontour": [
           {
            "colorbar": {
             "outlinewidth": 0,
             "ticks": ""
            },
            "colorscale": [
             [
              0.0,
              "#0d0887"
             ],
             [
              0.1111111111111111,
              "#46039f"
             ],
             [
              0.2222222222222222,
              "#7201a8"
             ],
             [
              0.3333333333333333,
              "#9c179e"
             ],
             [
              0.4444444444444444,
              "#bd3786"
             ],
             [
              0.5555555555555556,
              "#d8576b"
             ],
             [
              0.6666666666666666,
              "#ed7953"
             ],
             [
              0.7777777777777778,
              "#fb9f3a"
             ],
             [
              0.8888888888888888,
              "#fdca26"
             ],
             [
              1.0,
              "#f0f921"
             ]
            ],
            "type": "histogram2dcontour"
           }
          ],
          "mesh3d": [
           {
            "colorbar": {
             "outlinewidth": 0,
             "ticks": ""
            },
            "type": "mesh3d"
           }
          ],
          "parcoords": [
           {
            "line": {
             "colorbar": {
              "outlinewidth": 0,
              "ticks": ""
             }
            },
            "type": "parcoords"
           }
          ],
          "pie": [
           {
            "automargin": true,
            "type": "pie"
           }
          ],
          "scatter": [
           {
            "fillpattern": {
             "fillmode": "overlay",
             "size": 10,
             "solidity": 0.2
            },
            "type": "scatter"
           }
          ],
          "scatter3d": [
           {
            "line": {
             "colorbar": {
              "outlinewidth": 0,
              "ticks": ""
             }
            },
            "marker": {
             "colorbar": {
              "outlinewidth": 0,
              "ticks": ""
             }
            },
            "type": "scatter3d"
           }
          ],
          "scattercarpet": [
           {
            "marker": {
             "colorbar": {
              "outlinewidth": 0,
              "ticks": ""
             }
            },
            "type": "scattercarpet"
           }
          ],
          "scattergeo": [
           {
            "marker": {
             "colorbar": {
              "outlinewidth": 0,
              "ticks": ""
             }
            },
            "type": "scattergeo"
           }
          ],
          "scattergl": [
           {
            "marker": {
             "colorbar": {
              "outlinewidth": 0,
              "ticks": ""
             }
            },
            "type": "scattergl"
           }
          ],
          "scattermap": [
           {
            "marker": {
             "colorbar": {
              "outlinewidth": 0,
              "ticks": ""
             }
            },
            "type": "scattermap"
           }
          ],
          "scattermapbox": [
           {
            "marker": {
             "colorbar": {
              "outlinewidth": 0,
              "ticks": ""
             }
            },
            "type": "scattermapbox"
           }
          ],
          "scatterpolar": [
           {
            "marker": {
             "colorbar": {
              "outlinewidth": 0,
              "ticks": ""
             }
            },
            "type": "scatterpolar"
           }
          ],
          "scatterpolargl": [
           {
            "marker": {
             "colorbar": {
              "outlinewidth": 0,
              "ticks": ""
             }
            },
            "type": "scatterpolargl"
           }
          ],
          "scatterternary": [
           {
            "marker": {
             "colorbar": {
              "outlinewidth": 0,
              "ticks": ""
             }
            },
            "type": "scatterternary"
           }
          ],
          "surface": [
           {
            "colorbar": {
             "outlinewidth": 0,
             "ticks": ""
            },
            "colorscale": [
             [
              0.0,
              "#0d0887"
             ],
             [
              0.1111111111111111,
              "#46039f"
             ],
             [
              0.2222222222222222,
              "#7201a8"
             ],
             [
              0.3333333333333333,
              "#9c179e"
             ],
             [
              0.4444444444444444,
              "#bd3786"
             ],
             [
              0.5555555555555556,
              "#d8576b"
             ],
             [
              0.6666666666666666,
              "#ed7953"
             ],
             [
              0.7777777777777778,
              "#fb9f3a"
             ],
             [
              0.8888888888888888,
              "#fdca26"
             ],
             [
              1.0,
              "#f0f921"
             ]
            ],
            "type": "surface"
           }
          ],
          "table": [
           {
            "cells": {
             "fill": {
              "color": "#EBF0F8"
             },
             "line": {
              "color": "white"
             }
            },
            "header": {
             "fill": {
              "color": "#C8D4E3"
             },
             "line": {
              "color": "white"
             }
            },
            "type": "table"
           }
          ]
         },
         "layout": {
          "annotationdefaults": {
           "arrowcolor": "#2a3f5f",
           "arrowhead": 0,
           "arrowwidth": 1
          },
          "autotypenumbers": "strict",
          "coloraxis": {
           "colorbar": {
            "outlinewidth": 0,
            "ticks": ""
           }
          },
          "colorscale": {
           "diverging": [
            [
             0,
             "#8e0152"
            ],
            [
             0.1,
             "#c51b7d"
            ],
            [
             0.2,
             "#de77ae"
            ],
            [
             0.3,
             "#f1b6da"
            ],
            [
             0.4,
             "#fde0ef"
            ],
            [
             0.5,
             "#f7f7f7"
            ],
            [
             0.6,
             "#e6f5d0"
            ],
            [
             0.7,
             "#b8e186"
            ],
            [
             0.8,
             "#7fbc41"
            ],
            [
             0.9,
             "#4d9221"
            ],
            [
             1,
             "#276419"
            ]
           ],
           "sequential": [
            [
             0.0,
             "#0d0887"
            ],
            [
             0.1111111111111111,
             "#46039f"
            ],
            [
             0.2222222222222222,
             "#7201a8"
            ],
            [
             0.3333333333333333,
             "#9c179e"
            ],
            [
             0.4444444444444444,
             "#bd3786"
            ],
            [
             0.5555555555555556,
             "#d8576b"
            ],
            [
             0.6666666666666666,
             "#ed7953"
            ],
            [
             0.7777777777777778,
             "#fb9f3a"
            ],
            [
             0.8888888888888888,
             "#fdca26"
            ],
            [
             1.0,
             "#f0f921"
            ]
           ],
           "sequentialminus": [
            [
             0.0,
             "#0d0887"
            ],
            [
             0.1111111111111111,
             "#46039f"
            ],
            [
             0.2222222222222222,
             "#7201a8"
            ],
            [
             0.3333333333333333,
             "#9c179e"
            ],
            [
             0.4444444444444444,
             "#bd3786"
            ],
            [
             0.5555555555555556,
             "#d8576b"
            ],
            [
             0.6666666666666666,
             "#ed7953"
            ],
            [
             0.7777777777777778,
             "#fb9f3a"
            ],
            [
             0.8888888888888888,
             "#fdca26"
            ],
            [
             1.0,
             "#f0f921"
            ]
           ]
          },
          "colorway": [
           "#636efa",
           "#EF553B",
           "#00cc96",
           "#ab63fa",
           "#FFA15A",
           "#19d3f3",
           "#FF6692",
           "#B6E880",
           "#FF97FF",
           "#FECB52"
          ],
          "font": {
           "color": "#2a3f5f"
          },
          "geo": {
           "bgcolor": "white",
           "lakecolor": "white",
           "landcolor": "#E5ECF6",
           "showlakes": true,
           "showland": true,
           "subunitcolor": "white"
          },
          "hoverlabel": {
           "align": "left"
          },
          "hovermode": "closest",
          "mapbox": {
           "style": "light"
          },
          "paper_bgcolor": "white",
          "plot_bgcolor": "#E5ECF6",
          "polar": {
           "angularaxis": {
            "gridcolor": "white",
            "linecolor": "white",
            "ticks": ""
           },
           "bgcolor": "#E5ECF6",
           "radialaxis": {
            "gridcolor": "white",
            "linecolor": "white",
            "ticks": ""
           }
          },
          "scene": {
           "xaxis": {
            "backgroundcolor": "#E5ECF6",
            "gridcolor": "white",
            "gridwidth": 2,
            "linecolor": "white",
            "showbackground": true,
            "ticks": "",
            "zerolinecolor": "white"
           },
           "yaxis": {
            "backgroundcolor": "#E5ECF6",
            "gridcolor": "white",
            "gridwidth": 2,
            "linecolor": "white",
            "showbackground": true,
            "ticks": "",
            "zerolinecolor": "white"
           },
           "zaxis": {
            "backgroundcolor": "#E5ECF6",
            "gridcolor": "white",
            "gridwidth": 2,
            "linecolor": "white",
            "showbackground": true,
            "ticks": "",
            "zerolinecolor": "white"
           }
          },
          "shapedefaults": {
           "line": {
            "color": "#2a3f5f"
           }
          },
          "ternary": {
           "aaxis": {
            "gridcolor": "white",
            "linecolor": "white",
            "ticks": ""
           },
           "baxis": {
            "gridcolor": "white",
            "linecolor": "white",
            "ticks": ""
           },
           "bgcolor": "#E5ECF6",
           "caxis": {
            "gridcolor": "white",
            "linecolor": "white",
            "ticks": ""
           }
          },
          "title": {
           "x": 0.05
          },
          "xaxis": {
           "automargin": true,
           "gridcolor": "white",
           "linecolor": "white",
           "ticks": "",
           "title": {
            "standoff": 15
           },
           "zerolinecolor": "white",
           "zerolinewidth": 2
          },
          "yaxis": {
           "automargin": true,
           "gridcolor": "white",
           "linecolor": "white",
           "ticks": "",
           "title": {
            "standoff": 15
           },
           "zerolinecolor": "white",
           "zerolinewidth": 2
          }
         }
        },
        "title": {
         "font": {
          "size": 20
         },
         "text": "🥧 Distribution des Messages Spam vs Ham"
        }
       }
      }
     },
     "metadata": {},
     "output_type": "display_data"
    }
   ],
   "source": [
    "# Distribution des catégories (spam vs ham)\n",
    "category_counts = df['Category'].value_counts()\n",
    "print('📊 Distribution des catégories:')\n",
    "for category, count in category_counts.items():\n",
    "    percentage = (count / len(df)) * 100\n",
    "    print(f'  {category}: {count} messages ({percentage:.1f}%)')\n",
    "\n",
    "# Graphique en secteurs interactif\n",
    "fig = px.pie(\n",
    "    values=category_counts.values,\n",
    "    names=category_counts.index,\n",
    "    title='🥧 Distribution des Messages Spam vs Ham',\n",
    "    color_discrete_sequence=['#ff9999', '#66b3ff'],\n",
    "    hover_data=[category_counts.values]\n",
    ")\n",
    "\n",
    "fig.update_layout(\n",
    "    title_font_size=20,\n",
    "    legend_title='Catégorie',\n",
    "    font=dict(size=14)\n",
    ")\n",
    "\n",
    "fig.show()"
   ]
  },
  {
   "cell_type": "code",
   "execution_count": 5,
   "id": "fbb8202a",
   "metadata": {
    "execution": {
     "iopub.execute_input": "2025-09-04T16:03:40.467494Z",
     "iopub.status.busy": "2025-09-04T16:03:40.466488Z",
     "iopub.status.idle": "2025-09-04T16:03:40.577660Z",
     "shell.execute_reply": "2025-09-04T16:03:40.576648Z"
    }
   },
   "outputs": [
    {
     "name": "stdout",
     "output_type": "stream",
     "text": [
      "📊 Distribution des catégories:\n",
      "  ham: 4825 messages (86.6%)\n",
      "  spam: 747 messages (13.4%)\n"
     ]
    },
    {
     "data": {
      "application/vnd.plotly.v1+json": {
       "config": {
        "plotlyServerURL": "https://plot.ly"
       },
       "data": [
        {
         "customdata": {
          "bdata": "2RLrAg==",
          "dtype": "i2",
          "shape": "2, 1"
         },
         "domain": {
          "x": [
           0.0,
           1.0
          ],
          "y": [
           0.0,
           1.0
          ]
         },
         "hovertemplate": "label=%{label}<br>value=%{value}<br>hover_data_0=%{customdata[0]}<extra></extra>",
         "labels": [
          "ham",
          "spam"
         ],
         "legendgroup": "",
         "name": "",
         "showlegend": true,
         "type": "pie",
         "values": {
          "bdata": "2RLrAg==",
          "dtype": "i2"
         }
        }
       ],
       "layout": {
        "font": {
         "size": 14
        },
        "legend": {
         "title": {
          "text": "Catégorie"
         },
         "tracegroupgap": 0
        },
        "piecolorway": [
         "#ff9999",
         "#66b3ff"
        ],
        "template": {
         "data": {
          "bar": [
           {
            "error_x": {
             "color": "#2a3f5f"
            },
            "error_y": {
             "color": "#2a3f5f"
            },
            "marker": {
             "line": {
              "color": "#E5ECF6",
              "width": 0.5
             },
             "pattern": {
              "fillmode": "overlay",
              "size": 10,
              "solidity": 0.2
             }
            },
            "type": "bar"
           }
          ],
          "barpolar": [
           {
            "marker": {
             "line": {
              "color": "#E5ECF6",
              "width": 0.5
             },
             "pattern": {
              "fillmode": "overlay",
              "size": 10,
              "solidity": 0.2
             }
            },
            "type": "barpolar"
           }
          ],
          "carpet": [
           {
            "aaxis": {
             "endlinecolor": "#2a3f5f",
             "gridcolor": "white",
             "linecolor": "white",
             "minorgridcolor": "white",
             "startlinecolor": "#2a3f5f"
            },
            "baxis": {
             "endlinecolor": "#2a3f5f",
             "gridcolor": "white",
             "linecolor": "white",
             "minorgridcolor": "white",
             "startlinecolor": "#2a3f5f"
            },
            "type": "carpet"
           }
          ],
          "choropleth": [
           {
            "colorbar": {
             "outlinewidth": 0,
             "ticks": ""
            },
            "type": "choropleth"
           }
          ],
          "contour": [
           {
            "colorbar": {
             "outlinewidth": 0,
             "ticks": ""
            },
            "colorscale": [
             [
              0.0,
              "#0d0887"
             ],
             [
              0.1111111111111111,
              "#46039f"
             ],
             [
              0.2222222222222222,
              "#7201a8"
             ],
             [
              0.3333333333333333,
              "#9c179e"
             ],
             [
              0.4444444444444444,
              "#bd3786"
             ],
             [
              0.5555555555555556,
              "#d8576b"
             ],
             [
              0.6666666666666666,
              "#ed7953"
             ],
             [
              0.7777777777777778,
              "#fb9f3a"
             ],
             [
              0.8888888888888888,
              "#fdca26"
             ],
             [
              1.0,
              "#f0f921"
             ]
            ],
            "type": "contour"
           }
          ],
          "contourcarpet": [
           {
            "colorbar": {
             "outlinewidth": 0,
             "ticks": ""
            },
            "type": "contourcarpet"
           }
          ],
          "heatmap": [
           {
            "colorbar": {
             "outlinewidth": 0,
             "ticks": ""
            },
            "colorscale": [
             [
              0.0,
              "#0d0887"
             ],
             [
              0.1111111111111111,
              "#46039f"
             ],
             [
              0.2222222222222222,
              "#7201a8"
             ],
             [
              0.3333333333333333,
              "#9c179e"
             ],
             [
              0.4444444444444444,
              "#bd3786"
             ],
             [
              0.5555555555555556,
              "#d8576b"
             ],
             [
              0.6666666666666666,
              "#ed7953"
             ],
             [
              0.7777777777777778,
              "#fb9f3a"
             ],
             [
              0.8888888888888888,
              "#fdca26"
             ],
             [
              1.0,
              "#f0f921"
             ]
            ],
            "type": "heatmap"
           }
          ],
          "histogram": [
           {
            "marker": {
             "pattern": {
              "fillmode": "overlay",
              "size": 10,
              "solidity": 0.2
             }
            },
            "type": "histogram"
           }
          ],
          "histogram2d": [
           {
            "colorbar": {
             "outlinewidth": 0,
             "ticks": ""
            },
            "colorscale": [
             [
              0.0,
              "#0d0887"
             ],
             [
              0.1111111111111111,
              "#46039f"
             ],
             [
              0.2222222222222222,
              "#7201a8"
             ],
             [
              0.3333333333333333,
              "#9c179e"
             ],
             [
              0.4444444444444444,
              "#bd3786"
             ],
             [
              0.5555555555555556,
              "#d8576b"
             ],
             [
              0.6666666666666666,
              "#ed7953"
             ],
             [
              0.7777777777777778,
              "#fb9f3a"
             ],
             [
              0.8888888888888888,
              "#fdca26"
             ],
             [
              1.0,
              "#f0f921"
             ]
            ],
            "type": "histogram2d"
           }
          ],
          "histogram2dcontour": [
           {
            "colorbar": {
             "outlinewidth": 0,
             "ticks": ""
            },
            "colorscale": [
             [
              0.0,
              "#0d0887"
             ],
             [
              0.1111111111111111,
              "#46039f"
             ],
             [
              0.2222222222222222,
              "#7201a8"
             ],
             [
              0.3333333333333333,
              "#9c179e"
             ],
             [
              0.4444444444444444,
              "#bd3786"
             ],
             [
              0.5555555555555556,
              "#d8576b"
             ],
             [
              0.6666666666666666,
              "#ed7953"
             ],
             [
              0.7777777777777778,
              "#fb9f3a"
             ],
             [
              0.8888888888888888,
              "#fdca26"
             ],
             [
              1.0,
              "#f0f921"
             ]
            ],
            "type": "histogram2dcontour"
           }
          ],
          "mesh3d": [
           {
            "colorbar": {
             "outlinewidth": 0,
             "ticks": ""
            },
            "type": "mesh3d"
           }
          ],
          "parcoords": [
           {
            "line": {
             "colorbar": {
              "outlinewidth": 0,
              "ticks": ""
             }
            },
            "type": "parcoords"
           }
          ],
          "pie": [
           {
            "automargin": true,
            "type": "pie"
           }
          ],
          "scatter": [
           {
            "fillpattern": {
             "fillmode": "overlay",
             "size": 10,
             "solidity": 0.2
            },
            "type": "scatter"
           }
          ],
          "scatter3d": [
           {
            "line": {
             "colorbar": {
              "outlinewidth": 0,
              "ticks": ""
             }
            },
            "marker": {
             "colorbar": {
              "outlinewidth": 0,
              "ticks": ""
             }
            },
            "type": "scatter3d"
           }
          ],
          "scattercarpet": [
           {
            "marker": {
             "colorbar": {
              "outlinewidth": 0,
              "ticks": ""
             }
            },
            "type": "scattercarpet"
           }
          ],
          "scattergeo": [
           {
            "marker": {
             "colorbar": {
              "outlinewidth": 0,
              "ticks": ""
             }
            },
            "type": "scattergeo"
           }
          ],
          "scattergl": [
           {
            "marker": {
             "colorbar": {
              "outlinewidth": 0,
              "ticks": ""
             }
            },
            "type": "scattergl"
           }
          ],
          "scattermap": [
           {
            "marker": {
             "colorbar": {
              "outlinewidth": 0,
              "ticks": ""
             }
            },
            "type": "scattermap"
           }
          ],
          "scattermapbox": [
           {
            "marker": {
             "colorbar": {
              "outlinewidth": 0,
              "ticks": ""
             }
            },
            "type": "scattermapbox"
           }
          ],
          "scatterpolar": [
           {
            "marker": {
             "colorbar": {
              "outlinewidth": 0,
              "ticks": ""
             }
            },
            "type": "scatterpolar"
           }
          ],
          "scatterpolargl": [
           {
            "marker": {
             "colorbar": {
              "outlinewidth": 0,
              "ticks": ""
             }
            },
            "type": "scatterpolargl"
           }
          ],
          "scatterternary": [
           {
            "marker": {
             "colorbar": {
              "outlinewidth": 0,
              "ticks": ""
             }
            },
            "type": "scatterternary"
           }
          ],
          "surface": [
           {
            "colorbar": {
             "outlinewidth": 0,
             "ticks": ""
            },
            "colorscale": [
             [
              0.0,
              "#0d0887"
             ],
             [
              0.1111111111111111,
              "#46039f"
             ],
             [
              0.2222222222222222,
              "#7201a8"
             ],
             [
              0.3333333333333333,
              "#9c179e"
             ],
             [
              0.4444444444444444,
              "#bd3786"
             ],
             [
              0.5555555555555556,
              "#d8576b"
             ],
             [
              0.6666666666666666,
              "#ed7953"
             ],
             [
              0.7777777777777778,
              "#fb9f3a"
             ],
             [
              0.8888888888888888,
              "#fdca26"
             ],
             [
              1.0,
              "#f0f921"
             ]
            ],
            "type": "surface"
           }
          ],
          "table": [
           {
            "cells": {
             "fill": {
              "color": "#EBF0F8"
             },
             "line": {
              "color": "white"
             }
            },
            "header": {
             "fill": {
              "color": "#C8D4E3"
             },
             "line": {
              "color": "white"
             }
            },
            "type": "table"
           }
          ]
         },
         "layout": {
          "annotationdefaults": {
           "arrowcolor": "#2a3f5f",
           "arrowhead": 0,
           "arrowwidth": 1
          },
          "autotypenumbers": "strict",
          "coloraxis": {
           "colorbar": {
            "outlinewidth": 0,
            "ticks": ""
           }
          },
          "colorscale": {
           "diverging": [
            [
             0,
             "#8e0152"
            ],
            [
             0.1,
             "#c51b7d"
            ],
            [
             0.2,
             "#de77ae"
            ],
            [
             0.3,
             "#f1b6da"
            ],
            [
             0.4,
             "#fde0ef"
            ],
            [
             0.5,
             "#f7f7f7"
            ],
            [
             0.6,
             "#e6f5d0"
            ],
            [
             0.7,
             "#b8e186"
            ],
            [
             0.8,
             "#7fbc41"
            ],
            [
             0.9,
             "#4d9221"
            ],
            [
             1,
             "#276419"
            ]
           ],
           "sequential": [
            [
             0.0,
             "#0d0887"
            ],
            [
             0.1111111111111111,
             "#46039f"
            ],
            [
             0.2222222222222222,
             "#7201a8"
            ],
            [
             0.3333333333333333,
             "#9c179e"
            ],
            [
             0.4444444444444444,
             "#bd3786"
            ],
            [
             0.5555555555555556,
             "#d8576b"
            ],
            [
             0.6666666666666666,
             "#ed7953"
            ],
            [
             0.7777777777777778,
             "#fb9f3a"
            ],
            [
             0.8888888888888888,
             "#fdca26"
            ],
            [
             1.0,
             "#f0f921"
            ]
           ],
           "sequentialminus": [
            [
             0.0,
             "#0d0887"
            ],
            [
             0.1111111111111111,
             "#46039f"
            ],
            [
             0.2222222222222222,
             "#7201a8"
            ],
            [
             0.3333333333333333,
             "#9c179e"
            ],
            [
             0.4444444444444444,
             "#bd3786"
            ],
            [
             0.5555555555555556,
             "#d8576b"
            ],
            [
             0.6666666666666666,
             "#ed7953"
            ],
            [
             0.7777777777777778,
             "#fb9f3a"
            ],
            [
             0.8888888888888888,
             "#fdca26"
            ],
            [
             1.0,
             "#f0f921"
            ]
           ]
          },
          "colorway": [
           "#636efa",
           "#EF553B",
           "#00cc96",
           "#ab63fa",
           "#FFA15A",
           "#19d3f3",
           "#FF6692",
           "#B6E880",
           "#FF97FF",
           "#FECB52"
          ],
          "font": {
           "color": "#2a3f5f"
          },
          "geo": {
           "bgcolor": "white",
           "lakecolor": "white",
           "landcolor": "#E5ECF6",
           "showlakes": true,
           "showland": true,
           "subunitcolor": "white"
          },
          "hoverlabel": {
           "align": "left"
          },
          "hovermode": "closest",
          "mapbox": {
           "style": "light"
          },
          "paper_bgcolor": "white",
          "plot_bgcolor": "#E5ECF6",
          "polar": {
           "angularaxis": {
            "gridcolor": "white",
            "linecolor": "white",
            "ticks": ""
           },
           "bgcolor": "#E5ECF6",
           "radialaxis": {
            "gridcolor": "white",
            "linecolor": "white",
            "ticks": ""
           }
          },
          "scene": {
           "xaxis": {
            "backgroundcolor": "#E5ECF6",
            "gridcolor": "white",
            "gridwidth": 2,
            "linecolor": "white",
            "showbackground": true,
            "ticks": "",
            "zerolinecolor": "white"
           },
           "yaxis": {
            "backgroundcolor": "#E5ECF6",
            "gridcolor": "white",
            "gridwidth": 2,
            "linecolor": "white",
            "showbackground": true,
            "ticks": "",
            "zerolinecolor": "white"
           },
           "zaxis": {
            "backgroundcolor": "#E5ECF6",
            "gridcolor": "white",
            "gridwidth": 2,
            "linecolor": "white",
            "showbackground": true,
            "ticks": "",
            "zerolinecolor": "white"
           }
          },
          "shapedefaults": {
           "line": {
            "color": "#2a3f5f"
           }
          },
          "ternary": {
           "aaxis": {
            "gridcolor": "white",
            "linecolor": "white",
            "ticks": ""
           },
           "baxis": {
            "gridcolor": "white",
            "linecolor": "white",
            "ticks": ""
           },
           "bgcolor": "#E5ECF6",
           "caxis": {
            "gridcolor": "white",
            "linecolor": "white",
            "ticks": ""
           }
          },
          "title": {
           "x": 0.05
          },
          "xaxis": {
           "automargin": true,
           "gridcolor": "white",
           "linecolor": "white",
           "ticks": "",
           "title": {
            "standoff": 15
           },
           "zerolinecolor": "white",
           "zerolinewidth": 2
          },
          "yaxis": {
           "automargin": true,
           "gridcolor": "white",
           "linecolor": "white",
           "ticks": "",
           "title": {
            "standoff": 15
           },
           "zerolinecolor": "white",
           "zerolinewidth": 2
          }
         }
        },
        "title": {
         "font": {
          "size": 20
         },
         "text": "🥧 Distribution des Messages Spam vs Ham"
        }
       }
      }
     },
     "metadata": {},
     "output_type": "display_data"
    }
   ],
   "source": [
    "# Distribution des catégories (spam vs ham)\n",
    "category_counts = df['Category'].value_counts()\n",
    "print('📊 Distribution des catégories:')\n",
    "for category, count in category_counts.items():\n",
    "    percentage = (count / len(df)) * 100\n",
    "    print(f'  {category}: {count} messages ({percentage:.1f}%)')\n",
    "\n",
    "# Graphique en secteurs interactif\n",
    "fig = px.pie(\n",
    "    values=category_counts.values,\n",
    "    names=category_counts.index,\n",
    "    title='🥧 Distribution des Messages Spam vs Ham',\n",
    "    color_discrete_sequence=['#ff9999', '#66b3ff'],\n",
    "    hover_data=[category_counts.values]\n",
    ")\n",
    "\n",
    "fig.update_layout(\n",
    "    title_font_size=20,\n",
    "    legend_title='Catégorie',\n",
    "    font=dict(size=14)\n",
    ")\n",
    "\n",
    "fig.show()"
   ]
  },
  {
   "cell_type": "code",
   "execution_count": 6,
   "id": "d73210af",
   "metadata": {
    "execution": {
     "iopub.execute_input": "2025-09-04T16:03:40.584977Z",
     "iopub.status.busy": "2025-09-04T16:03:40.583672Z",
     "iopub.status.idle": "2025-09-04T16:03:40.728700Z",
     "shell.execute_reply": "2025-09-04T16:03:40.727685Z"
    }
   },
   "outputs": [
    {
     "name": "stdout",
     "output_type": "stream",
     "text": [
      "📊 Distribution des catégories:\n",
      "  ham: 4825 messages (86.6%)\n",
      "  spam: 747 messages (13.4%)\n"
     ]
    },
    {
     "data": {
      "application/vnd.plotly.v1+json": {
       "config": {
        "plotlyServerURL": "https://plot.ly"
       },
       "data": [
        {
         "customdata": {
          "bdata": "2RLrAg==",
          "dtype": "i2",
          "shape": "2, 1"
         },
         "domain": {
          "x": [
           0.0,
           1.0
          ],
          "y": [
           0.0,
           1.0
          ]
         },
         "hovertemplate": "label=%{label}<br>value=%{value}<br>hover_data_0=%{customdata[0]}<extra></extra>",
         "labels": [
          "ham",
          "spam"
         ],
         "legendgroup": "",
         "name": "",
         "showlegend": true,
         "type": "pie",
         "values": {
          "bdata": "2RLrAg==",
          "dtype": "i2"
         }
        }
       ],
       "layout": {
        "font": {
         "size": 14
        },
        "legend": {
         "title": {
          "text": "Catégorie"
         },
         "tracegroupgap": 0
        },
        "piecolorway": [
         "#ff9999",
         "#66b3ff"
        ],
        "template": {
         "data": {
          "bar": [
           {
            "error_x": {
             "color": "#2a3f5f"
            },
            "error_y": {
             "color": "#2a3f5f"
            },
            "marker": {
             "line": {
              "color": "#E5ECF6",
              "width": 0.5
             },
             "pattern": {
              "fillmode": "overlay",
              "size": 10,
              "solidity": 0.2
             }
            },
            "type": "bar"
           }
          ],
          "barpolar": [
           {
            "marker": {
             "line": {
              "color": "#E5ECF6",
              "width": 0.5
             },
             "pattern": {
              "fillmode": "overlay",
              "size": 10,
              "solidity": 0.2
             }
            },
            "type": "barpolar"
           }
          ],
          "carpet": [
           {
            "aaxis": {
             "endlinecolor": "#2a3f5f",
             "gridcolor": "white",
             "linecolor": "white",
             "minorgridcolor": "white",
             "startlinecolor": "#2a3f5f"
            },
            "baxis": {
             "endlinecolor": "#2a3f5f",
             "gridcolor": "white",
             "linecolor": "white",
             "minorgridcolor": "white",
             "startlinecolor": "#2a3f5f"
            },
            "type": "carpet"
           }
          ],
          "choropleth": [
           {
            "colorbar": {
             "outlinewidth": 0,
             "ticks": ""
            },
            "type": "choropleth"
           }
          ],
          "contour": [
           {
            "colorbar": {
             "outlinewidth": 0,
             "ticks": ""
            },
            "colorscale": [
             [
              0.0,
              "#0d0887"
             ],
             [
              0.1111111111111111,
              "#46039f"
             ],
             [
              0.2222222222222222,
              "#7201a8"
             ],
             [
              0.3333333333333333,
              "#9c179e"
             ],
             [
              0.4444444444444444,
              "#bd3786"
             ],
             [
              0.5555555555555556,
              "#d8576b"
             ],
             [
              0.6666666666666666,
              "#ed7953"
             ],
             [
              0.7777777777777778,
              "#fb9f3a"
             ],
             [
              0.8888888888888888,
              "#fdca26"
             ],
             [
              1.0,
              "#f0f921"
             ]
            ],
            "type": "contour"
           }
          ],
          "contourcarpet": [
           {
            "colorbar": {
             "outlinewidth": 0,
             "ticks": ""
            },
            "type": "contourcarpet"
           }
          ],
          "heatmap": [
           {
            "colorbar": {
             "outlinewidth": 0,
             "ticks": ""
            },
            "colorscale": [
             [
              0.0,
              "#0d0887"
             ],
             [
              0.1111111111111111,
              "#46039f"
             ],
             [
              0.2222222222222222,
              "#7201a8"
             ],
             [
              0.3333333333333333,
              "#9c179e"
             ],
             [
              0.4444444444444444,
              "#bd3786"
             ],
             [
              0.5555555555555556,
              "#d8576b"
             ],
             [
              0.6666666666666666,
              "#ed7953"
             ],
             [
              0.7777777777777778,
              "#fb9f3a"
             ],
             [
              0.8888888888888888,
              "#fdca26"
             ],
             [
              1.0,
              "#f0f921"
             ]
            ],
            "type": "heatmap"
           }
          ],
          "histogram": [
           {
            "marker": {
             "pattern": {
              "fillmode": "overlay",
              "size": 10,
              "solidity": 0.2
             }
            },
            "type": "histogram"
           }
          ],
          "histogram2d": [
           {
            "colorbar": {
             "outlinewidth": 0,
             "ticks": ""
            },
            "colorscale": [
             [
              0.0,
              "#0d0887"
             ],
             [
              0.1111111111111111,
              "#46039f"
             ],
             [
              0.2222222222222222,
              "#7201a8"
             ],
             [
              0.3333333333333333,
              "#9c179e"
             ],
             [
              0.4444444444444444,
              "#bd3786"
             ],
             [
              0.5555555555555556,
              "#d8576b"
             ],
             [
              0.6666666666666666,
              "#ed7953"
             ],
             [
              0.7777777777777778,
              "#fb9f3a"
             ],
             [
              0.8888888888888888,
              "#fdca26"
             ],
             [
              1.0,
              "#f0f921"
             ]
            ],
            "type": "histogram2d"
           }
          ],
          "histogram2dcontour": [
           {
            "colorbar": {
             "outlinewidth": 0,
             "ticks": ""
            },
            "colorscale": [
             [
              0.0,
              "#0d0887"
             ],
             [
              0.1111111111111111,
              "#46039f"
             ],
             [
              0.2222222222222222,
              "#7201a8"
             ],
             [
              0.3333333333333333,
              "#9c179e"
             ],
             [
              0.4444444444444444,
              "#bd3786"
             ],
             [
              0.5555555555555556,
              "#d8576b"
             ],
             [
              0.6666666666666666,
              "#ed7953"
             ],
             [
              0.7777777777777778,
              "#fb9f3a"
             ],
             [
              0.8888888888888888,
              "#fdca26"
             ],
             [
              1.0,
              "#f0f921"
             ]
            ],
            "type": "histogram2dcontour"
           }
          ],
          "mesh3d": [
           {
            "colorbar": {
             "outlinewidth": 0,
             "ticks": ""
            },
            "type": "mesh3d"
           }
          ],
          "parcoords": [
           {
            "line": {
             "colorbar": {
              "outlinewidth": 0,
              "ticks": ""
             }
            },
            "type": "parcoords"
           }
          ],
          "pie": [
           {
            "automargin": true,
            "type": "pie"
           }
          ],
          "scatter": [
           {
            "fillpattern": {
             "fillmode": "overlay",
             "size": 10,
             "solidity": 0.2
            },
            "type": "scatter"
           }
          ],
          "scatter3d": [
           {
            "line": {
             "colorbar": {
              "outlinewidth": 0,
              "ticks": ""
             }
            },
            "marker": {
             "colorbar": {
              "outlinewidth": 0,
              "ticks": ""
             }
            },
            "type": "scatter3d"
           }
          ],
          "scattercarpet": [
           {
            "marker": {
             "colorbar": {
              "outlinewidth": 0,
              "ticks": ""
             }
            },
            "type": "scattercarpet"
           }
          ],
          "scattergeo": [
           {
            "marker": {
             "colorbar": {
              "outlinewidth": 0,
              "ticks": ""
             }
            },
            "type": "scattergeo"
           }
          ],
          "scattergl": [
           {
            "marker": {
             "colorbar": {
              "outlinewidth": 0,
              "ticks": ""
             }
            },
            "type": "scattergl"
           }
          ],
          "scattermap": [
           {
            "marker": {
             "colorbar": {
              "outlinewidth": 0,
              "ticks": ""
             }
            },
            "type": "scattermap"
           }
          ],
          "scattermapbox": [
           {
            "marker": {
             "colorbar": {
              "outlinewidth": 0,
              "ticks": ""
             }
            },
            "type": "scattermapbox"
           }
          ],
          "scatterpolar": [
           {
            "marker": {
             "colorbar": {
              "outlinewidth": 0,
              "ticks": ""
             }
            },
            "type": "scatterpolar"
           }
          ],
          "scatterpolargl": [
           {
            "marker": {
             "colorbar": {
              "outlinewidth": 0,
              "ticks": ""
             }
            },
            "type": "scatterpolargl"
           }
          ],
          "scatterternary": [
           {
            "marker": {
             "colorbar": {
              "outlinewidth": 0,
              "ticks": ""
             }
            },
            "type": "scatterternary"
           }
          ],
          "surface": [
           {
            "colorbar": {
             "outlinewidth": 0,
             "ticks": ""
            },
            "colorscale": [
             [
              0.0,
              "#0d0887"
             ],
             [
              0.1111111111111111,
              "#46039f"
             ],
             [
              0.2222222222222222,
              "#7201a8"
             ],
             [
              0.3333333333333333,
              "#9c179e"
             ],
             [
              0.4444444444444444,
              "#bd3786"
             ],
             [
              0.5555555555555556,
              "#d8576b"
             ],
             [
              0.6666666666666666,
              "#ed7953"
             ],
             [
              0.7777777777777778,
              "#fb9f3a"
             ],
             [
              0.8888888888888888,
              "#fdca26"
             ],
             [
              1.0,
              "#f0f921"
             ]
            ],
            "type": "surface"
           }
          ],
          "table": [
           {
            "cells": {
             "fill": {
              "color": "#EBF0F8"
             },
             "line": {
              "color": "white"
             }
            },
            "header": {
             "fill": {
              "color": "#C8D4E3"
             },
             "line": {
              "color": "white"
             }
            },
            "type": "table"
           }
          ]
         },
         "layout": {
          "annotationdefaults": {
           "arrowcolor": "#2a3f5f",
           "arrowhead": 0,
           "arrowwidth": 1
          },
          "autotypenumbers": "strict",
          "coloraxis": {
           "colorbar": {
            "outlinewidth": 0,
            "ticks": ""
           }
          },
          "colorscale": {
           "diverging": [
            [
             0,
             "#8e0152"
            ],
            [
             0.1,
             "#c51b7d"
            ],
            [
             0.2,
             "#de77ae"
            ],
            [
             0.3,
             "#f1b6da"
            ],
            [
             0.4,
             "#fde0ef"
            ],
            [
             0.5,
             "#f7f7f7"
            ],
            [
             0.6,
             "#e6f5d0"
            ],
            [
             0.7,
             "#b8e186"
            ],
            [
             0.8,
             "#7fbc41"
            ],
            [
             0.9,
             "#4d9221"
            ],
            [
             1,
             "#276419"
            ]
           ],
           "sequential": [
            [
             0.0,
             "#0d0887"
            ],
            [
             0.1111111111111111,
             "#46039f"
            ],
            [
             0.2222222222222222,
             "#7201a8"
            ],
            [
             0.3333333333333333,
             "#9c179e"
            ],
            [
             0.4444444444444444,
             "#bd3786"
            ],
            [
             0.5555555555555556,
             "#d8576b"
            ],
            [
             0.6666666666666666,
             "#ed7953"
            ],
            [
             0.7777777777777778,
             "#fb9f3a"
            ],
            [
             0.8888888888888888,
             "#fdca26"
            ],
            [
             1.0,
             "#f0f921"
            ]
           ],
           "sequentialminus": [
            [
             0.0,
             "#0d0887"
            ],
            [
             0.1111111111111111,
             "#46039f"
            ],
            [
             0.2222222222222222,
             "#7201a8"
            ],
            [
             0.3333333333333333,
             "#9c179e"
            ],
            [
             0.4444444444444444,
             "#bd3786"
            ],
            [
             0.5555555555555556,
             "#d8576b"
            ],
            [
             0.6666666666666666,
             "#ed7953"
            ],
            [
             0.7777777777777778,
             "#fb9f3a"
            ],
            [
             0.8888888888888888,
             "#fdca26"
            ],
            [
             1.0,
             "#f0f921"
            ]
           ]
          },
          "colorway": [
           "#636efa",
           "#EF553B",
           "#00cc96",
           "#ab63fa",
           "#FFA15A",
           "#19d3f3",
           "#FF6692",
           "#B6E880",
           "#FF97FF",
           "#FECB52"
          ],
          "font": {
           "color": "#2a3f5f"
          },
          "geo": {
           "bgcolor": "white",
           "lakecolor": "white",
           "landcolor": "#E5ECF6",
           "showlakes": true,
           "showland": true,
           "subunitcolor": "white"
          },
          "hoverlabel": {
           "align": "left"
          },
          "hovermode": "closest",
          "mapbox": {
           "style": "light"
          },
          "paper_bgcolor": "white",
          "plot_bgcolor": "#E5ECF6",
          "polar": {
           "angularaxis": {
            "gridcolor": "white",
            "linecolor": "white",
            "ticks": ""
           },
           "bgcolor": "#E5ECF6",
           "radialaxis": {
            "gridcolor": "white",
            "linecolor": "white",
            "ticks": ""
           }
          },
          "scene": {
           "xaxis": {
            "backgroundcolor": "#E5ECF6",
            "gridcolor": "white",
            "gridwidth": 2,
            "linecolor": "white",
            "showbackground": true,
            "ticks": "",
            "zerolinecolor": "white"
           },
           "yaxis": {
            "backgroundcolor": "#E5ECF6",
            "gridcolor": "white",
            "gridwidth": 2,
            "linecolor": "white",
            "showbackground": true,
            "ticks": "",
            "zerolinecolor": "white"
           },
           "zaxis": {
            "backgroundcolor": "#E5ECF6",
            "gridcolor": "white",
            "gridwidth": 2,
            "linecolor": "white",
            "showbackground": true,
            "ticks": "",
            "zerolinecolor": "white"
           }
          },
          "shapedefaults": {
           "line": {
            "color": "#2a3f5f"
           }
          },
          "ternary": {
           "aaxis": {
            "gridcolor": "white",
            "linecolor": "white",
            "ticks": ""
           },
           "baxis": {
            "gridcolor": "white",
            "linecolor": "white",
            "ticks": ""
           },
           "bgcolor": "#E5ECF6",
           "caxis": {
            "gridcolor": "white",
            "linecolor": "white",
            "ticks": ""
           }
          },
          "title": {
           "x": 0.05
          },
          "xaxis": {
           "automargin": true,
           "gridcolor": "white",
           "linecolor": "white",
           "ticks": "",
           "title": {
            "standoff": 15
           },
           "zerolinecolor": "white",
           "zerolinewidth": 2
          },
          "yaxis": {
           "automargin": true,
           "gridcolor": "white",
           "linecolor": "white",
           "ticks": "",
           "title": {
            "standoff": 15
           },
           "zerolinecolor": "white",
           "zerolinewidth": 2
          }
         }
        },
        "title": {
         "font": {
          "size": 20
         },
         "text": "🥧 Distribution des Messages Spam vs Ham"
        }
       }
      }
     },
     "metadata": {},
     "output_type": "display_data"
    }
   ],
   "source": [
    "# Distribution des catégories (spam vs ham)\n",
    "category_counts = df['Category'].value_counts()\n",
    "print('📊 Distribution des catégories:')\n",
    "for category, count in category_counts.items():\n",
    "    percentage = (count / len(df)) * 100\n",
    "    print(f'  {category}: {count} messages ({percentage:.1f}%)')\n",
    "\n",
    "# Graphique en secteurs interactif\n",
    "fig = px.pie(\n",
    "    values=category_counts.values,\n",
    "    names=category_counts.index,\n",
    "    title='🥧 Distribution des Messages Spam vs Ham',\n",
    "    color_discrete_sequence=['#ff9999', '#66b3ff'],\n",
    "    hover_data=[category_counts.values]\n",
    ")\n",
    "\n",
    "fig.update_layout(\n",
    "    title_font_size=20,\n",
    "    legend_title='Catégorie',\n",
    "    font=dict(size=14)\n",
    ")\n",
    "\n",
    "fig.show()"
   ]
  },
  {
   "cell_type": "code",
   "execution_count": 7,
   "id": "d1c7ff4d",
   "metadata": {
    "execution": {
     "iopub.execute_input": "2025-09-04T16:03:40.736058Z",
     "iopub.status.busy": "2025-09-04T16:03:40.734718Z",
     "iopub.status.idle": "2025-09-04T16:03:40.842243Z",
     "shell.execute_reply": "2025-09-04T16:03:40.841232Z"
    }
   },
   "outputs": [
    {
     "name": "stdout",
     "output_type": "stream",
     "text": [
      "📊 Distribution des catégories:\n",
      "  ham: 4825 messages (86.6%)\n",
      "  spam: 747 messages (13.4%)\n"
     ]
    },
    {
     "data": {
      "application/vnd.plotly.v1+json": {
       "config": {
        "plotlyServerURL": "https://plot.ly"
       },
       "data": [
        {
         "customdata": {
          "bdata": "2RLrAg==",
          "dtype": "i2",
          "shape": "2, 1"
         },
         "domain": {
          "x": [
           0.0,
           1.0
          ],
          "y": [
           0.0,
           1.0
          ]
         },
         "hovertemplate": "label=%{label}<br>value=%{value}<br>hover_data_0=%{customdata[0]}<extra></extra>",
         "labels": [
          "ham",
          "spam"
         ],
         "legendgroup": "",
         "name": "",
         "showlegend": true,
         "type": "pie",
         "values": {
          "bdata": "2RLrAg==",
          "dtype": "i2"
         }
        }
       ],
       "layout": {
        "font": {
         "size": 14
        },
        "legend": {
         "title": {
          "text": "Catégorie"
         },
         "tracegroupgap": 0
        },
        "piecolorway": [
         "#ff9999",
         "#66b3ff"
        ],
        "template": {
         "data": {
          "bar": [
           {
            "error_x": {
             "color": "#2a3f5f"
            },
            "error_y": {
             "color": "#2a3f5f"
            },
            "marker": {
             "line": {
              "color": "#E5ECF6",
              "width": 0.5
             },
             "pattern": {
              "fillmode": "overlay",
              "size": 10,
              "solidity": 0.2
             }
            },
            "type": "bar"
           }
          ],
          "barpolar": [
           {
            "marker": {
             "line": {
              "color": "#E5ECF6",
              "width": 0.5
             },
             "pattern": {
              "fillmode": "overlay",
              "size": 10,
              "solidity": 0.2
             }
            },
            "type": "barpolar"
           }
          ],
          "carpet": [
           {
            "aaxis": {
             "endlinecolor": "#2a3f5f",
             "gridcolor": "white",
             "linecolor": "white",
             "minorgridcolor": "white",
             "startlinecolor": "#2a3f5f"
            },
            "baxis": {
             "endlinecolor": "#2a3f5f",
             "gridcolor": "white",
             "linecolor": "white",
             "minorgridcolor": "white",
             "startlinecolor": "#2a3f5f"
            },
            "type": "carpet"
           }
          ],
          "choropleth": [
           {
            "colorbar": {
             "outlinewidth": 0,
             "ticks": ""
            },
            "type": "choropleth"
           }
          ],
          "contour": [
           {
            "colorbar": {
             "outlinewidth": 0,
             "ticks": ""
            },
            "colorscale": [
             [
              0.0,
              "#0d0887"
             ],
             [
              0.1111111111111111,
              "#46039f"
             ],
             [
              0.2222222222222222,
              "#7201a8"
             ],
             [
              0.3333333333333333,
              "#9c179e"
             ],
             [
              0.4444444444444444,
              "#bd3786"
             ],
             [
              0.5555555555555556,
              "#d8576b"
             ],
             [
              0.6666666666666666,
              "#ed7953"
             ],
             [
              0.7777777777777778,
              "#fb9f3a"
             ],
             [
              0.8888888888888888,
              "#fdca26"
             ],
             [
              1.0,
              "#f0f921"
             ]
            ],
            "type": "contour"
           }
          ],
          "contourcarpet": [
           {
            "colorbar": {
             "outlinewidth": 0,
             "ticks": ""
            },
            "type": "contourcarpet"
           }
          ],
          "heatmap": [
           {
            "colorbar": {
             "outlinewidth": 0,
             "ticks": ""
            },
            "colorscale": [
             [
              0.0,
              "#0d0887"
             ],
             [
              0.1111111111111111,
              "#46039f"
             ],
             [
              0.2222222222222222,
              "#7201a8"
             ],
             [
              0.3333333333333333,
              "#9c179e"
             ],
             [
              0.4444444444444444,
              "#bd3786"
             ],
             [
              0.5555555555555556,
              "#d8576b"
             ],
             [
              0.6666666666666666,
              "#ed7953"
             ],
             [
              0.7777777777777778,
              "#fb9f3a"
             ],
             [
              0.8888888888888888,
              "#fdca26"
             ],
             [
              1.0,
              "#f0f921"
             ]
            ],
            "type": "heatmap"
           }
          ],
          "histogram": [
           {
            "marker": {
             "pattern": {
              "fillmode": "overlay",
              "size": 10,
              "solidity": 0.2
             }
            },
            "type": "histogram"
           }
          ],
          "histogram2d": [
           {
            "colorbar": {
             "outlinewidth": 0,
             "ticks": ""
            },
            "colorscale": [
             [
              0.0,
              "#0d0887"
             ],
             [
              0.1111111111111111,
              "#46039f"
             ],
             [
              0.2222222222222222,
              "#7201a8"
             ],
             [
              0.3333333333333333,
              "#9c179e"
             ],
             [
              0.4444444444444444,
              "#bd3786"
             ],
             [
              0.5555555555555556,
              "#d8576b"
             ],
             [
              0.6666666666666666,
              "#ed7953"
             ],
             [
              0.7777777777777778,
              "#fb9f3a"
             ],
             [
              0.8888888888888888,
              "#fdca26"
             ],
             [
              1.0,
              "#f0f921"
             ]
            ],
            "type": "histogram2d"
           }
          ],
          "histogram2dcontour": [
           {
            "colorbar": {
             "outlinewidth": 0,
             "ticks": ""
            },
            "colorscale": [
             [
              0.0,
              "#0d0887"
             ],
             [
              0.1111111111111111,
              "#46039f"
             ],
             [
              0.2222222222222222,
              "#7201a8"
             ],
             [
              0.3333333333333333,
              "#9c179e"
             ],
             [
              0.4444444444444444,
              "#bd3786"
             ],
             [
              0.5555555555555556,
              "#d8576b"
             ],
             [
              0.6666666666666666,
              "#ed7953"
             ],
             [
              0.7777777777777778,
              "#fb9f3a"
             ],
             [
              0.8888888888888888,
              "#fdca26"
             ],
             [
              1.0,
              "#f0f921"
             ]
            ],
            "type": "histogram2dcontour"
           }
          ],
          "mesh3d": [
           {
            "colorbar": {
             "outlinewidth": 0,
             "ticks": ""
            },
            "type": "mesh3d"
           }
          ],
          "parcoords": [
           {
            "line": {
             "colorbar": {
              "outlinewidth": 0,
              "ticks": ""
             }
            },
            "type": "parcoords"
           }
          ],
          "pie": [
           {
            "automargin": true,
            "type": "pie"
           }
          ],
          "scatter": [
           {
            "fillpattern": {
             "fillmode": "overlay",
             "size": 10,
             "solidity": 0.2
            },
            "type": "scatter"
           }
          ],
          "scatter3d": [
           {
            "line": {
             "colorbar": {
              "outlinewidth": 0,
              "ticks": ""
             }
            },
            "marker": {
             "colorbar": {
              "outlinewidth": 0,
              "ticks": ""
             }
            },
            "type": "scatter3d"
           }
          ],
          "scattercarpet": [
           {
            "marker": {
             "colorbar": {
              "outlinewidth": 0,
              "ticks": ""
             }
            },
            "type": "scattercarpet"
           }
          ],
          "scattergeo": [
           {
            "marker": {
             "colorbar": {
              "outlinewidth": 0,
              "ticks": ""
             }
            },
            "type": "scattergeo"
           }
          ],
          "scattergl": [
           {
            "marker": {
             "colorbar": {
              "outlinewidth": 0,
              "ticks": ""
             }
            },
            "type": "scattergl"
           }
          ],
          "scattermap": [
           {
            "marker": {
             "colorbar": {
              "outlinewidth": 0,
              "ticks": ""
             }
            },
            "type": "scattermap"
           }
          ],
          "scattermapbox": [
           {
            "marker": {
             "colorbar": {
              "outlinewidth": 0,
              "ticks": ""
             }
            },
            "type": "scattermapbox"
           }
          ],
          "scatterpolar": [
           {
            "marker": {
             "colorbar": {
              "outlinewidth": 0,
              "ticks": ""
             }
            },
            "type": "scatterpolar"
           }
          ],
          "scatterpolargl": [
           {
            "marker": {
             "colorbar": {
              "outlinewidth": 0,
              "ticks": ""
             }
            },
            "type": "scatterpolargl"
           }
          ],
          "scatterternary": [
           {
            "marker": {
             "colorbar": {
              "outlinewidth": 0,
              "ticks": ""
             }
            },
            "type": "scatterternary"
           }
          ],
          "surface": [
           {
            "colorbar": {
             "outlinewidth": 0,
             "ticks": ""
            },
            "colorscale": [
             [
              0.0,
              "#0d0887"
             ],
             [
              0.1111111111111111,
              "#46039f"
             ],
             [
              0.2222222222222222,
              "#7201a8"
             ],
             [
              0.3333333333333333,
              "#9c179e"
             ],
             [
              0.4444444444444444,
              "#bd3786"
             ],
             [
              0.5555555555555556,
              "#d8576b"
             ],
             [
              0.6666666666666666,
              "#ed7953"
             ],
             [
              0.7777777777777778,
              "#fb9f3a"
             ],
             [
              0.8888888888888888,
              "#fdca26"
             ],
             [
              1.0,
              "#f0f921"
             ]
            ],
            "type": "surface"
           }
          ],
          "table": [
           {
            "cells": {
             "fill": {
              "color": "#EBF0F8"
             },
             "line": {
              "color": "white"
             }
            },
            "header": {
             "fill": {
              "color": "#C8D4E3"
             },
             "line": {
              "color": "white"
             }
            },
            "type": "table"
           }
          ]
         },
         "layout": {
          "annotationdefaults": {
           "arrowcolor": "#2a3f5f",
           "arrowhead": 0,
           "arrowwidth": 1
          },
          "autotypenumbers": "strict",
          "coloraxis": {
           "colorbar": {
            "outlinewidth": 0,
            "ticks": ""
           }
          },
          "colorscale": {
           "diverging": [
            [
             0,
             "#8e0152"
            ],
            [
             0.1,
             "#c51b7d"
            ],
            [
             0.2,
             "#de77ae"
            ],
            [
             0.3,
             "#f1b6da"
            ],
            [
             0.4,
             "#fde0ef"
            ],
            [
             0.5,
             "#f7f7f7"
            ],
            [
             0.6,
             "#e6f5d0"
            ],
            [
             0.7,
             "#b8e186"
            ],
            [
             0.8,
             "#7fbc41"
            ],
            [
             0.9,
             "#4d9221"
            ],
            [
             1,
             "#276419"
            ]
           ],
           "sequential": [
            [
             0.0,
             "#0d0887"
            ],
            [
             0.1111111111111111,
             "#46039f"
            ],
            [
             0.2222222222222222,
             "#7201a8"
            ],
            [
             0.3333333333333333,
             "#9c179e"
            ],
            [
             0.4444444444444444,
             "#bd3786"
            ],
            [
             0.5555555555555556,
             "#d8576b"
            ],
            [
             0.6666666666666666,
             "#ed7953"
            ],
            [
             0.7777777777777778,
             "#fb9f3a"
            ],
            [
             0.8888888888888888,
             "#fdca26"
            ],
            [
             1.0,
             "#f0f921"
            ]
           ],
           "sequentialminus": [
            [
             0.0,
             "#0d0887"
            ],
            [
             0.1111111111111111,
             "#46039f"
            ],
            [
             0.2222222222222222,
             "#7201a8"
            ],
            [
             0.3333333333333333,
             "#9c179e"
            ],
            [
             0.4444444444444444,
             "#bd3786"
            ],
            [
             0.5555555555555556,
             "#d8576b"
            ],
            [
             0.6666666666666666,
             "#ed7953"
            ],
            [
             0.7777777777777778,
             "#fb9f3a"
            ],
            [
             0.8888888888888888,
             "#fdca26"
            ],
            [
             1.0,
             "#f0f921"
            ]
           ]
          },
          "colorway": [
           "#636efa",
           "#EF553B",
           "#00cc96",
           "#ab63fa",
           "#FFA15A",
           "#19d3f3",
           "#FF6692",
           "#B6E880",
           "#FF97FF",
           "#FECB52"
          ],
          "font": {
           "color": "#2a3f5f"
          },
          "geo": {
           "bgcolor": "white",
           "lakecolor": "white",
           "landcolor": "#E5ECF6",
           "showlakes": true,
           "showland": true,
           "subunitcolor": "white"
          },
          "hoverlabel": {
           "align": "left"
          },
          "hovermode": "closest",
          "mapbox": {
           "style": "light"
          },
          "paper_bgcolor": "white",
          "plot_bgcolor": "#E5ECF6",
          "polar": {
           "angularaxis": {
            "gridcolor": "white",
            "linecolor": "white",
            "ticks": ""
           },
           "bgcolor": "#E5ECF6",
           "radialaxis": {
            "gridcolor": "white",
            "linecolor": "white",
            "ticks": ""
           }
          },
          "scene": {
           "xaxis": {
            "backgroundcolor": "#E5ECF6",
            "gridcolor": "white",
            "gridwidth": 2,
            "linecolor": "white",
            "showbackground": true,
            "ticks": "",
            "zerolinecolor": "white"
           },
           "yaxis": {
            "backgroundcolor": "#E5ECF6",
            "gridcolor": "white",
            "gridwidth": 2,
            "linecolor": "white",
            "showbackground": true,
            "ticks": "",
            "zerolinecolor": "white"
           },
           "zaxis": {
            "backgroundcolor": "#E5ECF6",
            "gridcolor": "white",
            "gridwidth": 2,
            "linecolor": "white",
            "showbackground": true,
            "ticks": "",
            "zerolinecolor": "white"
           }
          },
          "shapedefaults": {
           "line": {
            "color": "#2a3f5f"
           }
          },
          "ternary": {
           "aaxis": {
            "gridcolor": "white",
            "linecolor": "white",
            "ticks": ""
           },
           "baxis": {
            "gridcolor": "white",
            "linecolor": "white",
            "ticks": ""
           },
           "bgcolor": "#E5ECF6",
           "caxis": {
            "gridcolor": "white",
            "linecolor": "white",
            "ticks": ""
           }
          },
          "title": {
           "x": 0.05
          },
          "xaxis": {
           "automargin": true,
           "gridcolor": "white",
           "linecolor": "white",
           "ticks": "",
           "title": {
            "standoff": 15
           },
           "zerolinecolor": "white",
           "zerolinewidth": 2
          },
          "yaxis": {
           "automargin": true,
           "gridcolor": "white",
           "linecolor": "white",
           "ticks": "",
           "title": {
            "standoff": 15
           },
           "zerolinecolor": "white",
           "zerolinewidth": 2
          }
         }
        },
        "title": {
         "font": {
          "size": 20
         },
         "text": "🥧 Distribution des Messages Spam vs Ham"
        }
       }
      }
     },
     "metadata": {},
     "output_type": "display_data"
    }
   ],
   "source": [
    "# Distribution des catégories (spam vs ham)\n",
    "category_counts = df['Category'].value_counts()\n",
    "print('📊 Distribution des catégories:')\n",
    "for category, count in category_counts.items():\n",
    "    percentage = (count / len(df)) * 100\n",
    "    print(f'  {category}: {count} messages ({percentage:.1f}%)')\n",
    "\n",
    "# Graphique en secteurs interactif\n",
    "fig = px.pie(\n",
    "    values=category_counts.values,\n",
    "    names=category_counts.index,\n",
    "    title='🥧 Distribution des Messages Spam vs Ham',\n",
    "    color_discrete_sequence=['#ff9999', '#66b3ff'],\n",
    "    hover_data=[category_counts.values]\n",
    ")\n",
    "\n",
    "fig.update_layout(\n",
    "    title_font_size=20,\n",
    "    legend_title='Catégorie',\n",
    "    font=dict(size=14)\n",
    ")\n",
    "\n",
    "fig.show()"
   ]
  },
  {
   "cell_type": "code",
   "execution_count": 8,
   "id": "8c0638a0",
   "metadata": {
    "execution": {
     "iopub.execute_input": "2025-09-04T16:03:40.845416Z",
     "iopub.status.busy": "2025-09-04T16:03:40.845416Z",
     "iopub.status.idle": "2025-09-04T16:03:40.959658Z",
     "shell.execute_reply": "2025-09-04T16:03:40.958648Z"
    }
   },
   "outputs": [
    {
     "name": "stdout",
     "output_type": "stream",
     "text": [
      "📊 Distribution des catégories:\n",
      "  ham: 4825 messages (86.6%)\n",
      "  spam: 747 messages (13.4%)\n"
     ]
    },
    {
     "data": {
      "application/vnd.plotly.v1+json": {
       "config": {
        "plotlyServerURL": "https://plot.ly"
       },
       "data": [
        {
         "customdata": {
          "bdata": "2RLrAg==",
          "dtype": "i2",
          "shape": "2, 1"
         },
         "domain": {
          "x": [
           0.0,
           1.0
          ],
          "y": [
           0.0,
           1.0
          ]
         },
         "hovertemplate": "label=%{label}<br>value=%{value}<br>hover_data_0=%{customdata[0]}<extra></extra>",
         "labels": [
          "ham",
          "spam"
         ],
         "legendgroup": "",
         "name": "",
         "showlegend": true,
         "type": "pie",
         "values": {
          "bdata": "2RLrAg==",
          "dtype": "i2"
         }
        }
       ],
       "layout": {
        "font": {
         "size": 14
        },
        "legend": {
         "title": {
          "text": "Catégorie"
         },
         "tracegroupgap": 0
        },
        "piecolorway": [
         "#ff9999",
         "#66b3ff"
        ],
        "template": {
         "data": {
          "bar": [
           {
            "error_x": {
             "color": "#2a3f5f"
            },
            "error_y": {
             "color": "#2a3f5f"
            },
            "marker": {
             "line": {
              "color": "#E5ECF6",
              "width": 0.5
             },
             "pattern": {
              "fillmode": "overlay",
              "size": 10,
              "solidity": 0.2
             }
            },
            "type": "bar"
           }
          ],
          "barpolar": [
           {
            "marker": {
             "line": {
              "color": "#E5ECF6",
              "width": 0.5
             },
             "pattern": {
              "fillmode": "overlay",
              "size": 10,
              "solidity": 0.2
             }
            },
            "type": "barpolar"
           }
          ],
          "carpet": [
           {
            "aaxis": {
             "endlinecolor": "#2a3f5f",
             "gridcolor": "white",
             "linecolor": "white",
             "minorgridcolor": "white",
             "startlinecolor": "#2a3f5f"
            },
            "baxis": {
             "endlinecolor": "#2a3f5f",
             "gridcolor": "white",
             "linecolor": "white",
             "minorgridcolor": "white",
             "startlinecolor": "#2a3f5f"
            },
            "type": "carpet"
           }
          ],
          "choropleth": [
           {
            "colorbar": {
             "outlinewidth": 0,
             "ticks": ""
            },
            "type": "choropleth"
           }
          ],
          "contour": [
           {
            "colorbar": {
             "outlinewidth": 0,
             "ticks": ""
            },
            "colorscale": [
             [
              0.0,
              "#0d0887"
             ],
             [
              0.1111111111111111,
              "#46039f"
             ],
             [
              0.2222222222222222,
              "#7201a8"
             ],
             [
              0.3333333333333333,
              "#9c179e"
             ],
             [
              0.4444444444444444,
              "#bd3786"
             ],
             [
              0.5555555555555556,
              "#d8576b"
             ],
             [
              0.6666666666666666,
              "#ed7953"
             ],
             [
              0.7777777777777778,
              "#fb9f3a"
             ],
             [
              0.8888888888888888,
              "#fdca26"
             ],
             [
              1.0,
              "#f0f921"
             ]
            ],
            "type": "contour"
           }
          ],
          "contourcarpet": [
           {
            "colorbar": {
             "outlinewidth": 0,
             "ticks": ""
            },
            "type": "contourcarpet"
           }
          ],
          "heatmap": [
           {
            "colorbar": {
             "outlinewidth": 0,
             "ticks": ""
            },
            "colorscale": [
             [
              0.0,
              "#0d0887"
             ],
             [
              0.1111111111111111,
              "#46039f"
             ],
             [
              0.2222222222222222,
              "#7201a8"
             ],
             [
              0.3333333333333333,
              "#9c179e"
             ],
             [
              0.4444444444444444,
              "#bd3786"
             ],
             [
              0.5555555555555556,
              "#d8576b"
             ],
             [
              0.6666666666666666,
              "#ed7953"
             ],
             [
              0.7777777777777778,
              "#fb9f3a"
             ],
             [
              0.8888888888888888,
              "#fdca26"
             ],
             [
              1.0,
              "#f0f921"
             ]
            ],
            "type": "heatmap"
           }
          ],
          "histogram": [
           {
            "marker": {
             "pattern": {
              "fillmode": "overlay",
              "size": 10,
              "solidity": 0.2
             }
            },
            "type": "histogram"
           }
          ],
          "histogram2d": [
           {
            "colorbar": {
             "outlinewidth": 0,
             "ticks": ""
            },
            "colorscale": [
             [
              0.0,
              "#0d0887"
             ],
             [
              0.1111111111111111,
              "#46039f"
             ],
             [
              0.2222222222222222,
              "#7201a8"
             ],
             [
              0.3333333333333333,
              "#9c179e"
             ],
             [
              0.4444444444444444,
              "#bd3786"
             ],
             [
              0.5555555555555556,
              "#d8576b"
             ],
             [
              0.6666666666666666,
              "#ed7953"
             ],
             [
              0.7777777777777778,
              "#fb9f3a"
             ],
             [
              0.8888888888888888,
              "#fdca26"
             ],
             [
              1.0,
              "#f0f921"
             ]
            ],
            "type": "histogram2d"
           }
          ],
          "histogram2dcontour": [
           {
            "colorbar": {
             "outlinewidth": 0,
             "ticks": ""
            },
            "colorscale": [
             [
              0.0,
              "#0d0887"
             ],
             [
              0.1111111111111111,
              "#46039f"
             ],
             [
              0.2222222222222222,
              "#7201a8"
             ],
             [
              0.3333333333333333,
              "#9c179e"
             ],
             [
              0.4444444444444444,
              "#bd3786"
             ],
             [
              0.5555555555555556,
              "#d8576b"
             ],
             [
              0.6666666666666666,
              "#ed7953"
             ],
             [
              0.7777777777777778,
              "#fb9f3a"
             ],
             [
              0.8888888888888888,
              "#fdca26"
             ],
             [
              1.0,
              "#f0f921"
             ]
            ],
            "type": "histogram2dcontour"
           }
          ],
          "mesh3d": [
           {
            "colorbar": {
             "outlinewidth": 0,
             "ticks": ""
            },
            "type": "mesh3d"
           }
          ],
          "parcoords": [
           {
            "line": {
             "colorbar": {
              "outlinewidth": 0,
              "ticks": ""
             }
            },
            "type": "parcoords"
           }
          ],
          "pie": [
           {
            "automargin": true,
            "type": "pie"
           }
          ],
          "scatter": [
           {
            "fillpattern": {
             "fillmode": "overlay",
             "size": 10,
             "solidity": 0.2
            },
            "type": "scatter"
           }
          ],
          "scatter3d": [
           {
            "line": {
             "colorbar": {
              "outlinewidth": 0,
              "ticks": ""
             }
            },
            "marker": {
             "colorbar": {
              "outlinewidth": 0,
              "ticks": ""
             }
            },
            "type": "scatter3d"
           }
          ],
          "scattercarpet": [
           {
            "marker": {
             "colorbar": {
              "outlinewidth": 0,
              "ticks": ""
             }
            },
            "type": "scattercarpet"
           }
          ],
          "scattergeo": [
           {
            "marker": {
             "colorbar": {
              "outlinewidth": 0,
              "ticks": ""
             }
            },
            "type": "scattergeo"
           }
          ],
          "scattergl": [
           {
            "marker": {
             "colorbar": {
              "outlinewidth": 0,
              "ticks": ""
             }
            },
            "type": "scattergl"
           }
          ],
          "scattermap": [
           {
            "marker": {
             "colorbar": {
              "outlinewidth": 0,
              "ticks": ""
             }
            },
            "type": "scattermap"
           }
          ],
          "scattermapbox": [
           {
            "marker": {
             "colorbar": {
              "outlinewidth": 0,
              "ticks": ""
             }
            },
            "type": "scattermapbox"
           }
          ],
          "scatterpolar": [
           {
            "marker": {
             "colorbar": {
              "outlinewidth": 0,
              "ticks": ""
             }
            },
            "type": "scatterpolar"
           }
          ],
          "scatterpolargl": [
           {
            "marker": {
             "colorbar": {
              "outlinewidth": 0,
              "ticks": ""
             }
            },
            "type": "scatterpolargl"
           }
          ],
          "scatterternary": [
           {
            "marker": {
             "colorbar": {
              "outlinewidth": 0,
              "ticks": ""
             }
            },
            "type": "scatterternary"
           }
          ],
          "surface": [
           {
            "colorbar": {
             "outlinewidth": 0,
             "ticks": ""
            },
            "colorscale": [
             [
              0.0,
              "#0d0887"
             ],
             [
              0.1111111111111111,
              "#46039f"
             ],
             [
              0.2222222222222222,
              "#7201a8"
             ],
             [
              0.3333333333333333,
              "#9c179e"
             ],
             [
              0.4444444444444444,
              "#bd3786"
             ],
             [
              0.5555555555555556,
              "#d8576b"
             ],
             [
              0.6666666666666666,
              "#ed7953"
             ],
             [
              0.7777777777777778,
              "#fb9f3a"
             ],
             [
              0.8888888888888888,
              "#fdca26"
             ],
             [
              1.0,
              "#f0f921"
             ]
            ],
            "type": "surface"
           }
          ],
          "table": [
           {
            "cells": {
             "fill": {
              "color": "#EBF0F8"
             },
             "line": {
              "color": "white"
             }
            },
            "header": {
             "fill": {
              "color": "#C8D4E3"
             },
             "line": {
              "color": "white"
             }
            },
            "type": "table"
           }
          ]
         },
         "layout": {
          "annotationdefaults": {
           "arrowcolor": "#2a3f5f",
           "arrowhead": 0,
           "arrowwidth": 1
          },
          "autotypenumbers": "strict",
          "coloraxis": {
           "colorbar": {
            "outlinewidth": 0,
            "ticks": ""
           }
          },
          "colorscale": {
           "diverging": [
            [
             0,
             "#8e0152"
            ],
            [
             0.1,
             "#c51b7d"
            ],
            [
             0.2,
             "#de77ae"
            ],
            [
             0.3,
             "#f1b6da"
            ],
            [
             0.4,
             "#fde0ef"
            ],
            [
             0.5,
             "#f7f7f7"
            ],
            [
             0.6,
             "#e6f5d0"
            ],
            [
             0.7,
             "#b8e186"
            ],
            [
             0.8,
             "#7fbc41"
            ],
            [
             0.9,
             "#4d9221"
            ],
            [
             1,
             "#276419"
            ]
           ],
           "sequential": [
            [
             0.0,
             "#0d0887"
            ],
            [
             0.1111111111111111,
             "#46039f"
            ],
            [
             0.2222222222222222,
             "#7201a8"
            ],
            [
             0.3333333333333333,
             "#9c179e"
            ],
            [
             0.4444444444444444,
             "#bd3786"
            ],
            [
             0.5555555555555556,
             "#d8576b"
            ],
            [
             0.6666666666666666,
             "#ed7953"
            ],
            [
             0.7777777777777778,
             "#fb9f3a"
            ],
            [
             0.8888888888888888,
             "#fdca26"
            ],
            [
             1.0,
             "#f0f921"
            ]
           ],
           "sequentialminus": [
            [
             0.0,
             "#0d0887"
            ],
            [
             0.1111111111111111,
             "#46039f"
            ],
            [
             0.2222222222222222,
             "#7201a8"
            ],
            [
             0.3333333333333333,
             "#9c179e"
            ],
            [
             0.4444444444444444,
             "#bd3786"
            ],
            [
             0.5555555555555556,
             "#d8576b"
            ],
            [
             0.6666666666666666,
             "#ed7953"
            ],
            [
             0.7777777777777778,
             "#fb9f3a"
            ],
            [
             0.8888888888888888,
             "#fdca26"
            ],
            [
             1.0,
             "#f0f921"
            ]
           ]
          },
          "colorway": [
           "#636efa",
           "#EF553B",
           "#00cc96",
           "#ab63fa",
           "#FFA15A",
           "#19d3f3",
           "#FF6692",
           "#B6E880",
           "#FF97FF",
           "#FECB52"
          ],
          "font": {
           "color": "#2a3f5f"
          },
          "geo": {
           "bgcolor": "white",
           "lakecolor": "white",
           "landcolor": "#E5ECF6",
           "showlakes": true,
           "showland": true,
           "subunitcolor": "white"
          },
          "hoverlabel": {
           "align": "left"
          },
          "hovermode": "closest",
          "mapbox": {
           "style": "light"
          },
          "paper_bgcolor": "white",
          "plot_bgcolor": "#E5ECF6",
          "polar": {
           "angularaxis": {
            "gridcolor": "white",
            "linecolor": "white",
            "ticks": ""
           },
           "bgcolor": "#E5ECF6",
           "radialaxis": {
            "gridcolor": "white",
            "linecolor": "white",
            "ticks": ""
           }
          },
          "scene": {
           "xaxis": {
            "backgroundcolor": "#E5ECF6",
            "gridcolor": "white",
            "gridwidth": 2,
            "linecolor": "white",
            "showbackground": true,
            "ticks": "",
            "zerolinecolor": "white"
           },
           "yaxis": {
            "backgroundcolor": "#E5ECF6",
            "gridcolor": "white",
            "gridwidth": 2,
            "linecolor": "white",
            "showbackground": true,
            "ticks": "",
            "zerolinecolor": "white"
           },
           "zaxis": {
            "backgroundcolor": "#E5ECF6",
            "gridcolor": "white",
            "gridwidth": 2,
            "linecolor": "white",
            "showbackground": true,
            "ticks": "",
            "zerolinecolor": "white"
           }
          },
          "shapedefaults": {
           "line": {
            "color": "#2a3f5f"
           }
          },
          "ternary": {
           "aaxis": {
            "gridcolor": "white",
            "linecolor": "white",
            "ticks": ""
           },
           "baxis": {
            "gridcolor": "white",
            "linecolor": "white",
            "ticks": ""
           },
           "bgcolor": "#E5ECF6",
           "caxis": {
            "gridcolor": "white",
            "linecolor": "white",
            "ticks": ""
           }
          },
          "title": {
           "x": 0.05
          },
          "xaxis": {
           "automargin": true,
           "gridcolor": "white",
           "linecolor": "white",
           "ticks": "",
           "title": {
            "standoff": 15
           },
           "zerolinecolor": "white",
           "zerolinewidth": 2
          },
          "yaxis": {
           "automargin": true,
           "gridcolor": "white",
           "linecolor": "white",
           "ticks": "",
           "title": {
            "standoff": 15
           },
           "zerolinecolor": "white",
           "zerolinewidth": 2
          }
         }
        },
        "title": {
         "font": {
          "size": 20
         },
         "text": "🥧 Distribution des Messages Spam vs Ham"
        }
       }
      }
     },
     "metadata": {},
     "output_type": "display_data"
    }
   ],
   "source": [
    "# Distribution des catégories (spam vs ham)\n",
    "category_counts = df['Category'].value_counts()\n",
    "print('📊 Distribution des catégories:')\n",
    "for category, count in category_counts.items():\n",
    "    percentage = (count / len(df)) * 100\n",
    "    print(f'  {category}: {count} messages ({percentage:.1f}%)')\n",
    "\n",
    "# Graphique en secteurs interactif\n",
    "fig = px.pie(\n",
    "    values=category_counts.values,\n",
    "    names=category_counts.index,\n",
    "    title='🥧 Distribution des Messages Spam vs Ham',\n",
    "    color_discrete_sequence=['#ff9999', '#66b3ff'],\n",
    "    hover_data=[category_counts.values]\n",
    ")\n",
    "\n",
    "fig.update_layout(\n",
    "    title_font_size=20,\n",
    "    legend_title='Catégorie',\n",
    "    font=dict(size=14)\n",
    ")\n",
    "\n",
    "fig.show()"
   ]
  },
  {
   "cell_type": "code",
   "execution_count": 9,
   "id": "d5d63700",
   "metadata": {
    "execution": {
     "iopub.execute_input": "2025-09-04T16:03:40.963856Z",
     "iopub.status.busy": "2025-09-04T16:03:40.962660Z",
     "iopub.status.idle": "2025-09-04T16:03:41.077866Z",
     "shell.execute_reply": "2025-09-04T16:03:41.076870Z"
    }
   },
   "outputs": [
    {
     "name": "stdout",
     "output_type": "stream",
     "text": [
      "📊 Distribution des catégories:\n",
      "  ham: 4825 messages (86.6%)\n",
      "  spam: 747 messages (13.4%)\n"
     ]
    },
    {
     "data": {
      "application/vnd.plotly.v1+json": {
       "config": {
        "plotlyServerURL": "https://plot.ly"
       },
       "data": [
        {
         "customdata": {
          "bdata": "2RLrAg==",
          "dtype": "i2",
          "shape": "2, 1"
         },
         "domain": {
          "x": [
           0.0,
           1.0
          ],
          "y": [
           0.0,
           1.0
          ]
         },
         "hovertemplate": "label=%{label}<br>value=%{value}<br>hover_data_0=%{customdata[0]}<extra></extra>",
         "labels": [
          "ham",
          "spam"
         ],
         "legendgroup": "",
         "name": "",
         "showlegend": true,
         "type": "pie",
         "values": {
          "bdata": "2RLrAg==",
          "dtype": "i2"
         }
        }
       ],
       "layout": {
        "font": {
         "size": 14
        },
        "legend": {
         "title": {
          "text": "Catégorie"
         },
         "tracegroupgap": 0
        },
        "piecolorway": [
         "#ff9999",
         "#66b3ff"
        ],
        "template": {
         "data": {
          "bar": [
           {
            "error_x": {
             "color": "#2a3f5f"
            },
            "error_y": {
             "color": "#2a3f5f"
            },
            "marker": {
             "line": {
              "color": "#E5ECF6",
              "width": 0.5
             },
             "pattern": {
              "fillmode": "overlay",
              "size": 10,
              "solidity": 0.2
             }
            },
            "type": "bar"
           }
          ],
          "barpolar": [
           {
            "marker": {
             "line": {
              "color": "#E5ECF6",
              "width": 0.5
             },
             "pattern": {
              "fillmode": "overlay",
              "size": 10,
              "solidity": 0.2
             }
            },
            "type": "barpolar"
           }
          ],
          "carpet": [
           {
            "aaxis": {
             "endlinecolor": "#2a3f5f",
             "gridcolor": "white",
             "linecolor": "white",
             "minorgridcolor": "white",
             "startlinecolor": "#2a3f5f"
            },
            "baxis": {
             "endlinecolor": "#2a3f5f",
             "gridcolor": "white",
             "linecolor": "white",
             "minorgridcolor": "white",
             "startlinecolor": "#2a3f5f"
            },
            "type": "carpet"
           }
          ],
          "choropleth": [
           {
            "colorbar": {
             "outlinewidth": 0,
             "ticks": ""
            },
            "type": "choropleth"
           }
          ],
          "contour": [
           {
            "colorbar": {
             "outlinewidth": 0,
             "ticks": ""
            },
            "colorscale": [
             [
              0.0,
              "#0d0887"
             ],
             [
              0.1111111111111111,
              "#46039f"
             ],
             [
              0.2222222222222222,
              "#7201a8"
             ],
             [
              0.3333333333333333,
              "#9c179e"
             ],
             [
              0.4444444444444444,
              "#bd3786"
             ],
             [
              0.5555555555555556,
              "#d8576b"
             ],
             [
              0.6666666666666666,
              "#ed7953"
             ],
             [
              0.7777777777777778,
              "#fb9f3a"
             ],
             [
              0.8888888888888888,
              "#fdca26"
             ],
             [
              1.0,
              "#f0f921"
             ]
            ],
            "type": "contour"
           }
          ],
          "contourcarpet": [
           {
            "colorbar": {
             "outlinewidth": 0,
             "ticks": ""
            },
            "type": "contourcarpet"
           }
          ],
          "heatmap": [
           {
            "colorbar": {
             "outlinewidth": 0,
             "ticks": ""
            },
            "colorscale": [
             [
              0.0,
              "#0d0887"
             ],
             [
              0.1111111111111111,
              "#46039f"
             ],
             [
              0.2222222222222222,
              "#7201a8"
             ],
             [
              0.3333333333333333,
              "#9c179e"
             ],
             [
              0.4444444444444444,
              "#bd3786"
             ],
             [
              0.5555555555555556,
              "#d8576b"
             ],
             [
              0.6666666666666666,
              "#ed7953"
             ],
             [
              0.7777777777777778,
              "#fb9f3a"
             ],
             [
              0.8888888888888888,
              "#fdca26"
             ],
             [
              1.0,
              "#f0f921"
             ]
            ],
            "type": "heatmap"
           }
          ],
          "histogram": [
           {
            "marker": {
             "pattern": {
              "fillmode": "overlay",
              "size": 10,
              "solidity": 0.2
             }
            },
            "type": "histogram"
           }
          ],
          "histogram2d": [
           {
            "colorbar": {
             "outlinewidth": 0,
             "ticks": ""
            },
            "colorscale": [
             [
              0.0,
              "#0d0887"
             ],
             [
              0.1111111111111111,
              "#46039f"
             ],
             [
              0.2222222222222222,
              "#7201a8"
             ],
             [
              0.3333333333333333,
              "#9c179e"
             ],
             [
              0.4444444444444444,
              "#bd3786"
             ],
             [
              0.5555555555555556,
              "#d8576b"
             ],
             [
              0.6666666666666666,
              "#ed7953"
             ],
             [
              0.7777777777777778,
              "#fb9f3a"
             ],
             [
              0.8888888888888888,
              "#fdca26"
             ],
             [
              1.0,
              "#f0f921"
             ]
            ],
            "type": "histogram2d"
           }
          ],
          "histogram2dcontour": [
           {
            "colorbar": {
             "outlinewidth": 0,
             "ticks": ""
            },
            "colorscale": [
             [
              0.0,
              "#0d0887"
             ],
             [
              0.1111111111111111,
              "#46039f"
             ],
             [
              0.2222222222222222,
              "#7201a8"
             ],
             [
              0.3333333333333333,
              "#9c179e"
             ],
             [
              0.4444444444444444,
              "#bd3786"
             ],
             [
              0.5555555555555556,
              "#d8576b"
             ],
             [
              0.6666666666666666,
              "#ed7953"
             ],
             [
              0.7777777777777778,
              "#fb9f3a"
             ],
             [
              0.8888888888888888,
              "#fdca26"
             ],
             [
              1.0,
              "#f0f921"
             ]
            ],
            "type": "histogram2dcontour"
           }
          ],
          "mesh3d": [
           {
            "colorbar": {
             "outlinewidth": 0,
             "ticks": ""
            },
            "type": "mesh3d"
           }
          ],
          "parcoords": [
           {
            "line": {
             "colorbar": {
              "outlinewidth": 0,
              "ticks": ""
             }
            },
            "type": "parcoords"
           }
          ],
          "pie": [
           {
            "automargin": true,
            "type": "pie"
           }
          ],
          "scatter": [
           {
            "fillpattern": {
             "fillmode": "overlay",
             "size": 10,
             "solidity": 0.2
            },
            "type": "scatter"
           }
          ],
          "scatter3d": [
           {
            "line": {
             "colorbar": {
              "outlinewidth": 0,
              "ticks": ""
             }
            },
            "marker": {
             "colorbar": {
              "outlinewidth": 0,
              "ticks": ""
             }
            },
            "type": "scatter3d"
           }
          ],
          "scattercarpet": [
           {
            "marker": {
             "colorbar": {
              "outlinewidth": 0,
              "ticks": ""
             }
            },
            "type": "scattercarpet"
           }
          ],
          "scattergeo": [
           {
            "marker": {
             "colorbar": {
              "outlinewidth": 0,
              "ticks": ""
             }
            },
            "type": "scattergeo"
           }
          ],
          "scattergl": [
           {
            "marker": {
             "colorbar": {
              "outlinewidth": 0,
              "ticks": ""
             }
            },
            "type": "scattergl"
           }
          ],
          "scattermap": [
           {
            "marker": {
             "colorbar": {
              "outlinewidth": 0,
              "ticks": ""
             }
            },
            "type": "scattermap"
           }
          ],
          "scattermapbox": [
           {
            "marker": {
             "colorbar": {
              "outlinewidth": 0,
              "ticks": ""
             }
            },
            "type": "scattermapbox"
           }
          ],
          "scatterpolar": [
           {
            "marker": {
             "colorbar": {
              "outlinewidth": 0,
              "ticks": ""
             }
            },
            "type": "scatterpolar"
           }
          ],
          "scatterpolargl": [
           {
            "marker": {
             "colorbar": {
              "outlinewidth": 0,
              "ticks": ""
             }
            },
            "type": "scatterpolargl"
           }
          ],
          "scatterternary": [
           {
            "marker": {
             "colorbar": {
              "outlinewidth": 0,
              "ticks": ""
             }
            },
            "type": "scatterternary"
           }
          ],
          "surface": [
           {
            "colorbar": {
             "outlinewidth": 0,
             "ticks": ""
            },
            "colorscale": [
             [
              0.0,
              "#0d0887"
             ],
             [
              0.1111111111111111,
              "#46039f"
             ],
             [
              0.2222222222222222,
              "#7201a8"
             ],
             [
              0.3333333333333333,
              "#9c179e"
             ],
             [
              0.4444444444444444,
              "#bd3786"
             ],
             [
              0.5555555555555556,
              "#d8576b"
             ],
             [
              0.6666666666666666,
              "#ed7953"
             ],
             [
              0.7777777777777778,
              "#fb9f3a"
             ],
             [
              0.8888888888888888,
              "#fdca26"
             ],
             [
              1.0,
              "#f0f921"
             ]
            ],
            "type": "surface"
           }
          ],
          "table": [
           {
            "cells": {
             "fill": {
              "color": "#EBF0F8"
             },
             "line": {
              "color": "white"
             }
            },
            "header": {
             "fill": {
              "color": "#C8D4E3"
             },
             "line": {
              "color": "white"
             }
            },
            "type": "table"
           }
          ]
         },
         "layout": {
          "annotationdefaults": {
           "arrowcolor": "#2a3f5f",
           "arrowhead": 0,
           "arrowwidth": 1
          },
          "autotypenumbers": "strict",
          "coloraxis": {
           "colorbar": {
            "outlinewidth": 0,
            "ticks": ""
           }
          },
          "colorscale": {
           "diverging": [
            [
             0,
             "#8e0152"
            ],
            [
             0.1,
             "#c51b7d"
            ],
            [
             0.2,
             "#de77ae"
            ],
            [
             0.3,
             "#f1b6da"
            ],
            [
             0.4,
             "#fde0ef"
            ],
            [
             0.5,
             "#f7f7f7"
            ],
            [
             0.6,
             "#e6f5d0"
            ],
            [
             0.7,
             "#b8e186"
            ],
            [
             0.8,
             "#7fbc41"
            ],
            [
             0.9,
             "#4d9221"
            ],
            [
             1,
             "#276419"
            ]
           ],
           "sequential": [
            [
             0.0,
             "#0d0887"
            ],
            [
             0.1111111111111111,
             "#46039f"
            ],
            [
             0.2222222222222222,
             "#7201a8"
            ],
            [
             0.3333333333333333,
             "#9c179e"
            ],
            [
             0.4444444444444444,
             "#bd3786"
            ],
            [
             0.5555555555555556,
             "#d8576b"
            ],
            [
             0.6666666666666666,
             "#ed7953"
            ],
            [
             0.7777777777777778,
             "#fb9f3a"
            ],
            [
             0.8888888888888888,
             "#fdca26"
            ],
            [
             1.0,
             "#f0f921"
            ]
           ],
           "sequentialminus": [
            [
             0.0,
             "#0d0887"
            ],
            [
             0.1111111111111111,
             "#46039f"
            ],
            [
             0.2222222222222222,
             "#7201a8"
            ],
            [
             0.3333333333333333,
             "#9c179e"
            ],
            [
             0.4444444444444444,
             "#bd3786"
            ],
            [
             0.5555555555555556,
             "#d8576b"
            ],
            [
             0.6666666666666666,
             "#ed7953"
            ],
            [
             0.7777777777777778,
             "#fb9f3a"
            ],
            [
             0.8888888888888888,
             "#fdca26"
            ],
            [
             1.0,
             "#f0f921"
            ]
           ]
          },
          "colorway": [
           "#636efa",
           "#EF553B",
           "#00cc96",
           "#ab63fa",
           "#FFA15A",
           "#19d3f3",
           "#FF6692",
           "#B6E880",
           "#FF97FF",
           "#FECB52"
          ],
          "font": {
           "color": "#2a3f5f"
          },
          "geo": {
           "bgcolor": "white",
           "lakecolor": "white",
           "landcolor": "#E5ECF6",
           "showlakes": true,
           "showland": true,
           "subunitcolor": "white"
          },
          "hoverlabel": {
           "align": "left"
          },
          "hovermode": "closest",
          "mapbox": {
           "style": "light"
          },
          "paper_bgcolor": "white",
          "plot_bgcolor": "#E5ECF6",
          "polar": {
           "angularaxis": {
            "gridcolor": "white",
            "linecolor": "white",
            "ticks": ""
           },
           "bgcolor": "#E5ECF6",
           "radialaxis": {
            "gridcolor": "white",
            "linecolor": "white",
            "ticks": ""
           }
          },
          "scene": {
           "xaxis": {
            "backgroundcolor": "#E5ECF6",
            "gridcolor": "white",
            "gridwidth": 2,
            "linecolor": "white",
            "showbackground": true,
            "ticks": "",
            "zerolinecolor": "white"
           },
           "yaxis": {
            "backgroundcolor": "#E5ECF6",
            "gridcolor": "white",
            "gridwidth": 2,
            "linecolor": "white",
            "showbackground": true,
            "ticks": "",
            "zerolinecolor": "white"
           },
           "zaxis": {
            "backgroundcolor": "#E5ECF6",
            "gridcolor": "white",
            "gridwidth": 2,
            "linecolor": "white",
            "showbackground": true,
            "ticks": "",
            "zerolinecolor": "white"
           }
          },
          "shapedefaults": {
           "line": {
            "color": "#2a3f5f"
           }
          },
          "ternary": {
           "aaxis": {
            "gridcolor": "white",
            "linecolor": "white",
            "ticks": ""
           },
           "baxis": {
            "gridcolor": "white",
            "linecolor": "white",
            "ticks": ""
           },
           "bgcolor": "#E5ECF6",
           "caxis": {
            "gridcolor": "white",
            "linecolor": "white",
            "ticks": ""
           }
          },
          "title": {
           "x": 0.05
          },
          "xaxis": {
           "automargin": true,
           "gridcolor": "white",
           "linecolor": "white",
           "ticks": "",
           "title": {
            "standoff": 15
           },
           "zerolinecolor": "white",
           "zerolinewidth": 2
          },
          "yaxis": {
           "automargin": true,
           "gridcolor": "white",
           "linecolor": "white",
           "ticks": "",
           "title": {
            "standoff": 15
           },
           "zerolinecolor": "white",
           "zerolinewidth": 2
          }
         }
        },
        "title": {
         "font": {
          "size": 20
         },
         "text": "🥧 Distribution des Messages Spam vs Ham"
        }
       }
      }
     },
     "metadata": {},
     "output_type": "display_data"
    }
   ],
   "source": [
    "# Distribution des catégories (spam vs ham)\n",
    "category_counts = df['Category'].value_counts()\n",
    "print('📊 Distribution des catégories:')\n",
    "for category, count in category_counts.items():\n",
    "    percentage = (count / len(df)) * 100\n",
    "    print(f'  {category}: {count} messages ({percentage:.1f}%)')\n",
    "\n",
    "# Graphique en secteurs interactif\n",
    "fig = px.pie(\n",
    "    values=category_counts.values,\n",
    "    names=category_counts.index,\n",
    "    title='🥧 Distribution des Messages Spam vs Ham',\n",
    "    color_discrete_sequence=['#ff9999', '#66b3ff'],\n",
    "    hover_data=[category_counts.values]\n",
    ")\n",
    "\n",
    "fig.update_layout(\n",
    "    title_font_size=20,\n",
    "    legend_title='Catégorie',\n",
    "    font=dict(size=14)\n",
    ")\n",
    "\n",
    "fig.show()"
   ]
  },
  {
   "cell_type": "code",
   "execution_count": 10,
   "id": "2bcc0ec1",
   "metadata": {
    "execution": {
     "iopub.execute_input": "2025-09-04T16:03:41.084054Z",
     "iopub.status.busy": "2025-09-04T16:03:41.082870Z",
     "iopub.status.idle": "2025-09-04T16:03:41.177816Z",
     "shell.execute_reply": "2025-09-04T16:03:41.176802Z"
    }
   },
   "outputs": [
    {
     "name": "stdout",
     "output_type": "stream",
     "text": [
      "📊 Distribution des catégories:\n",
      "  ham: 4825 messages (86.6%)\n",
      "  spam: 747 messages (13.4%)\n"
     ]
    },
    {
     "data": {
      "application/vnd.plotly.v1+json": {
       "config": {
        "plotlyServerURL": "https://plot.ly"
       },
       "data": [
        {
         "customdata": {
          "bdata": "2RLrAg==",
          "dtype": "i2",
          "shape": "2, 1"
         },
         "domain": {
          "x": [
           0.0,
           1.0
          ],
          "y": [
           0.0,
           1.0
          ]
         },
         "hovertemplate": "label=%{label}<br>value=%{value}<br>hover_data_0=%{customdata[0]}<extra></extra>",
         "labels": [
          "ham",
          "spam"
         ],
         "legendgroup": "",
         "name": "",
         "showlegend": true,
         "type": "pie",
         "values": {
          "bdata": "2RLrAg==",
          "dtype": "i2"
         }
        }
       ],
       "layout": {
        "font": {
         "size": 14
        },
        "legend": {
         "title": {
          "text": "Catégorie"
         },
         "tracegroupgap": 0
        },
        "piecolorway": [
         "#ff9999",
         "#66b3ff"
        ],
        "template": {
         "data": {
          "bar": [
           {
            "error_x": {
             "color": "#2a3f5f"
            },
            "error_y": {
             "color": "#2a3f5f"
            },
            "marker": {
             "line": {
              "color": "#E5ECF6",
              "width": 0.5
             },
             "pattern": {
              "fillmode": "overlay",
              "size": 10,
              "solidity": 0.2
             }
            },
            "type": "bar"
           }
          ],
          "barpolar": [
           {
            "marker": {
             "line": {
              "color": "#E5ECF6",
              "width": 0.5
             },
             "pattern": {
              "fillmode": "overlay",
              "size": 10,
              "solidity": 0.2
             }
            },
            "type": "barpolar"
           }
          ],
          "carpet": [
           {
            "aaxis": {
             "endlinecolor": "#2a3f5f",
             "gridcolor": "white",
             "linecolor": "white",
             "minorgridcolor": "white",
             "startlinecolor": "#2a3f5f"
            },
            "baxis": {
             "endlinecolor": "#2a3f5f",
             "gridcolor": "white",
             "linecolor": "white",
             "minorgridcolor": "white",
             "startlinecolor": "#2a3f5f"
            },
            "type": "carpet"
           }
          ],
          "choropleth": [
           {
            "colorbar": {
             "outlinewidth": 0,
             "ticks": ""
            },
            "type": "choropleth"
           }
          ],
          "contour": [
           {
            "colorbar": {
             "outlinewidth": 0,
             "ticks": ""
            },
            "colorscale": [
             [
              0.0,
              "#0d0887"
             ],
             [
              0.1111111111111111,
              "#46039f"
             ],
             [
              0.2222222222222222,
              "#7201a8"
             ],
             [
              0.3333333333333333,
              "#9c179e"
             ],
             [
              0.4444444444444444,
              "#bd3786"
             ],
             [
              0.5555555555555556,
              "#d8576b"
             ],
             [
              0.6666666666666666,
              "#ed7953"
             ],
             [
              0.7777777777777778,
              "#fb9f3a"
             ],
             [
              0.8888888888888888,
              "#fdca26"
             ],
             [
              1.0,
              "#f0f921"
             ]
            ],
            "type": "contour"
           }
          ],
          "contourcarpet": [
           {
            "colorbar": {
             "outlinewidth": 0,
             "ticks": ""
            },
            "type": "contourcarpet"
           }
          ],
          "heatmap": [
           {
            "colorbar": {
             "outlinewidth": 0,
             "ticks": ""
            },
            "colorscale": [
             [
              0.0,
              "#0d0887"
             ],
             [
              0.1111111111111111,
              "#46039f"
             ],
             [
              0.2222222222222222,
              "#7201a8"
             ],
             [
              0.3333333333333333,
              "#9c179e"
             ],
             [
              0.4444444444444444,
              "#bd3786"
             ],
             [
              0.5555555555555556,
              "#d8576b"
             ],
             [
              0.6666666666666666,
              "#ed7953"
             ],
             [
              0.7777777777777778,
              "#fb9f3a"
             ],
             [
              0.8888888888888888,
              "#fdca26"
             ],
             [
              1.0,
              "#f0f921"
             ]
            ],
            "type": "heatmap"
           }
          ],
          "histogram": [
           {
            "marker": {
             "pattern": {
              "fillmode": "overlay",
              "size": 10,
              "solidity": 0.2
             }
            },
            "type": "histogram"
           }
          ],
          "histogram2d": [
           {
            "colorbar": {
             "outlinewidth": 0,
             "ticks": ""
            },
            "colorscale": [
             [
              0.0,
              "#0d0887"
             ],
             [
              0.1111111111111111,
              "#46039f"
             ],
             [
              0.2222222222222222,
              "#7201a8"
             ],
             [
              0.3333333333333333,
              "#9c179e"
             ],
             [
              0.4444444444444444,
              "#bd3786"
             ],
             [
              0.5555555555555556,
              "#d8576b"
             ],
             [
              0.6666666666666666,
              "#ed7953"
             ],
             [
              0.7777777777777778,
              "#fb9f3a"
             ],
             [
              0.8888888888888888,
              "#fdca26"
             ],
             [
              1.0,
              "#f0f921"
             ]
            ],
            "type": "histogram2d"
           }
          ],
          "histogram2dcontour": [
           {
            "colorbar": {
             "outlinewidth": 0,
             "ticks": ""
            },
            "colorscale": [
             [
              0.0,
              "#0d0887"
             ],
             [
              0.1111111111111111,
              "#46039f"
             ],
             [
              0.2222222222222222,
              "#7201a8"
             ],
             [
              0.3333333333333333,
              "#9c179e"
             ],
             [
              0.4444444444444444,
              "#bd3786"
             ],
             [
              0.5555555555555556,
              "#d8576b"
             ],
             [
              0.6666666666666666,
              "#ed7953"
             ],
             [
              0.7777777777777778,
              "#fb9f3a"
             ],
             [
              0.8888888888888888,
              "#fdca26"
             ],
             [
              1.0,
              "#f0f921"
             ]
            ],
            "type": "histogram2dcontour"
           }
          ],
          "mesh3d": [
           {
            "colorbar": {
             "outlinewidth": 0,
             "ticks": ""
            },
            "type": "mesh3d"
           }
          ],
          "parcoords": [
           {
            "line": {
             "colorbar": {
              "outlinewidth": 0,
              "ticks": ""
             }
            },
            "type": "parcoords"
           }
          ],
          "pie": [
           {
            "automargin": true,
            "type": "pie"
           }
          ],
          "scatter": [
           {
            "fillpattern": {
             "fillmode": "overlay",
             "size": 10,
             "solidity": 0.2
            },
            "type": "scatter"
           }
          ],
          "scatter3d": [
           {
            "line": {
             "colorbar": {
              "outlinewidth": 0,
              "ticks": ""
             }
            },
            "marker": {
             "colorbar": {
              "outlinewidth": 0,
              "ticks": ""
             }
            },
            "type": "scatter3d"
           }
          ],
          "scattercarpet": [
           {
            "marker": {
             "colorbar": {
              "outlinewidth": 0,
              "ticks": ""
             }
            },
            "type": "scattercarpet"
           }
          ],
          "scattergeo": [
           {
            "marker": {
             "colorbar": {
              "outlinewidth": 0,
              "ticks": ""
             }
            },
            "type": "scattergeo"
           }
          ],
          "scattergl": [
           {
            "marker": {
             "colorbar": {
              "outlinewidth": 0,
              "ticks": ""
             }
            },
            "type": "scattergl"
           }
          ],
          "scattermap": [
           {
            "marker": {
             "colorbar": {
              "outlinewidth": 0,
              "ticks": ""
             }
            },
            "type": "scattermap"
           }
          ],
          "scattermapbox": [
           {
            "marker": {
             "colorbar": {
              "outlinewidth": 0,
              "ticks": ""
             }
            },
            "type": "scattermapbox"
           }
          ],
          "scatterpolar": [
           {
            "marker": {
             "colorbar": {
              "outlinewidth": 0,
              "ticks": ""
             }
            },
            "type": "scatterpolar"
           }
          ],
          "scatterpolargl": [
           {
            "marker": {
             "colorbar": {
              "outlinewidth": 0,
              "ticks": ""
             }
            },
            "type": "scatterpolargl"
           }
          ],
          "scatterternary": [
           {
            "marker": {
             "colorbar": {
              "outlinewidth": 0,
              "ticks": ""
             }
            },
            "type": "scatterternary"
           }
          ],
          "surface": [
           {
            "colorbar": {
             "outlinewidth": 0,
             "ticks": ""
            },
            "colorscale": [
             [
              0.0,
              "#0d0887"
             ],
             [
              0.1111111111111111,
              "#46039f"
             ],
             [
              0.2222222222222222,
              "#7201a8"
             ],
             [
              0.3333333333333333,
              "#9c179e"
             ],
             [
              0.4444444444444444,
              "#bd3786"
             ],
             [
              0.5555555555555556,
              "#d8576b"
             ],
             [
              0.6666666666666666,
              "#ed7953"
             ],
             [
              0.7777777777777778,
              "#fb9f3a"
             ],
             [
              0.8888888888888888,
              "#fdca26"
             ],
             [
              1.0,
              "#f0f921"
             ]
            ],
            "type": "surface"
           }
          ],
          "table": [
           {
            "cells": {
             "fill": {
              "color": "#EBF0F8"
             },
             "line": {
              "color": "white"
             }
            },
            "header": {
             "fill": {
              "color": "#C8D4E3"
             },
             "line": {
              "color": "white"
             }
            },
            "type": "table"
           }
          ]
         },
         "layout": {
          "annotationdefaults": {
           "arrowcolor": "#2a3f5f",
           "arrowhead": 0,
           "arrowwidth": 1
          },
          "autotypenumbers": "strict",
          "coloraxis": {
           "colorbar": {
            "outlinewidth": 0,
            "ticks": ""
           }
          },
          "colorscale": {
           "diverging": [
            [
             0,
             "#8e0152"
            ],
            [
             0.1,
             "#c51b7d"
            ],
            [
             0.2,
             "#de77ae"
            ],
            [
             0.3,
             "#f1b6da"
            ],
            [
             0.4,
             "#fde0ef"
            ],
            [
             0.5,
             "#f7f7f7"
            ],
            [
             0.6,
             "#e6f5d0"
            ],
            [
             0.7,
             "#b8e186"
            ],
            [
             0.8,
             "#7fbc41"
            ],
            [
             0.9,
             "#4d9221"
            ],
            [
             1,
             "#276419"
            ]
           ],
           "sequential": [
            [
             0.0,
             "#0d0887"
            ],
            [
             0.1111111111111111,
             "#46039f"
            ],
            [
             0.2222222222222222,
             "#7201a8"
            ],
            [
             0.3333333333333333,
             "#9c179e"
            ],
            [
             0.4444444444444444,
             "#bd3786"
            ],
            [
             0.5555555555555556,
             "#d8576b"
            ],
            [
             0.6666666666666666,
             "#ed7953"
            ],
            [
             0.7777777777777778,
             "#fb9f3a"
            ],
            [
             0.8888888888888888,
             "#fdca26"
            ],
            [
             1.0,
             "#f0f921"
            ]
           ],
           "sequentialminus": [
            [
             0.0,
             "#0d0887"
            ],
            [
             0.1111111111111111,
             "#46039f"
            ],
            [
             0.2222222222222222,
             "#7201a8"
            ],
            [
             0.3333333333333333,
             "#9c179e"
            ],
            [
             0.4444444444444444,
             "#bd3786"
            ],
            [
             0.5555555555555556,
             "#d8576b"
            ],
            [
             0.6666666666666666,
             "#ed7953"
            ],
            [
             0.7777777777777778,
             "#fb9f3a"
            ],
            [
             0.8888888888888888,
             "#fdca26"
            ],
            [
             1.0,
             "#f0f921"
            ]
           ]
          },
          "colorway": [
           "#636efa",
           "#EF553B",
           "#00cc96",
           "#ab63fa",
           "#FFA15A",
           "#19d3f3",
           "#FF6692",
           "#B6E880",
           "#FF97FF",
           "#FECB52"
          ],
          "font": {
           "color": "#2a3f5f"
          },
          "geo": {
           "bgcolor": "white",
           "lakecolor": "white",
           "landcolor": "#E5ECF6",
           "showlakes": true,
           "showland": true,
           "subunitcolor": "white"
          },
          "hoverlabel": {
           "align": "left"
          },
          "hovermode": "closest",
          "mapbox": {
           "style": "light"
          },
          "paper_bgcolor": "white",
          "plot_bgcolor": "#E5ECF6",
          "polar": {
           "angularaxis": {
            "gridcolor": "white",
            "linecolor": "white",
            "ticks": ""
           },
           "bgcolor": "#E5ECF6",
           "radialaxis": {
            "gridcolor": "white",
            "linecolor": "white",
            "ticks": ""
           }
          },
          "scene": {
           "xaxis": {
            "backgroundcolor": "#E5ECF6",
            "gridcolor": "white",
            "gridwidth": 2,
            "linecolor": "white",
            "showbackground": true,
            "ticks": "",
            "zerolinecolor": "white"
           },
           "yaxis": {
            "backgroundcolor": "#E5ECF6",
            "gridcolor": "white",
            "gridwidth": 2,
            "linecolor": "white",
            "showbackground": true,
            "ticks": "",
            "zerolinecolor": "white"
           },
           "zaxis": {
            "backgroundcolor": "#E5ECF6",
            "gridcolor": "white",
            "gridwidth": 2,
            "linecolor": "white",
            "showbackground": true,
            "ticks": "",
            "zerolinecolor": "white"
           }
          },
          "shapedefaults": {
           "line": {
            "color": "#2a3f5f"
           }
          },
          "ternary": {
           "aaxis": {
            "gridcolor": "white",
            "linecolor": "white",
            "ticks": ""
           },
           "baxis": {
            "gridcolor": "white",
            "linecolor": "white",
            "ticks": ""
           },
           "bgcolor": "#E5ECF6",
           "caxis": {
            "gridcolor": "white",
            "linecolor": "white",
            "ticks": ""
           }
          },
          "title": {
           "x": 0.05
          },
          "xaxis": {
           "automargin": true,
           "gridcolor": "white",
           "linecolor": "white",
           "ticks": "",
           "title": {
            "standoff": 15
           },
           "zerolinecolor": "white",
           "zerolinewidth": 2
          },
          "yaxis": {
           "automargin": true,
           "gridcolor": "white",
           "linecolor": "white",
           "ticks": "",
           "title": {
            "standoff": 15
           },
           "zerolinecolor": "white",
           "zerolinewidth": 2
          }
         }
        },
        "title": {
         "font": {
          "size": 20
         },
         "text": "🥧 Distribution des Messages Spam vs Ham"
        }
       }
      }
     },
     "metadata": {},
     "output_type": "display_data"
    }
   ],
   "source": [
    "# Distribution des catégories (spam vs ham)\n",
    "category_counts = df['Category'].value_counts()\n",
    "print('📊 Distribution des catégories:')\n",
    "for category, count in category_counts.items():\n",
    "    percentage = (count / len(df)) * 100\n",
    "    print(f'  {category}: {count} messages ({percentage:.1f}%)')\n",
    "\n",
    "# Graphique en secteurs interactif\n",
    "fig = px.pie(\n",
    "    values=category_counts.values,\n",
    "    names=category_counts.index,\n",
    "    title='🥧 Distribution des Messages Spam vs Ham',\n",
    "    color_discrete_sequence=['#ff9999', '#66b3ff'],\n",
    "    hover_data=[category_counts.values]\n",
    ")\n",
    "\n",
    "fig.update_layout(\n",
    "    title_font_size=20,\n",
    "    legend_title='Catégorie',\n",
    "    font=dict(size=14)\n",
    ")\n",
    "\n",
    "fig.show()"
   ]
  },
  {
   "cell_type": "code",
   "execution_count": 11,
   "id": "message-length-analysis",
   "metadata": {
    "execution": {
     "iopub.execute_input": "2025-09-04T16:03:41.184823Z",
     "iopub.status.busy": "2025-09-04T16:03:41.182815Z",
     "iopub.status.idle": "2025-09-04T16:03:41.452036Z",
     "shell.execute_reply": "2025-09-04T16:03:41.449017Z"
    }
   },
   "outputs": [
    {
     "name": "stdout",
     "output_type": "stream",
     "text": [
      "📏 Statistiques de longueur des messages par catégorie:\n",
      "           count       mean        std  min    25%    50%    75%    max\n",
      "Category                                                               \n",
      "ham       4825.0   71.44829  58.434864  2.0   33.0   52.0   93.0  910.0\n",
      "spam       747.0  137.98929  29.980287  7.0  132.0  149.0  157.0  223.0\n"
     ]
    },
    {
     "data": {
      "application/vnd.plotly.v1+json": {
       "config": {
        "plotlyServerURL": "https://plot.ly"
       },
       "data": [
        {
         "bingroup": "x",
         "hovertemplate": "Category=ham<br>Length=%{x}<br>count=%{y}<extra></extra>",
         "legendgroup": "ham",
         "marker": {
          "color": "#66b3ff",
          "opacity": 0.7,
          "pattern": {
           "shape": ""
          }
         },
         "name": "ham",
         "nbinsx": 50,
         "orientation": "v",
         "showlegend": true,
         "type": "histogram",
         "x": {
          "bdata": "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",
          "dtype": "i2"
         },
         "xaxis": "x",
         "yaxis": "y"
        },
        {
         "hovertemplate": "Category=ham<br>Length=%{x}<extra></extra>",
         "legendgroup": "ham",
         "marker": {
          "color": "#66b3ff"
         },
         "name": "ham",
         "notched": true,
         "showlegend": false,
         "type": "box",
         "x": {
          "bdata": "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",
          "dtype": "i2"
         },
         "xaxis": "x2",
         "yaxis": "y2"
        },
        {
         "bingroup": "x",
         "hovertemplate": "Category=spam<br>Length=%{x}<br>count=%{y}<extra></extra>",
         "legendgroup": "spam",
         "marker": {
          "color": "#ff9999",
          "opacity": 0.7,
          "pattern": {
           "shape": ""
          }
         },
         "name": "spam",
         "nbinsx": 50,
         "orientation": "v",
         "showlegend": true,
         "type": "histogram",
         "x": {
          "bdata": "mwCTAJ0AmgCIAJsAlQCbAJ4ArAB4AKAAmACfAE4AiQCeAJ4AlwCQAJwAnAB9AKIAmwCfAHwAkQCYAJsAnACTAEgAjgCJAJ0AkQCWAJoAeQCfAIUAmwCfAJIAigCFAJ0AgACeAG8AlgCUAKUAgQCdAJUAmwCcADEAagCfAKIAiACdAKIArwChAJ8AkgCgAAcAkwCSAFkAkACeAG8AkQBgAJ4ARQBjAJUAfgCOAJQAVgCGAIwAggCUAI8AiABhADsAXQCZAJ4AbwCbAKAAJQAHAJEAZQCUAIMAZgBBAF8AnwCVAGMAgQCdAKAAmACiAI0AlACFAJwAoQCTAJgAlQCbAKAAmACeAJAAoACVAIYAmgCcAIgAhACPAH8AngCiAJsAiwCeAJQAhACJACkAnACNAJMAlgCeAJwAZQBoAIcAmACPAIYAnABaAJgAkQCNAJ8ARQCcAJkAnABoAHgAngBzAIsAmwCfAJoAMQCRAJQAMgCPAJEAnwB6AFEAeACSAEIAogCbAIoAfQCaAGUAlwCZAJ8AjwCjAI8AlgBHAIwAjQCfAJkAUQCYAJ4AoACCAJoAegB5AJ0AngCWAJwAkQCVAIgAkQCPAJkAhABHAJIAoQCbAKAAegCSAJ8AnQBJAKwAcgB9AJQAkQCKAN8AngCbAI4AogAhAJoAogCaAIQAmgCXAKEAngCZAHMAVACbAIQAmgCYAKMAnACPAJ4AkACNAJ8AoACcAEoAgwBnAJkAgQCPAHYAnQCbAJgAngChAJUAoQAeAJsAnwCQAJ8AmgCdAKEAnwAHAIkAmgChAJMAnACYAJ4AnwCaAJwAtQCfAJwAmwCgAHkAIQCfADAAtwCgAJEAoACWAJ0AcgCmAKAAdgBSAJUAoQCeAJ0AbQChAJgAngCYAJ0AmAB5AJ8AdACnAJUAngBjAGUAnABGAKAAmQCFAIIAmQCIAJoArQBqAJkAkgCCAKUAogCCAIgAnQCYAJ4AGACcAKAAdgCHAJcApQCeAJsAjQB8AHsAfgAhAJ0AoACIAJgAnQCgAG4AnQCXADQAmACMAJgAowCLAIgAlAAwAGQAdwCTAIcAnwBqAJMAegCGAG4AogBuAJgAmACNAJMAeQCMAHAAjwCLAJwAkACRAKAAlwBlAHIAngCZAJIAngCdAIgAjgCcAK0AMgCKAGkAnACGACgAkgCMAE4AlQCgAFEAfgCYAJ0AiACdAJgAQACgAJ0AoABqAIsAmQCZAGUAnACUAIwAoQCcAJUAnQCYAKEAnABEAIIAhQCQAJUAjgCbAJ0AcgClAJwAmACbAJsAlgCxAJ0AcgDFAJwADQCTAGUAbQCeAIgAngBWAJsAnACeAJ4AdgCgAKEAlwCKAG0AagBgAJcAlgCZAHgAgACRAFYAnQBkAHIAiQCGAJIAoAASAD8AiQBfAI8AngChAJMASQCeAJ4AkwAtAJwAmgCeAJQAjABqAHIAmgCUAIcApgCEAHoAjQCdAJgAkgCgAJ8AkACaAHAAnQCPAJUAngCbAJMAnQBIAJ0AnwCHAGkASgCcAJgAiACjAJ0ASgCbAFEAigCgAIYAoQCRAKMAfgCHAIQAkQCQAJwASACEAFEAiQCfAJUALwBBAHsAngBJADMAoQCiAKAAjwCcAI4AcwCfAJgAfgCeAJ4AmwCQAGwAiQClAI8AmwCbAIgAmACgAJoAhACZAI8AmgBqAKAAmwCPAIoAWQCSAIcAngCZAEUAlwCYAIcAhgCfAF8AiQCTAJQAhACRAIYAtQCbAJkAnwB8AHYAiQCMAJkAnwCHAIoArwClAJoAmgCSAIUAfgCVAIcAbQCfAJEAggCgAIcAggCeAJUAmQAvAJ4AnAAsAKIAogCbAKAAdwCOAJwAlQCXAKIAoACIAJIAngCaAH4AkACPAJsAmgCaAJwAnABwAGoAmwCcAIsAWgCfACoAagCiAEYAbACdAJMAUwCbAI4AlACRAKAAngCUAJgAhgBaAJ4AoACTAKAA",
          "dtype": "i2"
         },
         "xaxis": "x",
         "yaxis": "y"
        },
        {
         "hovertemplate": "Category=spam<br>Length=%{x}<extra></extra>",
         "legendgroup": "spam",
         "marker": {
          "color": "#ff9999"
         },
         "name": "spam",
         "notched": true,
         "showlegend": false,
         "type": "box",
         "x": {
          "bdata": "mwCTAJ0AmgCIAJsAlQCbAJ4ArAB4AKAAmACfAE4AiQCeAJ4AlwCQAJwAnAB9AKIAmwCfAHwAkQCYAJsAnACTAEgAjgCJAJ0AkQCWAJoAeQCfAIUAmwCfAJIAigCFAJ0AgACeAG8AlgCUAKUAgQCdAJUAmwCcADEAagCfAKIAiACdAKIArwChAJ8AkgCgAAcAkwCSAFkAkACeAG8AkQBgAJ4ARQBjAJUAfgCOAJQAVgCGAIwAggCUAI8AiABhADsAXQCZAJ4AbwCbAKAAJQAHAJEAZQCUAIMAZgBBAF8AnwCVAGMAgQCdAKAAmACiAI0AlACFAJwAoQCTAJgAlQCbAKAAmACeAJAAoACVAIYAmgCcAIgAhACPAH8AngCiAJsAiwCeAJQAhACJACkAnACNAJMAlgCeAJwAZQBoAIcAmACPAIYAnABaAJgAkQCNAJ8ARQCcAJkAnABoAHgAngBzAIsAmwCfAJoAMQCRAJQAMgCPAJEAnwB6AFEAeACSAEIAogCbAIoAfQCaAGUAlwCZAJ8AjwCjAI8AlgBHAIwAjQCfAJkAUQCYAJ4AoACCAJoAegB5AJ0AngCWAJwAkQCVAIgAkQCPAJkAhABHAJIAoQCbAKAAegCSAJ8AnQBJAKwAcgB9AJQAkQCKAN8AngCbAI4AogAhAJoAogCaAIQAmgCXAKEAngCZAHMAVACbAIQAmgCYAKMAnACPAJ4AkACNAJ8AoACcAEoAgwBnAJkAgQCPAHYAnQCbAJgAngChAJUAoQAeAJsAnwCQAJ8AmgCdAKEAnwAHAIkAmgChAJMAnACYAJ4AnwCaAJwAtQCfAJwAmwCgAHkAIQCfADAAtwCgAJEAoACWAJ0AcgCmAKAAdgBSAJUAoQCeAJ0AbQChAJgAngCYAJ0AmAB5AJ8AdACnAJUAngBjAGUAnABGAKAAmQCFAIIAmQCIAJoArQBqAJkAkgCCAKUAogCCAIgAnQCYAJ4AGACcAKAAdgCHAJcApQCeAJsAjQB8AHsAfgAhAJ0AoACIAJgAnQCgAG4AnQCXADQAmACMAJgAowCLAIgAlAAwAGQAdwCTAIcAnwBqAJMAegCGAG4AogBuAJgAmACNAJMAeQCMAHAAjwCLAJwAkACRAKAAlwBlAHIAngCZAJIAngCdAIgAjgCcAK0AMgCKAGkAnACGACgAkgCMAE4AlQCgAFEAfgCYAJ0AiACdAJgAQACgAJ0AoABqAIsAmQCZAGUAnACUAIwAoQCcAJUAnQCYAKEAnABEAIIAhQCQAJUAjgCbAJ0AcgClAJwAmACbAJsAlgCxAJ0AcgDFAJwADQCTAGUAbQCeAIgAngBWAJsAnACeAJ4AdgCgAKEAlwCKAG0AagBgAJcAlgCZAHgAgACRAFYAnQBkAHIAiQCGAJIAoAASAD8AiQBfAI8AngChAJMASQCeAJ4AkwAtAJwAmgCeAJQAjABqAHIAmgCUAIcApgCEAHoAjQCdAJgAkgCgAJ8AkACaAHAAnQCPAJUAngCbAJMAnQBIAJ0AnwCHAGkASgCcAJgAiACjAJ0ASgCbAFEAigCgAIYAoQCRAKMAfgCHAIQAkQCQAJwASACEAFEAiQCfAJUALwBBAHsAngBJADMAoQCiAKAAjwCcAI4AcwCfAJgAfgCeAJ4AmwCQAGwAiQClAI8AmwCbAIgAmACgAJoAhACZAI8AmgBqAKAAmwCPAIoAWQCSAIcAngCZAEUAlwCYAIcAhgCfAF8AiQCTAJQAhACRAIYAtQCbAJkAnwB8AHYAiQCMAJkAnwCHAIoArwClAJoAmgCSAIUAfgCVAIcAbQCfAJEAggCgAIcAggCeAJUAmQAvAJ4AnAAsAKIAogCbAKAAdwCOAJwAlQCXAKIAoACIAJIAngCaAH4AkACPAJsAmgCaAJwAnABwAGoAmwCcAIsAWgCfACoAagCiAEYAbACdAJMAUwCbAI4AlACRAKAAngCUAJgAhgBaAJ4AoACTAKAA",
          "dtype": "i2"
         },
         "xaxis": "x2",
         "yaxis": "y2"
        }
       ],
       "layout": {
        "barmode": "relative",
        "font": {
         "size": 14
        },
        "legend": {
         "title": {
          "text": "Catégorie"
         },
         "tracegroupgap": 0
        },
        "template": {
         "data": {
          "bar": [
           {
            "error_x": {
             "color": "#2a3f5f"
            },
            "error_y": {
             "color": "#2a3f5f"
            },
            "marker": {
             "line": {
              "color": "#E5ECF6",
              "width": 0.5
             },
             "pattern": {
              "fillmode": "overlay",
              "size": 10,
              "solidity": 0.2
             }
            },
            "type": "bar"
           }
          ],
          "barpolar": [
           {
            "marker": {
             "line": {
              "color": "#E5ECF6",
              "width": 0.5
             },
             "pattern": {
              "fillmode": "overlay",
              "size": 10,
              "solidity": 0.2
             }
            },
            "type": "barpolar"
           }
          ],
          "carpet": [
           {
            "aaxis": {
             "endlinecolor": "#2a3f5f",
             "gridcolor": "white",
             "linecolor": "white",
             "minorgridcolor": "white",
             "startlinecolor": "#2a3f5f"
            },
            "baxis": {
             "endlinecolor": "#2a3f5f",
             "gridcolor": "white",
             "linecolor": "white",
             "minorgridcolor": "white",
             "startlinecolor": "#2a3f5f"
            },
            "type": "carpet"
           }
          ],
          "choropleth": [
           {
            "colorbar": {
             "outlinewidth": 0,
             "ticks": ""
            },
            "type": "choropleth"
           }
          ],
          "contour": [
           {
            "colorbar": {
             "outlinewidth": 0,
             "ticks": ""
            },
            "colorscale": [
             [
              0.0,
              "#0d0887"
             ],
             [
              0.1111111111111111,
              "#46039f"
             ],
             [
              0.2222222222222222,
              "#7201a8"
             ],
             [
              0.3333333333333333,
              "#9c179e"
             ],
             [
              0.4444444444444444,
              "#bd3786"
             ],
             [
              0.5555555555555556,
              "#d8576b"
             ],
             [
              0.6666666666666666,
              "#ed7953"
             ],
             [
              0.7777777777777778,
              "#fb9f3a"
             ],
             [
              0.8888888888888888,
              "#fdca26"
             ],
             [
              1.0,
              "#f0f921"
             ]
            ],
            "type": "contour"
           }
          ],
          "contourcarpet": [
           {
            "colorbar": {
             "outlinewidth": 0,
             "ticks": ""
            },
            "type": "contourcarpet"
           }
          ],
          "heatmap": [
           {
            "colorbar": {
             "outlinewidth": 0,
             "ticks": ""
            },
            "colorscale": [
             [
              0.0,
              "#0d0887"
             ],
             [
              0.1111111111111111,
              "#46039f"
             ],
             [
              0.2222222222222222,
              "#7201a8"
             ],
             [
              0.3333333333333333,
              "#9c179e"
             ],
             [
              0.4444444444444444,
              "#bd3786"
             ],
             [
              0.5555555555555556,
              "#d8576b"
             ],
             [
              0.6666666666666666,
              "#ed7953"
             ],
             [
              0.7777777777777778,
              "#fb9f3a"
             ],
             [
              0.8888888888888888,
              "#fdca26"
             ],
             [
              1.0,
              "#f0f921"
             ]
            ],
            "type": "heatmap"
           }
          ],
          "histogram": [
           {
            "marker": {
             "pattern": {
              "fillmode": "overlay",
              "size": 10,
              "solidity": 0.2
             }
            },
            "type": "histogram"
           }
          ],
          "histogram2d": [
           {
            "colorbar": {
             "outlinewidth": 0,
             "ticks": ""
            },
            "colorscale": [
             [
              0.0,
              "#0d0887"
             ],
             [
              0.1111111111111111,
              "#46039f"
             ],
             [
              0.2222222222222222,
              "#7201a8"
             ],
             [
              0.3333333333333333,
              "#9c179e"
             ],
             [
              0.4444444444444444,
              "#bd3786"
             ],
             [
              0.5555555555555556,
              "#d8576b"
             ],
             [
              0.6666666666666666,
              "#ed7953"
             ],
             [
              0.7777777777777778,
              "#fb9f3a"
             ],
             [
              0.8888888888888888,
              "#fdca26"
             ],
             [
              1.0,
              "#f0f921"
             ]
            ],
            "type": "histogram2d"
           }
          ],
          "histogram2dcontour": [
           {
            "colorbar": {
             "outlinewidth": 0,
             "ticks": ""
            },
            "colorscale": [
             [
              0.0,
              "#0d0887"
             ],
             [
              0.1111111111111111,
              "#46039f"
             ],
             [
              0.2222222222222222,
              "#7201a8"
             ],
             [
              0.3333333333333333,
              "#9c179e"
             ],
             [
              0.4444444444444444,
              "#bd3786"
             ],
             [
              0.5555555555555556,
              "#d8576b"
             ],
             [
              0.6666666666666666,
              "#ed7953"
             ],
             [
              0.7777777777777778,
              "#fb9f3a"
             ],
             [
              0.8888888888888888,
              "#fdca26"
             ],
             [
              1.0,
              "#f0f921"
             ]
            ],
            "type": "histogram2dcontour"
           }
          ],
          "mesh3d": [
           {
            "colorbar": {
             "outlinewidth": 0,
             "ticks": ""
            },
            "type": "mesh3d"
           }
          ],
          "parcoords": [
           {
            "line": {
             "colorbar": {
              "outlinewidth": 0,
              "ticks": ""
             }
            },
            "type": "parcoords"
           }
          ],
          "pie": [
           {
            "automargin": true,
            "type": "pie"
           }
          ],
          "scatter": [
           {
            "fillpattern": {
             "fillmode": "overlay",
             "size": 10,
             "solidity": 0.2
            },
            "type": "scatter"
           }
          ],
          "scatter3d": [
           {
            "line": {
             "colorbar": {
              "outlinewidth": 0,
              "ticks": ""
             }
            },
            "marker": {
             "colorbar": {
              "outlinewidth": 0,
              "ticks": ""
             }
            },
            "type": "scatter3d"
           }
          ],
          "scattercarpet": [
           {
            "marker": {
             "colorbar": {
              "outlinewidth": 0,
              "ticks": ""
             }
            },
            "type": "scattercarpet"
           }
          ],
          "scattergeo": [
           {
            "marker": {
             "colorbar": {
              "outlinewidth": 0,
              "ticks": ""
             }
            },
            "type": "scattergeo"
           }
          ],
          "scattergl": [
           {
            "marker": {
             "colorbar": {
              "outlinewidth": 0,
              "ticks": ""
             }
            },
            "type": "scattergl"
           }
          ],
          "scattermap": [
           {
            "marker": {
             "colorbar": {
              "outlinewidth": 0,
              "ticks": ""
             }
            },
            "type": "scattermap"
           }
          ],
          "scattermapbox": [
           {
            "marker": {
             "colorbar": {
              "outlinewidth": 0,
              "ticks": ""
             }
            },
            "type": "scattermapbox"
           }
          ],
          "scatterpolar": [
           {
            "marker": {
             "colorbar": {
              "outlinewidth": 0,
              "ticks": ""
             }
            },
            "type": "scatterpolar"
           }
          ],
          "scatterpolargl": [
           {
            "marker": {
             "colorbar": {
              "outlinewidth": 0,
              "ticks": ""
             }
            },
            "type": "scatterpolargl"
           }
          ],
          "scatterternary": [
           {
            "marker": {
             "colorbar": {
              "outlinewidth": 0,
              "ticks": ""
             }
            },
            "type": "scatterternary"
           }
          ],
          "surface": [
           {
            "colorbar": {
             "outlinewidth": 0,
             "ticks": ""
            },
            "colorscale": [
             [
              0.0,
              "#0d0887"
             ],
             [
              0.1111111111111111,
              "#46039f"
             ],
             [
              0.2222222222222222,
              "#7201a8"
             ],
             [
              0.3333333333333333,
              "#9c179e"
             ],
             [
              0.4444444444444444,
              "#bd3786"
             ],
             [
              0.5555555555555556,
              "#d8576b"
             ],
             [
              0.6666666666666666,
              "#ed7953"
             ],
             [
              0.7777777777777778,
              "#fb9f3a"
             ],
             [
              0.8888888888888888,
              "#fdca26"
             ],
             [
              1.0,
              "#f0f921"
             ]
            ],
            "type": "surface"
           }
          ],
          "table": [
           {
            "cells": {
             "fill": {
              "color": "#EBF0F8"
             },
             "line": {
              "color": "white"
             }
            },
            "header": {
             "fill": {
              "color": "#C8D4E3"
             },
             "line": {
              "color": "white"
             }
            },
            "type": "table"
           }
          ]
         },
         "layout": {
          "annotationdefaults": {
           "arrowcolor": "#2a3f5f",
           "arrowhead": 0,
           "arrowwidth": 1
          },
          "autotypenumbers": "strict",
          "coloraxis": {
           "colorbar": {
            "outlinewidth": 0,
            "ticks": ""
           }
          },
          "colorscale": {
           "diverging": [
            [
             0,
             "#8e0152"
            ],
            [
             0.1,
             "#c51b7d"
            ],
            [
             0.2,
             "#de77ae"
            ],
            [
             0.3,
             "#f1b6da"
            ],
            [
             0.4,
             "#fde0ef"
            ],
            [
             0.5,
             "#f7f7f7"
            ],
            [
             0.6,
             "#e6f5d0"
            ],
            [
             0.7,
             "#b8e186"
            ],
            [
             0.8,
             "#7fbc41"
            ],
            [
             0.9,
             "#4d9221"
            ],
            [
             1,
             "#276419"
            ]
           ],
           "sequential": [
            [
             0.0,
             "#0d0887"
            ],
            [
             0.1111111111111111,
             "#46039f"
            ],
            [
             0.2222222222222222,
             "#7201a8"
            ],
            [
             0.3333333333333333,
             "#9c179e"
            ],
            [
             0.4444444444444444,
             "#bd3786"
            ],
            [
             0.5555555555555556,
             "#d8576b"
            ],
            [
             0.6666666666666666,
             "#ed7953"
            ],
            [
             0.7777777777777778,
             "#fb9f3a"
            ],
            [
             0.8888888888888888,
             "#fdca26"
            ],
            [
             1.0,
             "#f0f921"
            ]
           ],
           "sequentialminus": [
            [
             0.0,
             "#0d0887"
            ],
            [
             0.1111111111111111,
             "#46039f"
            ],
            [
             0.2222222222222222,
             "#7201a8"
            ],
            [
             0.3333333333333333,
             "#9c179e"
            ],
            [
             0.4444444444444444,
             "#bd3786"
            ],
            [
             0.5555555555555556,
             "#d8576b"
            ],
            [
             0.6666666666666666,
             "#ed7953"
            ],
            [
             0.7777777777777778,
             "#fb9f3a"
            ],
            [
             0.8888888888888888,
             "#fdca26"
            ],
            [
             1.0,
             "#f0f921"
            ]
           ]
          },
          "colorway": [
           "#636efa",
           "#EF553B",
           "#00cc96",
           "#ab63fa",
           "#FFA15A",
           "#19d3f3",
           "#FF6692",
           "#B6E880",
           "#FF97FF",
           "#FECB52"
          ],
          "font": {
           "color": "#2a3f5f"
          },
          "geo": {
           "bgcolor": "white",
           "lakecolor": "white",
           "landcolor": "#E5ECF6",
           "showlakes": true,
           "showland": true,
           "subunitcolor": "white"
          },
          "hoverlabel": {
           "align": "left"
          },
          "hovermode": "closest",
          "mapbox": {
           "style": "light"
          },
          "paper_bgcolor": "white",
          "plot_bgcolor": "#E5ECF6",
          "polar": {
           "angularaxis": {
            "gridcolor": "white",
            "linecolor": "white",
            "ticks": ""
           },
           "bgcolor": "#E5ECF6",
           "radialaxis": {
            "gridcolor": "white",
            "linecolor": "white",
            "ticks": ""
           }
          },
          "scene": {
           "xaxis": {
            "backgroundcolor": "#E5ECF6",
            "gridcolor": "white",
            "gridwidth": 2,
            "linecolor": "white",
            "showbackground": true,
            "ticks": "",
            "zerolinecolor": "white"
           },
           "yaxis": {
            "backgroundcolor": "#E5ECF6",
            "gridcolor": "white",
            "gridwidth": 2,
            "linecolor": "white",
            "showbackground": true,
            "ticks": "",
            "zerolinecolor": "white"
           },
           "zaxis": {
            "backgroundcolor": "#E5ECF6",
            "gridcolor": "white",
            "gridwidth": 2,
            "linecolor": "white",
            "showbackground": true,
            "ticks": "",
            "zerolinecolor": "white"
           }
          },
          "shapedefaults": {
           "line": {
            "color": "#2a3f5f"
           }
          },
          "ternary": {
           "aaxis": {
            "gridcolor": "white",
            "linecolor": "white",
            "ticks": ""
           },
           "baxis": {
            "gridcolor": "white",
            "linecolor": "white",
            "ticks": ""
           },
           "bgcolor": "#E5ECF6",
           "caxis": {
            "gridcolor": "white",
            "linecolor": "white",
            "ticks": ""
           }
          },
          "title": {
           "x": 0.05
          },
          "xaxis": {
           "automargin": true,
           "gridcolor": "white",
           "linecolor": "white",
           "ticks": "",
           "title": {
            "standoff": 15
           },
           "zerolinecolor": "white",
           "zerolinewidth": 2
          },
          "yaxis": {
           "automargin": true,
           "gridcolor": "white",
           "linecolor": "white",
           "ticks": "",
           "title": {
            "standoff": 15
           },
           "zerolinecolor": "white",
           "zerolinewidth": 2
          }
         }
        },
        "title": {
         "font": {
          "size": 20
         },
         "text": "📊 Distribution de la Longueur des Messages par Catégorie"
        },
        "xaxis": {
         "anchor": "y",
         "domain": [
          0.0,
          1.0
         ],
         "title": {
          "text": "Longueur du Message (caractères)"
         }
        },
        "xaxis2": {
         "anchor": "y2",
         "domain": [
          0.0,
          1.0
         ],
         "matches": "x",
         "showgrid": true,
         "showticklabels": false
        },
        "yaxis": {
         "anchor": "x",
         "domain": [
          0.0,
          0.7326
         ],
         "title": {
          "text": "Nombre de Messages"
         }
        },
        "yaxis2": {
         "anchor": "x2",
         "domain": [
          0.7426,
          1.0
         ],
         "matches": "y2",
         "showgrid": false,
         "showline": false,
         "showticklabels": false,
         "ticks": ""
        }
       }
      }
     },
     "metadata": {},
     "output_type": "display_data"
    },
    {
     "data": {
      "application/vnd.plotly.v1+json": {
       "config": {
        "plotlyServerURL": "https://plot.ly"
       },
       "data": [
        {
         "alignmentgroup": "True",
         "hovertemplate": "Category=%{x}<br>Length=%{y}<extra></extra>",
         "legendgroup": "ham",
         "marker": {
          "color": "#66b3ff"
         },
         "name": "ham",
         "notched": false,
         "offsetgroup": "ham",
         "orientation": "v",
         "showlegend": true,
         "type": "box",
         "x": [
          "ham",
          "ham",
          "ham",
          "ham",
          "ham",
          "ham",
          "ham",
          "ham",
          "ham",
          "ham",
          "ham",
          "ham",
          "ham",
          "ham",
          "ham",
          "ham",
          "ham",
          "ham",
          "ham",
          "ham",
          "ham",
          "ham",
          "ham",
          "ham",
          "ham",
          "ham",
          "ham",
          "ham",
          "ham",
          "ham",
          "ham",
          "ham",
          "ham",
          "ham",
          "ham",
          "ham",
          "ham",
          "ham",
          "ham",
          "ham",
          "ham",
          "ham",
          "ham",
          "ham",
          "ham",
          "ham",
          "ham",
          "ham",
          "ham",
          "ham",
          "ham",
          "ham",
          "ham",
          "ham",
          "ham",
          "ham",
          "ham",
          "ham",
          "ham",
          "ham",
          "ham",
          "ham",
          "ham",
          "ham",
          "ham",
          "ham",
          "ham",
          "ham",
          "ham",
          "ham",
          "ham",
          "ham",
          "ham",
          "ham",
          "ham",
          "ham",
          "ham",
          "ham",
          "ham",
          "ham",
          "ham",
          "ham",
          "ham",
          "ham",
          "ham",
          "ham",
          "ham",
          "ham",
          "ham",
          "ham",
          "ham",
          "ham",
          "ham",
          "ham",
          "ham",
          "ham",
          "ham",
          "ham",
          "ham",
          "ham",
          "ham",
          "ham",
          "ham",
          "ham",
          "ham",
          "ham",
          "ham",
          "ham",
          "ham",
          "ham",
          "ham",
          "ham",
          "ham",
          "ham",
          "ham",
          "ham",
          "ham",
          "ham",
          "ham",
          "ham",
          "ham",
          "ham",
          "ham",
          "ham",
          "ham",
          "ham",
          "ham",
          "ham",
          "ham",
          "ham",
          "ham",
          "ham",
          "ham",
          "ham",
          "ham",
          "ham",
          "ham",
          "ham",
          "ham",
          "ham",
          "ham",
          "ham",
          "ham",
          "ham",
          "ham",
          "ham",
          "ham",
          "ham",
          "ham",
          "ham",
          "ham",
          "ham",
          "ham",
          "ham",
          "ham",
          "ham",
          "ham",
          "ham",
          "ham",
          "ham",
          "ham",
          "ham",
          "ham",
          "ham",
          "ham",
          "ham",
          "ham",
          "ham",
          "ham",
          "ham",
          "ham",
          "ham",
          "ham",
          "ham",
          "ham",
          "ham",
          "ham",
          "ham",
          "ham",
          "ham",
          "ham",
          "ham",
          "ham",
          "ham",
          "ham",
          "ham",
          "ham",
          "ham",
          "ham",
          "ham",
          "ham",
          "ham",
          "ham",
          "ham",
          "ham",
          "ham",
          "ham",
          "ham",
          "ham",
          "ham",
          "ham",
          "ham",
          "ham",
          "ham",
          "ham",
          "ham",
          "ham",
          "ham",
          "ham",
          "ham",
          "ham",
          "ham",
          "ham",
          "ham",
          "ham",
          "ham",
          "ham",
          "ham",
          "ham",
          "ham",
          "ham",
          "ham",
          "ham",
          "ham",
          "ham",
          "ham",
          "ham",
          "ham",
          "ham",
          "ham",
          "ham",
          "ham",
          "ham",
          "ham",
          "ham",
          "ham",
          "ham",
          "ham",
          "ham",
          "ham",
          "ham",
          "ham",
          "ham",
          "ham",
          "ham",
          "ham",
          "ham",
          "ham",
          "ham",
          "ham",
          "ham",
          "ham",
          "ham",
          "ham",
          "ham",
          "ham",
          "ham",
          "ham",
          "ham",
          "ham",
          "ham",
          "ham",
          "ham",
          "ham",
          "ham",
          "ham",
          "ham",
          "ham",
          "ham",
          "ham",
          "ham",
          "ham",
          "ham",
          "ham",
          "ham",
          "ham",
          "ham",
          "ham",
          "ham",
          "ham",
          "ham",
          "ham",
          "ham",
          "ham",
          "ham",
          "ham",
          "ham",
          "ham",
          "ham",
          "ham",
          "ham",
          "ham",
          "ham",
          "ham",
          "ham",
          "ham",
          "ham",
          "ham",
          "ham",
          "ham",
          "ham",
          "ham",
          "ham",
          "ham",
          "ham",
          "ham",
          "ham",
          "ham",
          "ham",
          "ham",
          "ham",
          "ham",
          "ham",
          "ham",
          "ham",
          "ham",
          "ham",
          "ham",
          "ham",
          "ham",
          "ham",
          "ham",
          "ham",
          "ham",
          "ham",
          "ham",
          "ham",
          "ham",
          "ham",
          "ham",
          "ham",
          "ham",
          "ham",
          "ham",
          "ham",
          "ham",
          "ham",
          "ham",
          "ham",
          "ham",
          "ham",
          "ham",
          "ham",
          "ham",
          "ham",
          "ham",
          "ham",
          "ham",
          "ham",
          "ham",
          "ham",
          "ham",
          "ham",
          "ham",
          "ham",
          "ham",
          "ham",
          "ham",
          "ham",
          "ham",
          "ham",
          "ham",
          "ham",
          "ham",
          "ham",
          "ham",
          "ham",
          "ham",
          "ham",
          "ham",
          "ham",
          "ham",
          "ham",
          "ham",
          "ham",
          "ham",
          "ham",
          "ham",
          "ham",
          "ham",
          "ham",
          "ham",
          "ham",
          "ham",
          "ham",
          "ham",
          "ham",
          "ham",
          "ham",
          "ham",
          "ham",
          "ham",
          "ham",
          "ham",
          "ham",
          "ham",
          "ham",
          "ham",
          "ham",
          "ham",
          "ham",
          "ham",
          "ham",
          "ham",
          "ham",
          "ham",
          "ham",
          "ham",
          "ham",
          "ham",
          "ham",
          "ham",
          "ham",
          "ham",
          "ham",
          "ham",
          "ham",
          "ham",
          "ham",
          "ham",
          "ham",
          "ham",
          "ham",
          "ham",
          "ham",
          "ham",
          "ham",
          "ham",
          "ham",
          "ham",
          "ham",
          "ham",
          "ham",
          "ham",
          "ham",
          "ham",
          "ham",
          "ham",
          "ham",
          "ham",
          "ham",
          "ham",
          "ham",
          "ham",
          "ham",
          "ham",
          "ham",
          "ham",
          "ham",
          "ham",
          "ham",
          "ham",
          "ham",
          "ham",
          "ham",
          "ham",
          "ham",
          "ham",
          "ham",
          "ham",
          "ham",
          "ham",
          "ham",
          "ham",
          "ham",
          "ham",
          "ham",
          "ham",
          "ham",
          "ham",
          "ham",
          "ham",
          "ham",
          "ham",
          "ham",
          "ham",
          "ham",
          "ham",
          "ham",
          "ham",
          "ham",
          "ham",
          "ham",
          "ham",
          "ham",
          "ham",
          "ham",
          "ham",
          "ham",
          "ham",
          "ham",
          "ham",
          "ham",
          "ham",
          "ham",
          "ham",
          "ham",
          "ham",
          "ham",
          "ham",
          "ham",
          "ham",
          "ham",
          "ham",
          "ham",
          "ham",
          "ham",
          "ham",
          "ham",
          "ham",
          "ham",
          "ham",
          "ham",
          "ham",
          "ham",
          "ham",
          "ham",
          "ham",
          "ham",
          "ham",
          "ham",
          "ham",
          "ham",
          "ham",
          "ham",
          "ham",
          "ham",
          "ham",
          "ham",
          "ham",
          "ham",
          "ham",
          "ham",
          "ham",
          "ham",
          "ham",
          "ham",
          "ham",
          "ham",
          "ham",
          "ham",
          "ham",
          "ham",
          "ham",
          "ham",
          "ham",
          "ham",
          "ham",
          "ham",
          "ham",
          "ham",
          "ham",
          "ham",
          "ham",
          "ham",
          "ham",
          "ham",
          "ham",
          "ham",
          "ham",
          "ham",
          "ham",
          "ham",
          "ham",
          "ham",
          "ham",
          "ham",
          "ham",
          "ham",
          "ham",
          "ham",
          "ham",
          "ham",
          "ham",
          "ham",
          "ham",
          "ham",
          "ham",
          "ham",
          "ham",
          "ham",
          "ham",
          "ham",
          "ham",
          "ham",
          "ham",
          "ham",
          "ham",
          "ham",
          "ham",
          "ham",
          "ham",
          "ham",
          "ham",
          "ham",
          "ham",
          "ham",
          "ham",
          "ham",
          "ham",
          "ham",
          "ham",
          "ham",
          "ham",
          "ham",
          "ham",
          "ham",
          "ham",
          "ham",
          "ham",
          "ham",
          "ham",
          "ham",
          "ham",
          "ham",
          "ham",
          "ham",
          "ham",
          "ham",
          "ham",
          "ham",
          "ham",
          "ham",
          "ham",
          "ham",
          "ham",
          "ham",
          "ham",
          "ham",
          "ham",
          "ham",
          "ham",
          "ham",
          "ham",
          "ham",
          "ham",
          "ham",
          "ham",
          "ham",
          "ham",
          "ham",
          "ham",
          "ham",
          "ham",
          "ham",
          "ham",
          "ham",
          "ham",
          "ham",
          "ham",
          "ham",
          "ham",
          "ham",
          "ham",
          "ham",
          "ham",
          "ham",
          "ham",
          "ham",
          "ham",
          "ham",
          "ham",
          "ham",
          "ham",
          "ham",
          "ham",
          "ham",
          "ham",
          "ham",
          "ham",
          "ham",
          "ham",
          "ham",
          "ham",
          "ham",
          "ham",
          "ham",
          "ham",
          "ham",
          "ham",
          "ham",
          "ham",
          "ham",
          "ham",
          "ham",
          "ham",
          "ham",
          "ham",
          "ham",
          "ham",
          "ham",
          "ham",
          "ham",
          "ham",
          "ham",
          "ham",
          "ham",
          "ham",
          "ham",
          "ham",
          "ham",
          "ham",
          "ham",
          "ham",
          "ham",
          "ham",
          "ham",
          "ham",
          "ham",
          "ham",
          "ham",
          "ham",
          "ham",
          "ham",
          "ham",
          "ham",
          "ham",
          "ham",
          "ham",
          "ham",
          "ham",
          "ham",
          "ham",
          "ham",
          "ham",
          "ham",
          "ham",
          "ham",
          "ham",
          "ham",
          "ham",
          "ham",
          "ham",
          "ham",
          "ham",
          "ham",
          "ham",
          "ham",
          "ham",
          "ham",
          "ham",
          "ham",
          "ham",
          "ham",
          "ham",
          "ham",
          "ham",
          "ham",
          "ham",
          "ham",
          "ham",
          "ham",
          "ham",
          "ham",
          "ham",
          "ham",
          "ham",
          "ham",
          "ham",
          "ham",
          "ham",
          "ham",
          "ham",
          "ham",
          "ham",
          "ham",
          "ham",
          "ham",
          "ham",
          "ham",
          "ham",
          "ham",
          "ham",
          "ham",
          "ham",
          "ham",
          "ham",
          "ham",
          "ham",
          "ham",
          "ham",
          "ham",
          "ham",
          "ham",
          "ham",
          "ham",
          "ham",
          "ham",
          "ham",
          "ham",
          "ham",
          "ham",
          "ham",
          "ham",
          "ham",
          "ham",
          "ham",
          "ham",
          "ham",
          "ham",
          "ham",
          "ham",
          "ham",
          "ham",
          "ham",
          "ham",
          "ham",
          "ham",
          "ham",
          "ham",
          "ham",
          "ham",
          "ham",
          "ham",
          "ham",
          "ham",
          "ham",
          "ham",
          "ham",
          "ham",
          "ham",
          "ham",
          "ham",
          "ham",
          "ham",
          "ham",
          "ham",
          "ham",
          "ham",
          "ham",
          "ham",
          "ham",
          "ham",
          "ham",
          "ham",
          "ham",
          "ham",
          "ham",
          "ham",
          "ham",
          "ham",
          "ham",
          "ham",
          "ham",
          "ham",
          "ham",
          "ham",
          "ham",
          "ham",
          "ham",
          "ham",
          "ham",
          "ham",
          "ham",
          "ham",
          "ham",
          "ham",
          "ham",
          "ham",
          "ham",
          "ham",
          "ham",
          "ham",
          "ham",
          "ham",
          "ham",
          "ham",
          "ham",
          "ham",
          "ham",
          "ham",
          "ham",
          "ham",
          "ham",
          "ham",
          "ham",
          "ham",
          "ham",
          "ham",
          "ham",
          "ham",
          "ham",
          "ham",
          "ham",
          "ham",
          "ham",
          "ham",
          "ham",
          "ham",
          "ham",
          "ham",
          "ham",
          "ham",
          "ham",
          "ham",
          "ham",
          "ham",
          "ham",
          "ham",
          "ham",
          "ham",
          "ham",
          "ham",
          "ham",
          "ham",
          "ham",
          "ham",
          "ham",
          "ham",
          "ham",
          "ham",
          "ham",
          "ham",
          "ham",
          "ham",
          "ham",
          "ham",
          "ham",
          "ham",
          "ham",
          "ham",
          "ham",
          "ham",
          "ham",
          "ham",
          "ham",
          "ham",
          "ham",
          "ham",
          "ham",
          "ham",
          "ham",
          "ham",
          "ham",
          "ham",
          "ham",
          "ham",
          "ham",
          "ham",
          "ham",
          "ham",
          "ham",
          "ham",
          "ham",
          "ham",
          "ham",
          "ham",
          "ham",
          "ham",
          "ham",
          "ham",
          "ham",
          "ham",
          "ham",
          "ham",
          "ham",
          "ham",
          "ham",
          "ham",
          "ham",
          "ham",
          "ham",
          "ham",
          "ham",
          "ham",
          "ham",
          "ham",
          "ham",
          "ham",
          "ham",
          "ham",
          "ham",
          "ham",
          "ham",
          "ham",
          "ham",
          "ham",
          "ham",
          "ham",
          "ham",
          "ham",
          "ham",
          "ham",
          "ham",
          "ham",
          "ham",
          "ham",
          "ham",
          "ham",
          "ham",
          "ham",
          "ham",
          "ham",
          "ham",
          "ham",
          "ham",
          "ham",
          "ham",
          "ham",
          "ham",
          "ham",
          "ham",
          "ham",
          "ham",
          "ham",
          "ham",
          "ham",
          "ham",
          "ham",
          "ham",
          "ham",
          "ham",
          "ham",
          "ham",
          "ham",
          "ham",
          "ham",
          "ham",
          "ham",
          "ham",
          "ham",
          "ham",
          "ham",
          "ham",
          "ham",
          "ham",
          "ham",
          "ham",
          "ham",
          "ham",
          "ham",
          "ham",
          "ham",
          "ham",
          "ham",
          "ham",
          "ham",
          "ham",
          "ham",
          "ham",
          "ham",
          "ham",
          "ham",
          "ham",
          "ham",
          "ham",
          "ham",
          "ham",
          "ham",
          "ham",
          "ham",
          "ham",
          "ham",
          "ham",
          "ham",
          "ham",
          "ham",
          "ham",
          "ham",
          "ham",
          "ham",
          "ham",
          "ham",
          "ham",
          "ham",
          "ham",
          "ham",
          "ham",
          "ham",
          "ham",
          "ham",
          "ham",
          "ham",
          "ham",
          "ham",
          "ham",
          "ham",
          "ham",
          "ham",
          "ham",
          "ham",
          "ham",
          "ham",
          "ham",
          "ham",
          "ham",
          "ham",
          "ham",
          "ham",
          "ham",
          "ham",
          "ham",
          "ham",
          "ham",
          "ham",
          "ham",
          "ham",
          "ham",
          "ham",
          "ham",
          "ham",
          "ham",
          "ham",
          "ham",
          "ham",
          "ham",
          "ham",
          "ham",
          "ham",
          "ham",
          "ham",
          "ham",
          "ham",
          "ham",
          "ham",
          "ham",
          "ham",
          "ham",
          "ham",
          "ham",
          "ham",
          "ham",
          "ham",
          "ham",
          "ham",
          "ham",
          "ham",
          "ham",
          "ham",
          "ham",
          "ham",
          "ham",
          "ham",
          "ham",
          "ham",
          "ham",
          "ham",
          "ham",
          "ham",
          "ham",
          "ham",
          "ham",
          "ham",
          "ham",
          "ham",
          "ham",
          "ham",
          "ham",
          "ham",
          "ham",
          "ham",
          "ham",
          "ham",
          "ham",
          "ham",
          "ham",
          "ham",
          "ham",
          "ham",
          "ham",
          "ham",
          "ham",
          "ham",
          "ham",
          "ham",
          "ham",
          "ham",
          "ham",
          "ham",
          "ham",
          "ham",
          "ham",
          "ham",
          "ham",
          "ham",
          "ham",
          "ham",
          "ham",
          "ham",
          "ham",
          "ham",
          "ham",
          "ham",
          "ham",
          "ham",
          "ham",
          "ham",
          "ham",
          "ham",
          "ham",
          "ham",
          "ham",
          "ham",
          "ham",
          "ham",
          "ham",
          "ham",
          "ham",
          "ham",
          "ham",
          "ham",
          "ham",
          "ham",
          "ham",
          "ham",
          "ham",
          "ham",
          "ham",
          "ham",
          "ham",
          "ham",
          "ham",
          "ham",
          "ham",
          "ham",
          "ham",
          "ham",
          "ham",
          "ham",
          "ham",
          "ham",
          "ham",
          "ham",
          "ham",
          "ham",
          "ham",
          "ham",
          "ham",
          "ham",
          "ham",
          "ham",
          "ham",
          "ham",
          "ham",
          "ham",
          "ham",
          "ham",
          "ham",
          "ham",
          "ham",
          "ham",
          "ham",
          "ham",
          "ham",
          "ham",
          "ham",
          "ham",
          "ham",
          "ham",
          "ham",
          "ham",
          "ham",
          "ham",
          "ham",
          "ham",
          "ham",
          "ham",
          "ham",
          "ham",
          "ham",
          "ham",
          "ham",
          "ham",
          "ham",
          "ham",
          "ham",
          "ham",
          "ham",
          "ham",
          "ham",
          "ham",
          "ham",
          "ham",
          "ham",
          "ham",
          "ham",
          "ham",
          "ham",
          "ham",
          "ham",
          "ham",
          "ham",
          "ham",
          "ham",
          "ham",
          "ham",
          "ham",
          "ham",
          "ham",
          "ham",
          "ham",
          "ham",
          "ham",
          "ham",
          "ham",
          "ham",
          "ham",
          "ham",
          "ham",
          "ham",
          "ham",
          "ham",
          "ham",
          "ham",
          "ham",
          "ham",
          "ham",
          "ham",
          "ham",
          "ham",
          "ham",
          "ham",
          "ham",
          "ham",
          "ham",
          "ham",
          "ham",
          "ham",
          "ham",
          "ham",
          "ham",
          "ham",
          "ham",
          "ham",
          "ham",
          "ham",
          "ham",
          "ham",
          "ham",
          "ham",
          "ham",
          "ham",
          "ham",
          "ham",
          "ham",
          "ham",
          "ham",
          "ham",
          "ham",
          "ham",
          "ham",
          "ham",
          "ham",
          "ham",
          "ham",
          "ham",
          "ham",
          "ham",
          "ham",
          "ham",
          "ham",
          "ham",
          "ham",
          "ham",
          "ham",
          "ham",
          "ham",
          "ham",
          "ham",
          "ham",
          "ham",
          "ham",
          "ham",
          "ham",
          "ham",
          "ham",
          "ham",
          "ham",
          "ham",
          "ham",
          "ham",
          "ham",
          "ham",
          "ham",
          "ham",
          "ham",
          "ham",
          "ham",
          "ham",
          "ham",
          "ham",
          "ham",
          "ham",
          "ham",
          "ham",
          "ham",
          "ham",
          "ham",
          "ham",
          "ham",
          "ham",
          "ham",
          "ham",
          "ham",
          "ham",
          "ham",
          "ham",
          "ham",
          "ham",
          "ham",
          "ham",
          "ham",
          "ham",
          "ham",
          "ham",
          "ham",
          "ham",
          "ham",
          "ham",
          "ham",
          "ham",
          "ham",
          "ham",
          "ham",
          "ham",
          "ham",
          "ham",
          "ham",
          "ham",
          "ham",
          "ham",
          "ham",
          "ham",
          "ham",
          "ham",
          "ham",
          "ham",
          "ham",
          "ham",
          "ham",
          "ham",
          "ham",
          "ham",
          "ham",
          "ham",
          "ham",
          "ham",
          "ham",
          "ham",
          "ham",
          "ham",
          "ham",
          "ham",
          "ham",
          "ham",
          "ham",
          "ham",
          "ham",
          "ham",
          "ham",
          "ham",
          "ham",
          "ham",
          "ham",
          "ham",
          "ham",
          "ham",
          "ham",
          "ham",
          "ham",
          "ham",
          "ham",
          "ham",
          "ham",
          "ham",
          "ham",
          "ham",
          "ham",
          "ham",
          "ham",
          "ham",
          "ham",
          "ham",
          "ham",
          "ham",
          "ham",
          "ham",
          "ham",
          "ham",
          "ham",
          "ham",
          "ham",
          "ham",
          "ham",
          "ham",
          "ham",
          "ham",
          "ham",
          "ham",
          "ham",
          "ham",
          "ham",
          "ham",
          "ham",
          "ham",
          "ham",
          "ham",
          "ham",
          "ham",
          "ham",
          "ham",
          "ham",
          "ham",
          "ham",
          "ham",
          "ham",
          "ham",
          "ham",
          "ham",
          "ham",
          "ham",
          "ham",
          "ham",
          "ham",
          "ham",
          "ham",
          "ham",
          "ham",
          "ham",
          "ham",
          "ham",
          "ham",
          "ham",
          "ham",
          "ham",
          "ham",
          "ham",
          "ham",
          "ham",
          "ham",
          "ham",
          "ham",
          "ham",
          "ham",
          "ham",
          "ham",
          "ham",
          "ham",
          "ham",
          "ham",
          "ham",
          "ham",
          "ham",
          "ham",
          "ham",
          "ham",
          "ham",
          "ham",
          "ham",
          "ham",
          "ham",
          "ham",
          "ham",
          "ham",
          "ham",
          "ham",
          "ham",
          "ham",
          "ham",
          "ham",
          "ham",
          "ham",
          "ham",
          "ham",
          "ham",
          "ham",
          "ham",
          "ham",
          "ham",
          "ham",
          "ham",
          "ham",
          "ham",
          "ham",
          "ham",
          "ham",
          "ham",
          "ham",
          "ham",
          "ham",
          "ham",
          "ham",
          "ham",
          "ham",
          "ham",
          "ham",
          "ham",
          "ham",
          "ham",
          "ham",
          "ham",
          "ham",
          "ham",
          "ham",
          "ham",
          "ham",
          "ham",
          "ham",
          "ham",
          "ham",
          "ham",
          "ham",
          "ham",
          "ham",
          "ham",
          "ham",
          "ham",
          "ham",
          "ham",
          "ham",
          "ham",
          "ham",
          "ham",
          "ham",
          "ham",
          "ham",
          "ham",
          "ham",
          "ham",
          "ham",
          "ham",
          "ham",
          "ham",
          "ham",
          "ham",
          "ham",
          "ham",
          "ham",
          "ham",
          "ham",
          "ham",
          "ham",
          "ham",
          "ham",
          "ham",
          "ham",
          "ham",
          "ham",
          "ham",
          "ham",
          "ham",
          "ham",
          "ham",
          "ham",
          "ham",
          "ham",
          "ham",
          "ham",
          "ham",
          "ham",
          "ham",
          "ham",
          "ham",
          "ham",
          "ham",
          "ham",
          "ham",
          "ham",
          "ham",
          "ham",
          "ham",
          "ham",
          "ham",
          "ham",
          "ham",
          "ham",
          "ham",
          "ham",
          "ham",
          "ham",
          "ham",
          "ham",
          "ham",
          "ham",
          "ham",
          "ham",
          "ham",
          "ham",
          "ham",
          "ham",
          "ham",
          "ham",
          "ham",
          "ham",
          "ham",
          "ham",
          "ham",
          "ham",
          "ham",
          "ham",
          "ham",
          "ham",
          "ham",
          "ham",
          "ham",
          "ham",
          "ham",
          "ham",
          "ham",
          "ham",
          "ham",
          "ham",
          "ham",
          "ham",
          "ham",
          "ham",
          "ham",
          "ham",
          "ham",
          "ham",
          "ham",
          "ham",
          "ham",
          "ham",
          "ham",
          "ham",
          "ham",
          "ham",
          "ham",
          "ham",
          "ham",
          "ham",
          "ham",
          "ham",
          "ham",
          "ham",
          "ham",
          "ham",
          "ham",
          "ham",
          "ham",
          "ham",
          "ham",
          "ham",
          "ham",
          "ham",
          "ham",
          "ham",
          "ham",
          "ham",
          "ham",
          "ham",
          "ham",
          "ham",
          "ham",
          "ham",
          "ham",
          "ham",
          "ham",
          "ham",
          "ham",
          "ham",
          "ham",
          "ham",
          "ham",
          "ham",
          "ham",
          "ham",
          "ham",
          "ham",
          "ham",
          "ham",
          "ham",
          "ham",
          "ham",
          "ham",
          "ham",
          "ham",
          "ham",
          "ham",
          "ham",
          "ham",
          "ham",
          "ham",
          "ham",
          "ham",
          "ham",
          "ham",
          "ham",
          "ham",
          "ham",
          "ham",
          "ham",
          "ham",
          "ham",
          "ham",
          "ham",
          "ham",
          "ham",
          "ham",
          "ham",
          "ham",
          "ham",
          "ham",
          "ham",
          "ham",
          "ham",
          "ham",
          "ham",
          "ham",
          "ham",
          "ham",
          "ham",
          "ham",
          "ham",
          "ham",
          "ham",
          "ham",
          "ham",
          "ham",
          "ham",
          "ham",
          "ham",
          "ham",
          "ham",
          "ham",
          "ham",
          "ham",
          "ham",
          "ham",
          "ham",
          "ham",
          "ham",
          "ham",
          "ham",
          "ham",
          "ham",
          "ham",
          "ham",
          "ham",
          "ham",
          "ham",
          "ham",
          "ham",
          "ham",
          "ham",
          "ham",
          "ham",
          "ham",
          "ham",
          "ham",
          "ham",
          "ham",
          "ham",
          "ham",
          "ham",
          "ham",
          "ham",
          "ham",
          "ham",
          "ham",
          "ham",
          "ham",
          "ham",
          "ham",
          "ham",
          "ham",
          "ham",
          "ham",
          "ham",
          "ham",
          "ham",
          "ham",
          "ham",
          "ham",
          "ham",
          "ham",
          "ham",
          "ham",
          "ham",
          "ham",
          "ham",
          "ham",
          "ham",
          "ham",
          "ham",
          "ham",
          "ham",
          "ham",
          "ham",
          "ham",
          "ham",
          "ham",
          "ham",
          "ham",
          "ham",
          "ham",
          "ham",
          "ham",
          "ham",
          "ham",
          "ham",
          "ham",
          "ham",
          "ham",
          "ham",
          "ham",
          "ham",
          "ham",
          "ham",
          "ham",
          "ham",
          "ham",
          "ham",
          "ham",
          "ham",
          "ham",
          "ham",
          "ham",
          "ham",
          "ham",
          "ham",
          "ham",
          "ham",
          "ham",
          "ham",
          "ham",
          "ham",
          "ham",
          "ham",
          "ham",
          "ham",
          "ham",
          "ham",
          "ham",
          "ham",
          "ham",
          "ham",
          "ham",
          "ham",
          "ham",
          "ham",
          "ham",
          "ham",
          "ham",
          "ham",
          "ham",
          "ham",
          "ham",
          "ham",
          "ham",
          "ham",
          "ham",
          "ham",
          "ham",
          "ham",
          "ham",
          "ham",
          "ham",
          "ham",
          "ham",
          "ham",
          "ham",
          "ham",
          "ham",
          "ham",
          "ham",
          "ham",
          "ham",
          "ham",
          "ham",
          "ham",
          "ham",
          "ham",
          "ham",
          "ham",
          "ham",
          "ham",
          "ham",
          "ham",
          "ham",
          "ham",
          "ham",
          "ham",
          "ham",
          "ham",
          "ham",
          "ham",
          "ham",
          "ham",
          "ham",
          "ham",
          "ham",
          "ham",
          "ham",
          "ham",
          "ham",
          "ham",
          "ham",
          "ham",
          "ham",
          "ham",
          "ham",
          "ham",
          "ham",
          "ham",
          "ham",
          "ham",
          "ham",
          "ham",
          "ham",
          "ham",
          "ham",
          "ham",
          "ham",
          "ham",
          "ham",
          "ham",
          "ham",
          "ham",
          "ham",
          "ham",
          "ham",
          "ham",
          "ham",
          "ham",
          "ham",
          "ham",
          "ham",
          "ham",
          "ham",
          "ham",
          "ham",
          "ham",
          "ham",
          "ham",
          "ham",
          "ham",
          "ham",
          "ham",
          "ham",
          "ham",
          "ham",
          "ham",
          "ham",
          "ham",
          "ham",
          "ham",
          "ham",
          "ham",
          "ham",
          "ham",
          "ham",
          "ham",
          "ham",
          "ham",
          "ham",
          "ham",
          "ham",
          "ham",
          "ham",
          "ham",
          "ham",
          "ham",
          "ham",
          "ham",
          "ham",
          "ham",
          "ham",
          "ham",
          "ham",
          "ham",
          "ham",
          "ham",
          "ham",
          "ham",
          "ham",
          "ham",
          "ham",
          "ham",
          "ham",
          "ham",
          "ham",
          "ham",
          "ham",
          "ham",
          "ham",
          "ham",
          "ham",
          "ham",
          "ham",
          "ham",
          "ham",
          "ham",
          "ham",
          "ham",
          "ham",
          "ham",
          "ham",
          "ham",
          "ham",
          "ham",
          "ham",
          "ham",
          "ham",
          "ham",
          "ham",
          "ham",
          "ham",
          "ham",
          "ham",
          "ham",
          "ham",
          "ham",
          "ham",
          "ham",
          "ham",
          "ham",
          "ham",
          "ham",
          "ham",
          "ham",
          "ham",
          "ham",
          "ham",
          "ham",
          "ham",
          "ham",
          "ham",
          "ham",
          "ham",
          "ham",
          "ham",
          "ham",
          "ham",
          "ham",
          "ham",
          "ham",
          "ham",
          "ham",
          "ham",
          "ham",
          "ham",
          "ham",
          "ham",
          "ham",
          "ham",
          "ham",
          "ham",
          "ham",
          "ham",
          "ham",
          "ham",
          "ham",
          "ham",
          "ham",
          "ham",
          "ham",
          "ham",
          "ham",
          "ham",
          "ham",
          "ham",
          "ham",
          "ham",
          "ham",
          "ham",
          "ham",
          "ham",
          "ham",
          "ham",
          "ham",
          "ham",
          "ham",
          "ham",
          "ham",
          "ham",
          "ham",
          "ham",
          "ham",
          "ham",
          "ham",
          "ham",
          "ham",
          "ham",
          "ham",
          "ham",
          "ham",
          "ham",
          "ham",
          "ham",
          "ham",
          "ham",
          "ham",
          "ham",
          "ham",
          "ham",
          "ham",
          "ham",
          "ham",
          "ham",
          "ham",
          "ham",
          "ham",
          "ham",
          "ham",
          "ham",
          "ham",
          "ham",
          "ham",
          "ham",
          "ham",
          "ham",
          "ham",
          "ham",
          "ham",
          "ham",
          "ham",
          "ham",
          "ham",
          "ham",
          "ham",
          "ham",
          "ham",
          "ham",
          "ham",
          "ham",
          "ham",
          "ham",
          "ham",
          "ham",
          "ham",
          "ham",
          "ham",
          "ham",
          "ham",
          "ham",
          "ham",
          "ham",
          "ham",
          "ham",
          "ham",
          "ham",
          "ham",
          "ham",
          "ham",
          "ham",
          "ham",
          "ham",
          "ham",
          "ham",
          "ham",
          "ham",
          "ham",
          "ham",
          "ham",
          "ham",
          "ham",
          "ham",
          "ham",
          "ham",
          "ham",
          "ham",
          "ham",
          "ham",
          "ham",
          "ham",
          "ham",
          "ham",
          "ham",
          "ham",
          "ham",
          "ham",
          "ham",
          "ham",
          "ham",
          "ham",
          "ham",
          "ham",
          "ham",
          "ham",
          "ham",
          "ham",
          "ham",
          "ham",
          "ham",
          "ham",
          "ham",
          "ham",
          "ham",
          "ham",
          "ham",
          "ham",
          "ham",
          "ham",
          "ham",
          "ham",
          "ham",
          "ham",
          "ham",
          "ham",
          "ham",
          "ham",
          "ham",
          "ham",
          "ham",
          "ham",
          "ham",
          "ham",
          "ham",
          "ham",
          "ham",
          "ham",
          "ham",
          "ham",
          "ham",
          "ham",
          "ham",
          "ham",
          "ham",
          "ham",
          "ham",
          "ham",
          "ham",
          "ham",
          "ham",
          "ham",
          "ham",
          "ham",
          "ham",
          "ham",
          "ham",
          "ham",
          "ham",
          "ham",
          "ham",
          "ham",
          "ham",
          "ham",
          "ham",
          "ham",
          "ham",
          "ham",
          "ham",
          "ham",
          "ham",
          "ham",
          "ham",
          "ham",
          "ham",
          "ham",
          "ham",
          "ham",
          "ham",
          "ham",
          "ham",
          "ham",
          "ham",
          "ham",
          "ham",
          "ham",
          "ham",
          "ham",
          "ham",
          "ham",
          "ham",
          "ham",
          "ham",
          "ham",
          "ham",
          "ham",
          "ham",
          "ham",
          "ham",
          "ham",
          "ham",
          "ham",
          "ham",
          "ham",
          "ham",
          "ham",
          "ham",
          "ham",
          "ham",
          "ham",
          "ham",
          "ham",
          "ham",
          "ham",
          "ham",
          "ham",
          "ham",
          "ham",
          "ham",
          "ham",
          "ham",
          "ham",
          "ham",
          "ham",
          "ham",
          "ham",
          "ham",
          "ham",
          "ham",
          "ham",
          "ham",
          "ham",
          "ham",
          "ham",
          "ham",
          "ham",
          "ham",
          "ham",
          "ham",
          "ham",
          "ham",
          "ham",
          "ham",
          "ham",
          "ham",
          "ham",
          "ham",
          "ham",
          "ham",
          "ham",
          "ham",
          "ham",
          "ham",
          "ham",
          "ham",
          "ham",
          "ham",
          "ham",
          "ham",
          "ham",
          "ham",
          "ham",
          "ham",
          "ham",
          "ham",
          "ham",
          "ham",
          "ham",
          "ham",
          "ham",
          "ham",
          "ham",
          "ham",
          "ham",
          "ham",
          "ham",
          "ham",
          "ham",
          "ham",
          "ham",
          "ham",
          "ham",
          "ham",
          "ham",
          "ham",
          "ham",
          "ham",
          "ham",
          "ham",
          "ham",
          "ham",
          "ham",
          "ham",
          "ham",
          "ham",
          "ham",
          "ham",
          "ham",
          "ham",
          "ham",
          "ham",
          "ham",
          "ham",
          "ham",
          "ham",
          "ham",
          "ham",
          "ham",
          "ham",
          "ham",
          "ham",
          "ham",
          "ham",
          "ham",
          "ham",
          "ham",
          "ham",
          "ham",
          "ham",
          "ham",
          "ham",
          "ham",
          "ham",
          "ham",
          "ham",
          "ham",
          "ham",
          "ham",
          "ham",
          "ham",
          "ham",
          "ham",
          "ham",
          "ham",
          "ham",
          "ham",
          "ham",
          "ham",
          "ham",
          "ham",
          "ham",
          "ham",
          "ham",
          "ham",
          "ham",
          "ham",
          "ham",
          "ham",
          "ham",
          "ham",
          "ham",
          "ham",
          "ham",
          "ham",
          "ham",
          "ham",
          "ham",
          "ham",
          "ham",
          "ham",
          "ham",
          "ham",
          "ham",
          "ham",
          "ham",
          "ham",
          "ham",
          "ham",
          "ham",
          "ham",
          "ham",
          "ham",
          "ham",
          "ham",
          "ham",
          "ham",
          "ham",
          "ham",
          "ham",
          "ham",
          "ham",
          "ham",
          "ham",
          "ham",
          "ham",
          "ham",
          "ham",
          "ham",
          "ham",
          "ham",
          "ham",
          "ham",
          "ham",
          "ham",
          "ham",
          "ham",
          "ham",
          "ham",
          "ham",
          "ham",
          "ham",
          "ham",
          "ham",
          "ham",
          "ham",
          "ham",
          "ham",
          "ham",
          "ham",
          "ham",
          "ham",
          "ham",
          "ham",
          "ham",
          "ham",
          "ham",
          "ham",
          "ham",
          "ham",
          "ham",
          "ham",
          "ham",
          "ham",
          "ham",
          "ham",
          "ham",
          "ham",
          "ham",
          "ham",
          "ham",
          "ham",
          "ham",
          "ham",
          "ham",
          "ham",
          "ham",
          "ham",
          "ham",
          "ham",
          "ham",
          "ham",
          "ham",
          "ham",
          "ham",
          "ham",
          "ham",
          "ham",
          "ham",
          "ham",
          "ham",
          "ham",
          "ham",
          "ham",
          "ham",
          "ham",
          "ham",
          "ham",
          "ham",
          "ham",
          "ham",
          "ham",
          "ham",
          "ham",
          "ham",
          "ham",
          "ham",
          "ham",
          "ham",
          "ham",
          "ham",
          "ham",
          "ham",
          "ham",
          "ham",
          "ham",
          "ham",
          "ham",
          "ham",
          "ham",
          "ham",
          "ham",
          "ham",
          "ham",
          "ham",
          "ham",
          "ham",
          "ham",
          "ham",
          "ham",
          "ham",
          "ham",
          "ham",
          "ham",
          "ham",
          "ham",
          "ham",
          "ham",
          "ham",
          "ham",
          "ham",
          "ham",
          "ham",
          "ham",
          "ham",
          "ham",
          "ham",
          "ham",
          "ham",
          "ham",
          "ham",
          "ham",
          "ham",
          "ham",
          "ham",
          "ham",
          "ham",
          "ham",
          "ham",
          "ham",
          "ham",
          "ham",
          "ham",
          "ham",
          "ham",
          "ham",
          "ham",
          "ham",
          "ham",
          "ham",
          "ham",
          "ham",
          "ham",
          "ham",
          "ham",
          "ham",
          "ham",
          "ham",
          "ham",
          "ham",
          "ham",
          "ham",
          "ham",
          "ham",
          "ham",
          "ham",
          "ham",
          "ham",
          "ham",
          "ham",
          "ham",
          "ham",
          "ham",
          "ham",
          "ham",
          "ham",
          "ham",
          "ham",
          "ham",
          "ham",
          "ham",
          "ham",
          "ham",
          "ham",
          "ham",
          "ham",
          "ham",
          "ham",
          "ham",
          "ham",
          "ham",
          "ham",
          "ham",
          "ham",
          "ham",
          "ham",
          "ham",
          "ham",
          "ham",
          "ham",
          "ham",
          "ham",
          "ham",
          "ham",
          "ham",
          "ham",
          "ham",
          "ham",
          "ham",
          "ham",
          "ham",
          "ham",
          "ham",
          "ham",
          "ham",
          "ham",
          "ham",
          "ham",
          "ham",
          "ham",
          "ham",
          "ham",
          "ham",
          "ham",
          "ham",
          "ham",
          "ham",
          "ham",
          "ham",
          "ham",
          "ham",
          "ham",
          "ham",
          "ham",
          "ham",
          "ham",
          "ham",
          "ham",
          "ham",
          "ham",
          "ham",
          "ham",
          "ham",
          "ham",
          "ham",
          "ham",
          "ham",
          "ham",
          "ham",
          "ham",
          "ham",
          "ham",
          "ham",
          "ham",
          "ham",
          "ham",
          "ham",
          "ham",
          "ham",
          "ham",
          "ham",
          "ham",
          "ham",
          "ham",
          "ham",
          "ham",
          "ham",
          "ham",
          "ham",
          "ham",
          "ham",
          "ham",
          "ham",
          "ham",
          "ham",
          "ham",
          "ham",
          "ham",
          "ham",
          "ham",
          "ham",
          "ham",
          "ham",
          "ham",
          "ham",
          "ham",
          "ham",
          "ham",
          "ham",
          "ham",
          "ham",
          "ham",
          "ham",
          "ham",
          "ham",
          "ham",
          "ham",
          "ham",
          "ham",
          "ham",
          "ham",
          "ham",
          "ham",
          "ham",
          "ham",
          "ham",
          "ham",
          "ham",
          "ham",
          "ham",
          "ham",
          "ham",
          "ham",
          "ham",
          "ham",
          "ham",
          "ham",
          "ham",
          "ham",
          "ham",
          "ham",
          "ham",
          "ham",
          "ham",
          "ham",
          "ham",
          "ham",
          "ham",
          "ham",
          "ham",
          "ham",
          "ham",
          "ham",
          "ham",
          "ham",
          "ham",
          "ham",
          "ham",
          "ham",
          "ham",
          "ham",
          "ham",
          "ham",
          "ham",
          "ham",
          "ham",
          "ham",
          "ham",
          "ham",
          "ham",
          "ham",
          "ham",
          "ham",
          "ham",
          "ham",
          "ham",
          "ham",
          "ham",
          "ham",
          "ham",
          "ham",
          "ham",
          "ham",
          "ham",
          "ham",
          "ham",
          "ham",
          "ham",
          "ham",
          "ham",
          "ham",
          "ham",
          "ham",
          "ham",
          "ham",
          "ham",
          "ham",
          "ham",
          "ham",
          "ham",
          "ham",
          "ham",
          "ham",
          "ham",
          "ham",
          "ham",
          "ham",
          "ham",
          "ham",
          "ham",
          "ham",
          "ham",
          "ham",
          "ham",
          "ham",
          "ham",
          "ham",
          "ham",
          "ham",
          "ham",
          "ham",
          "ham",
          "ham",
          "ham",
          "ham",
          "ham",
          "ham",
          "ham",
          "ham",
          "ham",
          "ham",
          "ham",
          "ham",
          "ham",
          "ham",
          "ham",
          "ham",
          "ham",
          "ham",
          "ham",
          "ham",
          "ham",
          "ham",
          "ham",
          "ham",
          "ham",
          "ham",
          "ham",
          "ham",
          "ham",
          "ham",
          "ham",
          "ham",
          "ham",
          "ham",
          "ham",
          "ham",
          "ham",
          "ham",
          "ham",
          "ham",
          "ham",
          "ham",
          "ham",
          "ham",
          "ham",
          "ham",
          "ham",
          "ham",
          "ham",
          "ham",
          "ham",
          "ham",
          "ham",
          "ham",
          "ham",
          "ham",
          "ham",
          "ham",
          "ham",
          "ham",
          "ham",
          "ham",
          "ham",
          "ham",
          "ham",
          "ham",
          "ham",
          "ham",
          "ham",
          "ham",
          "ham",
          "ham",
          "ham",
          "ham",
          "ham",
          "ham",
          "ham",
          "ham",
          "ham",
          "ham",
          "ham",
          "ham",
          "ham",
          "ham",
          "ham",
          "ham",
          "ham",
          "ham",
          "ham",
          "ham",
          "ham",
          "ham",
          "ham",
          "ham",
          "ham",
          "ham",
          "ham",
          "ham",
          "ham",
          "ham",
          "ham",
          "ham",
          "ham",
          "ham",
          "ham",
          "ham",
          "ham",
          "ham",
          "ham",
          "ham",
          "ham",
          "ham",
          "ham",
          "ham",
          "ham",
          "ham",
          "ham",
          "ham",
          "ham",
          "ham",
          "ham",
          "ham",
          "ham",
          "ham",
          "ham",
          "ham",
          "ham",
          "ham",
          "ham",
          "ham",
          "ham",
          "ham",
          "ham",
          "ham",
          "ham",
          "ham",
          "ham",
          "ham",
          "ham",
          "ham",
          "ham",
          "ham",
          "ham",
          "ham",
          "ham",
          "ham",
          "ham",
          "ham",
          "ham",
          "ham",
          "ham",
          "ham",
          "ham",
          "ham",
          "ham",
          "ham",
          "ham",
          "ham",
          "ham",
          "ham",
          "ham",
          "ham",
          "ham",
          "ham",
          "ham",
          "ham",
          "ham",
          "ham",
          "ham",
          "ham",
          "ham",
          "ham",
          "ham",
          "ham",
          "ham",
          "ham",
          "ham",
          "ham",
          "ham",
          "ham",
          "ham",
          "ham",
          "ham",
          "ham",
          "ham",
          "ham",
          "ham",
          "ham",
          "ham",
          "ham",
          "ham",
          "ham",
          "ham",
          "ham",
          "ham",
          "ham",
          "ham",
          "ham",
          "ham",
          "ham",
          "ham",
          "ham",
          "ham",
          "ham",
          "ham",
          "ham",
          "ham",
          "ham",
          "ham",
          "ham",
          "ham",
          "ham",
          "ham",
          "ham",
          "ham",
          "ham",
          "ham",
          "ham",
          "ham",
          "ham",
          "ham",
          "ham",
          "ham",
          "ham",
          "ham",
          "ham",
          "ham",
          "ham",
          "ham",
          "ham",
          "ham",
          "ham",
          "ham",
          "ham",
          "ham",
          "ham",
          "ham",
          "ham",
          "ham",
          "ham",
          "ham",
          "ham",
          "ham",
          "ham",
          "ham",
          "ham",
          "ham",
          "ham",
          "ham",
          "ham",
          "ham",
          "ham",
          "ham",
          "ham",
          "ham",
          "ham",
          "ham",
          "ham",
          "ham",
          "ham",
          "ham",
          "ham",
          "ham",
          "ham",
          "ham",
          "ham",
          "ham",
          "ham",
          "ham",
          "ham",
          "ham",
          "ham",
          "ham",
          "ham",
          "ham",
          "ham",
          "ham",
          "ham",
          "ham",
          "ham",
          "ham",
          "ham",
          "ham",
          "ham",
          "ham",
          "ham",
          "ham",
          "ham",
          "ham",
          "ham",
          "ham",
          "ham",
          "ham",
          "ham",
          "ham",
          "ham",
          "ham",
          "ham",
          "ham",
          "ham",
          "ham",
          "ham",
          "ham",
          "ham",
          "ham",
          "ham",
          "ham",
          "ham",
          "ham",
          "ham",
          "ham",
          "ham",
          "ham",
          "ham",
          "ham",
          "ham",
          "ham",
          "ham",
          "ham",
          "ham",
          "ham",
          "ham",
          "ham",
          "ham",
          "ham",
          "ham",
          "ham",
          "ham",
          "ham",
          "ham",
          "ham",
          "ham",
          "ham",
          "ham",
          "ham",
          "ham",
          "ham",
          "ham",
          "ham",
          "ham",
          "ham",
          "ham",
          "ham",
          "ham",
          "ham",
          "ham",
          "ham",
          "ham",
          "ham",
          "ham",
          "ham",
          "ham",
          "ham",
          "ham",
          "ham",
          "ham",
          "ham",
          "ham",
          "ham",
          "ham",
          "ham",
          "ham",
          "ham",
          "ham",
          "ham",
          "ham",
          "ham",
          "ham",
          "ham",
          "ham",
          "ham",
          "ham",
          "ham",
          "ham",
          "ham",
          "ham",
          "ham",
          "ham",
          "ham",
          "ham",
          "ham",
          "ham",
          "ham",
          "ham",
          "ham",
          "ham",
          "ham",
          "ham",
          "ham",
          "ham",
          "ham",
          "ham",
          "ham",
          "ham",
          "ham",
          "ham",
          "ham",
          "ham",
          "ham",
          "ham",
          "ham",
          "ham",
          "ham",
          "ham",
          "ham",
          "ham",
          "ham",
          "ham",
          "ham",
          "ham",
          "ham",
          "ham",
          "ham",
          "ham",
          "ham",
          "ham",
          "ham",
          "ham",
          "ham",
          "ham",
          "ham",
          "ham",
          "ham",
          "ham",
          "ham",
          "ham",
          "ham",
          "ham",
          "ham",
          "ham",
          "ham",
          "ham",
          "ham",
          "ham",
          "ham",
          "ham",
          "ham",
          "ham",
          "ham",
          "ham",
          "ham",
          "ham",
          "ham",
          "ham",
          "ham",
          "ham",
          "ham",
          "ham",
          "ham",
          "ham",
          "ham",
          "ham",
          "ham",
          "ham",
          "ham",
          "ham",
          "ham",
          "ham",
          "ham",
          "ham",
          "ham",
          "ham",
          "ham",
          "ham",
          "ham",
          "ham",
          "ham",
          "ham",
          "ham",
          "ham",
          "ham",
          "ham",
          "ham",
          "ham",
          "ham",
          "ham",
          "ham",
          "ham",
          "ham",
          "ham",
          "ham",
          "ham",
          "ham",
          "ham",
          "ham",
          "ham",
          "ham",
          "ham",
          "ham",
          "ham",
          "ham",
          "ham",
          "ham",
          "ham",
          "ham",
          "ham",
          "ham",
          "ham",
          "ham",
          "ham",
          "ham",
          "ham",
          "ham",
          "ham",
          "ham",
          "ham",
          "ham",
          "ham",
          "ham",
          "ham",
          "ham",
          "ham",
          "ham",
          "ham",
          "ham",
          "ham",
          "ham",
          "ham",
          "ham",
          "ham",
          "ham",
          "ham",
          "ham",
          "ham",
          "ham",
          "ham",
          "ham",
          "ham",
          "ham",
          "ham",
          "ham",
          "ham",
          "ham",
          "ham",
          "ham",
          "ham",
          "ham",
          "ham",
          "ham",
          "ham",
          "ham",
          "ham",
          "ham",
          "ham",
          "ham",
          "ham",
          "ham",
          "ham",
          "ham",
          "ham",
          "ham",
          "ham",
          "ham",
          "ham",
          "ham",
          "ham",
          "ham",
          "ham",
          "ham",
          "ham",
          "ham",
          "ham",
          "ham",
          "ham",
          "ham",
          "ham",
          "ham",
          "ham",
          "ham",
          "ham",
          "ham",
          "ham",
          "ham",
          "ham",
          "ham",
          "ham",
          "ham",
          "ham",
          "ham",
          "ham",
          "ham",
          "ham",
          "ham",
          "ham",
          "ham",
          "ham",
          "ham",
          "ham",
          "ham",
          "ham",
          "ham",
          "ham",
          "ham",
          "ham",
          "ham",
          "ham",
          "ham",
          "ham",
          "ham",
          "ham",
          "ham",
          "ham",
          "ham",
          "ham",
          "ham",
          "ham",
          "ham",
          "ham",
          "ham",
          "ham",
          "ham",
          "ham",
          "ham",
          "ham",
          "ham",
          "ham",
          "ham",
          "ham",
          "ham",
          "ham",
          "ham",
          "ham",
          "ham",
          "ham",
          "ham",
          "ham",
          "ham",
          "ham",
          "ham",
          "ham",
          "ham",
          "ham",
          "ham",
          "ham",
          "ham",
          "ham",
          "ham",
          "ham",
          "ham",
          "ham",
          "ham",
          "ham",
          "ham",
          "ham",
          "ham",
          "ham",
          "ham",
          "ham",
          "ham",
          "ham",
          "ham",
          "ham",
          "ham",
          "ham",
          "ham",
          "ham",
          "ham",
          "ham",
          "ham",
          "ham",
          "ham",
          "ham",
          "ham",
          "ham",
          "ham",
          "ham",
          "ham",
          "ham",
          "ham",
          "ham",
          "ham",
          "ham",
          "ham",
          "ham",
          "ham",
          "ham",
          "ham",
          "ham",
          "ham",
          "ham",
          "ham",
          "ham",
          "ham",
          "ham",
          "ham",
          "ham",
          "ham",
          "ham",
          "ham",
          "ham",
          "ham",
          "ham",
          "ham",
          "ham",
          "ham",
          "ham",
          "ham",
          "ham",
          "ham",
          "ham",
          "ham",
          "ham",
          "ham",
          "ham",
          "ham",
          "ham",
          "ham",
          "ham",
          "ham",
          "ham",
          "ham",
          "ham",
          "ham",
          "ham",
          "ham",
          "ham",
          "ham",
          "ham",
          "ham",
          "ham",
          "ham",
          "ham",
          "ham",
          "ham",
          "ham",
          "ham",
          "ham",
          "ham",
          "ham",
          "ham",
          "ham",
          "ham",
          "ham",
          "ham",
          "ham",
          "ham",
          "ham",
          "ham",
          "ham",
          "ham",
          "ham",
          "ham",
          "ham",
          "ham",
          "ham",
          "ham",
          "ham",
          "ham",
          "ham",
          "ham",
          "ham",
          "ham",
          "ham",
          "ham",
          "ham",
          "ham",
          "ham",
          "ham",
          "ham",
          "ham",
          "ham",
          "ham",
          "ham",
          "ham",
          "ham",
          "ham",
          "ham",
          "ham",
          "ham",
          "ham",
          "ham",
          "ham",
          "ham",
          "ham",
          "ham",
          "ham",
          "ham",
          "ham",
          "ham",
          "ham",
          "ham",
          "ham",
          "ham",
          "ham",
          "ham",
          "ham",
          "ham",
          "ham",
          "ham",
          "ham",
          "ham",
          "ham",
          "ham",
          "ham",
          "ham",
          "ham",
          "ham",
          "ham",
          "ham",
          "ham",
          "ham",
          "ham",
          "ham",
          "ham",
          "ham",
          "ham",
          "ham",
          "ham",
          "ham",
          "ham",
          "ham",
          "ham",
          "ham",
          "ham",
          "ham",
          "ham",
          "ham",
          "ham",
          "ham",
          "ham",
          "ham",
          "ham",
          "ham",
          "ham",
          "ham",
          "ham",
          "ham",
          "ham",
          "ham",
          "ham",
          "ham",
          "ham",
          "ham",
          "ham",
          "ham",
          "ham",
          "ham",
          "ham",
          "ham",
          "ham",
          "ham",
          "ham",
          "ham",
          "ham",
          "ham",
          "ham",
          "ham",
          "ham",
          "ham",
          "ham",
          "ham",
          "ham",
          "ham",
          "ham",
          "ham",
          "ham",
          "ham",
          "ham",
          "ham",
          "ham",
          "ham",
          "ham",
          "ham",
          "ham",
          "ham",
          "ham",
          "ham",
          "ham",
          "ham",
          "ham",
          "ham",
          "ham",
          "ham",
          "ham",
          "ham",
          "ham",
          "ham",
          "ham",
          "ham",
          "ham",
          "ham",
          "ham",
          "ham",
          "ham",
          "ham",
          "ham",
          "ham",
          "ham",
          "ham",
          "ham",
          "ham",
          "ham",
          "ham",
          "ham",
          "ham",
          "ham",
          "ham",
          "ham",
          "ham",
          "ham",
          "ham",
          "ham",
          "ham",
          "ham",
          "ham",
          "ham",
          "ham",
          "ham",
          "ham",
          "ham",
          "ham",
          "ham",
          "ham",
          "ham",
          "ham",
          "ham",
          "ham",
          "ham",
          "ham",
          "ham",
          "ham",
          "ham",
          "ham",
          "ham",
          "ham",
          "ham",
          "ham",
          "ham",
          "ham",
          "ham",
          "ham",
          "ham",
          "ham",
          "ham",
          "ham",
          "ham",
          "ham",
          "ham",
          "ham",
          "ham",
          "ham",
          "ham",
          "ham",
          "ham",
          "ham",
          "ham",
          "ham",
          "ham",
          "ham",
          "ham",
          "ham",
          "ham",
          "ham",
          "ham",
          "ham",
          "ham",
          "ham",
          "ham",
          "ham",
          "ham",
          "ham",
          "ham",
          "ham",
          "ham",
          "ham",
          "ham",
          "ham",
          "ham",
          "ham",
          "ham",
          "ham",
          "ham",
          "ham",
          "ham",
          "ham",
          "ham",
          "ham",
          "ham",
          "ham",
          "ham",
          "ham",
          "ham",
          "ham",
          "ham",
          "ham",
          "ham",
          "ham",
          "ham",
          "ham",
          "ham",
          "ham",
          "ham",
          "ham",
          "ham",
          "ham",
          "ham",
          "ham",
          "ham",
          "ham",
          "ham",
          "ham",
          "ham",
          "ham",
          "ham",
          "ham",
          "ham",
          "ham",
          "ham",
          "ham",
          "ham",
          "ham",
          "ham",
          "ham",
          "ham",
          "ham",
          "ham",
          "ham",
          "ham",
          "ham",
          "ham",
          "ham",
          "ham",
          "ham",
          "ham",
          "ham",
          "ham",
          "ham",
          "ham",
          "ham",
          "ham",
          "ham",
          "ham",
          "ham",
          "ham",
          "ham",
          "ham",
          "ham",
          "ham",
          "ham",
          "ham",
          "ham",
          "ham",
          "ham",
          "ham",
          "ham",
          "ham",
          "ham",
          "ham",
          "ham",
          "ham",
          "ham",
          "ham",
          "ham",
          "ham",
          "ham",
          "ham",
          "ham",
          "ham",
          "ham",
          "ham",
          "ham",
          "ham",
          "ham",
          "ham",
          "ham",
          "ham",
          "ham",
          "ham",
          "ham",
          "ham",
          "ham",
          "ham",
          "ham",
          "ham",
          "ham",
          "ham",
          "ham",
          "ham",
          "ham",
          "ham",
          "ham",
          "ham",
          "ham",
          "ham",
          "ham",
          "ham",
          "ham",
          "ham",
          "ham",
          "ham",
          "ham",
          "ham",
          "ham",
          "ham",
          "ham",
          "ham",
          "ham",
          "ham",
          "ham",
          "ham",
          "ham",
          "ham",
          "ham",
          "ham",
          "ham",
          "ham",
          "ham",
          "ham",
          "ham",
          "ham",
          "ham",
          "ham",
          "ham",
          "ham",
          "ham",
          "ham",
          "ham",
          "ham",
          "ham",
          "ham",
          "ham",
          "ham",
          "ham",
          "ham",
          "ham",
          "ham",
          "ham",
          "ham",
          "ham",
          "ham",
          "ham",
          "ham",
          "ham",
          "ham",
          "ham",
          "ham",
          "ham",
          "ham",
          "ham",
          "ham",
          "ham",
          "ham",
          "ham",
          "ham",
          "ham",
          "ham",
          "ham",
          "ham",
          "ham",
          "ham",
          "ham",
          "ham",
          "ham",
          "ham",
          "ham",
          "ham",
          "ham",
          "ham",
          "ham",
          "ham",
          "ham",
          "ham",
          "ham",
          "ham",
          "ham",
          "ham",
          "ham",
          "ham",
          "ham",
          "ham",
          "ham",
          "ham",
          "ham",
          "ham",
          "ham",
          "ham",
          "ham",
          "ham",
          "ham",
          "ham",
          "ham",
          "ham",
          "ham",
          "ham",
          "ham",
          "ham",
          "ham",
          "ham",
          "ham",
          "ham",
          "ham",
          "ham",
          "ham",
          "ham",
          "ham",
          "ham",
          "ham",
          "ham",
          "ham",
          "ham",
          "ham",
          "ham",
          "ham",
          "ham",
          "ham",
          "ham",
          "ham",
          "ham",
          "ham",
          "ham",
          "ham",
          "ham",
          "ham",
          "ham",
          "ham",
          "ham",
          "ham",
          "ham",
          "ham",
          "ham",
          "ham",
          "ham",
          "ham",
          "ham",
          "ham",
          "ham",
          "ham",
          "ham",
          "ham",
          "ham",
          "ham",
          "ham",
          "ham",
          "ham",
          "ham",
          "ham",
          "ham",
          "ham",
          "ham",
          "ham",
          "ham",
          "ham",
          "ham",
          "ham",
          "ham",
          "ham",
          "ham",
          "ham",
          "ham",
          "ham",
          "ham",
          "ham",
          "ham",
          "ham",
          "ham",
          "ham",
          "ham",
          "ham",
          "ham",
          "ham",
          "ham",
          "ham",
          "ham",
          "ham",
          "ham",
          "ham",
          "ham",
          "ham",
          "ham",
          "ham",
          "ham",
          "ham",
          "ham",
          "ham",
          "ham",
          "ham",
          "ham",
          "ham",
          "ham",
          "ham",
          "ham",
          "ham",
          "ham",
          "ham",
          "ham",
          "ham",
          "ham",
          "ham",
          "ham",
          "ham",
          "ham",
          "ham",
          "ham",
          "ham",
          "ham",
          "ham",
          "ham",
          "ham",
          "ham",
          "ham",
          "ham",
          "ham",
          "ham",
          "ham",
          "ham",
          "ham",
          "ham",
          "ham",
          "ham",
          "ham",
          "ham",
          "ham",
          "ham",
          "ham",
          "ham",
          "ham",
          "ham",
          "ham",
          "ham",
          "ham",
          "ham",
          "ham",
          "ham",
          "ham",
          "ham",
          "ham",
          "ham",
          "ham",
          "ham",
          "ham",
          "ham",
          "ham",
          "ham",
          "ham",
          "ham",
          "ham",
          "ham",
          "ham",
          "ham",
          "ham",
          "ham",
          "ham",
          "ham",
          "ham",
          "ham",
          "ham",
          "ham",
          "ham",
          "ham",
          "ham",
          "ham",
          "ham",
          "ham",
          "ham",
          "ham",
          "ham",
          "ham",
          "ham",
          "ham",
          "ham",
          "ham",
          "ham",
          "ham",
          "ham",
          "ham",
          "ham",
          "ham",
          "ham",
          "ham",
          "ham",
          "ham",
          "ham",
          "ham",
          "ham",
          "ham",
          "ham",
          "ham",
          "ham",
          "ham",
          "ham",
          "ham",
          "ham",
          "ham",
          "ham",
          "ham",
          "ham",
          "ham",
          "ham",
          "ham",
          "ham",
          "ham",
          "ham",
          "ham",
          "ham",
          "ham",
          "ham",
          "ham",
          "ham",
          "ham",
          "ham",
          "ham",
          "ham",
          "ham",
          "ham",
          "ham",
          "ham",
          "ham",
          "ham",
          "ham",
          "ham",
          "ham",
          "ham",
          "ham",
          "ham",
          "ham",
          "ham",
          "ham",
          "ham",
          "ham",
          "ham",
          "ham",
          "ham",
          "ham",
          "ham",
          "ham",
          "ham",
          "ham",
          "ham",
          "ham",
          "ham",
          "ham",
          "ham",
          "ham",
          "ham",
          "ham",
          "ham",
          "ham",
          "ham",
          "ham",
          "ham",
          "ham",
          "ham",
          "ham",
          "ham",
          "ham",
          "ham",
          "ham",
          "ham",
          "ham",
          "ham",
          "ham",
          "ham",
          "ham",
          "ham",
          "ham",
          "ham",
          "ham",
          "ham",
          "ham",
          "ham",
          "ham",
          "ham",
          "ham",
          "ham",
          "ham",
          "ham",
          "ham",
          "ham",
          "ham",
          "ham",
          "ham",
          "ham",
          "ham",
          "ham",
          "ham",
          "ham",
          "ham",
          "ham",
          "ham",
          "ham",
          "ham",
          "ham",
          "ham",
          "ham",
          "ham",
          "ham",
          "ham",
          "ham",
          "ham",
          "ham",
          "ham",
          "ham",
          "ham",
          "ham",
          "ham",
          "ham",
          "ham",
          "ham",
          "ham",
          "ham",
          "ham",
          "ham",
          "ham",
          "ham",
          "ham",
          "ham",
          "ham",
          "ham",
          "ham",
          "ham",
          "ham",
          "ham",
          "ham",
          "ham",
          "ham",
          "ham",
          "ham",
          "ham",
          "ham",
          "ham",
          "ham",
          "ham",
          "ham",
          "ham",
          "ham",
          "ham",
          "ham",
          "ham",
          "ham",
          "ham",
          "ham",
          "ham",
          "ham",
          "ham",
          "ham",
          "ham",
          "ham",
          "ham",
          "ham",
          "ham",
          "ham",
          "ham",
          "ham",
          "ham",
          "ham",
          "ham",
          "ham",
          "ham",
          "ham",
          "ham",
          "ham",
          "ham",
          "ham",
          "ham",
          "ham",
          "ham",
          "ham",
          "ham",
          "ham",
          "ham",
          "ham",
          "ham",
          "ham",
          "ham",
          "ham",
          "ham",
          "ham",
          "ham",
          "ham",
          "ham",
          "ham",
          "ham",
          "ham",
          "ham",
          "ham",
          "ham",
          "ham",
          "ham",
          "ham",
          "ham",
          "ham",
          "ham",
          "ham",
          "ham",
          "ham",
          "ham",
          "ham",
          "ham",
          "ham",
          "ham",
          "ham",
          "ham",
          "ham",
          "ham",
          "ham",
          "ham",
          "ham",
          "ham",
          "ham",
          "ham",
          "ham",
          "ham",
          "ham",
          "ham",
          "ham",
          "ham",
          "ham",
          "ham",
          "ham",
          "ham",
          "ham",
          "ham",
          "ham",
          "ham",
          "ham",
          "ham",
          "ham",
          "ham",
          "ham",
          "ham",
          "ham",
          "ham",
          "ham",
          "ham",
          "ham",
          "ham",
          "ham",
          "ham",
          "ham",
          "ham",
          "ham",
          "ham",
          "ham",
          "ham",
          "ham",
          "ham",
          "ham",
          "ham",
          "ham",
          "ham",
          "ham",
          "ham",
          "ham",
          "ham",
          "ham",
          "ham",
          "ham",
          "ham",
          "ham",
          "ham",
          "ham",
          "ham",
          "ham",
          "ham",
          "ham",
          "ham",
          "ham",
          "ham",
          "ham",
          "ham",
          "ham",
          "ham",
          "ham",
          "ham",
          "ham",
          "ham",
          "ham",
          "ham",
          "ham",
          "ham",
          "ham",
          "ham",
          "ham",
          "ham",
          "ham",
          "ham",
          "ham",
          "ham",
          "ham",
          "ham",
          "ham",
          "ham",
          "ham",
          "ham",
          "ham",
          "ham",
          "ham",
          "ham",
          "ham",
          "ham",
          "ham",
          "ham",
          "ham",
          "ham",
          "ham",
          "ham",
          "ham",
          "ham",
          "ham",
          "ham",
          "ham",
          "ham",
          "ham",
          "ham",
          "ham",
          "ham",
          "ham",
          "ham",
          "ham",
          "ham",
          "ham",
          "ham",
          "ham",
          "ham",
          "ham",
          "ham",
          "ham",
          "ham",
          "ham",
          "ham",
          "ham",
          "ham",
          "ham",
          "ham",
          "ham",
          "ham",
          "ham",
          "ham",
          "ham",
          "ham",
          "ham",
          "ham",
          "ham",
          "ham",
          "ham",
          "ham",
          "ham",
          "ham",
          "ham",
          "ham",
          "ham",
          "ham",
          "ham",
          "ham",
          "ham",
          "ham",
          "ham",
          "ham",
          "ham",
          "ham",
          "ham",
          "ham",
          "ham",
          "ham",
          "ham",
          "ham",
          "ham",
          "ham",
          "ham",
          "ham",
          "ham",
          "ham",
          "ham",
          "ham",
          "ham",
          "ham",
          "ham",
          "ham",
          "ham",
          "ham",
          "ham",
          "ham",
          "ham",
          "ham",
          "ham",
          "ham",
          "ham",
          "ham",
          "ham",
          "ham",
          "ham",
          "ham",
          "ham",
          "ham",
          "ham",
          "ham",
          "ham",
          "ham",
          "ham",
          "ham",
          "ham",
          "ham",
          "ham",
          "ham",
          "ham",
          "ham",
          "ham",
          "ham",
          "ham",
          "ham",
          "ham",
          "ham",
          "ham",
          "ham",
          "ham",
          "ham",
          "ham",
          "ham",
          "ham",
          "ham",
          "ham",
          "ham",
          "ham",
          "ham",
          "ham",
          "ham",
          "ham",
          "ham",
          "ham",
          "ham",
          "ham",
          "ham",
          "ham",
          "ham",
          "ham",
          "ham",
          "ham",
          "ham",
          "ham",
          "ham",
          "ham",
          "ham",
          "ham",
          "ham",
          "ham",
          "ham",
          "ham",
          "ham",
          "ham",
          "ham",
          "ham",
          "ham",
          "ham",
          "ham",
          "ham",
          "ham",
          "ham",
          "ham",
          "ham",
          "ham",
          "ham",
          "ham",
          "ham",
          "ham",
          "ham",
          "ham",
          "ham",
          "ham",
          "ham",
          "ham",
          "ham",
          "ham",
          "ham",
          "ham",
          "ham",
          "ham",
          "ham",
          "ham",
          "ham",
          "ham",
          "ham",
          "ham",
          "ham",
          "ham",
          "ham",
          "ham",
          "ham",
          "ham",
          "ham",
          "ham"
         ],
         "x0": " ",
         "xaxis": "x",
         "y": {
          "bdata": "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",
          "dtype": "i2"
         },
         "y0": " ",
         "yaxis": "y"
        },
        {
         "alignmentgroup": "True",
         "hovertemplate": "Category=%{x}<br>Length=%{y}<extra></extra>",
         "legendgroup": "spam",
         "marker": {
          "color": "#ff9999"
         },
         "name": "spam",
         "notched": false,
         "offsetgroup": "spam",
         "orientation": "v",
         "showlegend": true,
         "type": "box",
         "x": [
          "spam",
          "spam",
          "spam",
          "spam",
          "spam",
          "spam",
          "spam",
          "spam",
          "spam",
          "spam",
          "spam",
          "spam",
          "spam",
          "spam",
          "spam",
          "spam",
          "spam",
          "spam",
          "spam",
          "spam",
          "spam",
          "spam",
          "spam",
          "spam",
          "spam",
          "spam",
          "spam",
          "spam",
          "spam",
          "spam",
          "spam",
          "spam",
          "spam",
          "spam",
          "spam",
          "spam",
          "spam",
          "spam",
          "spam",
          "spam",
          "spam",
          "spam",
          "spam",
          "spam",
          "spam",
          "spam",
          "spam",
          "spam",
          "spam",
          "spam",
          "spam",
          "spam",
          "spam",
          "spam",
          "spam",
          "spam",
          "spam",
          "spam",
          "spam",
          "spam",
          "spam",
          "spam",
          "spam",
          "spam",
          "spam",
          "spam",
          "spam",
          "spam",
          "spam",
          "spam",
          "spam",
          "spam",
          "spam",
          "spam",
          "spam",
          "spam",
          "spam",
          "spam",
          "spam",
          "spam",
          "spam",
          "spam",
          "spam",
          "spam",
          "spam",
          "spam",
          "spam",
          "spam",
          "spam",
          "spam",
          "spam",
          "spam",
          "spam",
          "spam",
          "spam",
          "spam",
          "spam",
          "spam",
          "spam",
          "spam",
          "spam",
          "spam",
          "spam",
          "spam",
          "spam",
          "spam",
          "spam",
          "spam",
          "spam",
          "spam",
          "spam",
          "spam",
          "spam",
          "spam",
          "spam",
          "spam",
          "spam",
          "spam",
          "spam",
          "spam",
          "spam",
          "spam",
          "spam",
          "spam",
          "spam",
          "spam",
          "spam",
          "spam",
          "spam",
          "spam",
          "spam",
          "spam",
          "spam",
          "spam",
          "spam",
          "spam",
          "spam",
          "spam",
          "spam",
          "spam",
          "spam",
          "spam",
          "spam",
          "spam",
          "spam",
          "spam",
          "spam",
          "spam",
          "spam",
          "spam",
          "spam",
          "spam",
          "spam",
          "spam",
          "spam",
          "spam",
          "spam",
          "spam",
          "spam",
          "spam",
          "spam",
          "spam",
          "spam",
          "spam",
          "spam",
          "spam",
          "spam",
          "spam",
          "spam",
          "spam",
          "spam",
          "spam",
          "spam",
          "spam",
          "spam",
          "spam",
          "spam",
          "spam",
          "spam",
          "spam",
          "spam",
          "spam",
          "spam",
          "spam",
          "spam",
          "spam",
          "spam",
          "spam",
          "spam",
          "spam",
          "spam",
          "spam",
          "spam",
          "spam",
          "spam",
          "spam",
          "spam",
          "spam",
          "spam",
          "spam",
          "spam",
          "spam",
          "spam",
          "spam",
          "spam",
          "spam",
          "spam",
          "spam",
          "spam",
          "spam",
          "spam",
          "spam",
          "spam",
          "spam",
          "spam",
          "spam",
          "spam",
          "spam",
          "spam",
          "spam",
          "spam",
          "spam",
          "spam",
          "spam",
          "spam",
          "spam",
          "spam",
          "spam",
          "spam",
          "spam",
          "spam",
          "spam",
          "spam",
          "spam",
          "spam",
          "spam",
          "spam",
          "spam",
          "spam",
          "spam",
          "spam",
          "spam",
          "spam",
          "spam",
          "spam",
          "spam",
          "spam",
          "spam",
          "spam",
          "spam",
          "spam",
          "spam",
          "spam",
          "spam",
          "spam",
          "spam",
          "spam",
          "spam",
          "spam",
          "spam",
          "spam",
          "spam",
          "spam",
          "spam",
          "spam",
          "spam",
          "spam",
          "spam",
          "spam",
          "spam",
          "spam",
          "spam",
          "spam",
          "spam",
          "spam",
          "spam",
          "spam",
          "spam",
          "spam",
          "spam",
          "spam",
          "spam",
          "spam",
          "spam",
          "spam",
          "spam",
          "spam",
          "spam",
          "spam",
          "spam",
          "spam",
          "spam",
          "spam",
          "spam",
          "spam",
          "spam",
          "spam",
          "spam",
          "spam",
          "spam",
          "spam",
          "spam",
          "spam",
          "spam",
          "spam",
          "spam",
          "spam",
          "spam",
          "spam",
          "spam",
          "spam",
          "spam",
          "spam",
          "spam",
          "spam",
          "spam",
          "spam",
          "spam",
          "spam",
          "spam",
          "spam",
          "spam",
          "spam",
          "spam",
          "spam",
          "spam",
          "spam",
          "spam",
          "spam",
          "spam",
          "spam",
          "spam",
          "spam",
          "spam",
          "spam",
          "spam",
          "spam",
          "spam",
          "spam",
          "spam",
          "spam",
          "spam",
          "spam",
          "spam",
          "spam",
          "spam",
          "spam",
          "spam",
          "spam",
          "spam",
          "spam",
          "spam",
          "spam",
          "spam",
          "spam",
          "spam",
          "spam",
          "spam",
          "spam",
          "spam",
          "spam",
          "spam",
          "spam",
          "spam",
          "spam",
          "spam",
          "spam",
          "spam",
          "spam",
          "spam",
          "spam",
          "spam",
          "spam",
          "spam",
          "spam",
          "spam",
          "spam",
          "spam",
          "spam",
          "spam",
          "spam",
          "spam",
          "spam",
          "spam",
          "spam",
          "spam",
          "spam",
          "spam",
          "spam",
          "spam",
          "spam",
          "spam",
          "spam",
          "spam",
          "spam",
          "spam",
          "spam",
          "spam",
          "spam",
          "spam",
          "spam",
          "spam",
          "spam",
          "spam",
          "spam",
          "spam",
          "spam",
          "spam",
          "spam",
          "spam",
          "spam",
          "spam",
          "spam",
          "spam",
          "spam",
          "spam",
          "spam",
          "spam",
          "spam",
          "spam",
          "spam",
          "spam",
          "spam",
          "spam",
          "spam",
          "spam",
          "spam",
          "spam",
          "spam",
          "spam",
          "spam",
          "spam",
          "spam",
          "spam",
          "spam",
          "spam",
          "spam",
          "spam",
          "spam",
          "spam",
          "spam",
          "spam",
          "spam",
          "spam",
          "spam",
          "spam",
          "spam",
          "spam",
          "spam",
          "spam",
          "spam",
          "spam",
          "spam",
          "spam",
          "spam",
          "spam",
          "spam",
          "spam",
          "spam",
          "spam",
          "spam",
          "spam",
          "spam",
          "spam",
          "spam",
          "spam",
          "spam",
          "spam",
          "spam",
          "spam",
          "spam",
          "spam",
          "spam",
          "spam",
          "spam",
          "spam",
          "spam",
          "spam",
          "spam",
          "spam",
          "spam",
          "spam",
          "spam",
          "spam",
          "spam",
          "spam",
          "spam",
          "spam",
          "spam",
          "spam",
          "spam",
          "spam",
          "spam",
          "spam",
          "spam",
          "spam",
          "spam",
          "spam",
          "spam",
          "spam",
          "spam",
          "spam",
          "spam",
          "spam",
          "spam",
          "spam",
          "spam",
          "spam",
          "spam",
          "spam",
          "spam",
          "spam",
          "spam",
          "spam",
          "spam",
          "spam",
          "spam",
          "spam",
          "spam",
          "spam",
          "spam",
          "spam",
          "spam",
          "spam",
          "spam",
          "spam",
          "spam",
          "spam",
          "spam",
          "spam",
          "spam",
          "spam",
          "spam",
          "spam",
          "spam",
          "spam",
          "spam",
          "spam",
          "spam",
          "spam",
          "spam",
          "spam",
          "spam",
          "spam",
          "spam",
          "spam",
          "spam",
          "spam",
          "spam",
          "spam",
          "spam",
          "spam",
          "spam",
          "spam",
          "spam",
          "spam",
          "spam",
          "spam",
          "spam",
          "spam",
          "spam",
          "spam",
          "spam",
          "spam",
          "spam",
          "spam",
          "spam",
          "spam",
          "spam",
          "spam",
          "spam",
          "spam",
          "spam",
          "spam",
          "spam",
          "spam",
          "spam",
          "spam",
          "spam",
          "spam",
          "spam",
          "spam",
          "spam",
          "spam",
          "spam",
          "spam",
          "spam",
          "spam",
          "spam",
          "spam",
          "spam",
          "spam",
          "spam",
          "spam",
          "spam",
          "spam",
          "spam",
          "spam",
          "spam",
          "spam",
          "spam",
          "spam",
          "spam",
          "spam",
          "spam",
          "spam",
          "spam",
          "spam",
          "spam",
          "spam",
          "spam",
          "spam",
          "spam",
          "spam",
          "spam",
          "spam",
          "spam",
          "spam",
          "spam",
          "spam",
          "spam",
          "spam",
          "spam",
          "spam",
          "spam",
          "spam",
          "spam",
          "spam",
          "spam",
          "spam",
          "spam",
          "spam",
          "spam",
          "spam",
          "spam",
          "spam",
          "spam",
          "spam",
          "spam",
          "spam",
          "spam",
          "spam",
          "spam",
          "spam",
          "spam",
          "spam",
          "spam",
          "spam",
          "spam",
          "spam",
          "spam",
          "spam",
          "spam",
          "spam",
          "spam",
          "spam",
          "spam",
          "spam",
          "spam",
          "spam",
          "spam",
          "spam",
          "spam",
          "spam",
          "spam",
          "spam",
          "spam",
          "spam",
          "spam",
          "spam",
          "spam",
          "spam",
          "spam",
          "spam",
          "spam",
          "spam",
          "spam",
          "spam",
          "spam",
          "spam",
          "spam",
          "spam",
          "spam",
          "spam",
          "spam",
          "spam",
          "spam",
          "spam",
          "spam",
          "spam",
          "spam",
          "spam",
          "spam",
          "spam",
          "spam",
          "spam",
          "spam",
          "spam",
          "spam",
          "spam",
          "spam",
          "spam",
          "spam",
          "spam",
          "spam",
          "spam",
          "spam",
          "spam",
          "spam",
          "spam",
          "spam",
          "spam",
          "spam",
          "spam",
          "spam",
          "spam",
          "spam",
          "spam",
          "spam",
          "spam",
          "spam",
          "spam",
          "spam",
          "spam",
          "spam",
          "spam",
          "spam",
          "spam",
          "spam",
          "spam",
          "spam",
          "spam",
          "spam",
          "spam",
          "spam",
          "spam",
          "spam",
          "spam",
          "spam",
          "spam",
          "spam",
          "spam",
          "spam",
          "spam",
          "spam",
          "spam",
          "spam"
         ],
         "x0": " ",
         "xaxis": "x",
         "y": {
          "bdata": "mwCTAJ0AmgCIAJsAlQCbAJ4ArAB4AKAAmACfAE4AiQCeAJ4AlwCQAJwAnAB9AKIAmwCfAHwAkQCYAJsAnACTAEgAjgCJAJ0AkQCWAJoAeQCfAIUAmwCfAJIAigCFAJ0AgACeAG8AlgCUAKUAgQCdAJUAmwCcADEAagCfAKIAiACdAKIArwChAJ8AkgCgAAcAkwCSAFkAkACeAG8AkQBgAJ4ARQBjAJUAfgCOAJQAVgCGAIwAggCUAI8AiABhADsAXQCZAJ4AbwCbAKAAJQAHAJEAZQCUAIMAZgBBAF8AnwCVAGMAgQCdAKAAmACiAI0AlACFAJwAoQCTAJgAlQCbAKAAmACeAJAAoACVAIYAmgCcAIgAhACPAH8AngCiAJsAiwCeAJQAhACJACkAnACNAJMAlgCeAJwAZQBoAIcAmACPAIYAnABaAJgAkQCNAJ8ARQCcAJkAnABoAHgAngBzAIsAmwCfAJoAMQCRAJQAMgCPAJEAnwB6AFEAeACSAEIAogCbAIoAfQCaAGUAlwCZAJ8AjwCjAI8AlgBHAIwAjQCfAJkAUQCYAJ4AoACCAJoAegB5AJ0AngCWAJwAkQCVAIgAkQCPAJkAhABHAJIAoQCbAKAAegCSAJ8AnQBJAKwAcgB9AJQAkQCKAN8AngCbAI4AogAhAJoAogCaAIQAmgCXAKEAngCZAHMAVACbAIQAmgCYAKMAnACPAJ4AkACNAJ8AoACcAEoAgwBnAJkAgQCPAHYAnQCbAJgAngChAJUAoQAeAJsAnwCQAJ8AmgCdAKEAnwAHAIkAmgChAJMAnACYAJ4AnwCaAJwAtQCfAJwAmwCgAHkAIQCfADAAtwCgAJEAoACWAJ0AcgCmAKAAdgBSAJUAoQCeAJ0AbQChAJgAngCYAJ0AmAB5AJ8AdACnAJUAngBjAGUAnABGAKAAmQCFAIIAmQCIAJoArQBqAJkAkgCCAKUAogCCAIgAnQCYAJ4AGACcAKAAdgCHAJcApQCeAJsAjQB8AHsAfgAhAJ0AoACIAJgAnQCgAG4AnQCXADQAmACMAJgAowCLAIgAlAAwAGQAdwCTAIcAnwBqAJMAegCGAG4AogBuAJgAmACNAJMAeQCMAHAAjwCLAJwAkACRAKAAlwBlAHIAngCZAJIAngCdAIgAjgCcAK0AMgCKAGkAnACGACgAkgCMAE4AlQCgAFEAfgCYAJ0AiACdAJgAQACgAJ0AoABqAIsAmQCZAGUAnACUAIwAoQCcAJUAnQCYAKEAnABEAIIAhQCQAJUAjgCbAJ0AcgClAJwAmACbAJsAlgCxAJ0AcgDFAJwADQCTAGUAbQCeAIgAngBWAJsAnACeAJ4AdgCgAKEAlwCKAG0AagBgAJcAlgCZAHgAgACRAFYAnQBkAHIAiQCGAJIAoAASAD8AiQBfAI8AngChAJMASQCeAJ4AkwAtAJwAmgCeAJQAjABqAHIAmgCUAIcApgCEAHoAjQCdAJgAkgCgAJ8AkACaAHAAnQCPAJUAngCbAJMAnQBIAJ0AnwCHAGkASgCcAJgAiACjAJ0ASgCbAFEAigCgAIYAoQCRAKMAfgCHAIQAkQCQAJwASACEAFEAiQCfAJUALwBBAHsAngBJADMAoQCiAKAAjwCcAI4AcwCfAJgAfgCeAJ4AmwCQAGwAiQClAI8AmwCbAIgAmACgAJoAhACZAI8AmgBqAKAAmwCPAIoAWQCSAIcAngCZAEUAlwCYAIcAhgCfAF8AiQCTAJQAhACRAIYAtQCbAJkAnwB8AHYAiQCMAJkAnwCHAIoArwClAJoAmgCSAIUAfgCVAIcAbQCfAJEAggCgAIcAggCeAJUAmQAvAJ4AnAAsAKIAogCbAKAAdwCOAJwAlQCXAKIAoACIAJIAngCaAH4AkACPAJsAmgCaAJwAnABwAGoAmwCcAIsAWgCfACoAagCiAEYAbACdAJMAUwCbAI4AlACRAKAAngCUAJgAhgBaAJ4AoACTAKAA",
          "dtype": "i2"
         },
         "y0": " ",
         "yaxis": "y"
        }
       ],
       "layout": {
        "boxmode": "overlay",
        "font": {
         "size": 14
        },
        "legend": {
         "title": {
          "text": "Category"
         },
         "tracegroupgap": 0
        },
        "template": {
         "data": {
          "bar": [
           {
            "error_x": {
             "color": "#2a3f5f"
            },
            "error_y": {
             "color": "#2a3f5f"
            },
            "marker": {
             "line": {
              "color": "#E5ECF6",
              "width": 0.5
             },
             "pattern": {
              "fillmode": "overlay",
              "size": 10,
              "solidity": 0.2
             }
            },
            "type": "bar"
           }
          ],
          "barpolar": [
           {
            "marker": {
             "line": {
              "color": "#E5ECF6",
              "width": 0.5
             },
             "pattern": {
              "fillmode": "overlay",
              "size": 10,
              "solidity": 0.2
             }
            },
            "type": "barpolar"
           }
          ],
          "carpet": [
           {
            "aaxis": {
             "endlinecolor": "#2a3f5f",
             "gridcolor": "white",
             "linecolor": "white",
             "minorgridcolor": "white",
             "startlinecolor": "#2a3f5f"
            },
            "baxis": {
             "endlinecolor": "#2a3f5f",
             "gridcolor": "white",
             "linecolor": "white",
             "minorgridcolor": "white",
             "startlinecolor": "#2a3f5f"
            },
            "type": "carpet"
           }
          ],
          "choropleth": [
           {
            "colorbar": {
             "outlinewidth": 0,
             "ticks": ""
            },
            "type": "choropleth"
           }
          ],
          "contour": [
           {
            "colorbar": {
             "outlinewidth": 0,
             "ticks": ""
            },
            "colorscale": [
             [
              0.0,
              "#0d0887"
             ],
             [
              0.1111111111111111,
              "#46039f"
             ],
             [
              0.2222222222222222,
              "#7201a8"
             ],
             [
              0.3333333333333333,
              "#9c179e"
             ],
             [
              0.4444444444444444,
              "#bd3786"
             ],
             [
              0.5555555555555556,
              "#d8576b"
             ],
             [
              0.6666666666666666,
              "#ed7953"
             ],
             [
              0.7777777777777778,
              "#fb9f3a"
             ],
             [
              0.8888888888888888,
              "#fdca26"
             ],
             [
              1.0,
              "#f0f921"
             ]
            ],
            "type": "contour"
           }
          ],
          "contourcarpet": [
           {
            "colorbar": {
             "outlinewidth": 0,
             "ticks": ""
            },
            "type": "contourcarpet"
           }
          ],
          "heatmap": [
           {
            "colorbar": {
             "outlinewidth": 0,
             "ticks": ""
            },
            "colorscale": [
             [
              0.0,
              "#0d0887"
             ],
             [
              0.1111111111111111,
              "#46039f"
             ],
             [
              0.2222222222222222,
              "#7201a8"
             ],
             [
              0.3333333333333333,
              "#9c179e"
             ],
             [
              0.4444444444444444,
              "#bd3786"
             ],
             [
              0.5555555555555556,
              "#d8576b"
             ],
             [
              0.6666666666666666,
              "#ed7953"
             ],
             [
              0.7777777777777778,
              "#fb9f3a"
             ],
             [
              0.8888888888888888,
              "#fdca26"
             ],
             [
              1.0,
              "#f0f921"
             ]
            ],
            "type": "heatmap"
           }
          ],
          "histogram": [
           {
            "marker": {
             "pattern": {
              "fillmode": "overlay",
              "size": 10,
              "solidity": 0.2
             }
            },
            "type": "histogram"
           }
          ],
          "histogram2d": [
           {
            "colorbar": {
             "outlinewidth": 0,
             "ticks": ""
            },
            "colorscale": [
             [
              0.0,
              "#0d0887"
             ],
             [
              0.1111111111111111,
              "#46039f"
             ],
             [
              0.2222222222222222,
              "#7201a8"
             ],
             [
              0.3333333333333333,
              "#9c179e"
             ],
             [
              0.4444444444444444,
              "#bd3786"
             ],
             [
              0.5555555555555556,
              "#d8576b"
             ],
             [
              0.6666666666666666,
              "#ed7953"
             ],
             [
              0.7777777777777778,
              "#fb9f3a"
             ],
             [
              0.8888888888888888,
              "#fdca26"
             ],
             [
              1.0,
              "#f0f921"
             ]
            ],
            "type": "histogram2d"
           }
          ],
          "histogram2dcontour": [
           {
            "colorbar": {
             "outlinewidth": 0,
             "ticks": ""
            },
            "colorscale": [
             [
              0.0,
              "#0d0887"
             ],
             [
              0.1111111111111111,
              "#46039f"
             ],
             [
              0.2222222222222222,
              "#7201a8"
             ],
             [
              0.3333333333333333,
              "#9c179e"
             ],
             [
              0.4444444444444444,
              "#bd3786"
             ],
             [
              0.5555555555555556,
              "#d8576b"
             ],
             [
              0.6666666666666666,
              "#ed7953"
             ],
             [
              0.7777777777777778,
              "#fb9f3a"
             ],
             [
              0.8888888888888888,
              "#fdca26"
             ],
             [
              1.0,
              "#f0f921"
             ]
            ],
            "type": "histogram2dcontour"
           }
          ],
          "mesh3d": [
           {
            "colorbar": {
             "outlinewidth": 0,
             "ticks": ""
            },
            "type": "mesh3d"
           }
          ],
          "parcoords": [
           {
            "line": {
             "colorbar": {
              "outlinewidth": 0,
              "ticks": ""
             }
            },
            "type": "parcoords"
           }
          ],
          "pie": [
           {
            "automargin": true,
            "type": "pie"
           }
          ],
          "scatter": [
           {
            "fillpattern": {
             "fillmode": "overlay",
             "size": 10,
             "solidity": 0.2
            },
            "type": "scatter"
           }
          ],
          "scatter3d": [
           {
            "line": {
             "colorbar": {
              "outlinewidth": 0,
              "ticks": ""
             }
            },
            "marker": {
             "colorbar": {
              "outlinewidth": 0,
              "ticks": ""
             }
            },
            "type": "scatter3d"
           }
          ],
          "scattercarpet": [
           {
            "marker": {
             "colorbar": {
              "outlinewidth": 0,
              "ticks": ""
             }
            },
            "type": "scattercarpet"
           }
          ],
          "scattergeo": [
           {
            "marker": {
             "colorbar": {
              "outlinewidth": 0,
              "ticks": ""
             }
            },
            "type": "scattergeo"
           }
          ],
          "scattergl": [
           {
            "marker": {
             "colorbar": {
              "outlinewidth": 0,
              "ticks": ""
             }
            },
            "type": "scattergl"
           }
          ],
          "scattermap": [
           {
            "marker": {
             "colorbar": {
              "outlinewidth": 0,
              "ticks": ""
             }
            },
            "type": "scattermap"
           }
          ],
          "scattermapbox": [
           {
            "marker": {
             "colorbar": {
              "outlinewidth": 0,
              "ticks": ""
             }
            },
            "type": "scattermapbox"
           }
          ],
          "scatterpolar": [
           {
            "marker": {
             "colorbar": {
              "outlinewidth": 0,
              "ticks": ""
             }
            },
            "type": "scatterpolar"
           }
          ],
          "scatterpolargl": [
           {
            "marker": {
             "colorbar": {
              "outlinewidth": 0,
              "ticks": ""
             }
            },
            "type": "scatterpolargl"
           }
          ],
          "scatterternary": [
           {
            "marker": {
             "colorbar": {
              "outlinewidth": 0,
              "ticks": ""
             }
            },
            "type": "scatterternary"
           }
          ],
          "surface": [
           {
            "colorbar": {
             "outlinewidth": 0,
             "ticks": ""
            },
            "colorscale": [
             [
              0.0,
              "#0d0887"
             ],
             [
              0.1111111111111111,
              "#46039f"
             ],
             [
              0.2222222222222222,
              "#7201a8"
             ],
             [
              0.3333333333333333,
              "#9c179e"
             ],
             [
              0.4444444444444444,
              "#bd3786"
             ],
             [
              0.5555555555555556,
              "#d8576b"
             ],
             [
              0.6666666666666666,
              "#ed7953"
             ],
             [
              0.7777777777777778,
              "#fb9f3a"
             ],
             [
              0.8888888888888888,
              "#fdca26"
             ],
             [
              1.0,
              "#f0f921"
             ]
            ],
            "type": "surface"
           }
          ],
          "table": [
           {
            "cells": {
             "fill": {
              "color": "#EBF0F8"
             },
             "line": {
              "color": "white"
             }
            },
            "header": {
             "fill": {
              "color": "#C8D4E3"
             },
             "line": {
              "color": "white"
             }
            },
            "type": "table"
           }
          ]
         },
         "layout": {
          "annotationdefaults": {
           "arrowcolor": "#2a3f5f",
           "arrowhead": 0,
           "arrowwidth": 1
          },
          "autotypenumbers": "strict",
          "coloraxis": {
           "colorbar": {
            "outlinewidth": 0,
            "ticks": ""
           }
          },
          "colorscale": {
           "diverging": [
            [
             0,
             "#8e0152"
            ],
            [
             0.1,
             "#c51b7d"
            ],
            [
             0.2,
             "#de77ae"
            ],
            [
             0.3,
             "#f1b6da"
            ],
            [
             0.4,
             "#fde0ef"
            ],
            [
             0.5,
             "#f7f7f7"
            ],
            [
             0.6,
             "#e6f5d0"
            ],
            [
             0.7,
             "#b8e186"
            ],
            [
             0.8,
             "#7fbc41"
            ],
            [
             0.9,
             "#4d9221"
            ],
            [
             1,
             "#276419"
            ]
           ],
           "sequential": [
            [
             0.0,
             "#0d0887"
            ],
            [
             0.1111111111111111,
             "#46039f"
            ],
            [
             0.2222222222222222,
             "#7201a8"
            ],
            [
             0.3333333333333333,
             "#9c179e"
            ],
            [
             0.4444444444444444,
             "#bd3786"
            ],
            [
             0.5555555555555556,
             "#d8576b"
            ],
            [
             0.6666666666666666,
             "#ed7953"
            ],
            [
             0.7777777777777778,
             "#fb9f3a"
            ],
            [
             0.8888888888888888,
             "#fdca26"
            ],
            [
             1.0,
             "#f0f921"
            ]
           ],
           "sequentialminus": [
            [
             0.0,
             "#0d0887"
            ],
            [
             0.1111111111111111,
             "#46039f"
            ],
            [
             0.2222222222222222,
             "#7201a8"
            ],
            [
             0.3333333333333333,
             "#9c179e"
            ],
            [
             0.4444444444444444,
             "#bd3786"
            ],
            [
             0.5555555555555556,
             "#d8576b"
            ],
            [
             0.6666666666666666,
             "#ed7953"
            ],
            [
             0.7777777777777778,
             "#fb9f3a"
            ],
            [
             0.8888888888888888,
             "#fdca26"
            ],
            [
             1.0,
             "#f0f921"
            ]
           ]
          },
          "colorway": [
           "#636efa",
           "#EF553B",
           "#00cc96",
           "#ab63fa",
           "#FFA15A",
           "#19d3f3",
           "#FF6692",
           "#B6E880",
           "#FF97FF",
           "#FECB52"
          ],
          "font": {
           "color": "#2a3f5f"
          },
          "geo": {
           "bgcolor": "white",
           "lakecolor": "white",
           "landcolor": "#E5ECF6",
           "showlakes": true,
           "showland": true,
           "subunitcolor": "white"
          },
          "hoverlabel": {
           "align": "left"
          },
          "hovermode": "closest",
          "mapbox": {
           "style": "light"
          },
          "paper_bgcolor": "white",
          "plot_bgcolor": "#E5ECF6",
          "polar": {
           "angularaxis": {
            "gridcolor": "white",
            "linecolor": "white",
            "ticks": ""
           },
           "bgcolor": "#E5ECF6",
           "radialaxis": {
            "gridcolor": "white",
            "linecolor": "white",
            "ticks": ""
           }
          },
          "scene": {
           "xaxis": {
            "backgroundcolor": "#E5ECF6",
            "gridcolor": "white",
            "gridwidth": 2,
            "linecolor": "white",
            "showbackground": true,
            "ticks": "",
            "zerolinecolor": "white"
           },
           "yaxis": {
            "backgroundcolor": "#E5ECF6",
            "gridcolor": "white",
            "gridwidth": 2,
            "linecolor": "white",
            "showbackground": true,
            "ticks": "",
            "zerolinecolor": "white"
           },
           "zaxis": {
            "backgroundcolor": "#E5ECF6",
            "gridcolor": "white",
            "gridwidth": 2,
            "linecolor": "white",
            "showbackground": true,
            "ticks": "",
            "zerolinecolor": "white"
           }
          },
          "shapedefaults": {
           "line": {
            "color": "#2a3f5f"
           }
          },
          "ternary": {
           "aaxis": {
            "gridcolor": "white",
            "linecolor": "white",
            "ticks": ""
           },
           "baxis": {
            "gridcolor": "white",
            "linecolor": "white",
            "ticks": ""
           },
           "bgcolor": "#E5ECF6",
           "caxis": {
            "gridcolor": "white",
            "linecolor": "white",
            "ticks": ""
           }
          },
          "title": {
           "x": 0.05
          },
          "xaxis": {
           "automargin": true,
           "gridcolor": "white",
           "linecolor": "white",
           "ticks": "",
           "title": {
            "standoff": 15
           },
           "zerolinecolor": "white",
           "zerolinewidth": 2
          },
          "yaxis": {
           "automargin": true,
           "gridcolor": "white",
           "linecolor": "white",
           "ticks": "",
           "title": {
            "standoff": 15
           },
           "zerolinecolor": "white",
           "zerolinewidth": 2
          }
         }
        },
        "title": {
         "font": {
          "size": 20
         },
         "text": "📦 Comparaison de la Longueur des Messages par Catégorie"
        },
        "xaxis": {
         "anchor": "y",
         "categoryarray": [
          "ham",
          "spam"
         ],
         "categoryorder": "array",
         "domain": [
          0.0,
          1.0
         ],
         "title": {
          "text": "Catégorie"
         }
        },
        "yaxis": {
         "anchor": "x",
         "domain": [
          0.0,
          1.0
         ],
         "title": {
          "text": "Longueur du Message (caractères)"
         }
        }
       }
      }
     },
     "metadata": {},
     "output_type": "display_data"
    }
   ],
   "source": [
    "# Analyse de la longueur des messages\n",
    "df['Length'] = df['Message'].apply(len)\n",
    "\n",
    "# Statistiques par catégorie\n",
    "print('📏 Statistiques de longueur des messages par catégorie:')\n",
    "length_stats = df.groupby('Category')['Length'].describe()\n",
    "print(length_stats)\n",
    "\n",
    "# Histogramme de la distribution des longueurs\n",
    "fig = px.histogram(\n",
    "    df, \n",
    "    x='Length', \n",
    "    color='Category',\n",
    "    title='📊 Distribution de la Longueur des Messages par Catégorie',\n",
    "    nbins=50, \n",
    "    opacity=0.7,\n",
    "    color_discrete_sequence=['#66b3ff', '#ff9999'],\n",
    "    marginal='box'  # Ajout de boxplots marginaux\n",
    ")\n",
    "\n",
    "fig.update_layout(\n",
    "    title_font_size=20,\n",
    "    xaxis_title='Longueur du Message (caractères)',\n",
    "    yaxis_title='Nombre de Messages',\n",
    "    legend_title='Catégorie',\n",
    "    font=dict(size=14)\n",
    ")\n",
    "\n",
    "fig.show()\n",
    "\n",
    "# Boxplot comparatif\n",
    "fig_box = px.box(\n",
    "    df, \n",
    "    x='Category', \n",
    "    y='Length',\n",
    "    title='📦 Comparaison de la Longueur des Messages par Catégorie',\n",
    "    color='Category',\n",
    "    color_discrete_sequence=['#66b3ff', '#ff9999']\n",
    ")\n",
    "\n",
    "fig_box.update_layout(\n",
    "    title_font_size=20,\n",
    "    xaxis_title='Catégorie',\n",
    "    yaxis_title='Longueur du Message (caractères)',\n",
    "    font=dict(size=14)\n",
    ")\n",
    "\n",
    "fig_box.show()"
   ]
  },
  {
   "cell_type": "markdown",
   "id": "model-training-section",
   "metadata": {},
   "source": [
    "## 🤖 Préparation et Entraînement du Modèle\n",
    "\n",
    "Construction d'un pipeline de classification utilisant TF-IDF et la régression logistique."
   ]
  },
  {
   "cell_type": "code",
   "execution_count": 12,
   "id": "data-preparation",
   "metadata": {
    "execution": {
     "iopub.execute_input": "2025-09-04T16:03:41.456420Z",
     "iopub.status.busy": "2025-09-04T16:03:41.456420Z",
     "iopub.status.idle": "2025-09-04T16:03:41.479045Z",
     "shell.execute_reply": "2025-09-04T16:03:41.478036Z"
    }
   },
   "outputs": [
    {
     "name": "stdout",
     "output_type": "stream",
     "text": [
      "🔧 Préparation des données...\n",
      "📊 Ensemble d'entraînement: 4457 messages\n",
      "📊 Ensemble de test: 1115 messages\n",
      "\n",
      "🎯 Distribution des classes:\n",
      "Entraînement: Category\n",
      "ham     0.866\n",
      "spam    0.134\n",
      "Name: proportion, dtype: float64\n",
      "Test: Category\n",
      "ham     0.866\n",
      "spam    0.134\n",
      "Name: proportion, dtype: float64\n"
     ]
    }
   ],
   "source": [
    "# Préparation des données pour l'entraînement\n",
    "print('🔧 Préparation des données...')\n",
    "\n",
    "# Séparation des features et du target\n",
    "X = df['Message']  # Messages textuels\n",
    "y = df['Category']  # Labels (spam/ham)\n",
    "\n",
    "# Division train/test avec stratification\n",
    "X_train, X_test, y_train, y_test = train_test_split(\n",
    "    X, y, \n",
    "    test_size=0.2,      # 20% pour le test\n",
    "    random_state=42,    # Reproductibilité\n",
    "    shuffle=True,       # Mélange des données\n",
    "    stratify=y          # Préservation des proportions\n",
    ")\n",
    "\n",
    "print(f'📊 Ensemble d\\'entraînement: {X_train.shape[0]} messages')\n",
    "print(f'📊 Ensemble de test: {X_test.shape[0]} messages')\n",
    "\n",
    "# Vérification de la stratification\n",
    "print('\\n🎯 Distribution des classes:')\n",
    "print('Entraînement:', y_train.value_counts(normalize=True).round(3))\n",
    "print('Test:', y_test.value_counts(normalize=True).round(3))"
   ]
  },
  {
   "cell_type": "code",
   "execution_count": 13,
   "id": "model-training",
   "metadata": {
    "execution": {
     "iopub.execute_input": "2025-09-04T16:03:41.484346Z",
     "iopub.status.busy": "2025-09-04T16:03:41.483049Z",
     "iopub.status.idle": "2025-09-04T16:03:41.910290Z",
     "shell.execute_reply": "2025-09-04T16:03:41.909280Z"
    }
   },
   "outputs": [
    {
     "name": "stdout",
     "output_type": "stream",
     "text": [
      "🚀 Construction du pipeline de classification...\n",
      "🔄 Transformation TF-IDF en cours...\n"
     ]
    },
    {
     "name": "stdout",
     "output_type": "stream",
     "text": [
      "📐 Matrice TF-IDF: 4457 × 5000\n",
      "🎯 Vocabulaire: 5000 mots uniques\n",
      "🎓 Entraînement du modèle...\n",
      "✅ Modèle entraîné avec succès!\n"
     ]
    }
   ],
   "source": [
    "# Construction et entraînement du modèle\n",
    "print('🚀 Construction du pipeline de classification...')\n",
    "\n",
    "# Composants du pipeline\n",
    "tfidf = TfidfVectorizer(\n",
    "    stop_words='english',    # Suppression des mots vides\n",
    "    max_features=5000,       # Limitation du vocabulaire\n",
    "    ngram_range=(1, 2),      # Unigrammes et bigrammes\n",
    "    min_df=2,                # Fréquence minimale\n",
    "    max_df=0.95              # Fréquence maximale\n",
    ")\n",
    "\n",
    "logreg = LogisticRegression(\n",
    "    max_iter=1000,           # Nombre d'itérations\n",
    "    random_state=42,         # Reproductibilité\n",
    "    class_weight='balanced'  # Équilibrage des classes\n",
    ")\n",
    "\n",
    "# Transformation des données textuelles\n",
    "print('🔄 Transformation TF-IDF en cours...')\n",
    "X_train_tfidf = tfidf.fit_transform(X_train)\n",
    "X_test_tfidf = tfidf.transform(X_test)\n",
    "\n",
    "print(f'📐 Matrice TF-IDF: {X_train_tfidf.shape[0]} × {X_train_tfidf.shape[1]}')\n",
    "print(f'🎯 Vocabulaire: {len(tfidf.get_feature_names_out())} mots uniques')\n",
    "\n",
    "# Entraînement du modèle\n",
    "print('🎓 Entraînement du modèle...')\n",
    "logreg.fit(X_train_tfidf, y_train)\n",
    "\n",
    "# Prédictions\n",
    "y_pred = logreg.predict(X_test_tfidf)\n",
    "y_proba = logreg.predict_proba(X_test_tfidf)\n",
    "\n",
    "print('✅ Modèle entraîné avec succès!')"
   ]
  },
  {
   "cell_type": "markdown",
   "id": "model-evaluation-section",
   "metadata": {},
   "source": [
    "## 📊 Évaluation des Performances du Modèle\n",
    "\n",
    "Analyse complète des performances avec métriques et visualisations."
   ]
  },
  {
   "cell_type": "code",
   "execution_count": 14,
   "id": "performance-metrics",
   "metadata": {
    "execution": {
     "iopub.execute_input": "2025-09-04T16:03:41.915290Z",
     "iopub.status.busy": "2025-09-04T16:03:41.913291Z",
     "iopub.status.idle": "2025-09-04T16:03:42.073588Z",
     "shell.execute_reply": "2025-09-04T16:03:42.072421Z"
    }
   },
   "outputs": [
    {
     "name": "stdout",
     "output_type": "stream",
     "text": [
      "📊 Calcul des métriques de performance...\n",
      "🎯 Résultats de l'évaluation:\n",
      "  📈 Accuracy (Précision globale): 0.9758 (97.58%)\n",
      "  🎯 Precision (Précision spam): 0.9013 (90.13%)\n",
      "  🔍 Recall (Rappel spam): 0.9195 (91.95%)\n",
      "  ⚖️ F1-Score: 0.9103 (91.03%)\n"
     ]
    },
    {
     "data": {
      "application/vnd.plotly.v1+json": {
       "config": {
        "plotlyServerURL": "https://plot.ly"
       },
       "data": [
        {
         "hovertemplate": "color=Accuracy<br>x=%{x}<br>y=%{y}<extra></extra>",
         "legendgroup": "Accuracy",
         "marker": {
          "color": "#ff9999",
          "pattern": {
           "shape": ""
          }
         },
         "name": "Accuracy",
         "orientation": "v",
         "showlegend": true,
         "textposition": "outside",
         "texttemplate": "%{y:.3f}",
         "type": "bar",
         "x": [
          "Accuracy"
         ],
         "xaxis": "x",
         "y": {
          "bdata": "AC108qA57z8=",
          "dtype": "f8"
         },
         "yaxis": "y"
        },
        {
         "hovertemplate": "color=Precision<br>x=%{x}<br>y=%{y}<extra></extra>",
         "legendgroup": "Precision",
         "marker": {
          "color": "#66b3ff",
          "pattern": {
           "shape": ""
          }
         },
         "name": "Precision",
         "orientation": "v",
         "showlegend": true,
         "textposition": "outside",
         "texttemplate": "%{y:.3f}",
         "type": "bar",
         "x": [
          "Precision"
         ],
         "xaxis": "x",
         "y": {
          "bdata": "eQ3lNZTX7D8=",
          "dtype": "f8"
         },
         "yaxis": "y"
        },
        {
         "hovertemplate": "color=Recall<br>x=%{x}<br>y=%{y}<extra></extra>",
         "legendgroup": "Recall",
         "marker": {
          "color": "#99ff99",
          "pattern": {
           "shape": ""
          }
         },
         "name": "Recall",
         "orientation": "v",
         "showlegend": true,
         "textposition": "outside",
         "texttemplate": "%{y:.3f}",
         "type": "bar",
         "x": [
          "Recall"
         ],
         "xaxis": "x",
         "y": {
          "bdata": "K4sz2j1s7T8=",
          "dtype": "f8"
         },
         "yaxis": "y"
        },
        {
         "hovertemplate": "color=F1-Score<br>x=%{x}<br>y=%{y}<extra></extra>",
         "legendgroup": "F1-Score",
         "marker": {
          "color": "#ffcc99",
          "pattern": {
           "shape": ""
          }
         },
         "name": "F1-Score",
         "orientation": "v",
         "showlegend": true,
         "textposition": "outside",
         "texttemplate": "%{y:.3f}",
         "type": "bar",
         "x": [
          "F1-Score"
         ],
         "xaxis": "x",
         "y": {
          "bdata": "SDcbYCsh7T8=",
          "dtype": "f8"
         },
         "yaxis": "y"
        }
       ],
       "layout": {
        "barmode": "relative",
        "font": {
         "size": 14
        },
        "legend": {
         "title": {
          "text": "color"
         },
         "tracegroupgap": 0
        },
        "showlegend": false,
        "template": {
         "data": {
          "bar": [
           {
            "error_x": {
             "color": "#2a3f5f"
            },
            "error_y": {
             "color": "#2a3f5f"
            },
            "marker": {
             "line": {
              "color": "#E5ECF6",
              "width": 0.5
             },
             "pattern": {
              "fillmode": "overlay",
              "size": 10,
              "solidity": 0.2
             }
            },
            "type": "bar"
           }
          ],
          "barpolar": [
           {
            "marker": {
             "line": {
              "color": "#E5ECF6",
              "width": 0.5
             },
             "pattern": {
              "fillmode": "overlay",
              "size": 10,
              "solidity": 0.2
             }
            },
            "type": "barpolar"
           }
          ],
          "carpet": [
           {
            "aaxis": {
             "endlinecolor": "#2a3f5f",
             "gridcolor": "white",
             "linecolor": "white",
             "minorgridcolor": "white",
             "startlinecolor": "#2a3f5f"
            },
            "baxis": {
             "endlinecolor": "#2a3f5f",
             "gridcolor": "white",
             "linecolor": "white",
             "minorgridcolor": "white",
             "startlinecolor": "#2a3f5f"
            },
            "type": "carpet"
           }
          ],
          "choropleth": [
           {
            "colorbar": {
             "outlinewidth": 0,
             "ticks": ""
            },
            "type": "choropleth"
           }
          ],
          "contour": [
           {
            "colorbar": {
             "outlinewidth": 0,
             "ticks": ""
            },
            "colorscale": [
             [
              0.0,
              "#0d0887"
             ],
             [
              0.1111111111111111,
              "#46039f"
             ],
             [
              0.2222222222222222,
              "#7201a8"
             ],
             [
              0.3333333333333333,
              "#9c179e"
             ],
             [
              0.4444444444444444,
              "#bd3786"
             ],
             [
              0.5555555555555556,
              "#d8576b"
             ],
             [
              0.6666666666666666,
              "#ed7953"
             ],
             [
              0.7777777777777778,
              "#fb9f3a"
             ],
             [
              0.8888888888888888,
              "#fdca26"
             ],
             [
              1.0,
              "#f0f921"
             ]
            ],
            "type": "contour"
           }
          ],
          "contourcarpet": [
           {
            "colorbar": {
             "outlinewidth": 0,
             "ticks": ""
            },
            "type": "contourcarpet"
           }
          ],
          "heatmap": [
           {
            "colorbar": {
             "outlinewidth": 0,
             "ticks": ""
            },
            "colorscale": [
             [
              0.0,
              "#0d0887"
             ],
             [
              0.1111111111111111,
              "#46039f"
             ],
             [
              0.2222222222222222,
              "#7201a8"
             ],
             [
              0.3333333333333333,
              "#9c179e"
             ],
             [
              0.4444444444444444,
              "#bd3786"
             ],
             [
              0.5555555555555556,
              "#d8576b"
             ],
             [
              0.6666666666666666,
              "#ed7953"
             ],
             [
              0.7777777777777778,
              "#fb9f3a"
             ],
             [
              0.8888888888888888,
              "#fdca26"
             ],
             [
              1.0,
              "#f0f921"
             ]
            ],
            "type": "heatmap"
           }
          ],
          "histogram": [
           {
            "marker": {
             "pattern": {
              "fillmode": "overlay",
              "size": 10,
              "solidity": 0.2
             }
            },
            "type": "histogram"
           }
          ],
          "histogram2d": [
           {
            "colorbar": {
             "outlinewidth": 0,
             "ticks": ""
            },
            "colorscale": [
             [
              0.0,
              "#0d0887"
             ],
             [
              0.1111111111111111,
              "#46039f"
             ],
             [
              0.2222222222222222,
              "#7201a8"
             ],
             [
              0.3333333333333333,
              "#9c179e"
             ],
             [
              0.4444444444444444,
              "#bd3786"
             ],
             [
              0.5555555555555556,
              "#d8576b"
             ],
             [
              0.6666666666666666,
              "#ed7953"
             ],
             [
              0.7777777777777778,
              "#fb9f3a"
             ],
             [
              0.8888888888888888,
              "#fdca26"
             ],
             [
              1.0,
              "#f0f921"
             ]
            ],
            "type": "histogram2d"
           }
          ],
          "histogram2dcontour": [
           {
            "colorbar": {
             "outlinewidth": 0,
             "ticks": ""
            },
            "colorscale": [
             [
              0.0,
              "#0d0887"
             ],
             [
              0.1111111111111111,
              "#46039f"
             ],
             [
              0.2222222222222222,
              "#7201a8"
             ],
             [
              0.3333333333333333,
              "#9c179e"
             ],
             [
              0.4444444444444444,
              "#bd3786"
             ],
             [
              0.5555555555555556,
              "#d8576b"
             ],
             [
              0.6666666666666666,
              "#ed7953"
             ],
             [
              0.7777777777777778,
              "#fb9f3a"
             ],
             [
              0.8888888888888888,
              "#fdca26"
             ],
             [
              1.0,
              "#f0f921"
             ]
            ],
            "type": "histogram2dcontour"
           }
          ],
          "mesh3d": [
           {
            "colorbar": {
             "outlinewidth": 0,
             "ticks": ""
            },
            "type": "mesh3d"
           }
          ],
          "parcoords": [
           {
            "line": {
             "colorbar": {
              "outlinewidth": 0,
              "ticks": ""
             }
            },
            "type": "parcoords"
           }
          ],
          "pie": [
           {
            "automargin": true,
            "type": "pie"
           }
          ],
          "scatter": [
           {
            "fillpattern": {
             "fillmode": "overlay",
             "size": 10,
             "solidity": 0.2
            },
            "type": "scatter"
           }
          ],
          "scatter3d": [
           {
            "line": {
             "colorbar": {
              "outlinewidth": 0,
              "ticks": ""
             }
            },
            "marker": {
             "colorbar": {
              "outlinewidth": 0,
              "ticks": ""
             }
            },
            "type": "scatter3d"
           }
          ],
          "scattercarpet": [
           {
            "marker": {
             "colorbar": {
              "outlinewidth": 0,
              "ticks": ""
             }
            },
            "type": "scattercarpet"
           }
          ],
          "scattergeo": [
           {
            "marker": {
             "colorbar": {
              "outlinewidth": 0,
              "ticks": ""
             }
            },
            "type": "scattergeo"
           }
          ],
          "scattergl": [
           {
            "marker": {
             "colorbar": {
              "outlinewidth": 0,
              "ticks": ""
             }
            },
            "type": "scattergl"
           }
          ],
          "scattermap": [
           {
            "marker": {
             "colorbar": {
              "outlinewidth": 0,
              "ticks": ""
             }
            },
            "type": "scattermap"
           }
          ],
          "scattermapbox": [
           {
            "marker": {
             "colorbar": {
              "outlinewidth": 0,
              "ticks": ""
             }
            },
            "type": "scattermapbox"
           }
          ],
          "scatterpolar": [
           {
            "marker": {
             "colorbar": {
              "outlinewidth": 0,
              "ticks": ""
             }
            },
            "type": "scatterpolar"
           }
          ],
          "scatterpolargl": [
           {
            "marker": {
             "colorbar": {
              "outlinewidth": 0,
              "ticks": ""
             }
            },
            "type": "scatterpolargl"
           }
          ],
          "scatterternary": [
           {
            "marker": {
             "colorbar": {
              "outlinewidth": 0,
              "ticks": ""
             }
            },
            "type": "scatterternary"
           }
          ],
          "surface": [
           {
            "colorbar": {
             "outlinewidth": 0,
             "ticks": ""
            },
            "colorscale": [
             [
              0.0,
              "#0d0887"
             ],
             [
              0.1111111111111111,
              "#46039f"
             ],
             [
              0.2222222222222222,
              "#7201a8"
             ],
             [
              0.3333333333333333,
              "#9c179e"
             ],
             [
              0.4444444444444444,
              "#bd3786"
             ],
             [
              0.5555555555555556,
              "#d8576b"
             ],
             [
              0.6666666666666666,
              "#ed7953"
             ],
             [
              0.7777777777777778,
              "#fb9f3a"
             ],
             [
              0.8888888888888888,
              "#fdca26"
             ],
             [
              1.0,
              "#f0f921"
             ]
            ],
            "type": "surface"
           }
          ],
          "table": [
           {
            "cells": {
             "fill": {
              "color": "#EBF0F8"
             },
             "line": {
              "color": "white"
             }
            },
            "header": {
             "fill": {
              "color": "#C8D4E3"
             },
             "line": {
              "color": "white"
             }
            },
            "type": "table"
           }
          ]
         },
         "layout": {
          "annotationdefaults": {
           "arrowcolor": "#2a3f5f",
           "arrowhead": 0,
           "arrowwidth": 1
          },
          "autotypenumbers": "strict",
          "coloraxis": {
           "colorbar": {
            "outlinewidth": 0,
            "ticks": ""
           }
          },
          "colorscale": {
           "diverging": [
            [
             0,
             "#8e0152"
            ],
            [
             0.1,
             "#c51b7d"
            ],
            [
             0.2,
             "#de77ae"
            ],
            [
             0.3,
             "#f1b6da"
            ],
            [
             0.4,
             "#fde0ef"
            ],
            [
             0.5,
             "#f7f7f7"
            ],
            [
             0.6,
             "#e6f5d0"
            ],
            [
             0.7,
             "#b8e186"
            ],
            [
             0.8,
             "#7fbc41"
            ],
            [
             0.9,
             "#4d9221"
            ],
            [
             1,
             "#276419"
            ]
           ],
           "sequential": [
            [
             0.0,
             "#0d0887"
            ],
            [
             0.1111111111111111,
             "#46039f"
            ],
            [
             0.2222222222222222,
             "#7201a8"
            ],
            [
             0.3333333333333333,
             "#9c179e"
            ],
            [
             0.4444444444444444,
             "#bd3786"
            ],
            [
             0.5555555555555556,
             "#d8576b"
            ],
            [
             0.6666666666666666,
             "#ed7953"
            ],
            [
             0.7777777777777778,
             "#fb9f3a"
            ],
            [
             0.8888888888888888,
             "#fdca26"
            ],
            [
             1.0,
             "#f0f921"
            ]
           ],
           "sequentialminus": [
            [
             0.0,
             "#0d0887"
            ],
            [
             0.1111111111111111,
             "#46039f"
            ],
            [
             0.2222222222222222,
             "#7201a8"
            ],
            [
             0.3333333333333333,
             "#9c179e"
            ],
            [
             0.4444444444444444,
             "#bd3786"
            ],
            [
             0.5555555555555556,
             "#d8576b"
            ],
            [
             0.6666666666666666,
             "#ed7953"
            ],
            [
             0.7777777777777778,
             "#fb9f3a"
            ],
            [
             0.8888888888888888,
             "#fdca26"
            ],
            [
             1.0,
             "#f0f921"
            ]
           ]
          },
          "colorway": [
           "#636efa",
           "#EF553B",
           "#00cc96",
           "#ab63fa",
           "#FFA15A",
           "#19d3f3",
           "#FF6692",
           "#B6E880",
           "#FF97FF",
           "#FECB52"
          ],
          "font": {
           "color": "#2a3f5f"
          },
          "geo": {
           "bgcolor": "white",
           "lakecolor": "white",
           "landcolor": "#E5ECF6",
           "showlakes": true,
           "showland": true,
           "subunitcolor": "white"
          },
          "hoverlabel": {
           "align": "left"
          },
          "hovermode": "closest",
          "mapbox": {
           "style": "light"
          },
          "paper_bgcolor": "white",
          "plot_bgcolor": "#E5ECF6",
          "polar": {
           "angularaxis": {
            "gridcolor": "white",
            "linecolor": "white",
            "ticks": ""
           },
           "bgcolor": "#E5ECF6",
           "radialaxis": {
            "gridcolor": "white",
            "linecolor": "white",
            "ticks": ""
           }
          },
          "scene": {
           "xaxis": {
            "backgroundcolor": "#E5ECF6",
            "gridcolor": "white",
            "gridwidth": 2,
            "linecolor": "white",
            "showbackground": true,
            "ticks": "",
            "zerolinecolor": "white"
           },
           "yaxis": {
            "backgroundcolor": "#E5ECF6",
            "gridcolor": "white",
            "gridwidth": 2,
            "linecolor": "white",
            "showbackground": true,
            "ticks": "",
            "zerolinecolor": "white"
           },
           "zaxis": {
            "backgroundcolor": "#E5ECF6",
            "gridcolor": "white",
            "gridwidth": 2,
            "linecolor": "white",
            "showbackground": true,
            "ticks": "",
            "zerolinecolor": "white"
           }
          },
          "shapedefaults": {
           "line": {
            "color": "#2a3f5f"
           }
          },
          "ternary": {
           "aaxis": {
            "gridcolor": "white",
            "linecolor": "white",
            "ticks": ""
           },
           "baxis": {
            "gridcolor": "white",
            "linecolor": "white",
            "ticks": ""
           },
           "bgcolor": "#E5ECF6",
           "caxis": {
            "gridcolor": "white",
            "linecolor": "white",
            "ticks": ""
           }
          },
          "title": {
           "x": 0.05
          },
          "xaxis": {
           "automargin": true,
           "gridcolor": "white",
           "linecolor": "white",
           "ticks": "",
           "title": {
            "standoff": 15
           },
           "zerolinecolor": "white",
           "zerolinewidth": 2
          },
          "yaxis": {
           "automargin": true,
           "gridcolor": "white",
           "linecolor": "white",
           "ticks": "",
           "title": {
            "standoff": 15
           },
           "zerolinecolor": "white",
           "zerolinewidth": 2
          }
         }
        },
        "title": {
         "font": {
          "size": 20
         },
         "text": "📊 Métriques de Performance du Modèle"
        },
        "xaxis": {
         "anchor": "y",
         "domain": [
          0.0,
          1.0
         ],
         "title": {
          "text": "Métriques"
         }
        },
        "yaxis": {
         "anchor": "x",
         "domain": [
          0.0,
          1.0
         ],
         "range": [
          0,
          1
         ],
         "title": {
          "text": "Score"
         }
        }
       }
      }
     },
     "metadata": {},
     "output_type": "display_data"
    }
   ],
   "source": [
    "# Calcul des métriques de performance\n",
    "print('📊 Calcul des métriques de performance...')\n",
    "\n",
    "accuracy = accuracy_score(y_test, y_pred)\n",
    "precision = precision_score(y_test, y_pred, pos_label='spam')\n",
    "recall = recall_score(y_test, y_pred, pos_label='spam')\n",
    "f1 = f1_score(y_test, y_pred, pos_label='spam')\n",
    "\n",
    "# Affichage des résultats\n",
    "print('🎯 Résultats de l\\'évaluation:')\n",
    "print(f'  📈 Accuracy (Précision globale): {accuracy:.4f} ({accuracy*100:.2f}%)')\n",
    "print(f'  🎯 Precision (Précision spam): {precision:.4f} ({precision*100:.2f}%)')\n",
    "print(f'  🔍 Recall (Rappel spam): {recall:.4f} ({recall*100:.2f}%)')\n",
    "print(f'  ⚖️ F1-Score: {f1:.4f} ({f1*100:.2f}%)')\n",
    "\n",
    "# Création du graphique des métriques\n",
    "metrics_data = {\n",
    "    'Métrique': ['Accuracy', 'Precision', 'Recall', 'F1-Score'],\n",
    "    'Valeur': [accuracy, precision, recall, f1],\n",
    "    'Couleur': ['#ff9999', '#66b3ff', '#99ff99', '#ffcc99']\n",
    "}\n",
    "\n",
    "fig = px.bar(\n",
    "    x=metrics_data['Métrique'], \n",
    "    y=metrics_data['Valeur'],\n",
    "    color=metrics_data['Métrique'],\n",
    "    title='📊 Métriques de Performance du Modèle',\n",
    "    color_discrete_sequence=metrics_data['Couleur']\n",
    ")\n",
    "\n",
    "fig.update_layout(\n",
    "    title_font_size=20,\n",
    "    yaxis_range=[0, 1],\n",
    "    xaxis_title='Métriques',\n",
    "    yaxis_title='Score',\n",
    "    showlegend=False,\n",
    "    font=dict(size=14)\n",
    ")\n",
    "\n",
    "# Ajout des valeurs sur les barres\n",
    "fig.update_traces(\n",
    "    texttemplate='%{y:.3f}',\n",
    "    textposition='outside'\n",
    ")\n",
    "\n",
    "fig.show()"
   ]
  },
  {
   "cell_type": "code",
   "execution_count": 15,
   "id": "confusion-matrix",
   "metadata": {
    "execution": {
     "iopub.execute_input": "2025-09-04T16:03:42.076589Z",
     "iopub.status.busy": "2025-09-04T16:03:42.075592Z",
     "iopub.status.idle": "2025-09-04T16:03:42.190720Z",
     "shell.execute_reply": "2025-09-04T16:03:42.189704Z"
    }
   },
   "outputs": [
    {
     "name": "stdout",
     "output_type": "stream",
     "text": [
      "🔄 Génération de la matrice de confusion...\n"
     ]
    },
    {
     "data": {
      "application/vnd.plotly.v1+json": {
       "config": {
        "plotlyServerURL": "https://plot.ly"
       },
       "data": [
        {
         "coloraxis": "coloraxis",
         "hovertemplate": "Prédiction: %{x}<br>Réalité: %{y}<br>Nombre: %{z}<extra></extra>",
         "name": "0",
         "type": "heatmap",
         "x": [
          "ham",
          "spam"
         ],
         "xaxis": "x",
         "y": [
          "ham",
          "spam"
         ],
         "yaxis": "y",
         "z": {
          "bdata": "twMPAAwAiQA=",
          "dtype": "i2",
          "shape": "2, 2"
         }
        }
       ],
       "layout": {
        "annotations": [
         {
          "font": {
           "color": "white",
           "size": 16
          },
          "showarrow": false,
          "text": "951<br>(98.4%)",
          "x": "ham",
          "y": "ham"
         },
         {
          "font": {
           "color": "black",
           "size": 16
          },
          "showarrow": false,
          "text": "15<br>(1.6%)",
          "x": "spam",
          "y": "ham"
         },
         {
          "font": {
           "color": "black",
           "size": 16
          },
          "showarrow": false,
          "text": "12<br>(8.1%)",
          "x": "ham",
          "y": "spam"
         },
         {
          "font": {
           "color": "black",
           "size": 16
          },
          "showarrow": false,
          "text": "137<br>(91.9%)",
          "x": "spam",
          "y": "spam"
         }
        ],
        "coloraxis": {
         "colorbar": {
          "title": {
           "text": "Nombre"
          }
         },
         "colorscale": [
          [
           0.0,
           "rgb(5,48,97)"
          ],
          [
           0.1,
           "rgb(33,102,172)"
          ],
          [
           0.2,
           "rgb(67,147,195)"
          ],
          [
           0.3,
           "rgb(146,197,222)"
          ],
          [
           0.4,
           "rgb(209,229,240)"
          ],
          [
           0.5,
           "rgb(247,247,247)"
          ],
          [
           0.6,
           "rgb(253,219,199)"
          ],
          [
           0.7,
           "rgb(244,165,130)"
          ],
          [
           0.8,
           "rgb(214,96,77)"
          ],
          [
           0.9,
           "rgb(178,24,43)"
          ],
          [
           1.0,
           "rgb(103,0,31)"
          ]
         ]
        },
        "font": {
         "size": 14
        },
        "height": 500,
        "template": {
         "data": {
          "bar": [
           {
            "error_x": {
             "color": "#2a3f5f"
            },
            "error_y": {
             "color": "#2a3f5f"
            },
            "marker": {
             "line": {
              "color": "#E5ECF6",
              "width": 0.5
             },
             "pattern": {
              "fillmode": "overlay",
              "size": 10,
              "solidity": 0.2
             }
            },
            "type": "bar"
           }
          ],
          "barpolar": [
           {
            "marker": {
             "line": {
              "color": "#E5ECF6",
              "width": 0.5
             },
             "pattern": {
              "fillmode": "overlay",
              "size": 10,
              "solidity": 0.2
             }
            },
            "type": "barpolar"
           }
          ],
          "carpet": [
           {
            "aaxis": {
             "endlinecolor": "#2a3f5f",
             "gridcolor": "white",
             "linecolor": "white",
             "minorgridcolor": "white",
             "startlinecolor": "#2a3f5f"
            },
            "baxis": {
             "endlinecolor": "#2a3f5f",
             "gridcolor": "white",
             "linecolor": "white",
             "minorgridcolor": "white",
             "startlinecolor": "#2a3f5f"
            },
            "type": "carpet"
           }
          ],
          "choropleth": [
           {
            "colorbar": {
             "outlinewidth": 0,
             "ticks": ""
            },
            "type": "choropleth"
           }
          ],
          "contour": [
           {
            "colorbar": {
             "outlinewidth": 0,
             "ticks": ""
            },
            "colorscale": [
             [
              0.0,
              "#0d0887"
             ],
             [
              0.1111111111111111,
              "#46039f"
             ],
             [
              0.2222222222222222,
              "#7201a8"
             ],
             [
              0.3333333333333333,
              "#9c179e"
             ],
             [
              0.4444444444444444,
              "#bd3786"
             ],
             [
              0.5555555555555556,
              "#d8576b"
             ],
             [
              0.6666666666666666,
              "#ed7953"
             ],
             [
              0.7777777777777778,
              "#fb9f3a"
             ],
             [
              0.8888888888888888,
              "#fdca26"
             ],
             [
              1.0,
              "#f0f921"
             ]
            ],
            "type": "contour"
           }
          ],
          "contourcarpet": [
           {
            "colorbar": {
             "outlinewidth": 0,
             "ticks": ""
            },
            "type": "contourcarpet"
           }
          ],
          "heatmap": [
           {
            "colorbar": {
             "outlinewidth": 0,
             "ticks": ""
            },
            "colorscale": [
             [
              0.0,
              "#0d0887"
             ],
             [
              0.1111111111111111,
              "#46039f"
             ],
             [
              0.2222222222222222,
              "#7201a8"
             ],
             [
              0.3333333333333333,
              "#9c179e"
             ],
             [
              0.4444444444444444,
              "#bd3786"
             ],
             [
              0.5555555555555556,
              "#d8576b"
             ],
             [
              0.6666666666666666,
              "#ed7953"
             ],
             [
              0.7777777777777778,
              "#fb9f3a"
             ],
             [
              0.8888888888888888,
              "#fdca26"
             ],
             [
              1.0,
              "#f0f921"
             ]
            ],
            "type": "heatmap"
           }
          ],
          "histogram": [
           {
            "marker": {
             "pattern": {
              "fillmode": "overlay",
              "size": 10,
              "solidity": 0.2
             }
            },
            "type": "histogram"
           }
          ],
          "histogram2d": [
           {
            "colorbar": {
             "outlinewidth": 0,
             "ticks": ""
            },
            "colorscale": [
             [
              0.0,
              "#0d0887"
             ],
             [
              0.1111111111111111,
              "#46039f"
             ],
             [
              0.2222222222222222,
              "#7201a8"
             ],
             [
              0.3333333333333333,
              "#9c179e"
             ],
             [
              0.4444444444444444,
              "#bd3786"
             ],
             [
              0.5555555555555556,
              "#d8576b"
             ],
             [
              0.6666666666666666,
              "#ed7953"
             ],
             [
              0.7777777777777778,
              "#fb9f3a"
             ],
             [
              0.8888888888888888,
              "#fdca26"
             ],
             [
              1.0,
              "#f0f921"
             ]
            ],
            "type": "histogram2d"
           }
          ],
          "histogram2dcontour": [
           {
            "colorbar": {
             "outlinewidth": 0,
             "ticks": ""
            },
            "colorscale": [
             [
              0.0,
              "#0d0887"
             ],
             [
              0.1111111111111111,
              "#46039f"
             ],
             [
              0.2222222222222222,
              "#7201a8"
             ],
             [
              0.3333333333333333,
              "#9c179e"
             ],
             [
              0.4444444444444444,
              "#bd3786"
             ],
             [
              0.5555555555555556,
              "#d8576b"
             ],
             [
              0.6666666666666666,
              "#ed7953"
             ],
             [
              0.7777777777777778,
              "#fb9f3a"
             ],
             [
              0.8888888888888888,
              "#fdca26"
             ],
             [
              1.0,
              "#f0f921"
             ]
            ],
            "type": "histogram2dcontour"
           }
          ],
          "mesh3d": [
           {
            "colorbar": {
             "outlinewidth": 0,
             "ticks": ""
            },
            "type": "mesh3d"
           }
          ],
          "parcoords": [
           {
            "line": {
             "colorbar": {
              "outlinewidth": 0,
              "ticks": ""
             }
            },
            "type": "parcoords"
           }
          ],
          "pie": [
           {
            "automargin": true,
            "type": "pie"
           }
          ],
          "scatter": [
           {
            "fillpattern": {
             "fillmode": "overlay",
             "size": 10,
             "solidity": 0.2
            },
            "type": "scatter"
           }
          ],
          "scatter3d": [
           {
            "line": {
             "colorbar": {
              "outlinewidth": 0,
              "ticks": ""
             }
            },
            "marker": {
             "colorbar": {
              "outlinewidth": 0,
              "ticks": ""
             }
            },
            "type": "scatter3d"
           }
          ],
          "scattercarpet": [
           {
            "marker": {
             "colorbar": {
              "outlinewidth": 0,
              "ticks": ""
             }
            },
            "type": "scattercarpet"
           }
          ],
          "scattergeo": [
           {
            "marker": {
             "colorbar": {
              "outlinewidth": 0,
              "ticks": ""
             }
            },
            "type": "scattergeo"
           }
          ],
          "scattergl": [
           {
            "marker": {
             "colorbar": {
              "outlinewidth": 0,
              "ticks": ""
             }
            },
            "type": "scattergl"
           }
          ],
          "scattermap": [
           {
            "marker": {
             "colorbar": {
              "outlinewidth": 0,
              "ticks": ""
             }
            },
            "type": "scattermap"
           }
          ],
          "scattermapbox": [
           {
            "marker": {
             "colorbar": {
              "outlinewidth": 0,
              "ticks": ""
             }
            },
            "type": "scattermapbox"
           }
          ],
          "scatterpolar": [
           {
            "marker": {
             "colorbar": {
              "outlinewidth": 0,
              "ticks": ""
             }
            },
            "type": "scatterpolar"
           }
          ],
          "scatterpolargl": [
           {
            "marker": {
             "colorbar": {
              "outlinewidth": 0,
              "ticks": ""
             }
            },
            "type": "scatterpolargl"
           }
          ],
          "scatterternary": [
           {
            "marker": {
             "colorbar": {
              "outlinewidth": 0,
              "ticks": ""
             }
            },
            "type": "scatterternary"
           }
          ],
          "surface": [
           {
            "colorbar": {
             "outlinewidth": 0,
             "ticks": ""
            },
            "colorscale": [
             [
              0.0,
              "#0d0887"
             ],
             [
              0.1111111111111111,
              "#46039f"
             ],
             [
              0.2222222222222222,
              "#7201a8"
             ],
             [
              0.3333333333333333,
              "#9c179e"
             ],
             [
              0.4444444444444444,
              "#bd3786"
             ],
             [
              0.5555555555555556,
              "#d8576b"
             ],
             [
              0.6666666666666666,
              "#ed7953"
             ],
             [
              0.7777777777777778,
              "#fb9f3a"
             ],
             [
              0.8888888888888888,
              "#fdca26"
             ],
             [
              1.0,
              "#f0f921"
             ]
            ],
            "type": "surface"
           }
          ],
          "table": [
           {
            "cells": {
             "fill": {
              "color": "#EBF0F8"
             },
             "line": {
              "color": "white"
             }
            },
            "header": {
             "fill": {
              "color": "#C8D4E3"
             },
             "line": {
              "color": "white"
             }
            },
            "type": "table"
           }
          ]
         },
         "layout": {
          "annotationdefaults": {
           "arrowcolor": "#2a3f5f",
           "arrowhead": 0,
           "arrowwidth": 1
          },
          "autotypenumbers": "strict",
          "coloraxis": {
           "colorbar": {
            "outlinewidth": 0,
            "ticks": ""
           }
          },
          "colorscale": {
           "diverging": [
            [
             0,
             "#8e0152"
            ],
            [
             0.1,
             "#c51b7d"
            ],
            [
             0.2,
             "#de77ae"
            ],
            [
             0.3,
             "#f1b6da"
            ],
            [
             0.4,
             "#fde0ef"
            ],
            [
             0.5,
             "#f7f7f7"
            ],
            [
             0.6,
             "#e6f5d0"
            ],
            [
             0.7,
             "#b8e186"
            ],
            [
             0.8,
             "#7fbc41"
            ],
            [
             0.9,
             "#4d9221"
            ],
            [
             1,
             "#276419"
            ]
           ],
           "sequential": [
            [
             0.0,
             "#0d0887"
            ],
            [
             0.1111111111111111,
             "#46039f"
            ],
            [
             0.2222222222222222,
             "#7201a8"
            ],
            [
             0.3333333333333333,
             "#9c179e"
            ],
            [
             0.4444444444444444,
             "#bd3786"
            ],
            [
             0.5555555555555556,
             "#d8576b"
            ],
            [
             0.6666666666666666,
             "#ed7953"
            ],
            [
             0.7777777777777778,
             "#fb9f3a"
            ],
            [
             0.8888888888888888,
             "#fdca26"
            ],
            [
             1.0,
             "#f0f921"
            ]
           ],
           "sequentialminus": [
            [
             0.0,
             "#0d0887"
            ],
            [
             0.1111111111111111,
             "#46039f"
            ],
            [
             0.2222222222222222,
             "#7201a8"
            ],
            [
             0.3333333333333333,
             "#9c179e"
            ],
            [
             0.4444444444444444,
             "#bd3786"
            ],
            [
             0.5555555555555556,
             "#d8576b"
            ],
            [
             0.6666666666666666,
             "#ed7953"
            ],
            [
             0.7777777777777778,
             "#fb9f3a"
            ],
            [
             0.8888888888888888,
             "#fdca26"
            ],
            [
             1.0,
             "#f0f921"
            ]
           ]
          },
          "colorway": [
           "#636efa",
           "#EF553B",
           "#00cc96",
           "#ab63fa",
           "#FFA15A",
           "#19d3f3",
           "#FF6692",
           "#B6E880",
           "#FF97FF",
           "#FECB52"
          ],
          "font": {
           "color": "#2a3f5f"
          },
          "geo": {
           "bgcolor": "white",
           "lakecolor": "white",
           "landcolor": "#E5ECF6",
           "showlakes": true,
           "showland": true,
           "subunitcolor": "white"
          },
          "hoverlabel": {
           "align": "left"
          },
          "hovermode": "closest",
          "mapbox": {
           "style": "light"
          },
          "paper_bgcolor": "white",
          "plot_bgcolor": "#E5ECF6",
          "polar": {
           "angularaxis": {
            "gridcolor": "white",
            "linecolor": "white",
            "ticks": ""
           },
           "bgcolor": "#E5ECF6",
           "radialaxis": {
            "gridcolor": "white",
            "linecolor": "white",
            "ticks": ""
           }
          },
          "scene": {
           "xaxis": {
            "backgroundcolor": "#E5ECF6",
            "gridcolor": "white",
            "gridwidth": 2,
            "linecolor": "white",
            "showbackground": true,
            "ticks": "",
            "zerolinecolor": "white"
           },
           "yaxis": {
            "backgroundcolor": "#E5ECF6",
            "gridcolor": "white",
            "gridwidth": 2,
            "linecolor": "white",
            "showbackground": true,
            "ticks": "",
            "zerolinecolor": "white"
           },
           "zaxis": {
            "backgroundcolor": "#E5ECF6",
            "gridcolor": "white",
            "gridwidth": 2,
            "linecolor": "white",
            "showbackground": true,
            "ticks": "",
            "zerolinecolor": "white"
           }
          },
          "shapedefaults": {
           "line": {
            "color": "#2a3f5f"
           }
          },
          "ternary": {
           "aaxis": {
            "gridcolor": "white",
            "linecolor": "white",
            "ticks": ""
           },
           "baxis": {
            "gridcolor": "white",
            "linecolor": "white",
            "ticks": ""
           },
           "bgcolor": "#E5ECF6",
           "caxis": {
            "gridcolor": "white",
            "linecolor": "white",
            "ticks": ""
           }
          },
          "title": {
           "x": 0.05
          },
          "xaxis": {
           "automargin": true,
           "gridcolor": "white",
           "linecolor": "white",
           "ticks": "",
           "title": {
            "standoff": 15
           },
           "zerolinecolor": "white",
           "zerolinewidth": 2
          },
          "yaxis": {
           "automargin": true,
           "gridcolor": "white",
           "linecolor": "white",
           "ticks": "",
           "title": {
            "standoff": 15
           },
           "zerolinecolor": "white",
           "zerolinewidth": 2
          }
         }
        },
        "title": {
         "font": {
          "size": 20
         },
         "text": "🎯 Matrice de Confusion"
        },
        "width": 600,
        "xaxis": {
         "anchor": "y",
         "constrain": "domain",
         "domain": [
          0.0,
          1.0
         ],
         "scaleanchor": "y",
         "title": {
          "text": "Prédiction"
         }
        },
        "yaxis": {
         "anchor": "x",
         "autorange": "reversed",
         "constrain": "domain",
         "domain": [
          0.0,
          1.0
         ],
         "title": {
          "text": "Réalité"
         }
        }
       }
      }
     },
     "metadata": {},
     "output_type": "display_data"
    },
    {
     "name": "stdout",
     "output_type": "stream",
     "text": [
      "\n",
      "📊 Interprétation de la matrice de confusion:\n",
      "  ✅ Vrais Négatifs (Ham correctement classés): 951\n",
      "  ❌ Faux Positifs (Ham classés comme Spam): 15\n",
      "  ❌ Faux Négatifs (Spam classés comme Ham): 12\n",
      "  ✅ Vrais Positifs (Spam correctement classés): 137\n"
     ]
    }
   ],
   "source": [
    "# Matrice de confusion\n",
    "print('🔄 Génération de la matrice de confusion...')\n",
    "\n",
    "cm = confusion_matrix(y_test, y_pred)\n",
    "labels = ['ham', 'spam']\n",
    "\n",
    "# Calcul des pourcentages\n",
    "cm_percent = cm.astype('float') / cm.sum(axis=1)[:, np.newaxis] * 100\n",
    "\n",
    "# Création de la heatmap\n",
    "fig = px.imshow(\n",
    "    cm,\n",
    "    x=labels,\n",
    "    y=labels,\n",
    "    color_continuous_scale='RdBu_r',\n",
    "    title='🎯 Matrice de Confusion',\n",
    "    labels=dict(x='Prédiction', y='Réalité', color='Nombre')\n",
    ")\n",
    "\n",
    "# Ajout des annotations avec valeurs et pourcentages\n",
    "for i in range(len(cm)):\n",
    "    for j in range(len(cm[i])):\n",
    "        fig.add_annotation(\n",
    "            x=labels[j],\n",
    "            y=labels[i],\n",
    "            text=f'{cm[i][j]}<br>({cm_percent[i][j]:.1f}%)',\n",
    "            showarrow=False,\n",
    "            font=dict(\n",
    "                color='white' if cm[i][j] > cm.max()/2 else 'black', \n",
    "                size=16\n",
    "            )\n",
    "        )\n",
    "\n",
    "fig.update_layout(\n",
    "    title_font_size=20,\n",
    "    width=600,\n",
    "    height=500,\n",
    "    font=dict(size=14)\n",
    ")\n",
    "\n",
    "fig.show()\n",
    "\n",
    "# Interprétation de la matrice\n",
    "tn, fp, fn, tp = cm.ravel()\n",
    "print('\\n📊 Interprétation de la matrice de confusion:')\n",
    "print(f'  ✅ Vrais Négatifs (Ham correctement classés): {tn}')\n",
    "print(f'  ❌ Faux Positifs (Ham classés comme Spam): {fp}')\n",
    "print(f'  ❌ Faux Négatifs (Spam classés comme Ham): {fn}')\n",
    "print(f'  ✅ Vrais Positifs (Spam correctement classés): {tp}')"
   ]
  },
  {
   "cell_type": "code",
   "execution_count": 16,
   "id": "roc-curve",
   "metadata": {
    "execution": {
     "iopub.execute_input": "2025-09-04T16:03:42.193871Z",
     "iopub.status.busy": "2025-09-04T16:03:42.192725Z",
     "iopub.status.idle": "2025-09-04T16:03:42.245570Z",
     "shell.execute_reply": "2025-09-04T16:03:42.244561Z"
    }
   },
   "outputs": [
    {
     "name": "stdout",
     "output_type": "stream",
     "text": [
      "📈 Génération de la courbe ROC...\n"
     ]
    },
    {
     "data": {
      "application/vnd.plotly.v1+json": {
       "config": {
        "plotlyServerURL": "https://plot.ly"
       },
       "data": [
        {
         "hovertemplate": "<b>Taux de Faux Positifs</b>: %{x:.3f}<br><b>Taux de Vrais Positifs</b>: %{y:.3f}<extra></extra>",
         "line": {
          "color": "#ff9999",
          "width": 3
         },
         "mode": "lines",
         "name": "ROC (AUC = 0.985)",
         "type": "scatter",
         "x": {
          "bdata": "AAAAAAAAAAAAAAAAAAAAAAAAAAAAAAAAAAAAAAAAAAAAAAAAAAAAAAAAAAAAAAAAAAAAAAAAAAAAAAAAAAAAAAAAAAAAAAAAAAAAAAAAAAAAAAAAAAAAAAAAAAAAAAAAAAAAAAAAAAAAAAAAAAAAAKIls/rt9VA/oiWz+u31UD+iJbP67fVgP6Ils/rt9WA/oiWz+u31cD9yuAz45HB5P3K4DPjkcHk/24G5dmCufT/bgbl2YK59P75TtjgnUoc/vlO2OCdShz9yuAz45HCJP3K4DPjkcIk/24G5dmCujT+wvLSZCiSUP7C8tJkKJJQ/vlO2OCdSlz++U7Y4J1KXP4/mDzYezZ8/j+YPNh7Nnz/8V17aTAWiP/xXXtpMBaI/gyPfKVucoz9kIQtZyEK2P2QhC1nIQrY/velNb3rTuz+96U1vetO7PzjynbLFOcE/3VWKCbqrxD90InXBke/EPwrvX3lpM8U/gu4qxQTdxT8ZuxV93CDGP/vt9RCghsY/kbrgyHfKxj+RhSxkIQvJPydSFxz5Tsk/RomfUeJn1D+3oo8bxJrUP5G64Mh3ytY/kbrgyHfK1j+vUkzQXaXYP/q4QaxJx9g/iWqdfRHV2j/U0JJZ/fbaP6YCCYX3r9w/pgIJhfev3D+0ZFa/vR7iP9oXUa2zL+I/+K+8tJkK5D8dY7eijxvkP9ninEhdcOQ//5WXNlOB5D8C1NCSWf3mPwLU0JJZ/eY/gYTC+1de6j+nN73pTW/qPxuP5g82Hu0/QULh/Ssv7T8MjnynbHHuP8SadIzdiu4/G1oyq99e7z9mwCeHy4DvP0SAGloyq+8/AAAAAAAA8D8=",
          "dtype": "f8"
         },
         "y": {
          "bdata": "AAAAAAAAAACLM9o9bH17P1KQ/HmVxbk/xNa3AUM1vT/vYevbgKHKP2CopmMuEc4/4UlB8udV1j9MhCcFyZ/XP+hVFme0e9g/9m3AUE3H3D+SP6+yOKPdP6+yOKPdw+Y/5c+rLM5o5z8kf15lcUbrPyR/XmVxRus/izPaPWx96z+LM9o9bH3rP1mc0e5h6+s/WZzR7mHr6z9ZnNHuYevrP8BQTcdcIuw/wFBNx1wi7D/2bcBQTcfsP/ZtwFBNx+w/xNa3AUM17T/E1rcBQzXtPyuLM9o9bO0/K4sz2j1s7T8rizPaPWztP/nzKosz2u0/+fMqizPa7T9gqKZjLhHuP2CopmMuEe4/x1wiPClI7j/HXCI8KUjuPy4RnhQkf+4/LhGeFCR/7j8uEZ4UJH/uP5XFGe0etu4/lcUZ7R627j9kLhGeFCTvP2QuEZ4UJO8/y+KMdg9b7z/L4ox2D1vvP8vijHYPW+8/y+KMdg9b7z/L4ox2D1vvP8vijHYPW+8/y+KMdg9b7z/L4ox2D1vvP8vijHYPW+8/y+KMdg9b7z/L4ox2D1vvP8vijHYPW+8/MpcITwqS7z8ylwhPCpLvPzKXCE8Kku8/MpcITwqS7z8ylwhPCpLvPzKXCE8Kku8/mUuEJwXJ7z+ZS4QnBcnvP5lLhCcFye8/mUuEJwXJ7z+ZS4QnBcnvP5lLhCcFye8/mUuEJwXJ7z+ZS4QnBcnvPwAAAAAAAPA/AAAAAAAA8D8AAAAAAADwPwAAAAAAAPA/AAAAAAAA8D8AAAAAAADwPwAAAAAAAPA/AAAAAAAA8D8AAAAAAADwPwAAAAAAAPA/AAAAAAAA8D8=",
          "dtype": "f8"
         }
        },
        {
         "line": {
          "color": "grey",
          "dash": "dash",
          "width": 2
         },
         "mode": "lines",
         "name": "Aléatoire (AUC = 0.5)",
         "type": "scatter",
         "x": [
          0,
          1
         ],
         "y": [
          0,
          1
         ]
        }
       ],
       "layout": {
        "font": {
         "size": 14
        },
        "height": 600,
        "legend": {
         "x": 0.6,
         "y": 0.1
        },
        "template": {
         "data": {
          "bar": [
           {
            "error_x": {
             "color": "#2a3f5f"
            },
            "error_y": {
             "color": "#2a3f5f"
            },
            "marker": {
             "line": {
              "color": "#E5ECF6",
              "width": 0.5
             },
             "pattern": {
              "fillmode": "overlay",
              "size": 10,
              "solidity": 0.2
             }
            },
            "type": "bar"
           }
          ],
          "barpolar": [
           {
            "marker": {
             "line": {
              "color": "#E5ECF6",
              "width": 0.5
             },
             "pattern": {
              "fillmode": "overlay",
              "size": 10,
              "solidity": 0.2
             }
            },
            "type": "barpolar"
           }
          ],
          "carpet": [
           {
            "aaxis": {
             "endlinecolor": "#2a3f5f",
             "gridcolor": "white",
             "linecolor": "white",
             "minorgridcolor": "white",
             "startlinecolor": "#2a3f5f"
            },
            "baxis": {
             "endlinecolor": "#2a3f5f",
             "gridcolor": "white",
             "linecolor": "white",
             "minorgridcolor": "white",
             "startlinecolor": "#2a3f5f"
            },
            "type": "carpet"
           }
          ],
          "choropleth": [
           {
            "colorbar": {
             "outlinewidth": 0,
             "ticks": ""
            },
            "type": "choropleth"
           }
          ],
          "contour": [
           {
            "colorbar": {
             "outlinewidth": 0,
             "ticks": ""
            },
            "colorscale": [
             [
              0.0,
              "#0d0887"
             ],
             [
              0.1111111111111111,
              "#46039f"
             ],
             [
              0.2222222222222222,
              "#7201a8"
             ],
             [
              0.3333333333333333,
              "#9c179e"
             ],
             [
              0.4444444444444444,
              "#bd3786"
             ],
             [
              0.5555555555555556,
              "#d8576b"
             ],
             [
              0.6666666666666666,
              "#ed7953"
             ],
             [
              0.7777777777777778,
              "#fb9f3a"
             ],
             [
              0.8888888888888888,
              "#fdca26"
             ],
             [
              1.0,
              "#f0f921"
             ]
            ],
            "type": "contour"
           }
          ],
          "contourcarpet": [
           {
            "colorbar": {
             "outlinewidth": 0,
             "ticks": ""
            },
            "type": "contourcarpet"
           }
          ],
          "heatmap": [
           {
            "colorbar": {
             "outlinewidth": 0,
             "ticks": ""
            },
            "colorscale": [
             [
              0.0,
              "#0d0887"
             ],
             [
              0.1111111111111111,
              "#46039f"
             ],
             [
              0.2222222222222222,
              "#7201a8"
             ],
             [
              0.3333333333333333,
              "#9c179e"
             ],
             [
              0.4444444444444444,
              "#bd3786"
             ],
             [
              0.5555555555555556,
              "#d8576b"
             ],
             [
              0.6666666666666666,
              "#ed7953"
             ],
             [
              0.7777777777777778,
              "#fb9f3a"
             ],
             [
              0.8888888888888888,
              "#fdca26"
             ],
             [
              1.0,
              "#f0f921"
             ]
            ],
            "type": "heatmap"
           }
          ],
          "histogram": [
           {
            "marker": {
             "pattern": {
              "fillmode": "overlay",
              "size": 10,
              "solidity": 0.2
             }
            },
            "type": "histogram"
           }
          ],
          "histogram2d": [
           {
            "colorbar": {
             "outlinewidth": 0,
             "ticks": ""
            },
            "colorscale": [
             [
              0.0,
              "#0d0887"
             ],
             [
              0.1111111111111111,
              "#46039f"
             ],
             [
              0.2222222222222222,
              "#7201a8"
             ],
             [
              0.3333333333333333,
              "#9c179e"
             ],
             [
              0.4444444444444444,
              "#bd3786"
             ],
             [
              0.5555555555555556,
              "#d8576b"
             ],
             [
              0.6666666666666666,
              "#ed7953"
             ],
             [
              0.7777777777777778,
              "#fb9f3a"
             ],
             [
              0.8888888888888888,
              "#fdca26"
             ],
             [
              1.0,
              "#f0f921"
             ]
            ],
            "type": "histogram2d"
           }
          ],
          "histogram2dcontour": [
           {
            "colorbar": {
             "outlinewidth": 0,
             "ticks": ""
            },
            "colorscale": [
             [
              0.0,
              "#0d0887"
             ],
             [
              0.1111111111111111,
              "#46039f"
             ],
             [
              0.2222222222222222,
              "#7201a8"
             ],
             [
              0.3333333333333333,
              "#9c179e"
             ],
             [
              0.4444444444444444,
              "#bd3786"
             ],
             [
              0.5555555555555556,
              "#d8576b"
             ],
             [
              0.6666666666666666,
              "#ed7953"
             ],
             [
              0.7777777777777778,
              "#fb9f3a"
             ],
             [
              0.8888888888888888,
              "#fdca26"
             ],
             [
              1.0,
              "#f0f921"
             ]
            ],
            "type": "histogram2dcontour"
           }
          ],
          "mesh3d": [
           {
            "colorbar": {
             "outlinewidth": 0,
             "ticks": ""
            },
            "type": "mesh3d"
           }
          ],
          "parcoords": [
           {
            "line": {
             "colorbar": {
              "outlinewidth": 0,
              "ticks": ""
             }
            },
            "type": "parcoords"
           }
          ],
          "pie": [
           {
            "automargin": true,
            "type": "pie"
           }
          ],
          "scatter": [
           {
            "fillpattern": {
             "fillmode": "overlay",
             "size": 10,
             "solidity": 0.2
            },
            "type": "scatter"
           }
          ],
          "scatter3d": [
           {
            "line": {
             "colorbar": {
              "outlinewidth": 0,
              "ticks": ""
             }
            },
            "marker": {
             "colorbar": {
              "outlinewidth": 0,
              "ticks": ""
             }
            },
            "type": "scatter3d"
           }
          ],
          "scattercarpet": [
           {
            "marker": {
             "colorbar": {
              "outlinewidth": 0,
              "ticks": ""
             }
            },
            "type": "scattercarpet"
           }
          ],
          "scattergeo": [
           {
            "marker": {
             "colorbar": {
              "outlinewidth": 0,
              "ticks": ""
             }
            },
            "type": "scattergeo"
           }
          ],
          "scattergl": [
           {
            "marker": {
             "colorbar": {
              "outlinewidth": 0,
              "ticks": ""
             }
            },
            "type": "scattergl"
           }
          ],
          "scattermap": [
           {
            "marker": {
             "colorbar": {
              "outlinewidth": 0,
              "ticks": ""
             }
            },
            "type": "scattermap"
           }
          ],
          "scattermapbox": [
           {
            "marker": {
             "colorbar": {
              "outlinewidth": 0,
              "ticks": ""
             }
            },
            "type": "scattermapbox"
           }
          ],
          "scatterpolar": [
           {
            "marker": {
             "colorbar": {
              "outlinewidth": 0,
              "ticks": ""
             }
            },
            "type": "scatterpolar"
           }
          ],
          "scatterpolargl": [
           {
            "marker": {
             "colorbar": {
              "outlinewidth": 0,
              "ticks": ""
             }
            },
            "type": "scatterpolargl"
           }
          ],
          "scatterternary": [
           {
            "marker": {
             "colorbar": {
              "outlinewidth": 0,
              "ticks": ""
             }
            },
            "type": "scatterternary"
           }
          ],
          "surface": [
           {
            "colorbar": {
             "outlinewidth": 0,
             "ticks": ""
            },
            "colorscale": [
             [
              0.0,
              "#0d0887"
             ],
             [
              0.1111111111111111,
              "#46039f"
             ],
             [
              0.2222222222222222,
              "#7201a8"
             ],
             [
              0.3333333333333333,
              "#9c179e"
             ],
             [
              0.4444444444444444,
              "#bd3786"
             ],
             [
              0.5555555555555556,
              "#d8576b"
             ],
             [
              0.6666666666666666,
              "#ed7953"
             ],
             [
              0.7777777777777778,
              "#fb9f3a"
             ],
             [
              0.8888888888888888,
              "#fdca26"
             ],
             [
              1.0,
              "#f0f921"
             ]
            ],
            "type": "surface"
           }
          ],
          "table": [
           {
            "cells": {
             "fill": {
              "color": "#EBF0F8"
             },
             "line": {
              "color": "white"
             }
            },
            "header": {
             "fill": {
              "color": "#C8D4E3"
             },
             "line": {
              "color": "white"
             }
            },
            "type": "table"
           }
          ]
         },
         "layout": {
          "annotationdefaults": {
           "arrowcolor": "#2a3f5f",
           "arrowhead": 0,
           "arrowwidth": 1
          },
          "autotypenumbers": "strict",
          "coloraxis": {
           "colorbar": {
            "outlinewidth": 0,
            "ticks": ""
           }
          },
          "colorscale": {
           "diverging": [
            [
             0,
             "#8e0152"
            ],
            [
             0.1,
             "#c51b7d"
            ],
            [
             0.2,
             "#de77ae"
            ],
            [
             0.3,
             "#f1b6da"
            ],
            [
             0.4,
             "#fde0ef"
            ],
            [
             0.5,
             "#f7f7f7"
            ],
            [
             0.6,
             "#e6f5d0"
            ],
            [
             0.7,
             "#b8e186"
            ],
            [
             0.8,
             "#7fbc41"
            ],
            [
             0.9,
             "#4d9221"
            ],
            [
             1,
             "#276419"
            ]
           ],
           "sequential": [
            [
             0.0,
             "#0d0887"
            ],
            [
             0.1111111111111111,
             "#46039f"
            ],
            [
             0.2222222222222222,
             "#7201a8"
            ],
            [
             0.3333333333333333,
             "#9c179e"
            ],
            [
             0.4444444444444444,
             "#bd3786"
            ],
            [
             0.5555555555555556,
             "#d8576b"
            ],
            [
             0.6666666666666666,
             "#ed7953"
            ],
            [
             0.7777777777777778,
             "#fb9f3a"
            ],
            [
             0.8888888888888888,
             "#fdca26"
            ],
            [
             1.0,
             "#f0f921"
            ]
           ],
           "sequentialminus": [
            [
             0.0,
             "#0d0887"
            ],
            [
             0.1111111111111111,
             "#46039f"
            ],
            [
             0.2222222222222222,
             "#7201a8"
            ],
            [
             0.3333333333333333,
             "#9c179e"
            ],
            [
             0.4444444444444444,
             "#bd3786"
            ],
            [
             0.5555555555555556,
             "#d8576b"
            ],
            [
             0.6666666666666666,
             "#ed7953"
            ],
            [
             0.7777777777777778,
             "#fb9f3a"
            ],
            [
             0.8888888888888888,
             "#fdca26"
            ],
            [
             1.0,
             "#f0f921"
            ]
           ]
          },
          "colorway": [
           "#636efa",
           "#EF553B",
           "#00cc96",
           "#ab63fa",
           "#FFA15A",
           "#19d3f3",
           "#FF6692",
           "#B6E880",
           "#FF97FF",
           "#FECB52"
          ],
          "font": {
           "color": "#2a3f5f"
          },
          "geo": {
           "bgcolor": "white",
           "lakecolor": "white",
           "landcolor": "#E5ECF6",
           "showlakes": true,
           "showland": true,
           "subunitcolor": "white"
          },
          "hoverlabel": {
           "align": "left"
          },
          "hovermode": "closest",
          "mapbox": {
           "style": "light"
          },
          "paper_bgcolor": "white",
          "plot_bgcolor": "#E5ECF6",
          "polar": {
           "angularaxis": {
            "gridcolor": "white",
            "linecolor": "white",
            "ticks": ""
           },
           "bgcolor": "#E5ECF6",
           "radialaxis": {
            "gridcolor": "white",
            "linecolor": "white",
            "ticks": ""
           }
          },
          "scene": {
           "xaxis": {
            "backgroundcolor": "#E5ECF6",
            "gridcolor": "white",
            "gridwidth": 2,
            "linecolor": "white",
            "showbackground": true,
            "ticks": "",
            "zerolinecolor": "white"
           },
           "yaxis": {
            "backgroundcolor": "#E5ECF6",
            "gridcolor": "white",
            "gridwidth": 2,
            "linecolor": "white",
            "showbackground": true,
            "ticks": "",
            "zerolinecolor": "white"
           },
           "zaxis": {
            "backgroundcolor": "#E5ECF6",
            "gridcolor": "white",
            "gridwidth": 2,
            "linecolor": "white",
            "showbackground": true,
            "ticks": "",
            "zerolinecolor": "white"
           }
          },
          "shapedefaults": {
           "line": {
            "color": "#2a3f5f"
           }
          },
          "ternary": {
           "aaxis": {
            "gridcolor": "white",
            "linecolor": "white",
            "ticks": ""
           },
           "baxis": {
            "gridcolor": "white",
            "linecolor": "white",
            "ticks": ""
           },
           "bgcolor": "#E5ECF6",
           "caxis": {
            "gridcolor": "white",
            "linecolor": "white",
            "ticks": ""
           }
          },
          "title": {
           "x": 0.05
          },
          "xaxis": {
           "automargin": true,
           "gridcolor": "white",
           "linecolor": "white",
           "ticks": "",
           "title": {
            "standoff": 15
           },
           "zerolinecolor": "white",
           "zerolinewidth": 2
          },
          "yaxis": {
           "automargin": true,
           "gridcolor": "white",
           "linecolor": "white",
           "ticks": "",
           "title": {
            "standoff": 15
           },
           "zerolinecolor": "white",
           "zerolinewidth": 2
          }
         }
        },
        "title": {
         "font": {
          "size": 20
         },
         "text": "📈 Courbe ROC - Performance du Classificateur"
        },
        "width": 800,
        "xaxis": {
         "title": {
          "text": "Taux de Faux Positifs (1 - Spécificité)"
         }
        },
        "yaxis": {
         "title": {
          "text": "Taux de Vrais Positifs (Sensibilité)"
         }
        }
       }
      }
     },
     "metadata": {},
     "output_type": "display_data"
    },
    {
     "name": "stdout",
     "output_type": "stream",
     "text": [
      "🎯 AUC-ROC Score: 0.9854\n",
      "🌟 Excellent modèle!\n"
     ]
    }
   ],
   "source": [
    "# Courbe ROC (Receiver Operating Characteristic)\n",
    "print('📈 Génération de la courbe ROC...')\n",
    "\n",
    "# Calcul des points de la courbe ROC\n",
    "y_proba_spam = y_proba[:, 1]  # Probabilités pour la classe 'spam'\n",
    "fpr, tpr, thresholds = roc_curve(y_test == 'spam', y_proba_spam)\n",
    "roc_auc = auc(fpr, tpr)\n",
    "\n",
    "# Création du graphique\n",
    "fig = go.Figure()\n",
    "\n",
    "# Courbe ROC\n",
    "fig.add_trace(go.Scatter(\n",
    "    x=fpr, \n",
    "    y=tpr,\n",
    "    mode='lines',\n",
    "    name=f'ROC (AUC = {roc_auc:.3f})',\n",
    "    line=dict(color='#ff9999', width=3),\n",
    "    hovertemplate='<b>Taux de Faux Positifs</b>: %{x:.3f}<br>' +\n",
    "                  '<b>Taux de Vrais Positifs</b>: %{y:.3f}<extra></extra>'\n",
    "))\n",
    "\n",
    "# Ligne de référence (classificateur aléatoire)\n",
    "fig.add_trace(go.Scatter(\n",
    "    x=[0, 1], \n",
    "    y=[0, 1],\n",
    "    mode='lines',\n",
    "    name='Aléatoire (AUC = 0.5)',\n",
    "    line=dict(color='grey', width=2, dash='dash')\n",
    "))\n",
    "\n",
    "fig.update_layout(\n",
    "    title='📈 Courbe ROC - Performance du Classificateur',\n",
    "    title_font_size=20,\n",
    "    xaxis_title='Taux de Faux Positifs (1 - Spécificité)',\n",
    "    yaxis_title='Taux de Vrais Positifs (Sensibilité)',\n",
    "    width=800,\n",
    "    height=600,\n",
    "    legend=dict(x=0.6, y=0.1),\n",
    "    font=dict(size=14)\n",
    ")\n",
    "\n",
    "fig.show()\n",
    "\n",
    "print(f'🎯 AUC-ROC Score: {roc_auc:.4f}')\n",
    "if roc_auc > 0.9:\n",
    "    print('🌟 Excellent modèle!')\n",
    "elif roc_auc > 0.8:\n",
    "    print('👍 Bon modèle!')\n",
    "elif roc_auc > 0.7:\n",
    "    print('👌 Modèle acceptable')\n",
    "else:\n",
    "    print('⚠️ Modèle à améliorer')"
   ]
  },
  {
   "cell_type": "markdown",
   "id": "feature-analysis-section",
   "metadata": {},
   "source": [
    "## 🔍 Analyse des Caractéristiques Importantes\n",
    "\n",
    "Identification des mots-clés les plus discriminants pour la classification spam/ham."
   ]
  },
  {
   "cell_type": "code",
   "execution_count": 17,
   "id": "feature-importance",
   "metadata": {
    "execution": {
     "iopub.execute_input": "2025-09-04T16:03:42.253572Z",
     "iopub.status.busy": "2025-09-04T16:03:42.252597Z",
     "iopub.status.idle": "2025-09-04T16:03:42.455866Z",
     "shell.execute_reply": "2025-09-04T16:03:42.454854Z"
    }
   },
   "outputs": [
    {
     "name": "stdout",
     "output_type": "stream",
     "text": [
      "🔍 Analyse des caractéristiques importantes...\n"
     ]
    },
    {
     "name": "stdout",
     "output_type": "stream",
     "text": [
      "🔥 Top 15 mots indicateurs de SPAM:\n",
      "  📧 txt: 4.9803\n",
      "  📧 uk: 4.1272\n",
      "  📧 mobile: 4.0585\n",
      "  📧 claim: 3.7274\n",
      "  📧 free: 3.6512\n",
      "  📧 www: 3.6473\n",
      "  📧 reply: 3.4862\n",
      "  📧 150p: 3.2620\n",
      "  📧 stop: 3.2085\n",
      "  📧 service: 3.1110\n",
      "  📧 text: 3.0926\n",
      "  📧 com: 3.0180\n",
      "  📧 new: 2.9837\n",
      "  📧 50: 2.8456\n",
      "  📧 prize: 2.8144\n",
      "\n",
      "✅ Top 15 mots indicateurs de HAM:\n",
      "  💌 ok: -2.2104\n",
      "  💌 ll: -2.0028\n",
      "  💌 da: -1.8058\n",
      "  💌 home: -1.7053\n",
      "  💌 gt: -1.6770\n",
      "  💌 lt: -1.6576\n",
      "  💌 got: -1.6550\n",
      "  💌 come: -1.6051\n",
      "  💌 sorry: -1.5359\n",
      "  💌 hey: -1.5264\n",
      "  💌 lor: -1.5152\n",
      "  💌 later: -1.4434\n",
      "  💌 lt gt: -1.4385\n",
      "  💌 good: -1.4015\n",
      "  💌 way: -1.3173\n"
     ]
    },
    {
     "data": {
      "application/vnd.plotly.v1+json": {
       "config": {
        "plotlyServerURL": "https://plot.ly"
       },
       "data": [
        {
         "hovertemplate": "<b>%{y}</b><br>Coefficient: %{x:.4f}<extra></extra>",
         "marker": {
          "color": "#ff9999"
         },
         "name": "Spam",
         "orientation": "h",
         "type": "bar",
         "x": {
          "bdata": "fyJjcduDBkBe6fyWwsMGQJW1elOx3gdAG32LP/YkCEAVEhlijr0IQMgfXc5W4whA+tuYe/uqCUAlBFlPjxgKQJlw9MXL4wtAfVms3qEtDUDF3xABkDUNQHM1R9iq0Q1AAQEFMOg7EEDYoi6RNIIQQM9ce2LL6xNA",
          "dtype": "f8"
         },
         "xaxis": "x",
         "y": [
          "prize",
          "50",
          "new",
          "com",
          "text",
          "service",
          "stop",
          "150p",
          "reply",
          "www",
          "free",
          "claim",
          "mobile",
          "uk",
          "txt"
         ],
         "yaxis": "y"
        },
        {
         "hovertemplate": "<b>%{y}</b><br>Coefficient: %{x:.4f}<extra></extra>",
         "marker": {
          "color": "#66b3ff"
         },
         "name": "Ham",
         "orientation": "h",
         "type": "bar",
         "x": {
          "bdata": "bSkTjOOuAcAU76D9ywUAwBWmTXpm5Py/mgEZTOlI+79YOx6IGtX6v5j+Crx2hfq/abX1kdN6+r+9qufzWa75v6gVXH/wkvi/9MbMLVZs+L80xEMiWD74v2vNcwwFGPe/7kShXg4E979wtQ68fGz2v890qcx7E/W/",
          "dtype": "f8"
         },
         "xaxis": "x2",
         "y": [
          "ok",
          "ll",
          "da",
          "home",
          "gt",
          "lt",
          "got",
          "come",
          "sorry",
          "hey",
          "lor",
          "later",
          "lt gt",
          "good",
          "way"
         ],
         "yaxis": "y2"
        }
       ],
       "layout": {
        "annotations": [
         {
          "font": {
           "size": 16
          },
          "showarrow": false,
          "text": "🔥 Mots Indicateurs de SPAM",
          "x": 0.225,
          "xanchor": "center",
          "xref": "paper",
          "y": 1.0,
          "yanchor": "bottom",
          "yref": "paper"
         },
         {
          "font": {
           "size": 16
          },
          "showarrow": false,
          "text": "✅ Mots Indicateurs de HAM",
          "x": 0.775,
          "xanchor": "center",
          "xref": "paper",
          "y": 1.0,
          "yanchor": "bottom",
          "yref": "paper"
         }
        ],
        "font": {
         "size": 12
        },
        "height": 600,
        "showlegend": false,
        "template": {
         "data": {
          "bar": [
           {
            "error_x": {
             "color": "#2a3f5f"
            },
            "error_y": {
             "color": "#2a3f5f"
            },
            "marker": {
             "line": {
              "color": "#E5ECF6",
              "width": 0.5
             },
             "pattern": {
              "fillmode": "overlay",
              "size": 10,
              "solidity": 0.2
             }
            },
            "type": "bar"
           }
          ],
          "barpolar": [
           {
            "marker": {
             "line": {
              "color": "#E5ECF6",
              "width": 0.5
             },
             "pattern": {
              "fillmode": "overlay",
              "size": 10,
              "solidity": 0.2
             }
            },
            "type": "barpolar"
           }
          ],
          "carpet": [
           {
            "aaxis": {
             "endlinecolor": "#2a3f5f",
             "gridcolor": "white",
             "linecolor": "white",
             "minorgridcolor": "white",
             "startlinecolor": "#2a3f5f"
            },
            "baxis": {
             "endlinecolor": "#2a3f5f",
             "gridcolor": "white",
             "linecolor": "white",
             "minorgridcolor": "white",
             "startlinecolor": "#2a3f5f"
            },
            "type": "carpet"
           }
          ],
          "choropleth": [
           {
            "colorbar": {
             "outlinewidth": 0,
             "ticks": ""
            },
            "type": "choropleth"
           }
          ],
          "contour": [
           {
            "colorbar": {
             "outlinewidth": 0,
             "ticks": ""
            },
            "colorscale": [
             [
              0.0,
              "#0d0887"
             ],
             [
              0.1111111111111111,
              "#46039f"
             ],
             [
              0.2222222222222222,
              "#7201a8"
             ],
             [
              0.3333333333333333,
              "#9c179e"
             ],
             [
              0.4444444444444444,
              "#bd3786"
             ],
             [
              0.5555555555555556,
              "#d8576b"
             ],
             [
              0.6666666666666666,
              "#ed7953"
             ],
             [
              0.7777777777777778,
              "#fb9f3a"
             ],
             [
              0.8888888888888888,
              "#fdca26"
             ],
             [
              1.0,
              "#f0f921"
             ]
            ],
            "type": "contour"
           }
          ],
          "contourcarpet": [
           {
            "colorbar": {
             "outlinewidth": 0,
             "ticks": ""
            },
            "type": "contourcarpet"
           }
          ],
          "heatmap": [
           {
            "colorbar": {
             "outlinewidth": 0,
             "ticks": ""
            },
            "colorscale": [
             [
              0.0,
              "#0d0887"
             ],
             [
              0.1111111111111111,
              "#46039f"
             ],
             [
              0.2222222222222222,
              "#7201a8"
             ],
             [
              0.3333333333333333,
              "#9c179e"
             ],
             [
              0.4444444444444444,
              "#bd3786"
             ],
             [
              0.5555555555555556,
              "#d8576b"
             ],
             [
              0.6666666666666666,
              "#ed7953"
             ],
             [
              0.7777777777777778,
              "#fb9f3a"
             ],
             [
              0.8888888888888888,
              "#fdca26"
             ],
             [
              1.0,
              "#f0f921"
             ]
            ],
            "type": "heatmap"
           }
          ],
          "histogram": [
           {
            "marker": {
             "pattern": {
              "fillmode": "overlay",
              "size": 10,
              "solidity": 0.2
             }
            },
            "type": "histogram"
           }
          ],
          "histogram2d": [
           {
            "colorbar": {
             "outlinewidth": 0,
             "ticks": ""
            },
            "colorscale": [
             [
              0.0,
              "#0d0887"
             ],
             [
              0.1111111111111111,
              "#46039f"
             ],
             [
              0.2222222222222222,
              "#7201a8"
             ],
             [
              0.3333333333333333,
              "#9c179e"
             ],
             [
              0.4444444444444444,
              "#bd3786"
             ],
             [
              0.5555555555555556,
              "#d8576b"
             ],
             [
              0.6666666666666666,
              "#ed7953"
             ],
             [
              0.7777777777777778,
              "#fb9f3a"
             ],
             [
              0.8888888888888888,
              "#fdca26"
             ],
             [
              1.0,
              "#f0f921"
             ]
            ],
            "type": "histogram2d"
           }
          ],
          "histogram2dcontour": [
           {
            "colorbar": {
             "outlinewidth": 0,
             "ticks": ""
            },
            "colorscale": [
             [
              0.0,
              "#0d0887"
             ],
             [
              0.1111111111111111,
              "#46039f"
             ],
             [
              0.2222222222222222,
              "#7201a8"
             ],
             [
              0.3333333333333333,
              "#9c179e"
             ],
             [
              0.4444444444444444,
              "#bd3786"
             ],
             [
              0.5555555555555556,
              "#d8576b"
             ],
             [
              0.6666666666666666,
              "#ed7953"
             ],
             [
              0.7777777777777778,
              "#fb9f3a"
             ],
             [
              0.8888888888888888,
              "#fdca26"
             ],
             [
              1.0,
              "#f0f921"
             ]
            ],
            "type": "histogram2dcontour"
           }
          ],
          "mesh3d": [
           {
            "colorbar": {
             "outlinewidth": 0,
             "ticks": ""
            },
            "type": "mesh3d"
           }
          ],
          "parcoords": [
           {
            "line": {
             "colorbar": {
              "outlinewidth": 0,
              "ticks": ""
             }
            },
            "type": "parcoords"
           }
          ],
          "pie": [
           {
            "automargin": true,
            "type": "pie"
           }
          ],
          "scatter": [
           {
            "fillpattern": {
             "fillmode": "overlay",
             "size": 10,
             "solidity": 0.2
            },
            "type": "scatter"
           }
          ],
          "scatter3d": [
           {
            "line": {
             "colorbar": {
              "outlinewidth": 0,
              "ticks": ""
             }
            },
            "marker": {
             "colorbar": {
              "outlinewidth": 0,
              "ticks": ""
             }
            },
            "type": "scatter3d"
           }
          ],
          "scattercarpet": [
           {
            "marker": {
             "colorbar": {
              "outlinewidth": 0,
              "ticks": ""
             }
            },
            "type": "scattercarpet"
           }
          ],
          "scattergeo": [
           {
            "marker": {
             "colorbar": {
              "outlinewidth": 0,
              "ticks": ""
             }
            },
            "type": "scattergeo"
           }
          ],
          "scattergl": [
           {
            "marker": {
             "colorbar": {
              "outlinewidth": 0,
              "ticks": ""
             }
            },
            "type": "scattergl"
           }
          ],
          "scattermap": [
           {
            "marker": {
             "colorbar": {
              "outlinewidth": 0,
              "ticks": ""
             }
            },
            "type": "scattermap"
           }
          ],
          "scattermapbox": [
           {
            "marker": {
             "colorbar": {
              "outlinewidth": 0,
              "ticks": ""
             }
            },
            "type": "scattermapbox"
           }
          ],
          "scatterpolar": [
           {
            "marker": {
             "colorbar": {
              "outlinewidth": 0,
              "ticks": ""
             }
            },
            "type": "scatterpolar"
           }
          ],
          "scatterpolargl": [
           {
            "marker": {
             "colorbar": {
              "outlinewidth": 0,
              "ticks": ""
             }
            },
            "type": "scatterpolargl"
           }
          ],
          "scatterternary": [
           {
            "marker": {
             "colorbar": {
              "outlinewidth": 0,
              "ticks": ""
             }
            },
            "type": "scatterternary"
           }
          ],
          "surface": [
           {
            "colorbar": {
             "outlinewidth": 0,
             "ticks": ""
            },
            "colorscale": [
             [
              0.0,
              "#0d0887"
             ],
             [
              0.1111111111111111,
              "#46039f"
             ],
             [
              0.2222222222222222,
              "#7201a8"
             ],
             [
              0.3333333333333333,
              "#9c179e"
             ],
             [
              0.4444444444444444,
              "#bd3786"
             ],
             [
              0.5555555555555556,
              "#d8576b"
             ],
             [
              0.6666666666666666,
              "#ed7953"
             ],
             [
              0.7777777777777778,
              "#fb9f3a"
             ],
             [
              0.8888888888888888,
              "#fdca26"
             ],
             [
              1.0,
              "#f0f921"
             ]
            ],
            "type": "surface"
           }
          ],
          "table": [
           {
            "cells": {
             "fill": {
              "color": "#EBF0F8"
             },
             "line": {
              "color": "white"
             }
            },
            "header": {
             "fill": {
              "color": "#C8D4E3"
             },
             "line": {
              "color": "white"
             }
            },
            "type": "table"
           }
          ]
         },
         "layout": {
          "annotationdefaults": {
           "arrowcolor": "#2a3f5f",
           "arrowhead": 0,
           "arrowwidth": 1
          },
          "autotypenumbers": "strict",
          "coloraxis": {
           "colorbar": {
            "outlinewidth": 0,
            "ticks": ""
           }
          },
          "colorscale": {
           "diverging": [
            [
             0,
             "#8e0152"
            ],
            [
             0.1,
             "#c51b7d"
            ],
            [
             0.2,
             "#de77ae"
            ],
            [
             0.3,
             "#f1b6da"
            ],
            [
             0.4,
             "#fde0ef"
            ],
            [
             0.5,
             "#f7f7f7"
            ],
            [
             0.6,
             "#e6f5d0"
            ],
            [
             0.7,
             "#b8e186"
            ],
            [
             0.8,
             "#7fbc41"
            ],
            [
             0.9,
             "#4d9221"
            ],
            [
             1,
             "#276419"
            ]
           ],
           "sequential": [
            [
             0.0,
             "#0d0887"
            ],
            [
             0.1111111111111111,
             "#46039f"
            ],
            [
             0.2222222222222222,
             "#7201a8"
            ],
            [
             0.3333333333333333,
             "#9c179e"
            ],
            [
             0.4444444444444444,
             "#bd3786"
            ],
            [
             0.5555555555555556,
             "#d8576b"
            ],
            [
             0.6666666666666666,
             "#ed7953"
            ],
            [
             0.7777777777777778,
             "#fb9f3a"
            ],
            [
             0.8888888888888888,
             "#fdca26"
            ],
            [
             1.0,
             "#f0f921"
            ]
           ],
           "sequentialminus": [
            [
             0.0,
             "#0d0887"
            ],
            [
             0.1111111111111111,
             "#46039f"
            ],
            [
             0.2222222222222222,
             "#7201a8"
            ],
            [
             0.3333333333333333,
             "#9c179e"
            ],
            [
             0.4444444444444444,
             "#bd3786"
            ],
            [
             0.5555555555555556,
             "#d8576b"
            ],
            [
             0.6666666666666666,
             "#ed7953"
            ],
            [
             0.7777777777777778,
             "#fb9f3a"
            ],
            [
             0.8888888888888888,
             "#fdca26"
            ],
            [
             1.0,
             "#f0f921"
            ]
           ]
          },
          "colorway": [
           "#636efa",
           "#EF553B",
           "#00cc96",
           "#ab63fa",
           "#FFA15A",
           "#19d3f3",
           "#FF6692",
           "#B6E880",
           "#FF97FF",
           "#FECB52"
          ],
          "font": {
           "color": "#2a3f5f"
          },
          "geo": {
           "bgcolor": "white",
           "lakecolor": "white",
           "landcolor": "#E5ECF6",
           "showlakes": true,
           "showland": true,
           "subunitcolor": "white"
          },
          "hoverlabel": {
           "align": "left"
          },
          "hovermode": "closest",
          "mapbox": {
           "style": "light"
          },
          "paper_bgcolor": "white",
          "plot_bgcolor": "#E5ECF6",
          "polar": {
           "angularaxis": {
            "gridcolor": "white",
            "linecolor": "white",
            "ticks": ""
           },
           "bgcolor": "#E5ECF6",
           "radialaxis": {
            "gridcolor": "white",
            "linecolor": "white",
            "ticks": ""
           }
          },
          "scene": {
           "xaxis": {
            "backgroundcolor": "#E5ECF6",
            "gridcolor": "white",
            "gridwidth": 2,
            "linecolor": "white",
            "showbackground": true,
            "ticks": "",
            "zerolinecolor": "white"
           },
           "yaxis": {
            "backgroundcolor": "#E5ECF6",
            "gridcolor": "white",
            "gridwidth": 2,
            "linecolor": "white",
            "showbackground": true,
            "ticks": "",
            "zerolinecolor": "white"
           },
           "zaxis": {
            "backgroundcolor": "#E5ECF6",
            "gridcolor": "white",
            "gridwidth": 2,
            "linecolor": "white",
            "showbackground": true,
            "ticks": "",
            "zerolinecolor": "white"
           }
          },
          "shapedefaults": {
           "line": {
            "color": "#2a3f5f"
           }
          },
          "ternary": {
           "aaxis": {
            "gridcolor": "white",
            "linecolor": "white",
            "ticks": ""
           },
           "baxis": {
            "gridcolor": "white",
            "linecolor": "white",
            "ticks": ""
           },
           "bgcolor": "#E5ECF6",
           "caxis": {
            "gridcolor": "white",
            "linecolor": "white",
            "ticks": ""
           }
          },
          "title": {
           "x": 0.05
          },
          "xaxis": {
           "automargin": true,
           "gridcolor": "white",
           "linecolor": "white",
           "ticks": "",
           "title": {
            "standoff": 15
           },
           "zerolinecolor": "white",
           "zerolinewidth": 2
          },
          "yaxis": {
           "automargin": true,
           "gridcolor": "white",
           "linecolor": "white",
           "ticks": "",
           "title": {
            "standoff": 15
           },
           "zerolinecolor": "white",
           "zerolinewidth": 2
          }
         }
        },
        "title": {
         "font": {
          "size": 20
         },
         "text": "🎯 Mots les Plus Discriminants pour la Classification"
        },
        "width": 1200,
        "xaxis": {
         "anchor": "y",
         "domain": [
          0.0,
          0.45
         ],
         "title": {
          "text": "Coefficient"
         }
        },
        "xaxis2": {
         "anchor": "y2",
         "domain": [
          0.55,
          1.0
         ],
         "title": {
          "text": "Coefficient"
         }
        },
        "yaxis": {
         "anchor": "x",
         "domain": [
          0.0,
          1.0
         ]
        },
        "yaxis2": {
         "anchor": "x2",
         "domain": [
          0.0,
          1.0
         ]
        }
       }
      }
     },
     "metadata": {},
     "output_type": "display_data"
    }
   ],
   "source": [
    "# Analyse des mots les plus importants\n",
    "print('🔍 Analyse des caractéristiques importantes...')\n",
    "\n",
    "# Extraction des coefficients et noms des features\n",
    "feature_names = np.array(tfidf.get_feature_names_out())\n",
    "coefficients = logreg.coef_[0]\n",
    "\n",
    "# Identification des mots les plus discriminants\n",
    "n_features = 15\n",
    "\n",
    "# Mots associés aux SPAMS (coefficients positifs élevés)\n",
    "spam_indices = np.argsort(coefficients)[-n_features:]\n",
    "spam_words = feature_names[spam_indices]\n",
    "spam_coefs = coefficients[spam_indices]\n",
    "\n",
    "# Mots associés aux HAMS (coefficients négatifs élevés)\n",
    "ham_indices = np.argsort(coefficients)[:n_features]\n",
    "ham_words = feature_names[ham_indices]\n",
    "ham_coefs = coefficients[ham_indices]\n",
    "\n",
    "print(f'🔥 Top {n_features} mots indicateurs de SPAM:')\n",
    "for word, coef in zip(reversed(spam_words), reversed(spam_coefs)):\n",
    "    print(f'  📧 {word}: {coef:.4f}')\n",
    "\n",
    "print(f'\\n✅ Top {n_features} mots indicateurs de HAM:')\n",
    "for word, coef in zip(ham_words, ham_coefs):\n",
    "    print(f'  💌 {word}: {coef:.4f}')\n",
    "\n",
    "# Visualisation des mots importants\n",
    "fig = make_subplots(\n",
    "    rows=1, cols=2, \n",
    "    subplot_titles=('🔥 Mots Indicateurs de SPAM', '✅ Mots Indicateurs de HAM'),\n",
    "    horizontal_spacing=0.1\n",
    ")\n",
    "\n",
    "# Graphique pour les mots SPAM\n",
    "fig.add_trace(\n",
    "    go.Bar(\n",
    "        x=spam_coefs,\n",
    "        y=spam_words,\n",
    "        orientation='h',\n",
    "        marker_color='#ff9999',\n",
    "        name='Spam',\n",
    "        hovertemplate='<b>%{y}</b><br>Coefficient: %{x:.4f}<extra></extra>'\n",
    "    ),\n",
    "    row=1, col=1\n",
    ")\n",
    "\n",
    "# Graphique pour les mots HAM\n",
    "fig.add_trace(\n",
    "    go.Bar(\n",
    "        x=ham_coefs,\n",
    "        y=ham_words,\n",
    "        orientation='h',\n",
    "        marker_color='#66b3ff',\n",
    "        name='Ham',\n",
    "        hovertemplate='<b>%{y}</b><br>Coefficient: %{x:.4f}<extra></extra>'\n",
    "    ),\n",
    "    row=1, col=2\n",
    ")\n",
    "\n",
    "fig.update_layout(\n",
    "    title='🎯 Mots les Plus Discriminants pour la Classification',\n",
    "    title_font_size=20,\n",
    "    height=600,\n",
    "    width=1200,\n",
    "    showlegend=False,\n",
    "    font=dict(size=12)\n",
    ")\n",
    "\n",
    "fig.update_xaxes(title_text='Coefficient', row=1, col=1)\n",
    "fig.update_xaxes(title_text='Coefficient', row=1, col=2)\n",
    "\n",
    "fig.show()"
   ]
  },
  {
   "cell_type": "markdown",
   "id": "model-saving-section",
   "metadata": {},
   "source": [
    "## 💾 Sauvegarde du Modèle et Pipeline\n",
    "\n",
    "Création d'un pipeline complet et sauvegarde pour utilisation en production."
   ]
  },
  {
   "cell_type": "code",
   "execution_count": 18,
   "id": "model-saving",
   "metadata": {
    "execution": {
     "iopub.execute_input": "2025-09-04T16:03:42.459869Z",
     "iopub.status.busy": "2025-09-04T16:03:42.459869Z",
     "iopub.status.idle": "2025-09-04T16:03:42.713179Z",
     "shell.execute_reply": "2025-09-04T16:03:42.712138Z"
    }
   },
   "outputs": [
    {
     "name": "stdout",
     "output_type": "stream",
     "text": [
      "🔧 Création du pipeline de production...\n",
      "✅ Modèle sauvegardé avec succès!\n",
      "📂 Chemin: D:\\Documents\\HETIC\\BI\\TD_MLOPS\\models\\model.pkl\n",
      "📊 Taille du modèle: 0.22 MB\n"
     ]
    },
    {
     "name": "stdout",
     "output_type": "stream",
     "text": [
      "✅ Test de chargement réussi!\n"
     ]
    }
   ],
   "source": [
    "# Création du pipeline complet pour la production\n",
    "print('🔧 Création du pipeline de production...')\n",
    "\n",
    "# Pipeline intégrant TF-IDF et régression logistique\n",
    "production_pipeline = Pipeline([\n",
    "    ('tfidf', tfidf),\n",
    "    ('classifier', logreg)\n",
    "])\n",
    "\n",
    "# Création du répertoire models s'il n'existe pas\n",
    "MODEL_DIR.mkdir(parents=True, exist_ok=True)\n",
    "MODEL_PATH = MODEL_DIR / 'model.pkl'\n",
    "\n",
    "# Sauvegarde du modèle\n",
    "try:\n",
    "    joblib.dump(production_pipeline, MODEL_PATH)\n",
    "    print(f'✅ Modèle sauvegardé avec succès!')\n",
    "    print(f'📂 Chemin: {MODEL_PATH}')\n",
    "    \n",
    "    # Vérification de la taille du fichier\n",
    "    file_size = MODEL_PATH.stat().st_size / (1024 * 1024)  # Taille en MB\n",
    "    print(f'📊 Taille du modèle: {file_size:.2f} MB')\n",
    "    \n",
    "except Exception as e:\n",
    "    print(f'❌ Erreur lors de la sauvegarde: {e}')\n",
    "\n",
    "# Test de chargement du modèle\n",
    "try:\n",
    "    loaded_model = joblib.load(MODEL_PATH)\n",
    "    print('✅ Test de chargement réussi!')\n",
    "except Exception as e:\n",
    "    print(f'❌ Erreur lors du chargement: {e}')"
   ]
  },
  {
   "cell_type": "markdown",
   "id": "practical-examples-section",
   "metadata": {},
   "source": [
    "## 🧪 Exemples Pratiques de Prédiction\n",
    "\n",
    "Démonstration du modèle sur des exemples concrets de messages."
   ]
  },
  {
   "cell_type": "code",
   "execution_count": 19,
   "id": "practical-examples",
   "metadata": {
    "execution": {
     "iopub.execute_input": "2025-09-04T16:03:42.722624Z",
     "iopub.status.busy": "2025-09-04T16:03:42.721630Z",
     "iopub.status.idle": "2025-09-04T16:03:42.749580Z",
     "shell.execute_reply": "2025-09-04T16:03:42.747585Z"
    }
   },
   "outputs": [
    {
     "name": "stdout",
     "output_type": "stream",
     "text": [
      "🧪 Test du modèle sur des exemples concrets...\n",
      "============================================================\n",
      "📧 Exemple 1: Spam évident\n",
      "💬 Message: \"Congratulations! You've won a $1000 gift card. Cli...\"\n",
      "🚫 Prédiction: SPAM\n",
      "📊 Confiance: 88.2%\n",
      "📈 Probabilités:\n",
      "   • Ham (légitime): 11.8%\n",
      "   • Spam (indésirable): 88.2%\n",
      "------------------------------------------------------------\n",
      "📧 Exemple 2: Phishing potentiel\n",
      "💬 Message: \"URGENT: Your account will be suspended. Verify you...\"\n",
      "🚫 Prédiction: SPAM\n",
      "📊 Confiance: 68.0%\n",
      "📈 Probabilités:\n",
      "   • Ham (légitime): 32.0%\n",
      "   • Spam (indésirable): 68.0%\n",
      "------------------------------------------------------------\n",
      "📧 Exemple 3: Message personnel légitime\n",
      "💬 Message: \"Hey, are we still meeting for lunch at noon tomorr...\"\n",
      "✅ Prédiction: HAM\n",
      "📊 Confiance: 96.1%\n",
      "📈 Probabilités:\n",
      "   • Ham (légitime): 96.1%\n",
      "   • Spam (indésirable): 3.9%\n",
      "------------------------------------------------------------\n",
      "📧 Exemple 4: Notification commerciale\n",
      "💬 Message: \"Your order #12345 has been shipped and will arrive...\"\n",
      "✅ Prédiction: HAM\n",
      "📊 Confiance: 53.6%\n",
      "📈 Probabilités:\n",
      "   • Ham (légitime): 53.6%\n",
      "   • Spam (indésirable): 46.4%\n",
      "------------------------------------------------------------\n",
      "📧 Exemple 5: Spam agressif\n",
      "💬 Message: \"FREE! Call now to claim your prize! Limited time o...\"\n",
      "🚫 Prédiction: SPAM\n",
      "📊 Confiance: 93.6%\n",
      "📈 Probabilités:\n",
      "   • Ham (légitime): 6.4%\n",
      "   • Spam (indésirable): 93.6%\n",
      "------------------------------------------------------------\n",
      "🎉 Tests terminés! Le modèle est prêt pour la production.\n"
     ]
    }
   ],
   "source": [
    "# Exemples de messages pour tester le modèle\n",
    "print('🧪 Test du modèle sur des exemples concrets...')\n",
    "print('=' * 60)\n",
    "\n",
    "# Messages d'exemple variés\n",
    "test_messages = [\n",
    "    {\n",
    "        'message': \"Congratulations! You've won a $1000 gift card. Click here to claim your prize NOW!\",\n",
    "        'type': 'Spam évident'\n",
    "    },\n",
    "    {\n",
    "        'message': \"URGENT: Your account will be suspended. Verify your identity immediately by clicking this link.\",\n",
    "        'type': 'Phishing potentiel'\n",
    "    },\n",
    "    {\n",
    "        'message': \"Hey, are we still meeting for lunch at noon tomorrow? Let me know!\",\n",
    "        'type': 'Message personnel légitime'\n",
    "    },\n",
    "    {\n",
    "        'message': \"Your order #12345 has been shipped and will arrive in 2-3 business days.\",\n",
    "        'type': 'Notification commerciale'\n",
    "    },\n",
    "    {\n",
    "        'message': \"FREE! Call now to claim your prize! Limited time offer! Act fast!\",\n",
    "        'type': 'Spam agressif'\n",
    "    }\n",
    "]\n",
    "\n",
    "# Test de chaque message\n",
    "for i, example in enumerate(test_messages, 1):\n",
    "    message = example['message']\n",
    "    message_type = example['type']\n",
    "    \n",
    "    # Prédiction\n",
    "    prediction = production_pipeline.predict([message])[0]\n",
    "    probabilities = production_pipeline.predict_proba([message])[0]\n",
    "    \n",
    "    # Probabilités pour chaque classe\n",
    "    prob_ham = probabilities[0]\n",
    "    prob_spam = probabilities[1]\n",
    "    \n",
    "    # Affichage des résultats\n",
    "    print(f'📧 Exemple {i}: {message_type}')\n",
    "    print(f'💬 Message: \"{message[:50]}...\"')\n",
    "    \n",
    "    # Émoji selon la prédiction\n",
    "    emoji = '🚫' if prediction == 'spam' else '✅'\n",
    "    confidence = max(prob_ham, prob_spam)\n",
    "    \n",
    "    print(f'{emoji} Prédiction: {prediction.upper()}')\n",
    "    print(f'📊 Confiance: {confidence:.1%}')\n",
    "    print(f'📈 Probabilités:')\n",
    "    print(f'   • Ham (légitime): {prob_ham:.1%}')\n",
    "    print(f'   • Spam (indésirable): {prob_spam:.1%}')\n",
    "    print('-' * 60)\n",
    "\n",
    "print('🎉 Tests terminés! Le modèle est prêt pour la production.')"
   ]
  },
  {
   "cell_type": "markdown",
   "id": "conclusion-section",
   "metadata": {},
   "source": [
    "## 🎯 Conclusion et Intégration\n",
    "\n",
    "### Résumé des Performances\n",
    "\n",
    "Le modèle de détection de spam développé utilise:\n",
    "- **TF-IDF Vectorization** pour la transformation des textes\n",
    "- **Régression Logistique** pour la classification\n",
    "- **Équilibrage des classes** pour traiter le déséquilibre\n",
    "\n",
    "### Intégration avec Streamlit\n",
    "\n",
    "Le modèle sauvegardé peut être directement utilisé dans l'application Streamlit via:\n",
    "```python\n",
    "import joblib\n",
    "model = joblib.load('models/model.pkl')\n",
    "prediction = model.predict([message])\n",
    "```\n",
    "\n",
    "### Améliorations Possibles\n",
    "\n",
    "- Utilisation de modèles plus avancés (BERT, transformers)\n",
    "- Augmentation du dataset d'entraînement\n",
    "- Optimisation des hyperparamètres\n",
    "- Validation croisée plus poussée"
   ]
  },
  {
   "cell_type": "markdown",
   "id": "visualizations-section",
   "metadata": {},
   "source": [
    "## 📊 Visualisations des Données\n",
    "\n",
    "Analyse visuelle de la distribution des données et des caractéristiques des messages."
   ]
  },
  {
   "cell_type": "code",
   "execution_count": 20,
   "id": "ab26d9dc",
   "metadata": {
    "execution": {
     "iopub.execute_input": "2025-09-04T16:03:42.756579Z",
     "iopub.status.busy": "2025-09-04T16:03:42.756579Z",
     "iopub.status.idle": "2025-09-04T16:03:42.841726Z",
     "shell.execute_reply": "2025-09-04T16:03:42.840716Z"
    }
   },
   "outputs": [
    {
     "data": {
      "application/vnd.plotly.v1+json": {
       "config": {
        "plotlyServerURL": "https://plot.ly"
       },
       "data": [
        {
         "domain": {
          "x": [
           0.0,
           1.0
          ],
          "y": [
           0.0,
           1.0
          ]
         },
         "hole": 0.3,
         "hovertemplate": "label=%{label}<br>value=%{value}<extra></extra>",
         "labels": [
          "ham",
          "spam"
         ],
         "legendgroup": "",
         "name": "",
         "showlegend": true,
         "textfont": {
          "size": 12
         },
         "textinfo": "percent+label",
         "textposition": "inside",
         "type": "pie",
         "values": {
          "bdata": "2RLrAg==",
          "dtype": "i2"
         }
        }
       ],
       "layout": {
        "font": {
         "size": 14
        },
        "height": 500,
        "legend": {
         "tracegroupgap": 0
        },
        "showlegend": true,
        "template": {
         "data": {
          "bar": [
           {
            "error_x": {
             "color": "#2a3f5f"
            },
            "error_y": {
             "color": "#2a3f5f"
            },
            "marker": {
             "line": {
              "color": "#E5ECF6",
              "width": 0.5
             },
             "pattern": {
              "fillmode": "overlay",
              "size": 10,
              "solidity": 0.2
             }
            },
            "type": "bar"
           }
          ],
          "barpolar": [
           {
            "marker": {
             "line": {
              "color": "#E5ECF6",
              "width": 0.5
             },
             "pattern": {
              "fillmode": "overlay",
              "size": 10,
              "solidity": 0.2
             }
            },
            "type": "barpolar"
           }
          ],
          "carpet": [
           {
            "aaxis": {
             "endlinecolor": "#2a3f5f",
             "gridcolor": "white",
             "linecolor": "white",
             "minorgridcolor": "white",
             "startlinecolor": "#2a3f5f"
            },
            "baxis": {
             "endlinecolor": "#2a3f5f",
             "gridcolor": "white",
             "linecolor": "white",
             "minorgridcolor": "white",
             "startlinecolor": "#2a3f5f"
            },
            "type": "carpet"
           }
          ],
          "choropleth": [
           {
            "colorbar": {
             "outlinewidth": 0,
             "ticks": ""
            },
            "type": "choropleth"
           }
          ],
          "contour": [
           {
            "colorbar": {
             "outlinewidth": 0,
             "ticks": ""
            },
            "colorscale": [
             [
              0.0,
              "#0d0887"
             ],
             [
              0.1111111111111111,
              "#46039f"
             ],
             [
              0.2222222222222222,
              "#7201a8"
             ],
             [
              0.3333333333333333,
              "#9c179e"
             ],
             [
              0.4444444444444444,
              "#bd3786"
             ],
             [
              0.5555555555555556,
              "#d8576b"
             ],
             [
              0.6666666666666666,
              "#ed7953"
             ],
             [
              0.7777777777777778,
              "#fb9f3a"
             ],
             [
              0.8888888888888888,
              "#fdca26"
             ],
             [
              1.0,
              "#f0f921"
             ]
            ],
            "type": "contour"
           }
          ],
          "contourcarpet": [
           {
            "colorbar": {
             "outlinewidth": 0,
             "ticks": ""
            },
            "type": "contourcarpet"
           }
          ],
          "heatmap": [
           {
            "colorbar": {
             "outlinewidth": 0,
             "ticks": ""
            },
            "colorscale": [
             [
              0.0,
              "#0d0887"
             ],
             [
              0.1111111111111111,
              "#46039f"
             ],
             [
              0.2222222222222222,
              "#7201a8"
             ],
             [
              0.3333333333333333,
              "#9c179e"
             ],
             [
              0.4444444444444444,
              "#bd3786"
             ],
             [
              0.5555555555555556,
              "#d8576b"
             ],
             [
              0.6666666666666666,
              "#ed7953"
             ],
             [
              0.7777777777777778,
              "#fb9f3a"
             ],
             [
              0.8888888888888888,
              "#fdca26"
             ],
             [
              1.0,
              "#f0f921"
             ]
            ],
            "type": "heatmap"
           }
          ],
          "histogram": [
           {
            "marker": {
             "pattern": {
              "fillmode": "overlay",
              "size": 10,
              "solidity": 0.2
             }
            },
            "type": "histogram"
           }
          ],
          "histogram2d": [
           {
            "colorbar": {
             "outlinewidth": 0,
             "ticks": ""
            },
            "colorscale": [
             [
              0.0,
              "#0d0887"
             ],
             [
              0.1111111111111111,
              "#46039f"
             ],
             [
              0.2222222222222222,
              "#7201a8"
             ],
             [
              0.3333333333333333,
              "#9c179e"
             ],
             [
              0.4444444444444444,
              "#bd3786"
             ],
             [
              0.5555555555555556,
              "#d8576b"
             ],
             [
              0.6666666666666666,
              "#ed7953"
             ],
             [
              0.7777777777777778,
              "#fb9f3a"
             ],
             [
              0.8888888888888888,
              "#fdca26"
             ],
             [
              1.0,
              "#f0f921"
             ]
            ],
            "type": "histogram2d"
           }
          ],
          "histogram2dcontour": [
           {
            "colorbar": {
             "outlinewidth": 0,
             "ticks": ""
            },
            "colorscale": [
             [
              0.0,
              "#0d0887"
             ],
             [
              0.1111111111111111,
              "#46039f"
             ],
             [
              0.2222222222222222,
              "#7201a8"
             ],
             [
              0.3333333333333333,
              "#9c179e"
             ],
             [
              0.4444444444444444,
              "#bd3786"
             ],
             [
              0.5555555555555556,
              "#d8576b"
             ],
             [
              0.6666666666666666,
              "#ed7953"
             ],
             [
              0.7777777777777778,
              "#fb9f3a"
             ],
             [
              0.8888888888888888,
              "#fdca26"
             ],
             [
              1.0,
              "#f0f921"
             ]
            ],
            "type": "histogram2dcontour"
           }
          ],
          "mesh3d": [
           {
            "colorbar": {
             "outlinewidth": 0,
             "ticks": ""
            },
            "type": "mesh3d"
           }
          ],
          "parcoords": [
           {
            "line": {
             "colorbar": {
              "outlinewidth": 0,
              "ticks": ""
             }
            },
            "type": "parcoords"
           }
          ],
          "pie": [
           {
            "automargin": true,
            "type": "pie"
           }
          ],
          "scatter": [
           {
            "fillpattern": {
             "fillmode": "overlay",
             "size": 10,
             "solidity": 0.2
            },
            "type": "scatter"
           }
          ],
          "scatter3d": [
           {
            "line": {
             "colorbar": {
              "outlinewidth": 0,
              "ticks": ""
             }
            },
            "marker": {
             "colorbar": {
              "outlinewidth": 0,
              "ticks": ""
             }
            },
            "type": "scatter3d"
           }
          ],
          "scattercarpet": [
           {
            "marker": {
             "colorbar": {
              "outlinewidth": 0,
              "ticks": ""
             }
            },
            "type": "scattercarpet"
           }
          ],
          "scattergeo": [
           {
            "marker": {
             "colorbar": {
              "outlinewidth": 0,
              "ticks": ""
             }
            },
            "type": "scattergeo"
           }
          ],
          "scattergl": [
           {
            "marker": {
             "colorbar": {
              "outlinewidth": 0,
              "ticks": ""
             }
            },
            "type": "scattergl"
           }
          ],
          "scattermap": [
           {
            "marker": {
             "colorbar": {
              "outlinewidth": 0,
              "ticks": ""
             }
            },
            "type": "scattermap"
           }
          ],
          "scattermapbox": [
           {
            "marker": {
             "colorbar": {
              "outlinewidth": 0,
              "ticks": ""
             }
            },
            "type": "scattermapbox"
           }
          ],
          "scatterpolar": [
           {
            "marker": {
             "colorbar": {
              "outlinewidth": 0,
              "ticks": ""
             }
            },
            "type": "scatterpolar"
           }
          ],
          "scatterpolargl": [
           {
            "marker": {
             "colorbar": {
              "outlinewidth": 0,
              "ticks": ""
             }
            },
            "type": "scatterpolargl"
           }
          ],
          "scatterternary": [
           {
            "marker": {
             "colorbar": {
              "outlinewidth": 0,
              "ticks": ""
             }
            },
            "type": "scatterternary"
           }
          ],
          "surface": [
           {
            "colorbar": {
             "outlinewidth": 0,
             "ticks": ""
            },
            "colorscale": [
             [
              0.0,
              "#0d0887"
             ],
             [
              0.1111111111111111,
              "#46039f"
             ],
             [
              0.2222222222222222,
              "#7201a8"
             ],
             [
              0.3333333333333333,
              "#9c179e"
             ],
             [
              0.4444444444444444,
              "#bd3786"
             ],
             [
              0.5555555555555556,
              "#d8576b"
             ],
             [
              0.6666666666666666,
              "#ed7953"
             ],
             [
              0.7777777777777778,
              "#fb9f3a"
             ],
             [
              0.8888888888888888,
              "#fdca26"
             ],
             [
              1.0,
              "#f0f921"
             ]
            ],
            "type": "surface"
           }
          ],
          "table": [
           {
            "cells": {
             "fill": {
              "color": "#EBF0F8"
             },
             "line": {
              "color": "white"
             }
            },
            "header": {
             "fill": {
              "color": "#C8D4E3"
             },
             "line": {
              "color": "white"
             }
            },
            "type": "table"
           }
          ]
         },
         "layout": {
          "annotationdefaults": {
           "arrowcolor": "#2a3f5f",
           "arrowhead": 0,
           "arrowwidth": 1
          },
          "autotypenumbers": "strict",
          "coloraxis": {
           "colorbar": {
            "outlinewidth": 0,
            "ticks": ""
           }
          },
          "colorscale": {
           "diverging": [
            [
             0,
             "#8e0152"
            ],
            [
             0.1,
             "#c51b7d"
            ],
            [
             0.2,
             "#de77ae"
            ],
            [
             0.3,
             "#f1b6da"
            ],
            [
             0.4,
             "#fde0ef"
            ],
            [
             0.5,
             "#f7f7f7"
            ],
            [
             0.6,
             "#e6f5d0"
            ],
            [
             0.7,
             "#b8e186"
            ],
            [
             0.8,
             "#7fbc41"
            ],
            [
             0.9,
             "#4d9221"
            ],
            [
             1,
             "#276419"
            ]
           ],
           "sequential": [
            [
             0.0,
             "#0d0887"
            ],
            [
             0.1111111111111111,
             "#46039f"
            ],
            [
             0.2222222222222222,
             "#7201a8"
            ],
            [
             0.3333333333333333,
             "#9c179e"
            ],
            [
             0.4444444444444444,
             "#bd3786"
            ],
            [
             0.5555555555555556,
             "#d8576b"
            ],
            [
             0.6666666666666666,
             "#ed7953"
            ],
            [
             0.7777777777777778,
             "#fb9f3a"
            ],
            [
             0.8888888888888888,
             "#fdca26"
            ],
            [
             1.0,
             "#f0f921"
            ]
           ],
           "sequentialminus": [
            [
             0.0,
             "#0d0887"
            ],
            [
             0.1111111111111111,
             "#46039f"
            ],
            [
             0.2222222222222222,
             "#7201a8"
            ],
            [
             0.3333333333333333,
             "#9c179e"
            ],
            [
             0.4444444444444444,
             "#bd3786"
            ],
            [
             0.5555555555555556,
             "#d8576b"
            ],
            [
             0.6666666666666666,
             "#ed7953"
            ],
            [
             0.7777777777777778,
             "#fb9f3a"
            ],
            [
             0.8888888888888888,
             "#fdca26"
            ],
            [
             1.0,
             "#f0f921"
            ]
           ]
          },
          "colorway": [
           "#636efa",
           "#EF553B",
           "#00cc96",
           "#ab63fa",
           "#FFA15A",
           "#19d3f3",
           "#FF6692",
           "#B6E880",
           "#FF97FF",
           "#FECB52"
          ],
          "font": {
           "color": "#2a3f5f"
          },
          "geo": {
           "bgcolor": "white",
           "lakecolor": "white",
           "landcolor": "#E5ECF6",
           "showlakes": true,
           "showland": true,
           "subunitcolor": "white"
          },
          "hoverlabel": {
           "align": "left"
          },
          "hovermode": "closest",
          "mapbox": {
           "style": "light"
          },
          "paper_bgcolor": "white",
          "plot_bgcolor": "#E5ECF6",
          "polar": {
           "angularaxis": {
            "gridcolor": "white",
            "linecolor": "white",
            "ticks": ""
           },
           "bgcolor": "#E5ECF6",
           "radialaxis": {
            "gridcolor": "white",
            "linecolor": "white",
            "ticks": ""
           }
          },
          "scene": {
           "xaxis": {
            "backgroundcolor": "#E5ECF6",
            "gridcolor": "white",
            "gridwidth": 2,
            "linecolor": "white",
            "showbackground": true,
            "ticks": "",
            "zerolinecolor": "white"
           },
           "yaxis": {
            "backgroundcolor": "#E5ECF6",
            "gridcolor": "white",
            "gridwidth": 2,
            "linecolor": "white",
            "showbackground": true,
            "ticks": "",
            "zerolinecolor": "white"
           },
           "zaxis": {
            "backgroundcolor": "#E5ECF6",
            "gridcolor": "white",
            "gridwidth": 2,
            "linecolor": "white",
            "showbackground": true,
            "ticks": "",
            "zerolinecolor": "white"
           }
          },
          "shapedefaults": {
           "line": {
            "color": "#2a3f5f"
           }
          },
          "ternary": {
           "aaxis": {
            "gridcolor": "white",
            "linecolor": "white",
            "ticks": ""
           },
           "baxis": {
            "gridcolor": "white",
            "linecolor": "white",
            "ticks": ""
           },
           "bgcolor": "#E5ECF6",
           "caxis": {
            "gridcolor": "white",
            "linecolor": "white",
            "ticks": ""
           }
          },
          "title": {
           "x": 0.05
          },
          "xaxis": {
           "automargin": true,
           "gridcolor": "white",
           "linecolor": "white",
           "ticks": "",
           "title": {
            "standoff": 15
           },
           "zerolinecolor": "white",
           "zerolinewidth": 2
          },
          "yaxis": {
           "automargin": true,
           "gridcolor": "white",
           "linecolor": "white",
           "ticks": "",
           "title": {
            "standoff": 15
           },
           "zerolinecolor": "white",
           "zerolinewidth": 2
          }
         }
        },
        "title": {
         "text": "📊 Distribution des Catégories de Messages"
        },
        "width": 600
       }
      }
     },
     "metadata": {},
     "output_type": "display_data"
    }
   ],
   "source": [
    "# Distribution des catégories\n",
    "category_counts = df['Category'].value_counts()\n",
    "\n",
    "# Graphique en secteurs avec Plotly\n",
    "fig = px.pie(\n",
    "    values=category_counts.values,\n",
    "    names=category_counts.index,\n",
    "    title='📊 Distribution des Catégories de Messages',\n",
    "    color_discrete_map={'ham': '#2E8B57', 'spam': '#DC143C'},\n",
    "    hole=0.3\n",
    ")\n",
    "\n",
    "fig.update_traces(\n",
    "    textposition='inside',\n",
    "    textinfo='percent+label',\n",
    "    textfont_size=12\n",
    ")\n",
    "\n",
    "fig.update_layout(\n",
    "    font=dict(size=14),\n",
    "    showlegend=True,\n",
    "    width=600,\n",
    "    height=500\n",
    ")\n",
    "\n",
    "fig.show()"
   ]
  },
  {
   "cell_type": "code",
   "execution_count": 21,
   "id": "e9895d56",
   "metadata": {
    "execution": {
     "iopub.execute_input": "2025-09-04T16:03:42.844909Z",
     "iopub.status.busy": "2025-09-04T16:03:42.844909Z",
     "iopub.status.idle": "2025-09-04T16:03:42.869304Z",
     "shell.execute_reply": "2025-09-04T16:03:42.866284Z"
    }
   },
   "outputs": [
    {
     "name": "stdout",
     "output_type": "stream",
     "text": [
      "📏 Statistiques de longueur des messages:\n",
      "\n",
      "🔹 Messages HAM:\n",
      "count    4825.000000\n",
      "mean       71.448290\n",
      "std        58.434864\n",
      "min         2.000000\n",
      "25%        33.000000\n",
      "50%        52.000000\n",
      "75%        93.000000\n",
      "max       910.000000\n",
      "Name: message_length, dtype: float64\n",
      "\n",
      "🔹 Messages SPAM:\n",
      "count    747.000000\n",
      "mean     137.989290\n",
      "std       29.980287\n",
      "min        7.000000\n",
      "25%      132.000000\n",
      "50%      149.000000\n",
      "75%      157.000000\n",
      "max      223.000000\n",
      "Name: message_length, dtype: float64\n"
     ]
    }
   ],
   "source": [
    "# Analyse de la longueur des messages\n",
    "df['message_length'] = df['Message'].str.len()\n",
    "\n",
    "print('📏 Statistiques de longueur des messages:')\n",
    "print(f'\\n🔹 Messages HAM:')\n",
    "ham_stats = df[df['Category'] == 'ham']['message_length'].describe()\n",
    "print(ham_stats)\n",
    "\n",
    "print(f'\\n🔹 Messages SPAM:')\n",
    "spam_stats = df[df['Category'] == 'spam']['message_length'].describe()\n",
    "print(spam_stats)"
   ]
  },
  {
   "cell_type": "code",
   "execution_count": 22,
   "id": "message-length-histogram",
   "metadata": {
    "execution": {
     "iopub.execute_input": "2025-09-04T16:03:42.873297Z",
     "iopub.status.busy": "2025-09-04T16:03:42.872298Z",
     "iopub.status.idle": "2025-09-04T16:03:42.969588Z",
     "shell.execute_reply": "2025-09-04T16:03:42.966572Z"
    }
   },
   "outputs": [
    {
     "data": {
      "application/vnd.plotly.v1+json": {
       "config": {
        "plotlyServerURL": "https://plot.ly"
       },
       "data": [
        {
         "bingroup": "x",
         "hovertemplate": "Category=ham<br>Longueur du Message (caractères)=%{x}<br>count=%{y}<extra></extra>",
         "legendgroup": "ham",
         "marker": {
          "color": "#2E8B57",
          "opacity": 0.7,
          "pattern": {
           "shape": ""
          }
         },
         "name": "ham",
         "nbinsx": 50,
         "orientation": "v",
         "showlegend": true,
         "type": "histogram",
         "x": {
          "bdata": "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",
          "dtype": "i2"
         },
         "xaxis": "x",
         "yaxis": "y"
        },
        {
         "bingroup": "x",
         "hovertemplate": "Category=spam<br>Longueur du Message (caractères)=%{x}<br>count=%{y}<extra></extra>",
         "legendgroup": "spam",
         "marker": {
          "color": "#DC143C",
          "opacity": 0.7,
          "pattern": {
           "shape": ""
          }
         },
         "name": "spam",
         "nbinsx": 50,
         "orientation": "v",
         "showlegend": true,
         "type": "histogram",
         "x": {
          "bdata": "mwCTAJ0AmgCIAJsAlQCbAJ4ArAB4AKAAmACfAE4AiQCeAJ4AlwCQAJwAnAB9AKIAmwCfAHwAkQCYAJsAnACTAEgAjgCJAJ0AkQCWAJoAeQCfAIUAmwCfAJIAigCFAJ0AgACeAG8AlgCUAKUAgQCdAJUAmwCcADEAagCfAKIAiACdAKIArwChAJ8AkgCgAAcAkwCSAFkAkACeAG8AkQBgAJ4ARQBjAJUAfgCOAJQAVgCGAIwAggCUAI8AiABhADsAXQCZAJ4AbwCbAKAAJQAHAJEAZQCUAIMAZgBBAF8AnwCVAGMAgQCdAKAAmACiAI0AlACFAJwAoQCTAJgAlQCbAKAAmACeAJAAoACVAIYAmgCcAIgAhACPAH8AngCiAJsAiwCeAJQAhACJACkAnACNAJMAlgCeAJwAZQBoAIcAmACPAIYAnABaAJgAkQCNAJ8ARQCcAJkAnABoAHgAngBzAIsAmwCfAJoAMQCRAJQAMgCPAJEAnwB6AFEAeACSAEIAogCbAIoAfQCaAGUAlwCZAJ8AjwCjAI8AlgBHAIwAjQCfAJkAUQCYAJ4AoACCAJoAegB5AJ0AngCWAJwAkQCVAIgAkQCPAJkAhABHAJIAoQCbAKAAegCSAJ8AnQBJAKwAcgB9AJQAkQCKAN8AngCbAI4AogAhAJoAogCaAIQAmgCXAKEAngCZAHMAVACbAIQAmgCYAKMAnACPAJ4AkACNAJ8AoACcAEoAgwBnAJkAgQCPAHYAnQCbAJgAngChAJUAoQAeAJsAnwCQAJ8AmgCdAKEAnwAHAIkAmgChAJMAnACYAJ4AnwCaAJwAtQCfAJwAmwCgAHkAIQCfADAAtwCgAJEAoACWAJ0AcgCmAKAAdgBSAJUAoQCeAJ0AbQChAJgAngCYAJ0AmAB5AJ8AdACnAJUAngBjAGUAnABGAKAAmQCFAIIAmQCIAJoArQBqAJkAkgCCAKUAogCCAIgAnQCYAJ4AGACcAKAAdgCHAJcApQCeAJsAjQB8AHsAfgAhAJ0AoACIAJgAnQCgAG4AnQCXADQAmACMAJgAowCLAIgAlAAwAGQAdwCTAIcAnwBqAJMAegCGAG4AogBuAJgAmACNAJMAeQCMAHAAjwCLAJwAkACRAKAAlwBlAHIAngCZAJIAngCdAIgAjgCcAK0AMgCKAGkAnACGACgAkgCMAE4AlQCgAFEAfgCYAJ0AiACdAJgAQACgAJ0AoABqAIsAmQCZAGUAnACUAIwAoQCcAJUAnQCYAKEAnABEAIIAhQCQAJUAjgCbAJ0AcgClAJwAmACbAJsAlgCxAJ0AcgDFAJwADQCTAGUAbQCeAIgAngBWAJsAnACeAJ4AdgCgAKEAlwCKAG0AagBgAJcAlgCZAHgAgACRAFYAnQBkAHIAiQCGAJIAoAASAD8AiQBfAI8AngChAJMASQCeAJ4AkwAtAJwAmgCeAJQAjABqAHIAmgCUAIcApgCEAHoAjQCdAJgAkgCgAJ8AkACaAHAAnQCPAJUAngCbAJMAnQBIAJ0AnwCHAGkASgCcAJgAiACjAJ0ASgCbAFEAigCgAIYAoQCRAKMAfgCHAIQAkQCQAJwASACEAFEAiQCfAJUALwBBAHsAngBJADMAoQCiAKAAjwCcAI4AcwCfAJgAfgCeAJ4AmwCQAGwAiQClAI8AmwCbAIgAmACgAJoAhACZAI8AmgBqAKAAmwCPAIoAWQCSAIcAngCZAEUAlwCYAIcAhgCfAF8AiQCTAJQAhACRAIYAtQCbAJkAnwB8AHYAiQCMAJkAnwCHAIoArwClAJoAmgCSAIUAfgCVAIcAbQCfAJEAggCgAIcAggCeAJUAmQAvAJ4AnAAsAKIAogCbAKAAdwCOAJwAlQCXAKIAoACIAJIAngCaAH4AkACPAJsAmgCaAJwAnABwAGoAmwCcAIsAWgCfACoAagCiAEYAbACdAJMAUwCbAI4AlACRAKAAngCUAJgAhgBaAJ4AoACTAKAA",
          "dtype": "i2"
         },
         "xaxis": "x",
         "yaxis": "y"
        }
       ],
       "layout": {
        "bargap": 0.1,
        "barmode": "relative",
        "font": {
         "size": 12
        },
        "height": 500,
        "legend": {
         "title": {
          "text": "Category"
         },
         "tracegroupgap": 0
        },
        "template": {
         "data": {
          "bar": [
           {
            "error_x": {
             "color": "#2a3f5f"
            },
            "error_y": {
             "color": "#2a3f5f"
            },
            "marker": {
             "line": {
              "color": "#E5ECF6",
              "width": 0.5
             },
             "pattern": {
              "fillmode": "overlay",
              "size": 10,
              "solidity": 0.2
             }
            },
            "type": "bar"
           }
          ],
          "barpolar": [
           {
            "marker": {
             "line": {
              "color": "#E5ECF6",
              "width": 0.5
             },
             "pattern": {
              "fillmode": "overlay",
              "size": 10,
              "solidity": 0.2
             }
            },
            "type": "barpolar"
           }
          ],
          "carpet": [
           {
            "aaxis": {
             "endlinecolor": "#2a3f5f",
             "gridcolor": "white",
             "linecolor": "white",
             "minorgridcolor": "white",
             "startlinecolor": "#2a3f5f"
            },
            "baxis": {
             "endlinecolor": "#2a3f5f",
             "gridcolor": "white",
             "linecolor": "white",
             "minorgridcolor": "white",
             "startlinecolor": "#2a3f5f"
            },
            "type": "carpet"
           }
          ],
          "choropleth": [
           {
            "colorbar": {
             "outlinewidth": 0,
             "ticks": ""
            },
            "type": "choropleth"
           }
          ],
          "contour": [
           {
            "colorbar": {
             "outlinewidth": 0,
             "ticks": ""
            },
            "colorscale": [
             [
              0.0,
              "#0d0887"
             ],
             [
              0.1111111111111111,
              "#46039f"
             ],
             [
              0.2222222222222222,
              "#7201a8"
             ],
             [
              0.3333333333333333,
              "#9c179e"
             ],
             [
              0.4444444444444444,
              "#bd3786"
             ],
             [
              0.5555555555555556,
              "#d8576b"
             ],
             [
              0.6666666666666666,
              "#ed7953"
             ],
             [
              0.7777777777777778,
              "#fb9f3a"
             ],
             [
              0.8888888888888888,
              "#fdca26"
             ],
             [
              1.0,
              "#f0f921"
             ]
            ],
            "type": "contour"
           }
          ],
          "contourcarpet": [
           {
            "colorbar": {
             "outlinewidth": 0,
             "ticks": ""
            },
            "type": "contourcarpet"
           }
          ],
          "heatmap": [
           {
            "colorbar": {
             "outlinewidth": 0,
             "ticks": ""
            },
            "colorscale": [
             [
              0.0,
              "#0d0887"
             ],
             [
              0.1111111111111111,
              "#46039f"
             ],
             [
              0.2222222222222222,
              "#7201a8"
             ],
             [
              0.3333333333333333,
              "#9c179e"
             ],
             [
              0.4444444444444444,
              "#bd3786"
             ],
             [
              0.5555555555555556,
              "#d8576b"
             ],
             [
              0.6666666666666666,
              "#ed7953"
             ],
             [
              0.7777777777777778,
              "#fb9f3a"
             ],
             [
              0.8888888888888888,
              "#fdca26"
             ],
             [
              1.0,
              "#f0f921"
             ]
            ],
            "type": "heatmap"
           }
          ],
          "histogram": [
           {
            "marker": {
             "pattern": {
              "fillmode": "overlay",
              "size": 10,
              "solidity": 0.2
             }
            },
            "type": "histogram"
           }
          ],
          "histogram2d": [
           {
            "colorbar": {
             "outlinewidth": 0,
             "ticks": ""
            },
            "colorscale": [
             [
              0.0,
              "#0d0887"
             ],
             [
              0.1111111111111111,
              "#46039f"
             ],
             [
              0.2222222222222222,
              "#7201a8"
             ],
             [
              0.3333333333333333,
              "#9c179e"
             ],
             [
              0.4444444444444444,
              "#bd3786"
             ],
             [
              0.5555555555555556,
              "#d8576b"
             ],
             [
              0.6666666666666666,
              "#ed7953"
             ],
             [
              0.7777777777777778,
              "#fb9f3a"
             ],
             [
              0.8888888888888888,
              "#fdca26"
             ],
             [
              1.0,
              "#f0f921"
             ]
            ],
            "type": "histogram2d"
           }
          ],
          "histogram2dcontour": [
           {
            "colorbar": {
             "outlinewidth": 0,
             "ticks": ""
            },
            "colorscale": [
             [
              0.0,
              "#0d0887"
             ],
             [
              0.1111111111111111,
              "#46039f"
             ],
             [
              0.2222222222222222,
              "#7201a8"
             ],
             [
              0.3333333333333333,
              "#9c179e"
             ],
             [
              0.4444444444444444,
              "#bd3786"
             ],
             [
              0.5555555555555556,
              "#d8576b"
             ],
             [
              0.6666666666666666,
              "#ed7953"
             ],
             [
              0.7777777777777778,
              "#fb9f3a"
             ],
             [
              0.8888888888888888,
              "#fdca26"
             ],
             [
              1.0,
              "#f0f921"
             ]
            ],
            "type": "histogram2dcontour"
           }
          ],
          "mesh3d": [
           {
            "colorbar": {
             "outlinewidth": 0,
             "ticks": ""
            },
            "type": "mesh3d"
           }
          ],
          "parcoords": [
           {
            "line": {
             "colorbar": {
              "outlinewidth": 0,
              "ticks": ""
             }
            },
            "type": "parcoords"
           }
          ],
          "pie": [
           {
            "automargin": true,
            "type": "pie"
           }
          ],
          "scatter": [
           {
            "fillpattern": {
             "fillmode": "overlay",
             "size": 10,
             "solidity": 0.2
            },
            "type": "scatter"
           }
          ],
          "scatter3d": [
           {
            "line": {
             "colorbar": {
              "outlinewidth": 0,
              "ticks": ""
             }
            },
            "marker": {
             "colorbar": {
              "outlinewidth": 0,
              "ticks": ""
             }
            },
            "type": "scatter3d"
           }
          ],
          "scattercarpet": [
           {
            "marker": {
             "colorbar": {
              "outlinewidth": 0,
              "ticks": ""
             }
            },
            "type": "scattercarpet"
           }
          ],
          "scattergeo": [
           {
            "marker": {
             "colorbar": {
              "outlinewidth": 0,
              "ticks": ""
             }
            },
            "type": "scattergeo"
           }
          ],
          "scattergl": [
           {
            "marker": {
             "colorbar": {
              "outlinewidth": 0,
              "ticks": ""
             }
            },
            "type": "scattergl"
           }
          ],
          "scattermap": [
           {
            "marker": {
             "colorbar": {
              "outlinewidth": 0,
              "ticks": ""
             }
            },
            "type": "scattermap"
           }
          ],
          "scattermapbox": [
           {
            "marker": {
             "colorbar": {
              "outlinewidth": 0,
              "ticks": ""
             }
            },
            "type": "scattermapbox"
           }
          ],
          "scatterpolar": [
           {
            "marker": {
             "colorbar": {
              "outlinewidth": 0,
              "ticks": ""
             }
            },
            "type": "scatterpolar"
           }
          ],
          "scatterpolargl": [
           {
            "marker": {
             "colorbar": {
              "outlinewidth": 0,
              "ticks": ""
             }
            },
            "type": "scatterpolargl"
           }
          ],
          "scatterternary": [
           {
            "marker": {
             "colorbar": {
              "outlinewidth": 0,
              "ticks": ""
             }
            },
            "type": "scatterternary"
           }
          ],
          "surface": [
           {
            "colorbar": {
             "outlinewidth": 0,
             "ticks": ""
            },
            "colorscale": [
             [
              0.0,
              "#0d0887"
             ],
             [
              0.1111111111111111,
              "#46039f"
             ],
             [
              0.2222222222222222,
              "#7201a8"
             ],
             [
              0.3333333333333333,
              "#9c179e"
             ],
             [
              0.4444444444444444,
              "#bd3786"
             ],
             [
              0.5555555555555556,
              "#d8576b"
             ],
             [
              0.6666666666666666,
              "#ed7953"
             ],
             [
              0.7777777777777778,
              "#fb9f3a"
             ],
             [
              0.8888888888888888,
              "#fdca26"
             ],
             [
              1.0,
              "#f0f921"
             ]
            ],
            "type": "surface"
           }
          ],
          "table": [
           {
            "cells": {
             "fill": {
              "color": "#EBF0F8"
             },
             "line": {
              "color": "white"
             }
            },
            "header": {
             "fill": {
              "color": "#C8D4E3"
             },
             "line": {
              "color": "white"
             }
            },
            "type": "table"
           }
          ]
         },
         "layout": {
          "annotationdefaults": {
           "arrowcolor": "#2a3f5f",
           "arrowhead": 0,
           "arrowwidth": 1
          },
          "autotypenumbers": "strict",
          "coloraxis": {
           "colorbar": {
            "outlinewidth": 0,
            "ticks": ""
           }
          },
          "colorscale": {
           "diverging": [
            [
             0,
             "#8e0152"
            ],
            [
             0.1,
             "#c51b7d"
            ],
            [
             0.2,
             "#de77ae"
            ],
            [
             0.3,
             "#f1b6da"
            ],
            [
             0.4,
             "#fde0ef"
            ],
            [
             0.5,
             "#f7f7f7"
            ],
            [
             0.6,
             "#e6f5d0"
            ],
            [
             0.7,
             "#b8e186"
            ],
            [
             0.8,
             "#7fbc41"
            ],
            [
             0.9,
             "#4d9221"
            ],
            [
             1,
             "#276419"
            ]
           ],
           "sequential": [
            [
             0.0,
             "#0d0887"
            ],
            [
             0.1111111111111111,
             "#46039f"
            ],
            [
             0.2222222222222222,
             "#7201a8"
            ],
            [
             0.3333333333333333,
             "#9c179e"
            ],
            [
             0.4444444444444444,
             "#bd3786"
            ],
            [
             0.5555555555555556,
             "#d8576b"
            ],
            [
             0.6666666666666666,
             "#ed7953"
            ],
            [
             0.7777777777777778,
             "#fb9f3a"
            ],
            [
             0.8888888888888888,
             "#fdca26"
            ],
            [
             1.0,
             "#f0f921"
            ]
           ],
           "sequentialminus": [
            [
             0.0,
             "#0d0887"
            ],
            [
             0.1111111111111111,
             "#46039f"
            ],
            [
             0.2222222222222222,
             "#7201a8"
            ],
            [
             0.3333333333333333,
             "#9c179e"
            ],
            [
             0.4444444444444444,
             "#bd3786"
            ],
            [
             0.5555555555555556,
             "#d8576b"
            ],
            [
             0.6666666666666666,
             "#ed7953"
            ],
            [
             0.7777777777777778,
             "#fb9f3a"
            ],
            [
             0.8888888888888888,
             "#fdca26"
            ],
            [
             1.0,
             "#f0f921"
            ]
           ]
          },
          "colorway": [
           "#636efa",
           "#EF553B",
           "#00cc96",
           "#ab63fa",
           "#FFA15A",
           "#19d3f3",
           "#FF6692",
           "#B6E880",
           "#FF97FF",
           "#FECB52"
          ],
          "font": {
           "color": "#2a3f5f"
          },
          "geo": {
           "bgcolor": "white",
           "lakecolor": "white",
           "landcolor": "#E5ECF6",
           "showlakes": true,
           "showland": true,
           "subunitcolor": "white"
          },
          "hoverlabel": {
           "align": "left"
          },
          "hovermode": "closest",
          "mapbox": {
           "style": "light"
          },
          "paper_bgcolor": "white",
          "plot_bgcolor": "#E5ECF6",
          "polar": {
           "angularaxis": {
            "gridcolor": "white",
            "linecolor": "white",
            "ticks": ""
           },
           "bgcolor": "#E5ECF6",
           "radialaxis": {
            "gridcolor": "white",
            "linecolor": "white",
            "ticks": ""
           }
          },
          "scene": {
           "xaxis": {
            "backgroundcolor": "#E5ECF6",
            "gridcolor": "white",
            "gridwidth": 2,
            "linecolor": "white",
            "showbackground": true,
            "ticks": "",
            "zerolinecolor": "white"
           },
           "yaxis": {
            "backgroundcolor": "#E5ECF6",
            "gridcolor": "white",
            "gridwidth": 2,
            "linecolor": "white",
            "showbackground": true,
            "ticks": "",
            "zerolinecolor": "white"
           },
           "zaxis": {
            "backgroundcolor": "#E5ECF6",
            "gridcolor": "white",
            "gridwidth": 2,
            "linecolor": "white",
            "showbackground": true,
            "ticks": "",
            "zerolinecolor": "white"
           }
          },
          "shapedefaults": {
           "line": {
            "color": "#2a3f5f"
           }
          },
          "ternary": {
           "aaxis": {
            "gridcolor": "white",
            "linecolor": "white",
            "ticks": ""
           },
           "baxis": {
            "gridcolor": "white",
            "linecolor": "white",
            "ticks": ""
           },
           "bgcolor": "#E5ECF6",
           "caxis": {
            "gridcolor": "white",
            "linecolor": "white",
            "ticks": ""
           }
          },
          "title": {
           "x": 0.05
          },
          "xaxis": {
           "automargin": true,
           "gridcolor": "white",
           "linecolor": "white",
           "ticks": "",
           "title": {
            "standoff": 15
           },
           "zerolinecolor": "white",
           "zerolinewidth": 2
          },
          "yaxis": {
           "automargin": true,
           "gridcolor": "white",
           "linecolor": "white",
           "ticks": "",
           "title": {
            "standoff": 15
           },
           "zerolinecolor": "white",
           "zerolinewidth": 2
          }
         }
        },
        "title": {
         "text": "📏 Distribution de la Longueur des Messages par Catégorie"
        },
        "width": 800,
        "xaxis": {
         "anchor": "y",
         "domain": [
          0.0,
          1.0
         ],
         "title": {
          "text": "Longueur du Message (caractères)"
         }
        },
        "yaxis": {
         "anchor": "x",
         "domain": [
          0.0,
          1.0
         ],
         "title": {
          "text": "count"
         }
        }
       }
      }
     },
     "metadata": {},
     "output_type": "display_data"
    }
   ],
   "source": [
    "# Histogramme de la longueur des messages\n",
    "fig = px.histogram(\n",
    "    df,\n",
    "    x='message_length',\n",
    "    color='Category',\n",
    "    nbins=50,\n",
    "    title='📏 Distribution de la Longueur des Messages par Catégorie',\n",
    "    labels={'message_length': 'Longueur du Message (caractères)', 'count': 'Nombre de Messages'},\n",
    "    color_discrete_map={'ham': '#2E8B57', 'spam': '#DC143C'},\n",
    "    opacity=0.7\n",
    ")\n",
    "\n",
    "fig.update_layout(\n",
    "    font=dict(size=12),\n",
    "    width=800,\n",
    "    height=500,\n",
    "    bargap=0.1\n",
    ")\n",
    "\n",
    "fig.show()"
   ]
  },
  {
   "cell_type": "code",
   "execution_count": 23,
   "id": "message-length-boxplot",
   "metadata": {
    "execution": {
     "iopub.execute_input": "2025-09-04T16:03:42.973733Z",
     "iopub.status.busy": "2025-09-04T16:03:42.973733Z",
     "iopub.status.idle": "2025-09-04T16:03:43.079116Z",
     "shell.execute_reply": "2025-09-04T16:03:43.078107Z"
    }
   },
   "outputs": [
    {
     "data": {
      "application/vnd.plotly.v1+json": {
       "config": {
        "plotlyServerURL": "https://plot.ly"
       },
       "data": [
        {
         "alignmentgroup": "True",
         "hovertemplate": "Catégorie=%{x}<br>Longueur du Message (caractères)=%{y}<extra></extra>",
         "legendgroup": "ham",
         "marker": {
          "color": "#2E8B57"
         },
         "name": "ham",
         "notched": false,
         "offsetgroup": "ham",
         "orientation": "v",
         "showlegend": true,
         "type": "box",
         "x": [
          "ham",
          "ham",
          "ham",
          "ham",
          "ham",
          "ham",
          "ham",
          "ham",
          "ham",
          "ham",
          "ham",
          "ham",
          "ham",
          "ham",
          "ham",
          "ham",
          "ham",
          "ham",
          "ham",
          "ham",
          "ham",
          "ham",
          "ham",
          "ham",
          "ham",
          "ham",
          "ham",
          "ham",
          "ham",
          "ham",
          "ham",
          "ham",
          "ham",
          "ham",
          "ham",
          "ham",
          "ham",
          "ham",
          "ham",
          "ham",
          "ham",
          "ham",
          "ham",
          "ham",
          "ham",
          "ham",
          "ham",
          "ham",
          "ham",
          "ham",
          "ham",
          "ham",
          "ham",
          "ham",
          "ham",
          "ham",
          "ham",
          "ham",
          "ham",
          "ham",
          "ham",
          "ham",
          "ham",
          "ham",
          "ham",
          "ham",
          "ham",
          "ham",
          "ham",
          "ham",
          "ham",
          "ham",
          "ham",
          "ham",
          "ham",
          "ham",
          "ham",
          "ham",
          "ham",
          "ham",
          "ham",
          "ham",
          "ham",
          "ham",
          "ham",
          "ham",
          "ham",
          "ham",
          "ham",
          "ham",
          "ham",
          "ham",
          "ham",
          "ham",
          "ham",
          "ham",
          "ham",
          "ham",
          "ham",
          "ham",
          "ham",
          "ham",
          "ham",
          "ham",
          "ham",
          "ham",
          "ham",
          "ham",
          "ham",
          "ham",
          "ham",
          "ham",
          "ham",
          "ham",
          "ham",
          "ham",
          "ham",
          "ham",
          "ham",
          "ham",
          "ham",
          "ham",
          "ham",
          "ham",
          "ham",
          "ham",
          "ham",
          "ham",
          "ham",
          "ham",
          "ham",
          "ham",
          "ham",
          "ham",
          "ham",
          "ham",
          "ham",
          "ham",
          "ham",
          "ham",
          "ham",
          "ham",
          "ham",
          "ham",
          "ham",
          "ham",
          "ham",
          "ham",
          "ham",
          "ham",
          "ham",
          "ham",
          "ham",
          "ham",
          "ham",
          "ham",
          "ham",
          "ham",
          "ham",
          "ham",
          "ham",
          "ham",
          "ham",
          "ham",
          "ham",
          "ham",
          "ham",
          "ham",
          "ham",
          "ham",
          "ham",
          "ham",
          "ham",
          "ham",
          "ham",
          "ham",
          "ham",
          "ham",
          "ham",
          "ham",
          "ham",
          "ham",
          "ham",
          "ham",
          "ham",
          "ham",
          "ham",
          "ham",
          "ham",
          "ham",
          "ham",
          "ham",
          "ham",
          "ham",
          "ham",
          "ham",
          "ham",
          "ham",
          "ham",
          "ham",
          "ham",
          "ham",
          "ham",
          "ham",
          "ham",
          "ham",
          "ham",
          "ham",
          "ham",
          "ham",
          "ham",
          "ham",
          "ham",
          "ham",
          "ham",
          "ham",
          "ham",
          "ham",
          "ham",
          "ham",
          "ham",
          "ham",
          "ham",
          "ham",
          "ham",
          "ham",
          "ham",
          "ham",
          "ham",
          "ham",
          "ham",
          "ham",
          "ham",
          "ham",
          "ham",
          "ham",
          "ham",
          "ham",
          "ham",
          "ham",
          "ham",
          "ham",
          "ham",
          "ham",
          "ham",
          "ham",
          "ham",
          "ham",
          "ham",
          "ham",
          "ham",
          "ham",
          "ham",
          "ham",
          "ham",
          "ham",
          "ham",
          "ham",
          "ham",
          "ham",
          "ham",
          "ham",
          "ham",
          "ham",
          "ham",
          "ham",
          "ham",
          "ham",
          "ham",
          "ham",
          "ham",
          "ham",
          "ham",
          "ham",
          "ham",
          "ham",
          "ham",
          "ham",
          "ham",
          "ham",
          "ham",
          "ham",
          "ham",
          "ham",
          "ham",
          "ham",
          "ham",
          "ham",
          "ham",
          "ham",
          "ham",
          "ham",
          "ham",
          "ham",
          "ham",
          "ham",
          "ham",
          "ham",
          "ham",
          "ham",
          "ham",
          "ham",
          "ham",
          "ham",
          "ham",
          "ham",
          "ham",
          "ham",
          "ham",
          "ham",
          "ham",
          "ham",
          "ham",
          "ham",
          "ham",
          "ham",
          "ham",
          "ham",
          "ham",
          "ham",
          "ham",
          "ham",
          "ham",
          "ham",
          "ham",
          "ham",
          "ham",
          "ham",
          "ham",
          "ham",
          "ham",
          "ham",
          "ham",
          "ham",
          "ham",
          "ham",
          "ham",
          "ham",
          "ham",
          "ham",
          "ham",
          "ham",
          "ham",
          "ham",
          "ham",
          "ham",
          "ham",
          "ham",
          "ham",
          "ham",
          "ham",
          "ham",
          "ham",
          "ham",
          "ham",
          "ham",
          "ham",
          "ham",
          "ham",
          "ham",
          "ham",
          "ham",
          "ham",
          "ham",
          "ham",
          "ham",
          "ham",
          "ham",
          "ham",
          "ham",
          "ham",
          "ham",
          "ham",
          "ham",
          "ham",
          "ham",
          "ham",
          "ham",
          "ham",
          "ham",
          "ham",
          "ham",
          "ham",
          "ham",
          "ham",
          "ham",
          "ham",
          "ham",
          "ham",
          "ham",
          "ham",
          "ham",
          "ham",
          "ham",
          "ham",
          "ham",
          "ham",
          "ham",
          "ham",
          "ham",
          "ham",
          "ham",
          "ham",
          "ham",
          "ham",
          "ham",
          "ham",
          "ham",
          "ham",
          "ham",
          "ham",
          "ham",
          "ham",
          "ham",
          "ham",
          "ham",
          "ham",
          "ham",
          "ham",
          "ham",
          "ham",
          "ham",
          "ham",
          "ham",
          "ham",
          "ham",
          "ham",
          "ham",
          "ham",
          "ham",
          "ham",
          "ham",
          "ham",
          "ham",
          "ham",
          "ham",
          "ham",
          "ham",
          "ham",
          "ham",
          "ham",
          "ham",
          "ham",
          "ham",
          "ham",
          "ham",
          "ham",
          "ham",
          "ham",
          "ham",
          "ham",
          "ham",
          "ham",
          "ham",
          "ham",
          "ham",
          "ham",
          "ham",
          "ham",
          "ham",
          "ham",
          "ham",
          "ham",
          "ham",
          "ham",
          "ham",
          "ham",
          "ham",
          "ham",
          "ham",
          "ham",
          "ham",
          "ham",
          "ham",
          "ham",
          "ham",
          "ham",
          "ham",
          "ham",
          "ham",
          "ham",
          "ham",
          "ham",
          "ham",
          "ham",
          "ham",
          "ham",
          "ham",
          "ham",
          "ham",
          "ham",
          "ham",
          "ham",
          "ham",
          "ham",
          "ham",
          "ham",
          "ham",
          "ham",
          "ham",
          "ham",
          "ham",
          "ham",
          "ham",
          "ham",
          "ham",
          "ham",
          "ham",
          "ham",
          "ham",
          "ham",
          "ham",
          "ham",
          "ham",
          "ham",
          "ham",
          "ham",
          "ham",
          "ham",
          "ham",
          "ham",
          "ham",
          "ham",
          "ham",
          "ham",
          "ham",
          "ham",
          "ham",
          "ham",
          "ham",
          "ham",
          "ham",
          "ham",
          "ham",
          "ham",
          "ham",
          "ham",
          "ham",
          "ham",
          "ham",
          "ham",
          "ham",
          "ham",
          "ham",
          "ham",
          "ham",
          "ham",
          "ham",
          "ham",
          "ham",
          "ham",
          "ham",
          "ham",
          "ham",
          "ham",
          "ham",
          "ham",
          "ham",
          "ham",
          "ham",
          "ham",
          "ham",
          "ham",
          "ham",
          "ham",
          "ham",
          "ham",
          "ham",
          "ham",
          "ham",
          "ham",
          "ham",
          "ham",
          "ham",
          "ham",
          "ham",
          "ham",
          "ham",
          "ham",
          "ham",
          "ham",
          "ham",
          "ham",
          "ham",
          "ham",
          "ham",
          "ham",
          "ham",
          "ham",
          "ham",
          "ham",
          "ham",
          "ham",
          "ham",
          "ham",
          "ham",
          "ham",
          "ham",
          "ham",
          "ham",
          "ham",
          "ham",
          "ham",
          "ham",
          "ham",
          "ham",
          "ham",
          "ham",
          "ham",
          "ham",
          "ham",
          "ham",
          "ham",
          "ham",
          "ham",
          "ham",
          "ham",
          "ham",
          "ham",
          "ham",
          "ham",
          "ham",
          "ham",
          "ham",
          "ham",
          "ham",
          "ham",
          "ham",
          "ham",
          "ham",
          "ham",
          "ham",
          "ham",
          "ham",
          "ham",
          "ham",
          "ham",
          "ham",
          "ham",
          "ham",
          "ham",
          "ham",
          "ham",
          "ham",
          "ham",
          "ham",
          "ham",
          "ham",
          "ham",
          "ham",
          "ham",
          "ham",
          "ham",
          "ham",
          "ham",
          "ham",
          "ham",
          "ham",
          "ham",
          "ham",
          "ham",
          "ham",
          "ham",
          "ham",
          "ham",
          "ham",
          "ham",
          "ham",
          "ham",
          "ham",
          "ham",
          "ham",
          "ham",
          "ham",
          "ham",
          "ham",
          "ham",
          "ham",
          "ham",
          "ham",
          "ham",
          "ham",
          "ham",
          "ham",
          "ham",
          "ham",
          "ham",
          "ham",
          "ham",
          "ham",
          "ham",
          "ham",
          "ham",
          "ham",
          "ham",
          "ham",
          "ham",
          "ham",
          "ham",
          "ham",
          "ham",
          "ham",
          "ham",
          "ham",
          "ham",
          "ham",
          "ham",
          "ham",
          "ham",
          "ham",
          "ham",
          "ham",
          "ham",
          "ham",
          "ham",
          "ham",
          "ham",
          "ham",
          "ham",
          "ham",
          "ham",
          "ham",
          "ham",
          "ham",
          "ham",
          "ham",
          "ham",
          "ham",
          "ham",
          "ham",
          "ham",
          "ham",
          "ham",
          "ham",
          "ham",
          "ham",
          "ham",
          "ham",
          "ham",
          "ham",
          "ham",
          "ham",
          "ham",
          "ham",
          "ham",
          "ham",
          "ham",
          "ham",
          "ham",
          "ham",
          "ham",
          "ham",
          "ham",
          "ham",
          "ham",
          "ham",
          "ham",
          "ham",
          "ham",
          "ham",
          "ham",
          "ham",
          "ham",
          "ham",
          "ham",
          "ham",
          "ham",
          "ham",
          "ham",
          "ham",
          "ham",
          "ham",
          "ham",
          "ham",
          "ham",
          "ham",
          "ham",
          "ham",
          "ham",
          "ham",
          "ham",
          "ham",
          "ham",
          "ham",
          "ham",
          "ham",
          "ham",
          "ham",
          "ham",
          "ham",
          "ham",
          "ham",
          "ham",
          "ham",
          "ham",
          "ham",
          "ham",
          "ham",
          "ham",
          "ham",
          "ham",
          "ham",
          "ham",
          "ham",
          "ham",
          "ham",
          "ham",
          "ham",
          "ham",
          "ham",
          "ham",
          "ham",
          "ham",
          "ham",
          "ham",
          "ham",
          "ham",
          "ham",
          "ham",
          "ham",
          "ham",
          "ham",
          "ham",
          "ham",
          "ham",
          "ham",
          "ham",
          "ham",
          "ham",
          "ham",
          "ham",
          "ham",
          "ham",
          "ham",
          "ham",
          "ham",
          "ham",
          "ham",
          "ham",
          "ham",
          "ham",
          "ham",
          "ham",
          "ham",
          "ham",
          "ham",
          "ham",
          "ham",
          "ham",
          "ham",
          "ham",
          "ham",
          "ham",
          "ham",
          "ham",
          "ham",
          "ham",
          "ham",
          "ham",
          "ham",
          "ham",
          "ham",
          "ham",
          "ham",
          "ham",
          "ham",
          "ham",
          "ham",
          "ham",
          "ham",
          "ham",
          "ham",
          "ham",
          "ham",
          "ham",
          "ham",
          "ham",
          "ham",
          "ham",
          "ham",
          "ham",
          "ham",
          "ham",
          "ham",
          "ham",
          "ham",
          "ham",
          "ham",
          "ham",
          "ham",
          "ham",
          "ham",
          "ham",
          "ham",
          "ham",
          "ham",
          "ham",
          "ham",
          "ham",
          "ham",
          "ham",
          "ham",
          "ham",
          "ham",
          "ham",
          "ham",
          "ham",
          "ham",
          "ham",
          "ham",
          "ham",
          "ham",
          "ham",
          "ham",
          "ham",
          "ham",
          "ham",
          "ham",
          "ham",
          "ham",
          "ham",
          "ham",
          "ham",
          "ham",
          "ham",
          "ham",
          "ham",
          "ham",
          "ham",
          "ham",
          "ham",
          "ham",
          "ham",
          "ham",
          "ham",
          "ham",
          "ham",
          "ham",
          "ham",
          "ham",
          "ham",
          "ham",
          "ham",
          "ham",
          "ham",
          "ham",
          "ham",
          "ham",
          "ham",
          "ham",
          "ham",
          "ham",
          "ham",
          "ham",
          "ham",
          "ham",
          "ham",
          "ham",
          "ham",
          "ham",
          "ham",
          "ham",
          "ham",
          "ham",
          "ham",
          "ham",
          "ham",
          "ham",
          "ham",
          "ham",
          "ham",
          "ham",
          "ham",
          "ham",
          "ham",
          "ham",
          "ham",
          "ham",
          "ham",
          "ham",
          "ham",
          "ham",
          "ham",
          "ham",
          "ham",
          "ham",
          "ham",
          "ham",
          "ham",
          "ham",
          "ham",
          "ham",
          "ham",
          "ham",
          "ham",
          "ham",
          "ham",
          "ham",
          "ham",
          "ham",
          "ham",
          "ham",
          "ham",
          "ham",
          "ham",
          "ham",
          "ham",
          "ham",
          "ham",
          "ham",
          "ham",
          "ham",
          "ham",
          "ham",
          "ham",
          "ham",
          "ham",
          "ham",
          "ham",
          "ham",
          "ham",
          "ham",
          "ham",
          "ham",
          "ham",
          "ham",
          "ham",
          "ham",
          "ham",
          "ham",
          "ham",
          "ham",
          "ham",
          "ham",
          "ham",
          "ham",
          "ham",
          "ham",
          "ham",
          "ham",
          "ham",
          "ham",
          "ham",
          "ham",
          "ham",
          "ham",
          "ham",
          "ham",
          "ham",
          "ham",
          "ham",
          "ham",
          "ham",
          "ham",
          "ham",
          "ham",
          "ham",
          "ham",
          "ham",
          "ham",
          "ham",
          "ham",
          "ham",
          "ham",
          "ham",
          "ham",
          "ham",
          "ham",
          "ham",
          "ham",
          "ham",
          "ham",
          "ham",
          "ham",
          "ham",
          "ham",
          "ham",
          "ham",
          "ham",
          "ham",
          "ham",
          "ham",
          "ham",
          "ham",
          "ham",
          "ham",
          "ham",
          "ham",
          "ham",
          "ham",
          "ham",
          "ham",
          "ham",
          "ham",
          "ham",
          "ham",
          "ham",
          "ham",
          "ham",
          "ham",
          "ham",
          "ham",
          "ham",
          "ham",
          "ham",
          "ham",
          "ham",
          "ham",
          "ham",
          "ham",
          "ham",
          "ham",
          "ham",
          "ham",
          "ham",
          "ham",
          "ham",
          "ham",
          "ham",
          "ham",
          "ham",
          "ham",
          "ham",
          "ham",
          "ham",
          "ham",
          "ham",
          "ham",
          "ham",
          "ham",
          "ham",
          "ham",
          "ham",
          "ham",
          "ham",
          "ham",
          "ham",
          "ham",
          "ham",
          "ham",
          "ham",
          "ham",
          "ham",
          "ham",
          "ham",
          "ham",
          "ham",
          "ham",
          "ham",
          "ham",
          "ham",
          "ham",
          "ham",
          "ham",
          "ham",
          "ham",
          "ham",
          "ham",
          "ham",
          "ham",
          "ham",
          "ham",
          "ham",
          "ham",
          "ham",
          "ham",
          "ham",
          "ham",
          "ham",
          "ham",
          "ham",
          "ham",
          "ham",
          "ham",
          "ham",
          "ham",
          "ham",
          "ham",
          "ham",
          "ham",
          "ham",
          "ham",
          "ham",
          "ham",
          "ham",
          "ham",
          "ham",
          "ham",
          "ham",
          "ham",
          "ham",
          "ham",
          "ham",
          "ham",
          "ham",
          "ham",
          "ham",
          "ham",
          "ham",
          "ham",
          "ham",
          "ham",
          "ham",
          "ham",
          "ham",
          "ham",
          "ham",
          "ham",
          "ham",
          "ham",
          "ham",
          "ham",
          "ham",
          "ham",
          "ham",
          "ham",
          "ham",
          "ham",
          "ham",
          "ham",
          "ham",
          "ham",
          "ham",
          "ham",
          "ham",
          "ham",
          "ham",
          "ham",
          "ham",
          "ham",
          "ham",
          "ham",
          "ham",
          "ham",
          "ham",
          "ham",
          "ham",
          "ham",
          "ham",
          "ham",
          "ham",
          "ham",
          "ham",
          "ham",
          "ham",
          "ham",
          "ham",
          "ham",
          "ham",
          "ham",
          "ham",
          "ham",
          "ham",
          "ham",
          "ham",
          "ham",
          "ham",
          "ham",
          "ham",
          "ham",
          "ham",
          "ham",
          "ham",
          "ham",
          "ham",
          "ham",
          "ham",
          "ham",
          "ham",
          "ham",
          "ham",
          "ham",
          "ham",
          "ham",
          "ham",
          "ham",
          "ham",
          "ham",
          "ham",
          "ham",
          "ham",
          "ham",
          "ham",
          "ham",
          "ham",
          "ham",
          "ham",
          "ham",
          "ham",
          "ham",
          "ham",
          "ham",
          "ham",
          "ham",
          "ham",
          "ham",
          "ham",
          "ham",
          "ham",
          "ham",
          "ham",
          "ham",
          "ham",
          "ham",
          "ham",
          "ham",
          "ham",
          "ham",
          "ham",
          "ham",
          "ham",
          "ham",
          "ham",
          "ham",
          "ham",
          "ham",
          "ham",
          "ham",
          "ham",
          "ham",
          "ham",
          "ham",
          "ham",
          "ham",
          "ham",
          "ham",
          "ham",
          "ham",
          "ham",
          "ham",
          "ham",
          "ham",
          "ham",
          "ham",
          "ham",
          "ham",
          "ham",
          "ham",
          "ham",
          "ham",
          "ham",
          "ham",
          "ham",
          "ham",
          "ham",
          "ham",
          "ham",
          "ham",
          "ham",
          "ham",
          "ham",
          "ham",
          "ham",
          "ham",
          "ham",
          "ham",
          "ham",
          "ham",
          "ham",
          "ham",
          "ham",
          "ham",
          "ham",
          "ham",
          "ham",
          "ham",
          "ham",
          "ham",
          "ham",
          "ham",
          "ham",
          "ham",
          "ham",
          "ham",
          "ham",
          "ham",
          "ham",
          "ham",
          "ham",
          "ham",
          "ham",
          "ham",
          "ham",
          "ham",
          "ham",
          "ham",
          "ham",
          "ham",
          "ham",
          "ham",
          "ham",
          "ham",
          "ham",
          "ham",
          "ham",
          "ham",
          "ham",
          "ham",
          "ham",
          "ham",
          "ham",
          "ham",
          "ham",
          "ham",
          "ham",
          "ham",
          "ham",
          "ham",
          "ham",
          "ham",
          "ham",
          "ham",
          "ham",
          "ham",
          "ham",
          "ham",
          "ham",
          "ham",
          "ham",
          "ham",
          "ham",
          "ham",
          "ham",
          "ham",
          "ham",
          "ham",
          "ham",
          "ham",
          "ham",
          "ham",
          "ham",
          "ham",
          "ham",
          "ham",
          "ham",
          "ham",
          "ham",
          "ham",
          "ham",
          "ham",
          "ham",
          "ham",
          "ham",
          "ham",
          "ham",
          "ham",
          "ham",
          "ham",
          "ham",
          "ham",
          "ham",
          "ham",
          "ham",
          "ham",
          "ham",
          "ham",
          "ham",
          "ham",
          "ham",
          "ham",
          "ham",
          "ham",
          "ham",
          "ham",
          "ham",
          "ham",
          "ham",
          "ham",
          "ham",
          "ham",
          "ham",
          "ham",
          "ham",
          "ham",
          "ham",
          "ham",
          "ham",
          "ham",
          "ham",
          "ham",
          "ham",
          "ham",
          "ham",
          "ham",
          "ham",
          "ham",
          "ham",
          "ham",
          "ham",
          "ham",
          "ham",
          "ham",
          "ham",
          "ham",
          "ham",
          "ham",
          "ham",
          "ham",
          "ham",
          "ham",
          "ham",
          "ham",
          "ham",
          "ham",
          "ham",
          "ham",
          "ham",
          "ham",
          "ham",
          "ham",
          "ham",
          "ham",
          "ham",
          "ham",
          "ham",
          "ham",
          "ham",
          "ham",
          "ham",
          "ham",
          "ham",
          "ham",
          "ham",
          "ham",
          "ham",
          "ham",
          "ham",
          "ham",
          "ham",
          "ham",
          "ham",
          "ham",
          "ham",
          "ham",
          "ham",
          "ham",
          "ham",
          "ham",
          "ham",
          "ham",
          "ham",
          "ham",
          "ham",
          "ham",
          "ham",
          "ham",
          "ham",
          "ham",
          "ham",
          "ham",
          "ham",
          "ham",
          "ham",
          "ham",
          "ham",
          "ham",
          "ham",
          "ham",
          "ham",
          "ham",
          "ham",
          "ham",
          "ham",
          "ham",
          "ham",
          "ham",
          "ham",
          "ham",
          "ham",
          "ham",
          "ham",
          "ham",
          "ham",
          "ham",
          "ham",
          "ham",
          "ham",
          "ham",
          "ham",
          "ham",
          "ham",
          "ham",
          "ham",
          "ham",
          "ham",
          "ham",
          "ham",
          "ham",
          "ham",
          "ham",
          "ham",
          "ham",
          "ham",
          "ham",
          "ham",
          "ham",
          "ham",
          "ham",
          "ham",
          "ham",
          "ham",
          "ham",
          "ham",
          "ham",
          "ham",
          "ham",
          "ham",
          "ham",
          "ham",
          "ham",
          "ham",
          "ham",
          "ham",
          "ham",
          "ham",
          "ham",
          "ham",
          "ham",
          "ham",
          "ham",
          "ham",
          "ham",
          "ham",
          "ham",
          "ham",
          "ham",
          "ham",
          "ham",
          "ham",
          "ham",
          "ham",
          "ham",
          "ham",
          "ham",
          "ham",
          "ham",
          "ham",
          "ham",
          "ham",
          "ham",
          "ham",
          "ham",
          "ham",
          "ham",
          "ham",
          "ham",
          "ham",
          "ham",
          "ham",
          "ham",
          "ham",
          "ham",
          "ham",
          "ham",
          "ham",
          "ham",
          "ham",
          "ham",
          "ham",
          "ham",
          "ham",
          "ham",
          "ham",
          "ham",
          "ham",
          "ham",
          "ham",
          "ham",
          "ham",
          "ham",
          "ham",
          "ham",
          "ham",
          "ham",
          "ham",
          "ham",
          "ham",
          "ham",
          "ham",
          "ham",
          "ham",
          "ham",
          "ham",
          "ham",
          "ham",
          "ham",
          "ham",
          "ham",
          "ham",
          "ham",
          "ham",
          "ham",
          "ham",
          "ham",
          "ham",
          "ham",
          "ham",
          "ham",
          "ham",
          "ham",
          "ham",
          "ham",
          "ham",
          "ham",
          "ham",
          "ham",
          "ham",
          "ham",
          "ham",
          "ham",
          "ham",
          "ham",
          "ham",
          "ham",
          "ham",
          "ham",
          "ham",
          "ham",
          "ham",
          "ham",
          "ham",
          "ham",
          "ham",
          "ham",
          "ham",
          "ham",
          "ham",
          "ham",
          "ham",
          "ham",
          "ham",
          "ham",
          "ham",
          "ham",
          "ham",
          "ham",
          "ham",
          "ham",
          "ham",
          "ham",
          "ham",
          "ham",
          "ham",
          "ham",
          "ham",
          "ham",
          "ham",
          "ham",
          "ham",
          "ham",
          "ham",
          "ham",
          "ham",
          "ham",
          "ham",
          "ham",
          "ham",
          "ham",
          "ham",
          "ham",
          "ham",
          "ham",
          "ham",
          "ham",
          "ham",
          "ham",
          "ham",
          "ham",
          "ham",
          "ham",
          "ham",
          "ham",
          "ham",
          "ham",
          "ham",
          "ham",
          "ham",
          "ham",
          "ham",
          "ham",
          "ham",
          "ham",
          "ham",
          "ham",
          "ham",
          "ham",
          "ham",
          "ham",
          "ham",
          "ham",
          "ham",
          "ham",
          "ham",
          "ham",
          "ham",
          "ham",
          "ham",
          "ham",
          "ham",
          "ham",
          "ham",
          "ham",
          "ham",
          "ham",
          "ham",
          "ham",
          "ham",
          "ham",
          "ham",
          "ham",
          "ham",
          "ham",
          "ham",
          "ham",
          "ham",
          "ham",
          "ham",
          "ham",
          "ham",
          "ham",
          "ham",
          "ham",
          "ham",
          "ham",
          "ham",
          "ham",
          "ham",
          "ham",
          "ham",
          "ham",
          "ham",
          "ham",
          "ham",
          "ham",
          "ham",
          "ham",
          "ham",
          "ham",
          "ham",
          "ham",
          "ham",
          "ham",
          "ham",
          "ham",
          "ham",
          "ham",
          "ham",
          "ham",
          "ham",
          "ham",
          "ham",
          "ham",
          "ham",
          "ham",
          "ham",
          "ham",
          "ham",
          "ham",
          "ham",
          "ham",
          "ham",
          "ham",
          "ham",
          "ham",
          "ham",
          "ham",
          "ham",
          "ham",
          "ham",
          "ham",
          "ham",
          "ham",
          "ham",
          "ham",
          "ham",
          "ham",
          "ham",
          "ham",
          "ham",
          "ham",
          "ham",
          "ham",
          "ham",
          "ham",
          "ham",
          "ham",
          "ham",
          "ham",
          "ham",
          "ham",
          "ham",
          "ham",
          "ham",
          "ham",
          "ham",
          "ham",
          "ham",
          "ham",
          "ham",
          "ham",
          "ham",
          "ham",
          "ham",
          "ham",
          "ham",
          "ham",
          "ham",
          "ham",
          "ham",
          "ham",
          "ham",
          "ham",
          "ham",
          "ham",
          "ham",
          "ham",
          "ham",
          "ham",
          "ham",
          "ham",
          "ham",
          "ham",
          "ham",
          "ham",
          "ham",
          "ham",
          "ham",
          "ham",
          "ham",
          "ham",
          "ham",
          "ham",
          "ham",
          "ham",
          "ham",
          "ham",
          "ham",
          "ham",
          "ham",
          "ham",
          "ham",
          "ham",
          "ham",
          "ham",
          "ham",
          "ham",
          "ham",
          "ham",
          "ham",
          "ham",
          "ham",
          "ham",
          "ham",
          "ham",
          "ham",
          "ham",
          "ham",
          "ham",
          "ham",
          "ham",
          "ham",
          "ham",
          "ham",
          "ham",
          "ham",
          "ham",
          "ham",
          "ham",
          "ham",
          "ham",
          "ham",
          "ham",
          "ham",
          "ham",
          "ham",
          "ham",
          "ham",
          "ham",
          "ham",
          "ham",
          "ham",
          "ham",
          "ham",
          "ham",
          "ham",
          "ham",
          "ham",
          "ham",
          "ham",
          "ham",
          "ham",
          "ham",
          "ham",
          "ham",
          "ham",
          "ham",
          "ham",
          "ham",
          "ham",
          "ham",
          "ham",
          "ham",
          "ham",
          "ham",
          "ham",
          "ham",
          "ham",
          "ham",
          "ham",
          "ham",
          "ham",
          "ham",
          "ham",
          "ham",
          "ham",
          "ham",
          "ham",
          "ham",
          "ham",
          "ham",
          "ham",
          "ham",
          "ham",
          "ham",
          "ham",
          "ham",
          "ham",
          "ham",
          "ham",
          "ham",
          "ham",
          "ham",
          "ham",
          "ham",
          "ham",
          "ham",
          "ham",
          "ham",
          "ham",
          "ham",
          "ham",
          "ham",
          "ham",
          "ham",
          "ham",
          "ham",
          "ham",
          "ham",
          "ham",
          "ham",
          "ham",
          "ham",
          "ham",
          "ham",
          "ham",
          "ham",
          "ham",
          "ham",
          "ham",
          "ham",
          "ham",
          "ham",
          "ham",
          "ham",
          "ham",
          "ham",
          "ham",
          "ham",
          "ham",
          "ham",
          "ham",
          "ham",
          "ham",
          "ham",
          "ham",
          "ham",
          "ham",
          "ham",
          "ham",
          "ham",
          "ham",
          "ham",
          "ham",
          "ham",
          "ham",
          "ham",
          "ham",
          "ham",
          "ham",
          "ham",
          "ham",
          "ham",
          "ham",
          "ham",
          "ham",
          "ham",
          "ham",
          "ham",
          "ham",
          "ham",
          "ham",
          "ham",
          "ham",
          "ham",
          "ham",
          "ham",
          "ham",
          "ham",
          "ham",
          "ham",
          "ham",
          "ham",
          "ham",
          "ham",
          "ham",
          "ham",
          "ham",
          "ham",
          "ham",
          "ham",
          "ham",
          "ham",
          "ham",
          "ham",
          "ham",
          "ham",
          "ham",
          "ham",
          "ham",
          "ham",
          "ham",
          "ham",
          "ham",
          "ham",
          "ham",
          "ham",
          "ham",
          "ham",
          "ham",
          "ham",
          "ham",
          "ham",
          "ham",
          "ham",
          "ham",
          "ham",
          "ham",
          "ham",
          "ham",
          "ham",
          "ham",
          "ham",
          "ham",
          "ham",
          "ham",
          "ham",
          "ham",
          "ham",
          "ham",
          "ham",
          "ham",
          "ham",
          "ham",
          "ham",
          "ham",
          "ham",
          "ham",
          "ham",
          "ham",
          "ham",
          "ham",
          "ham",
          "ham",
          "ham",
          "ham",
          "ham",
          "ham",
          "ham",
          "ham",
          "ham",
          "ham",
          "ham",
          "ham",
          "ham",
          "ham",
          "ham",
          "ham",
          "ham",
          "ham",
          "ham",
          "ham",
          "ham",
          "ham",
          "ham",
          "ham",
          "ham",
          "ham",
          "ham",
          "ham",
          "ham",
          "ham",
          "ham",
          "ham",
          "ham",
          "ham",
          "ham",
          "ham",
          "ham",
          "ham",
          "ham",
          "ham",
          "ham",
          "ham",
          "ham",
          "ham",
          "ham",
          "ham",
          "ham",
          "ham",
          "ham",
          "ham",
          "ham",
          "ham",
          "ham",
          "ham",
          "ham",
          "ham",
          "ham",
          "ham",
          "ham",
          "ham",
          "ham",
          "ham",
          "ham",
          "ham",
          "ham",
          "ham",
          "ham",
          "ham",
          "ham",
          "ham",
          "ham",
          "ham",
          "ham",
          "ham",
          "ham",
          "ham",
          "ham",
          "ham",
          "ham",
          "ham",
          "ham",
          "ham",
          "ham",
          "ham",
          "ham",
          "ham",
          "ham",
          "ham",
          "ham",
          "ham",
          "ham",
          "ham",
          "ham",
          "ham",
          "ham",
          "ham",
          "ham",
          "ham",
          "ham",
          "ham",
          "ham",
          "ham",
          "ham",
          "ham",
          "ham",
          "ham",
          "ham",
          "ham",
          "ham",
          "ham",
          "ham",
          "ham",
          "ham",
          "ham",
          "ham",
          "ham",
          "ham",
          "ham",
          "ham",
          "ham",
          "ham",
          "ham",
          "ham",
          "ham",
          "ham",
          "ham",
          "ham",
          "ham",
          "ham",
          "ham",
          "ham",
          "ham",
          "ham",
          "ham",
          "ham",
          "ham",
          "ham",
          "ham",
          "ham",
          "ham",
          "ham",
          "ham",
          "ham",
          "ham",
          "ham",
          "ham",
          "ham",
          "ham",
          "ham",
          "ham",
          "ham",
          "ham",
          "ham",
          "ham",
          "ham",
          "ham",
          "ham",
          "ham",
          "ham",
          "ham",
          "ham",
          "ham",
          "ham",
          "ham",
          "ham",
          "ham",
          "ham",
          "ham",
          "ham",
          "ham",
          "ham",
          "ham",
          "ham",
          "ham",
          "ham",
          "ham",
          "ham",
          "ham",
          "ham",
          "ham",
          "ham",
          "ham",
          "ham",
          "ham",
          "ham",
          "ham",
          "ham",
          "ham",
          "ham",
          "ham",
          "ham",
          "ham",
          "ham",
          "ham",
          "ham",
          "ham",
          "ham",
          "ham",
          "ham",
          "ham",
          "ham",
          "ham",
          "ham",
          "ham",
          "ham",
          "ham",
          "ham",
          "ham",
          "ham",
          "ham",
          "ham",
          "ham",
          "ham",
          "ham",
          "ham",
          "ham",
          "ham",
          "ham",
          "ham",
          "ham",
          "ham",
          "ham",
          "ham",
          "ham",
          "ham",
          "ham",
          "ham",
          "ham",
          "ham",
          "ham",
          "ham",
          "ham",
          "ham",
          "ham",
          "ham",
          "ham",
          "ham",
          "ham",
          "ham",
          "ham",
          "ham",
          "ham",
          "ham",
          "ham",
          "ham",
          "ham",
          "ham",
          "ham",
          "ham",
          "ham",
          "ham",
          "ham",
          "ham",
          "ham",
          "ham",
          "ham",
          "ham",
          "ham",
          "ham",
          "ham",
          "ham",
          "ham",
          "ham",
          "ham",
          "ham",
          "ham",
          "ham",
          "ham",
          "ham",
          "ham",
          "ham",
          "ham",
          "ham",
          "ham",
          "ham",
          "ham",
          "ham",
          "ham",
          "ham",
          "ham",
          "ham",
          "ham",
          "ham",
          "ham",
          "ham",
          "ham",
          "ham",
          "ham",
          "ham",
          "ham",
          "ham",
          "ham",
          "ham",
          "ham",
          "ham",
          "ham",
          "ham",
          "ham",
          "ham",
          "ham",
          "ham",
          "ham",
          "ham",
          "ham",
          "ham",
          "ham",
          "ham",
          "ham",
          "ham",
          "ham",
          "ham",
          "ham",
          "ham",
          "ham",
          "ham",
          "ham",
          "ham",
          "ham",
          "ham",
          "ham",
          "ham",
          "ham",
          "ham",
          "ham",
          "ham",
          "ham",
          "ham",
          "ham",
          "ham",
          "ham",
          "ham",
          "ham",
          "ham",
          "ham",
          "ham",
          "ham",
          "ham",
          "ham",
          "ham",
          "ham",
          "ham",
          "ham",
          "ham",
          "ham",
          "ham",
          "ham",
          "ham",
          "ham",
          "ham",
          "ham",
          "ham",
          "ham",
          "ham",
          "ham",
          "ham",
          "ham",
          "ham",
          "ham",
          "ham",
          "ham",
          "ham",
          "ham",
          "ham",
          "ham",
          "ham",
          "ham",
          "ham",
          "ham",
          "ham",
          "ham",
          "ham",
          "ham",
          "ham",
          "ham",
          "ham",
          "ham",
          "ham",
          "ham",
          "ham",
          "ham",
          "ham",
          "ham",
          "ham",
          "ham",
          "ham",
          "ham",
          "ham",
          "ham",
          "ham",
          "ham",
          "ham",
          "ham",
          "ham",
          "ham",
          "ham",
          "ham",
          "ham",
          "ham",
          "ham",
          "ham",
          "ham",
          "ham",
          "ham",
          "ham",
          "ham",
          "ham",
          "ham",
          "ham",
          "ham",
          "ham",
          "ham",
          "ham",
          "ham",
          "ham",
          "ham",
          "ham",
          "ham",
          "ham",
          "ham",
          "ham",
          "ham",
          "ham",
          "ham",
          "ham",
          "ham",
          "ham",
          "ham",
          "ham",
          "ham",
          "ham",
          "ham",
          "ham",
          "ham",
          "ham",
          "ham",
          "ham",
          "ham",
          "ham",
          "ham",
          "ham",
          "ham",
          "ham",
          "ham",
          "ham",
          "ham",
          "ham",
          "ham",
          "ham",
          "ham",
          "ham",
          "ham",
          "ham",
          "ham",
          "ham",
          "ham",
          "ham",
          "ham",
          "ham",
          "ham",
          "ham",
          "ham",
          "ham",
          "ham",
          "ham",
          "ham",
          "ham",
          "ham",
          "ham",
          "ham",
          "ham",
          "ham",
          "ham",
          "ham",
          "ham",
          "ham",
          "ham",
          "ham",
          "ham",
          "ham",
          "ham",
          "ham",
          "ham",
          "ham",
          "ham",
          "ham",
          "ham",
          "ham",
          "ham",
          "ham",
          "ham",
          "ham",
          "ham",
          "ham",
          "ham",
          "ham",
          "ham",
          "ham",
          "ham",
          "ham",
          "ham",
          "ham",
          "ham",
          "ham",
          "ham",
          "ham",
          "ham",
          "ham",
          "ham",
          "ham",
          "ham",
          "ham",
          "ham",
          "ham",
          "ham",
          "ham",
          "ham",
          "ham",
          "ham",
          "ham",
          "ham",
          "ham",
          "ham",
          "ham",
          "ham",
          "ham",
          "ham",
          "ham",
          "ham",
          "ham",
          "ham",
          "ham",
          "ham",
          "ham",
          "ham",
          "ham",
          "ham",
          "ham",
          "ham",
          "ham",
          "ham",
          "ham",
          "ham",
          "ham",
          "ham",
          "ham",
          "ham",
          "ham",
          "ham",
          "ham",
          "ham",
          "ham",
          "ham",
          "ham",
          "ham",
          "ham",
          "ham",
          "ham",
          "ham",
          "ham",
          "ham",
          "ham",
          "ham",
          "ham",
          "ham",
          "ham",
          "ham",
          "ham",
          "ham",
          "ham",
          "ham",
          "ham",
          "ham",
          "ham",
          "ham",
          "ham",
          "ham",
          "ham",
          "ham",
          "ham",
          "ham",
          "ham",
          "ham",
          "ham",
          "ham",
          "ham",
          "ham",
          "ham",
          "ham",
          "ham",
          "ham",
          "ham",
          "ham",
          "ham",
          "ham",
          "ham",
          "ham",
          "ham",
          "ham",
          "ham",
          "ham",
          "ham",
          "ham",
          "ham",
          "ham",
          "ham",
          "ham",
          "ham",
          "ham",
          "ham",
          "ham",
          "ham",
          "ham",
          "ham",
          "ham",
          "ham",
          "ham",
          "ham",
          "ham",
          "ham",
          "ham",
          "ham",
          "ham",
          "ham",
          "ham",
          "ham",
          "ham",
          "ham",
          "ham",
          "ham",
          "ham",
          "ham",
          "ham",
          "ham",
          "ham",
          "ham",
          "ham",
          "ham",
          "ham",
          "ham",
          "ham",
          "ham",
          "ham",
          "ham",
          "ham",
          "ham",
          "ham",
          "ham",
          "ham",
          "ham",
          "ham",
          "ham",
          "ham",
          "ham",
          "ham",
          "ham",
          "ham",
          "ham",
          "ham",
          "ham",
          "ham",
          "ham",
          "ham",
          "ham",
          "ham",
          "ham",
          "ham",
          "ham",
          "ham",
          "ham",
          "ham",
          "ham",
          "ham",
          "ham",
          "ham",
          "ham",
          "ham",
          "ham",
          "ham",
          "ham",
          "ham",
          "ham",
          "ham",
          "ham",
          "ham",
          "ham",
          "ham",
          "ham",
          "ham",
          "ham",
          "ham",
          "ham",
          "ham",
          "ham",
          "ham",
          "ham",
          "ham",
          "ham",
          "ham",
          "ham",
          "ham",
          "ham",
          "ham",
          "ham",
          "ham",
          "ham",
          "ham",
          "ham",
          "ham",
          "ham",
          "ham",
          "ham",
          "ham",
          "ham",
          "ham",
          "ham",
          "ham",
          "ham",
          "ham",
          "ham",
          "ham",
          "ham",
          "ham",
          "ham",
          "ham",
          "ham",
          "ham",
          "ham",
          "ham",
          "ham",
          "ham",
          "ham",
          "ham",
          "ham",
          "ham",
          "ham",
          "ham",
          "ham",
          "ham",
          "ham",
          "ham",
          "ham",
          "ham",
          "ham",
          "ham",
          "ham",
          "ham",
          "ham",
          "ham",
          "ham",
          "ham",
          "ham",
          "ham",
          "ham",
          "ham",
          "ham",
          "ham",
          "ham",
          "ham",
          "ham",
          "ham",
          "ham",
          "ham",
          "ham",
          "ham",
          "ham",
          "ham",
          "ham",
          "ham",
          "ham",
          "ham",
          "ham",
          "ham",
          "ham",
          "ham",
          "ham",
          "ham",
          "ham",
          "ham",
          "ham",
          "ham",
          "ham",
          "ham",
          "ham",
          "ham",
          "ham",
          "ham",
          "ham",
          "ham",
          "ham",
          "ham",
          "ham",
          "ham",
          "ham",
          "ham",
          "ham",
          "ham",
          "ham",
          "ham",
          "ham",
          "ham",
          "ham",
          "ham",
          "ham",
          "ham",
          "ham",
          "ham",
          "ham",
          "ham",
          "ham",
          "ham",
          "ham",
          "ham",
          "ham",
          "ham",
          "ham",
          "ham",
          "ham",
          "ham",
          "ham",
          "ham",
          "ham",
          "ham",
          "ham",
          "ham",
          "ham",
          "ham",
          "ham",
          "ham",
          "ham",
          "ham",
          "ham",
          "ham",
          "ham",
          "ham",
          "ham",
          "ham",
          "ham",
          "ham",
          "ham",
          "ham",
          "ham",
          "ham",
          "ham",
          "ham",
          "ham",
          "ham",
          "ham",
          "ham",
          "ham",
          "ham",
          "ham",
          "ham",
          "ham",
          "ham",
          "ham",
          "ham",
          "ham",
          "ham",
          "ham",
          "ham",
          "ham",
          "ham",
          "ham",
          "ham",
          "ham",
          "ham",
          "ham",
          "ham",
          "ham",
          "ham",
          "ham",
          "ham",
          "ham",
          "ham",
          "ham",
          "ham",
          "ham",
          "ham",
          "ham",
          "ham",
          "ham",
          "ham",
          "ham",
          "ham",
          "ham",
          "ham",
          "ham",
          "ham",
          "ham",
          "ham",
          "ham",
          "ham",
          "ham",
          "ham",
          "ham",
          "ham",
          "ham",
          "ham",
          "ham",
          "ham",
          "ham",
          "ham",
          "ham",
          "ham",
          "ham",
          "ham",
          "ham",
          "ham",
          "ham",
          "ham",
          "ham",
          "ham",
          "ham",
          "ham",
          "ham",
          "ham",
          "ham",
          "ham",
          "ham",
          "ham",
          "ham",
          "ham",
          "ham",
          "ham",
          "ham",
          "ham",
          "ham",
          "ham",
          "ham",
          "ham",
          "ham",
          "ham",
          "ham",
          "ham",
          "ham",
          "ham",
          "ham",
          "ham",
          "ham",
          "ham",
          "ham",
          "ham",
          "ham",
          "ham",
          "ham",
          "ham",
          "ham",
          "ham",
          "ham",
          "ham",
          "ham",
          "ham",
          "ham",
          "ham",
          "ham",
          "ham",
          "ham",
          "ham",
          "ham",
          "ham",
          "ham",
          "ham",
          "ham",
          "ham",
          "ham",
          "ham",
          "ham",
          "ham",
          "ham",
          "ham",
          "ham",
          "ham",
          "ham",
          "ham",
          "ham",
          "ham",
          "ham",
          "ham",
          "ham",
          "ham",
          "ham",
          "ham",
          "ham",
          "ham",
          "ham",
          "ham",
          "ham",
          "ham",
          "ham",
          "ham",
          "ham",
          "ham",
          "ham",
          "ham",
          "ham",
          "ham",
          "ham",
          "ham",
          "ham",
          "ham",
          "ham",
          "ham",
          "ham",
          "ham",
          "ham",
          "ham",
          "ham",
          "ham",
          "ham",
          "ham",
          "ham",
          "ham",
          "ham",
          "ham",
          "ham",
          "ham",
          "ham",
          "ham",
          "ham",
          "ham",
          "ham",
          "ham",
          "ham",
          "ham",
          "ham",
          "ham",
          "ham",
          "ham",
          "ham",
          "ham",
          "ham",
          "ham",
          "ham",
          "ham",
          "ham",
          "ham",
          "ham",
          "ham",
          "ham",
          "ham",
          "ham",
          "ham",
          "ham",
          "ham",
          "ham",
          "ham",
          "ham",
          "ham",
          "ham",
          "ham",
          "ham",
          "ham",
          "ham",
          "ham",
          "ham",
          "ham",
          "ham",
          "ham",
          "ham",
          "ham",
          "ham",
          "ham",
          "ham",
          "ham",
          "ham",
          "ham",
          "ham",
          "ham",
          "ham",
          "ham",
          "ham",
          "ham",
          "ham",
          "ham",
          "ham",
          "ham",
          "ham",
          "ham",
          "ham",
          "ham",
          "ham",
          "ham",
          "ham",
          "ham",
          "ham",
          "ham",
          "ham",
          "ham",
          "ham",
          "ham",
          "ham",
          "ham",
          "ham",
          "ham",
          "ham",
          "ham",
          "ham",
          "ham",
          "ham",
          "ham",
          "ham",
          "ham",
          "ham",
          "ham",
          "ham",
          "ham",
          "ham",
          "ham",
          "ham",
          "ham",
          "ham",
          "ham",
          "ham",
          "ham",
          "ham",
          "ham",
          "ham",
          "ham",
          "ham",
          "ham",
          "ham",
          "ham",
          "ham",
          "ham",
          "ham",
          "ham",
          "ham",
          "ham",
          "ham",
          "ham",
          "ham",
          "ham",
          "ham",
          "ham",
          "ham",
          "ham",
          "ham",
          "ham",
          "ham",
          "ham",
          "ham",
          "ham",
          "ham",
          "ham",
          "ham",
          "ham",
          "ham",
          "ham",
          "ham",
          "ham",
          "ham",
          "ham",
          "ham",
          "ham",
          "ham",
          "ham",
          "ham",
          "ham",
          "ham",
          "ham",
          "ham",
          "ham",
          "ham",
          "ham",
          "ham",
          "ham",
          "ham",
          "ham",
          "ham",
          "ham",
          "ham",
          "ham",
          "ham",
          "ham",
          "ham",
          "ham",
          "ham",
          "ham",
          "ham",
          "ham",
          "ham",
          "ham",
          "ham",
          "ham",
          "ham",
          "ham",
          "ham",
          "ham",
          "ham",
          "ham",
          "ham",
          "ham",
          "ham",
          "ham",
          "ham",
          "ham",
          "ham",
          "ham",
          "ham",
          "ham",
          "ham",
          "ham",
          "ham",
          "ham",
          "ham",
          "ham",
          "ham",
          "ham",
          "ham",
          "ham",
          "ham",
          "ham",
          "ham",
          "ham",
          "ham",
          "ham",
          "ham",
          "ham",
          "ham",
          "ham",
          "ham",
          "ham",
          "ham",
          "ham",
          "ham",
          "ham",
          "ham",
          "ham",
          "ham",
          "ham",
          "ham",
          "ham",
          "ham",
          "ham",
          "ham",
          "ham",
          "ham",
          "ham",
          "ham",
          "ham",
          "ham",
          "ham",
          "ham",
          "ham",
          "ham",
          "ham",
          "ham",
          "ham",
          "ham",
          "ham",
          "ham",
          "ham",
          "ham",
          "ham",
          "ham",
          "ham",
          "ham",
          "ham",
          "ham",
          "ham",
          "ham",
          "ham",
          "ham",
          "ham",
          "ham",
          "ham",
          "ham",
          "ham",
          "ham",
          "ham",
          "ham",
          "ham",
          "ham",
          "ham",
          "ham",
          "ham",
          "ham",
          "ham",
          "ham",
          "ham",
          "ham",
          "ham",
          "ham",
          "ham",
          "ham",
          "ham",
          "ham",
          "ham",
          "ham",
          "ham",
          "ham",
          "ham",
          "ham",
          "ham",
          "ham",
          "ham",
          "ham",
          "ham",
          "ham",
          "ham",
          "ham",
          "ham",
          "ham",
          "ham",
          "ham",
          "ham",
          "ham",
          "ham",
          "ham",
          "ham",
          "ham",
          "ham",
          "ham",
          "ham",
          "ham",
          "ham",
          "ham",
          "ham",
          "ham",
          "ham",
          "ham",
          "ham",
          "ham",
          "ham",
          "ham",
          "ham",
          "ham",
          "ham",
          "ham",
          "ham",
          "ham",
          "ham",
          "ham",
          "ham",
          "ham",
          "ham",
          "ham",
          "ham",
          "ham",
          "ham",
          "ham",
          "ham",
          "ham",
          "ham",
          "ham",
          "ham",
          "ham",
          "ham",
          "ham",
          "ham",
          "ham",
          "ham",
          "ham",
          "ham",
          "ham",
          "ham",
          "ham",
          "ham",
          "ham",
          "ham",
          "ham",
          "ham",
          "ham",
          "ham",
          "ham",
          "ham",
          "ham",
          "ham",
          "ham",
          "ham",
          "ham",
          "ham",
          "ham",
          "ham",
          "ham",
          "ham",
          "ham",
          "ham",
          "ham",
          "ham",
          "ham",
          "ham",
          "ham",
          "ham",
          "ham",
          "ham",
          "ham",
          "ham",
          "ham",
          "ham",
          "ham",
          "ham",
          "ham",
          "ham",
          "ham",
          "ham",
          "ham",
          "ham",
          "ham",
          "ham",
          "ham",
          "ham",
          "ham",
          "ham",
          "ham",
          "ham",
          "ham",
          "ham",
          "ham",
          "ham",
          "ham",
          "ham",
          "ham",
          "ham",
          "ham",
          "ham",
          "ham",
          "ham",
          "ham",
          "ham",
          "ham",
          "ham",
          "ham",
          "ham",
          "ham",
          "ham",
          "ham",
          "ham",
          "ham",
          "ham",
          "ham",
          "ham",
          "ham",
          "ham",
          "ham",
          "ham",
          "ham",
          "ham",
          "ham",
          "ham",
          "ham",
          "ham",
          "ham",
          "ham",
          "ham",
          "ham",
          "ham",
          "ham",
          "ham",
          "ham",
          "ham",
          "ham",
          "ham",
          "ham",
          "ham",
          "ham",
          "ham",
          "ham",
          "ham",
          "ham",
          "ham",
          "ham",
          "ham",
          "ham",
          "ham",
          "ham",
          "ham",
          "ham",
          "ham",
          "ham",
          "ham",
          "ham",
          "ham",
          "ham",
          "ham",
          "ham",
          "ham",
          "ham",
          "ham",
          "ham",
          "ham",
          "ham",
          "ham",
          "ham",
          "ham",
          "ham",
          "ham",
          "ham",
          "ham",
          "ham",
          "ham",
          "ham",
          "ham",
          "ham",
          "ham",
          "ham",
          "ham",
          "ham",
          "ham",
          "ham",
          "ham",
          "ham",
          "ham",
          "ham",
          "ham",
          "ham",
          "ham",
          "ham",
          "ham",
          "ham",
          "ham",
          "ham",
          "ham",
          "ham",
          "ham",
          "ham",
          "ham",
          "ham",
          "ham",
          "ham",
          "ham",
          "ham",
          "ham",
          "ham",
          "ham",
          "ham",
          "ham",
          "ham",
          "ham",
          "ham",
          "ham",
          "ham",
          "ham",
          "ham",
          "ham",
          "ham",
          "ham",
          "ham",
          "ham",
          "ham",
          "ham",
          "ham",
          "ham",
          "ham",
          "ham",
          "ham",
          "ham",
          "ham",
          "ham",
          "ham",
          "ham",
          "ham",
          "ham",
          "ham",
          "ham",
          "ham",
          "ham",
          "ham",
          "ham",
          "ham",
          "ham",
          "ham",
          "ham",
          "ham",
          "ham",
          "ham",
          "ham",
          "ham",
          "ham",
          "ham",
          "ham",
          "ham",
          "ham",
          "ham",
          "ham",
          "ham",
          "ham",
          "ham",
          "ham",
          "ham",
          "ham",
          "ham",
          "ham",
          "ham",
          "ham",
          "ham",
          "ham",
          "ham",
          "ham",
          "ham",
          "ham",
          "ham",
          "ham",
          "ham",
          "ham",
          "ham",
          "ham",
          "ham",
          "ham",
          "ham",
          "ham",
          "ham",
          "ham",
          "ham",
          "ham",
          "ham",
          "ham",
          "ham",
          "ham",
          "ham",
          "ham",
          "ham",
          "ham",
          "ham",
          "ham",
          "ham",
          "ham",
          "ham",
          "ham",
          "ham",
          "ham",
          "ham",
          "ham",
          "ham",
          "ham",
          "ham",
          "ham",
          "ham",
          "ham",
          "ham",
          "ham",
          "ham",
          "ham",
          "ham",
          "ham",
          "ham",
          "ham",
          "ham",
          "ham",
          "ham",
          "ham",
          "ham",
          "ham",
          "ham",
          "ham",
          "ham",
          "ham",
          "ham",
          "ham",
          "ham",
          "ham",
          "ham",
          "ham",
          "ham",
          "ham",
          "ham",
          "ham",
          "ham",
          "ham",
          "ham",
          "ham",
          "ham",
          "ham",
          "ham",
          "ham",
          "ham",
          "ham",
          "ham",
          "ham",
          "ham",
          "ham",
          "ham",
          "ham",
          "ham",
          "ham",
          "ham",
          "ham",
          "ham",
          "ham",
          "ham",
          "ham",
          "ham",
          "ham",
          "ham",
          "ham",
          "ham",
          "ham",
          "ham",
          "ham",
          "ham",
          "ham",
          "ham",
          "ham",
          "ham",
          "ham",
          "ham",
          "ham",
          "ham",
          "ham",
          "ham",
          "ham",
          "ham",
          "ham",
          "ham",
          "ham",
          "ham",
          "ham",
          "ham",
          "ham",
          "ham",
          "ham",
          "ham",
          "ham",
          "ham",
          "ham",
          "ham",
          "ham",
          "ham",
          "ham",
          "ham",
          "ham",
          "ham",
          "ham",
          "ham",
          "ham",
          "ham",
          "ham",
          "ham",
          "ham",
          "ham",
          "ham",
          "ham",
          "ham",
          "ham",
          "ham",
          "ham",
          "ham",
          "ham",
          "ham",
          "ham",
          "ham",
          "ham",
          "ham",
          "ham",
          "ham",
          "ham",
          "ham",
          "ham",
          "ham",
          "ham",
          "ham",
          "ham",
          "ham",
          "ham",
          "ham",
          "ham",
          "ham",
          "ham",
          "ham",
          "ham",
          "ham",
          "ham",
          "ham",
          "ham",
          "ham",
          "ham",
          "ham",
          "ham",
          "ham",
          "ham",
          "ham",
          "ham",
          "ham",
          "ham",
          "ham",
          "ham",
          "ham",
          "ham",
          "ham",
          "ham",
          "ham",
          "ham",
          "ham",
          "ham",
          "ham",
          "ham",
          "ham",
          "ham",
          "ham",
          "ham",
          "ham",
          "ham",
          "ham",
          "ham",
          "ham",
          "ham",
          "ham",
          "ham",
          "ham",
          "ham",
          "ham",
          "ham",
          "ham",
          "ham",
          "ham",
          "ham",
          "ham",
          "ham",
          "ham",
          "ham",
          "ham",
          "ham",
          "ham",
          "ham",
          "ham",
          "ham",
          "ham",
          "ham",
          "ham",
          "ham",
          "ham",
          "ham",
          "ham",
          "ham",
          "ham",
          "ham",
          "ham",
          "ham",
          "ham",
          "ham",
          "ham",
          "ham",
          "ham",
          "ham",
          "ham",
          "ham",
          "ham",
          "ham",
          "ham",
          "ham",
          "ham",
          "ham",
          "ham",
          "ham",
          "ham",
          "ham",
          "ham",
          "ham",
          "ham",
          "ham",
          "ham",
          "ham",
          "ham",
          "ham",
          "ham",
          "ham",
          "ham",
          "ham",
          "ham",
          "ham",
          "ham",
          "ham",
          "ham",
          "ham",
          "ham",
          "ham",
          "ham",
          "ham",
          "ham",
          "ham",
          "ham",
          "ham",
          "ham",
          "ham",
          "ham",
          "ham",
          "ham",
          "ham",
          "ham",
          "ham",
          "ham",
          "ham",
          "ham",
          "ham",
          "ham",
          "ham",
          "ham",
          "ham",
          "ham",
          "ham",
          "ham",
          "ham",
          "ham",
          "ham",
          "ham",
          "ham",
          "ham",
          "ham",
          "ham",
          "ham",
          "ham",
          "ham",
          "ham",
          "ham",
          "ham",
          "ham",
          "ham",
          "ham",
          "ham",
          "ham",
          "ham",
          "ham",
          "ham",
          "ham",
          "ham",
          "ham",
          "ham",
          "ham",
          "ham",
          "ham",
          "ham",
          "ham",
          "ham",
          "ham",
          "ham",
          "ham",
          "ham",
          "ham",
          "ham",
          "ham",
          "ham",
          "ham",
          "ham",
          "ham",
          "ham",
          "ham",
          "ham",
          "ham",
          "ham",
          "ham",
          "ham",
          "ham",
          "ham",
          "ham",
          "ham",
          "ham",
          "ham",
          "ham",
          "ham",
          "ham",
          "ham",
          "ham",
          "ham",
          "ham",
          "ham",
          "ham",
          "ham",
          "ham",
          "ham",
          "ham",
          "ham",
          "ham",
          "ham",
          "ham",
          "ham",
          "ham",
          "ham",
          "ham",
          "ham",
          "ham",
          "ham",
          "ham",
          "ham",
          "ham",
          "ham",
          "ham",
          "ham",
          "ham",
          "ham",
          "ham",
          "ham",
          "ham",
          "ham",
          "ham",
          "ham",
          "ham",
          "ham",
          "ham",
          "ham",
          "ham",
          "ham",
          "ham",
          "ham",
          "ham",
          "ham",
          "ham",
          "ham",
          "ham",
          "ham",
          "ham",
          "ham",
          "ham",
          "ham",
          "ham",
          "ham",
          "ham",
          "ham",
          "ham",
          "ham",
          "ham",
          "ham",
          "ham",
          "ham",
          "ham",
          "ham",
          "ham",
          "ham",
          "ham",
          "ham",
          "ham",
          "ham",
          "ham",
          "ham",
          "ham",
          "ham",
          "ham",
          "ham",
          "ham",
          "ham",
          "ham",
          "ham",
          "ham",
          "ham",
          "ham",
          "ham",
          "ham",
          "ham",
          "ham",
          "ham",
          "ham",
          "ham",
          "ham",
          "ham",
          "ham",
          "ham",
          "ham",
          "ham",
          "ham",
          "ham",
          "ham",
          "ham",
          "ham",
          "ham",
          "ham",
          "ham",
          "ham",
          "ham",
          "ham",
          "ham",
          "ham",
          "ham",
          "ham",
          "ham",
          "ham",
          "ham",
          "ham",
          "ham",
          "ham",
          "ham",
          "ham",
          "ham",
          "ham",
          "ham",
          "ham",
          "ham",
          "ham",
          "ham",
          "ham",
          "ham",
          "ham",
          "ham",
          "ham",
          "ham",
          "ham",
          "ham",
          "ham",
          "ham",
          "ham",
          "ham",
          "ham",
          "ham",
          "ham",
          "ham",
          "ham",
          "ham",
          "ham",
          "ham",
          "ham",
          "ham",
          "ham",
          "ham",
          "ham",
          "ham",
          "ham",
          "ham",
          "ham",
          "ham",
          "ham",
          "ham",
          "ham",
          "ham",
          "ham",
          "ham",
          "ham",
          "ham",
          "ham",
          "ham",
          "ham",
          "ham",
          "ham",
          "ham",
          "ham",
          "ham",
          "ham",
          "ham",
          "ham",
          "ham",
          "ham",
          "ham",
          "ham",
          "ham",
          "ham",
          "ham",
          "ham",
          "ham",
          "ham",
          "ham",
          "ham",
          "ham",
          "ham",
          "ham",
          "ham",
          "ham",
          "ham",
          "ham",
          "ham",
          "ham",
          "ham",
          "ham",
          "ham",
          "ham",
          "ham",
          "ham",
          "ham",
          "ham",
          "ham",
          "ham",
          "ham",
          "ham",
          "ham",
          "ham",
          "ham",
          "ham",
          "ham",
          "ham",
          "ham",
          "ham",
          "ham",
          "ham",
          "ham",
          "ham",
          "ham",
          "ham",
          "ham",
          "ham",
          "ham",
          "ham",
          "ham",
          "ham",
          "ham",
          "ham",
          "ham",
          "ham",
          "ham",
          "ham",
          "ham",
          "ham",
          "ham",
          "ham",
          "ham",
          "ham",
          "ham",
          "ham",
          "ham",
          "ham",
          "ham",
          "ham",
          "ham",
          "ham",
          "ham",
          "ham",
          "ham",
          "ham",
          "ham",
          "ham",
          "ham",
          "ham",
          "ham",
          "ham",
          "ham",
          "ham",
          "ham",
          "ham",
          "ham",
          "ham",
          "ham",
          "ham",
          "ham",
          "ham",
          "ham",
          "ham",
          "ham",
          "ham",
          "ham",
          "ham",
          "ham",
          "ham",
          "ham",
          "ham",
          "ham",
          "ham",
          "ham",
          "ham",
          "ham",
          "ham",
          "ham",
          "ham",
          "ham",
          "ham",
          "ham",
          "ham",
          "ham",
          "ham",
          "ham",
          "ham",
          "ham",
          "ham",
          "ham",
          "ham",
          "ham",
          "ham",
          "ham",
          "ham",
          "ham",
          "ham",
          "ham",
          "ham",
          "ham",
          "ham",
          "ham",
          "ham",
          "ham",
          "ham",
          "ham",
          "ham",
          "ham",
          "ham",
          "ham",
          "ham",
          "ham",
          "ham",
          "ham",
          "ham",
          "ham",
          "ham",
          "ham",
          "ham",
          "ham",
          "ham",
          "ham",
          "ham",
          "ham",
          "ham",
          "ham",
          "ham",
          "ham",
          "ham",
          "ham",
          "ham",
          "ham",
          "ham",
          "ham",
          "ham",
          "ham",
          "ham",
          "ham",
          "ham",
          "ham",
          "ham",
          "ham",
          "ham",
          "ham",
          "ham",
          "ham",
          "ham",
          "ham",
          "ham",
          "ham",
          "ham",
          "ham",
          "ham",
          "ham",
          "ham",
          "ham",
          "ham",
          "ham",
          "ham",
          "ham",
          "ham",
          "ham",
          "ham",
          "ham",
          "ham",
          "ham",
          "ham",
          "ham",
          "ham",
          "ham",
          "ham",
          "ham",
          "ham",
          "ham",
          "ham",
          "ham",
          "ham",
          "ham",
          "ham",
          "ham",
          "ham",
          "ham",
          "ham",
          "ham",
          "ham",
          "ham",
          "ham",
          "ham",
          "ham",
          "ham",
          "ham",
          "ham",
          "ham",
          "ham",
          "ham",
          "ham",
          "ham",
          "ham",
          "ham",
          "ham",
          "ham",
          "ham",
          "ham",
          "ham",
          "ham",
          "ham",
          "ham",
          "ham",
          "ham",
          "ham",
          "ham",
          "ham",
          "ham",
          "ham",
          "ham",
          "ham",
          "ham",
          "ham",
          "ham",
          "ham",
          "ham",
          "ham",
          "ham",
          "ham",
          "ham",
          "ham",
          "ham",
          "ham",
          "ham",
          "ham",
          "ham",
          "ham",
          "ham",
          "ham",
          "ham",
          "ham",
          "ham",
          "ham",
          "ham",
          "ham",
          "ham",
          "ham",
          "ham",
          "ham",
          "ham",
          "ham",
          "ham",
          "ham",
          "ham",
          "ham",
          "ham",
          "ham",
          "ham",
          "ham",
          "ham",
          "ham",
          "ham",
          "ham",
          "ham",
          "ham",
          "ham",
          "ham",
          "ham",
          "ham",
          "ham",
          "ham",
          "ham",
          "ham",
          "ham",
          "ham",
          "ham",
          "ham",
          "ham",
          "ham",
          "ham",
          "ham",
          "ham",
          "ham",
          "ham",
          "ham",
          "ham",
          "ham",
          "ham",
          "ham",
          "ham",
          "ham",
          "ham",
          "ham",
          "ham",
          "ham",
          "ham",
          "ham",
          "ham",
          "ham",
          "ham",
          "ham",
          "ham",
          "ham",
          "ham",
          "ham",
          "ham",
          "ham",
          "ham",
          "ham",
          "ham",
          "ham",
          "ham",
          "ham",
          "ham",
          "ham",
          "ham",
          "ham",
          "ham",
          "ham",
          "ham",
          "ham",
          "ham",
          "ham",
          "ham",
          "ham",
          "ham",
          "ham",
          "ham",
          "ham",
          "ham",
          "ham",
          "ham",
          "ham",
          "ham",
          "ham",
          "ham",
          "ham",
          "ham",
          "ham",
          "ham",
          "ham",
          "ham",
          "ham",
          "ham",
          "ham",
          "ham",
          "ham",
          "ham",
          "ham",
          "ham",
          "ham",
          "ham",
          "ham",
          "ham",
          "ham",
          "ham",
          "ham",
          "ham",
          "ham",
          "ham",
          "ham",
          "ham",
          "ham",
          "ham",
          "ham",
          "ham",
          "ham",
          "ham",
          "ham",
          "ham",
          "ham",
          "ham",
          "ham",
          "ham",
          "ham",
          "ham",
          "ham",
          "ham",
          "ham",
          "ham",
          "ham",
          "ham",
          "ham",
          "ham",
          "ham",
          "ham",
          "ham",
          "ham",
          "ham",
          "ham",
          "ham",
          "ham",
          "ham",
          "ham",
          "ham",
          "ham",
          "ham",
          "ham",
          "ham",
          "ham",
          "ham",
          "ham",
          "ham",
          "ham",
          "ham",
          "ham",
          "ham",
          "ham",
          "ham",
          "ham",
          "ham",
          "ham",
          "ham",
          "ham",
          "ham",
          "ham",
          "ham",
          "ham",
          "ham",
          "ham",
          "ham",
          "ham",
          "ham",
          "ham",
          "ham",
          "ham",
          "ham",
          "ham",
          "ham",
          "ham",
          "ham",
          "ham",
          "ham",
          "ham",
          "ham",
          "ham",
          "ham",
          "ham",
          "ham",
          "ham",
          "ham",
          "ham",
          "ham",
          "ham",
          "ham",
          "ham",
          "ham",
          "ham",
          "ham",
          "ham",
          "ham",
          "ham",
          "ham",
          "ham",
          "ham",
          "ham",
          "ham",
          "ham",
          "ham",
          "ham",
          "ham",
          "ham",
          "ham",
          "ham",
          "ham",
          "ham",
          "ham",
          "ham",
          "ham",
          "ham",
          "ham",
          "ham",
          "ham",
          "ham",
          "ham",
          "ham",
          "ham",
          "ham",
          "ham",
          "ham",
          "ham",
          "ham",
          "ham",
          "ham",
          "ham",
          "ham",
          "ham",
          "ham",
          "ham",
          "ham",
          "ham",
          "ham",
          "ham",
          "ham",
          "ham",
          "ham",
          "ham",
          "ham",
          "ham",
          "ham",
          "ham"
         ],
         "x0": " ",
         "xaxis": "x",
         "y": {
          "bdata": "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",
          "dtype": "i2"
         },
         "y0": " ",
         "yaxis": "y"
        },
        {
         "alignmentgroup": "True",
         "hovertemplate": "Catégorie=%{x}<br>Longueur du Message (caractères)=%{y}<extra></extra>",
         "legendgroup": "spam",
         "marker": {
          "color": "#DC143C"
         },
         "name": "spam",
         "notched": false,
         "offsetgroup": "spam",
         "orientation": "v",
         "showlegend": true,
         "type": "box",
         "x": [
          "spam",
          "spam",
          "spam",
          "spam",
          "spam",
          "spam",
          "spam",
          "spam",
          "spam",
          "spam",
          "spam",
          "spam",
          "spam",
          "spam",
          "spam",
          "spam",
          "spam",
          "spam",
          "spam",
          "spam",
          "spam",
          "spam",
          "spam",
          "spam",
          "spam",
          "spam",
          "spam",
          "spam",
          "spam",
          "spam",
          "spam",
          "spam",
          "spam",
          "spam",
          "spam",
          "spam",
          "spam",
          "spam",
          "spam",
          "spam",
          "spam",
          "spam",
          "spam",
          "spam",
          "spam",
          "spam",
          "spam",
          "spam",
          "spam",
          "spam",
          "spam",
          "spam",
          "spam",
          "spam",
          "spam",
          "spam",
          "spam",
          "spam",
          "spam",
          "spam",
          "spam",
          "spam",
          "spam",
          "spam",
          "spam",
          "spam",
          "spam",
          "spam",
          "spam",
          "spam",
          "spam",
          "spam",
          "spam",
          "spam",
          "spam",
          "spam",
          "spam",
          "spam",
          "spam",
          "spam",
          "spam",
          "spam",
          "spam",
          "spam",
          "spam",
          "spam",
          "spam",
          "spam",
          "spam",
          "spam",
          "spam",
          "spam",
          "spam",
          "spam",
          "spam",
          "spam",
          "spam",
          "spam",
          "spam",
          "spam",
          "spam",
          "spam",
          "spam",
          "spam",
          "spam",
          "spam",
          "spam",
          "spam",
          "spam",
          "spam",
          "spam",
          "spam",
          "spam",
          "spam",
          "spam",
          "spam",
          "spam",
          "spam",
          "spam",
          "spam",
          "spam",
          "spam",
          "spam",
          "spam",
          "spam",
          "spam",
          "spam",
          "spam",
          "spam",
          "spam",
          "spam",
          "spam",
          "spam",
          "spam",
          "spam",
          "spam",
          "spam",
          "spam",
          "spam",
          "spam",
          "spam",
          "spam",
          "spam",
          "spam",
          "spam",
          "spam",
          "spam",
          "spam",
          "spam",
          "spam",
          "spam",
          "spam",
          "spam",
          "spam",
          "spam",
          "spam",
          "spam",
          "spam",
          "spam",
          "spam",
          "spam",
          "spam",
          "spam",
          "spam",
          "spam",
          "spam",
          "spam",
          "spam",
          "spam",
          "spam",
          "spam",
          "spam",
          "spam",
          "spam",
          "spam",
          "spam",
          "spam",
          "spam",
          "spam",
          "spam",
          "spam",
          "spam",
          "spam",
          "spam",
          "spam",
          "spam",
          "spam",
          "spam",
          "spam",
          "spam",
          "spam",
          "spam",
          "spam",
          "spam",
          "spam",
          "spam",
          "spam",
          "spam",
          "spam",
          "spam",
          "spam",
          "spam",
          "spam",
          "spam",
          "spam",
          "spam",
          "spam",
          "spam",
          "spam",
          "spam",
          "spam",
          "spam",
          "spam",
          "spam",
          "spam",
          "spam",
          "spam",
          "spam",
          "spam",
          "spam",
          "spam",
          "spam",
          "spam",
          "spam",
          "spam",
          "spam",
          "spam",
          "spam",
          "spam",
          "spam",
          "spam",
          "spam",
          "spam",
          "spam",
          "spam",
          "spam",
          "spam",
          "spam",
          "spam",
          "spam",
          "spam",
          "spam",
          "spam",
          "spam",
          "spam",
          "spam",
          "spam",
          "spam",
          "spam",
          "spam",
          "spam",
          "spam",
          "spam",
          "spam",
          "spam",
          "spam",
          "spam",
          "spam",
          "spam",
          "spam",
          "spam",
          "spam",
          "spam",
          "spam",
          "spam",
          "spam",
          "spam",
          "spam",
          "spam",
          "spam",
          "spam",
          "spam",
          "spam",
          "spam",
          "spam",
          "spam",
          "spam",
          "spam",
          "spam",
          "spam",
          "spam",
          "spam",
          "spam",
          "spam",
          "spam",
          "spam",
          "spam",
          "spam",
          "spam",
          "spam",
          "spam",
          "spam",
          "spam",
          "spam",
          "spam",
          "spam",
          "spam",
          "spam",
          "spam",
          "spam",
          "spam",
          "spam",
          "spam",
          "spam",
          "spam",
          "spam",
          "spam",
          "spam",
          "spam",
          "spam",
          "spam",
          "spam",
          "spam",
          "spam",
          "spam",
          "spam",
          "spam",
          "spam",
          "spam",
          "spam",
          "spam",
          "spam",
          "spam",
          "spam",
          "spam",
          "spam",
          "spam",
          "spam",
          "spam",
          "spam",
          "spam",
          "spam",
          "spam",
          "spam",
          "spam",
          "spam",
          "spam",
          "spam",
          "spam",
          "spam",
          "spam",
          "spam",
          "spam",
          "spam",
          "spam",
          "spam",
          "spam",
          "spam",
          "spam",
          "spam",
          "spam",
          "spam",
          "spam",
          "spam",
          "spam",
          "spam",
          "spam",
          "spam",
          "spam",
          "spam",
          "spam",
          "spam",
          "spam",
          "spam",
          "spam",
          "spam",
          "spam",
          "spam",
          "spam",
          "spam",
          "spam",
          "spam",
          "spam",
          "spam",
          "spam",
          "spam",
          "spam",
          "spam",
          "spam",
          "spam",
          "spam",
          "spam",
          "spam",
          "spam",
          "spam",
          "spam",
          "spam",
          "spam",
          "spam",
          "spam",
          "spam",
          "spam",
          "spam",
          "spam",
          "spam",
          "spam",
          "spam",
          "spam",
          "spam",
          "spam",
          "spam",
          "spam",
          "spam",
          "spam",
          "spam",
          "spam",
          "spam",
          "spam",
          "spam",
          "spam",
          "spam",
          "spam",
          "spam",
          "spam",
          "spam",
          "spam",
          "spam",
          "spam",
          "spam",
          "spam",
          "spam",
          "spam",
          "spam",
          "spam",
          "spam",
          "spam",
          "spam",
          "spam",
          "spam",
          "spam",
          "spam",
          "spam",
          "spam",
          "spam",
          "spam",
          "spam",
          "spam",
          "spam",
          "spam",
          "spam",
          "spam",
          "spam",
          "spam",
          "spam",
          "spam",
          "spam",
          "spam",
          "spam",
          "spam",
          "spam",
          "spam",
          "spam",
          "spam",
          "spam",
          "spam",
          "spam",
          "spam",
          "spam",
          "spam",
          "spam",
          "spam",
          "spam",
          "spam",
          "spam",
          "spam",
          "spam",
          "spam",
          "spam",
          "spam",
          "spam",
          "spam",
          "spam",
          "spam",
          "spam",
          "spam",
          "spam",
          "spam",
          "spam",
          "spam",
          "spam",
          "spam",
          "spam",
          "spam",
          "spam",
          "spam",
          "spam",
          "spam",
          "spam",
          "spam",
          "spam",
          "spam",
          "spam",
          "spam",
          "spam",
          "spam",
          "spam",
          "spam",
          "spam",
          "spam",
          "spam",
          "spam",
          "spam",
          "spam",
          "spam",
          "spam",
          "spam",
          "spam",
          "spam",
          "spam",
          "spam",
          "spam",
          "spam",
          "spam",
          "spam",
          "spam",
          "spam",
          "spam",
          "spam",
          "spam",
          "spam",
          "spam",
          "spam",
          "spam",
          "spam",
          "spam",
          "spam",
          "spam",
          "spam",
          "spam",
          "spam",
          "spam",
          "spam",
          "spam",
          "spam",
          "spam",
          "spam",
          "spam",
          "spam",
          "spam",
          "spam",
          "spam",
          "spam",
          "spam",
          "spam",
          "spam",
          "spam",
          "spam",
          "spam",
          "spam",
          "spam",
          "spam",
          "spam",
          "spam",
          "spam",
          "spam",
          "spam",
          "spam",
          "spam",
          "spam",
          "spam",
          "spam",
          "spam",
          "spam",
          "spam",
          "spam",
          "spam",
          "spam",
          "spam",
          "spam",
          "spam",
          "spam",
          "spam",
          "spam",
          "spam",
          "spam",
          "spam",
          "spam",
          "spam",
          "spam",
          "spam",
          "spam",
          "spam",
          "spam",
          "spam",
          "spam",
          "spam",
          "spam",
          "spam",
          "spam",
          "spam",
          "spam",
          "spam",
          "spam",
          "spam",
          "spam",
          "spam",
          "spam",
          "spam",
          "spam",
          "spam",
          "spam",
          "spam",
          "spam",
          "spam",
          "spam",
          "spam",
          "spam",
          "spam",
          "spam",
          "spam",
          "spam",
          "spam",
          "spam",
          "spam",
          "spam",
          "spam",
          "spam",
          "spam",
          "spam",
          "spam",
          "spam",
          "spam",
          "spam",
          "spam",
          "spam",
          "spam",
          "spam",
          "spam",
          "spam",
          "spam",
          "spam",
          "spam",
          "spam",
          "spam",
          "spam",
          "spam",
          "spam",
          "spam",
          "spam",
          "spam",
          "spam",
          "spam",
          "spam",
          "spam",
          "spam",
          "spam",
          "spam",
          "spam",
          "spam",
          "spam",
          "spam",
          "spam",
          "spam",
          "spam",
          "spam",
          "spam",
          "spam",
          "spam",
          "spam",
          "spam",
          "spam",
          "spam",
          "spam",
          "spam",
          "spam",
          "spam",
          "spam",
          "spam",
          "spam",
          "spam",
          "spam",
          "spam",
          "spam",
          "spam",
          "spam",
          "spam",
          "spam",
          "spam",
          "spam",
          "spam",
          "spam",
          "spam",
          "spam",
          "spam",
          "spam",
          "spam",
          "spam",
          "spam",
          "spam",
          "spam",
          "spam",
          "spam",
          "spam",
          "spam",
          "spam",
          "spam",
          "spam",
          "spam",
          "spam",
          "spam",
          "spam",
          "spam",
          "spam",
          "spam",
          "spam",
          "spam",
          "spam",
          "spam",
          "spam",
          "spam",
          "spam",
          "spam",
          "spam",
          "spam",
          "spam",
          "spam",
          "spam",
          "spam",
          "spam",
          "spam",
          "spam",
          "spam",
          "spam",
          "spam",
          "spam",
          "spam",
          "spam",
          "spam",
          "spam",
          "spam",
          "spam",
          "spam",
          "spam",
          "spam",
          "spam",
          "spam",
          "spam",
          "spam",
          "spam",
          "spam",
          "spam",
          "spam",
          "spam",
          "spam",
          "spam",
          "spam",
          "spam"
         ],
         "x0": " ",
         "xaxis": "x",
         "y": {
          "bdata": "mwCTAJ0AmgCIAJsAlQCbAJ4ArAB4AKAAmACfAE4AiQCeAJ4AlwCQAJwAnAB9AKIAmwCfAHwAkQCYAJsAnACTAEgAjgCJAJ0AkQCWAJoAeQCfAIUAmwCfAJIAigCFAJ0AgACeAG8AlgCUAKUAgQCdAJUAmwCcADEAagCfAKIAiACdAKIArwChAJ8AkgCgAAcAkwCSAFkAkACeAG8AkQBgAJ4ARQBjAJUAfgCOAJQAVgCGAIwAggCUAI8AiABhADsAXQCZAJ4AbwCbAKAAJQAHAJEAZQCUAIMAZgBBAF8AnwCVAGMAgQCdAKAAmACiAI0AlACFAJwAoQCTAJgAlQCbAKAAmACeAJAAoACVAIYAmgCcAIgAhACPAH8AngCiAJsAiwCeAJQAhACJACkAnACNAJMAlgCeAJwAZQBoAIcAmACPAIYAnABaAJgAkQCNAJ8ARQCcAJkAnABoAHgAngBzAIsAmwCfAJoAMQCRAJQAMgCPAJEAnwB6AFEAeACSAEIAogCbAIoAfQCaAGUAlwCZAJ8AjwCjAI8AlgBHAIwAjQCfAJkAUQCYAJ4AoACCAJoAegB5AJ0AngCWAJwAkQCVAIgAkQCPAJkAhABHAJIAoQCbAKAAegCSAJ8AnQBJAKwAcgB9AJQAkQCKAN8AngCbAI4AogAhAJoAogCaAIQAmgCXAKEAngCZAHMAVACbAIQAmgCYAKMAnACPAJ4AkACNAJ8AoACcAEoAgwBnAJkAgQCPAHYAnQCbAJgAngChAJUAoQAeAJsAnwCQAJ8AmgCdAKEAnwAHAIkAmgChAJMAnACYAJ4AnwCaAJwAtQCfAJwAmwCgAHkAIQCfADAAtwCgAJEAoACWAJ0AcgCmAKAAdgBSAJUAoQCeAJ0AbQChAJgAngCYAJ0AmAB5AJ8AdACnAJUAngBjAGUAnABGAKAAmQCFAIIAmQCIAJoArQBqAJkAkgCCAKUAogCCAIgAnQCYAJ4AGACcAKAAdgCHAJcApQCeAJsAjQB8AHsAfgAhAJ0AoACIAJgAnQCgAG4AnQCXADQAmACMAJgAowCLAIgAlAAwAGQAdwCTAIcAnwBqAJMAegCGAG4AogBuAJgAmACNAJMAeQCMAHAAjwCLAJwAkACRAKAAlwBlAHIAngCZAJIAngCdAIgAjgCcAK0AMgCKAGkAnACGACgAkgCMAE4AlQCgAFEAfgCYAJ0AiACdAJgAQACgAJ0AoABqAIsAmQCZAGUAnACUAIwAoQCcAJUAnQCYAKEAnABEAIIAhQCQAJUAjgCbAJ0AcgClAJwAmACbAJsAlgCxAJ0AcgDFAJwADQCTAGUAbQCeAIgAngBWAJsAnACeAJ4AdgCgAKEAlwCKAG0AagBgAJcAlgCZAHgAgACRAFYAnQBkAHIAiQCGAJIAoAASAD8AiQBfAI8AngChAJMASQCeAJ4AkwAtAJwAmgCeAJQAjABqAHIAmgCUAIcApgCEAHoAjQCdAJgAkgCgAJ8AkACaAHAAnQCPAJUAngCbAJMAnQBIAJ0AnwCHAGkASgCcAJgAiACjAJ0ASgCbAFEAigCgAIYAoQCRAKMAfgCHAIQAkQCQAJwASACEAFEAiQCfAJUALwBBAHsAngBJADMAoQCiAKAAjwCcAI4AcwCfAJgAfgCeAJ4AmwCQAGwAiQClAI8AmwCbAIgAmACgAJoAhACZAI8AmgBqAKAAmwCPAIoAWQCSAIcAngCZAEUAlwCYAIcAhgCfAF8AiQCTAJQAhACRAIYAtQCbAJkAnwB8AHYAiQCMAJkAnwCHAIoArwClAJoAmgCSAIUAfgCVAIcAbQCfAJEAggCgAIcAggCeAJUAmQAvAJ4AnAAsAKIAogCbAKAAdwCOAJwAlQCXAKIAoACIAJIAngCaAH4AkACPAJsAmgCaAJwAnABwAGoAmwCcAIsAWgCfACoAagCiAEYAbACdAJMAUwCbAI4AlACRAKAAngCUAJgAhgBaAJ4AoACTAKAA",
          "dtype": "i2"
         },
         "y0": " ",
         "yaxis": "y"
        }
       ],
       "layout": {
        "boxmode": "overlay",
        "font": {
         "size": 12
        },
        "height": 500,
        "legend": {
         "title": {
          "text": "Catégorie"
         },
         "tracegroupgap": 0
        },
        "template": {
         "data": {
          "bar": [
           {
            "error_x": {
             "color": "#2a3f5f"
            },
            "error_y": {
             "color": "#2a3f5f"
            },
            "marker": {
             "line": {
              "color": "#E5ECF6",
              "width": 0.5
             },
             "pattern": {
              "fillmode": "overlay",
              "size": 10,
              "solidity": 0.2
             }
            },
            "type": "bar"
           }
          ],
          "barpolar": [
           {
            "marker": {
             "line": {
              "color": "#E5ECF6",
              "width": 0.5
             },
             "pattern": {
              "fillmode": "overlay",
              "size": 10,
              "solidity": 0.2
             }
            },
            "type": "barpolar"
           }
          ],
          "carpet": [
           {
            "aaxis": {
             "endlinecolor": "#2a3f5f",
             "gridcolor": "white",
             "linecolor": "white",
             "minorgridcolor": "white",
             "startlinecolor": "#2a3f5f"
            },
            "baxis": {
             "endlinecolor": "#2a3f5f",
             "gridcolor": "white",
             "linecolor": "white",
             "minorgridcolor": "white",
             "startlinecolor": "#2a3f5f"
            },
            "type": "carpet"
           }
          ],
          "choropleth": [
           {
            "colorbar": {
             "outlinewidth": 0,
             "ticks": ""
            },
            "type": "choropleth"
           }
          ],
          "contour": [
           {
            "colorbar": {
             "outlinewidth": 0,
             "ticks": ""
            },
            "colorscale": [
             [
              0.0,
              "#0d0887"
             ],
             [
              0.1111111111111111,
              "#46039f"
             ],
             [
              0.2222222222222222,
              "#7201a8"
             ],
             [
              0.3333333333333333,
              "#9c179e"
             ],
             [
              0.4444444444444444,
              "#bd3786"
             ],
             [
              0.5555555555555556,
              "#d8576b"
             ],
             [
              0.6666666666666666,
              "#ed7953"
             ],
             [
              0.7777777777777778,
              "#fb9f3a"
             ],
             [
              0.8888888888888888,
              "#fdca26"
             ],
             [
              1.0,
              "#f0f921"
             ]
            ],
            "type": "contour"
           }
          ],
          "contourcarpet": [
           {
            "colorbar": {
             "outlinewidth": 0,
             "ticks": ""
            },
            "type": "contourcarpet"
           }
          ],
          "heatmap": [
           {
            "colorbar": {
             "outlinewidth": 0,
             "ticks": ""
            },
            "colorscale": [
             [
              0.0,
              "#0d0887"
             ],
             [
              0.1111111111111111,
              "#46039f"
             ],
             [
              0.2222222222222222,
              "#7201a8"
             ],
             [
              0.3333333333333333,
              "#9c179e"
             ],
             [
              0.4444444444444444,
              "#bd3786"
             ],
             [
              0.5555555555555556,
              "#d8576b"
             ],
             [
              0.6666666666666666,
              "#ed7953"
             ],
             [
              0.7777777777777778,
              "#fb9f3a"
             ],
             [
              0.8888888888888888,
              "#fdca26"
             ],
             [
              1.0,
              "#f0f921"
             ]
            ],
            "type": "heatmap"
           }
          ],
          "histogram": [
           {
            "marker": {
             "pattern": {
              "fillmode": "overlay",
              "size": 10,
              "solidity": 0.2
             }
            },
            "type": "histogram"
           }
          ],
          "histogram2d": [
           {
            "colorbar": {
             "outlinewidth": 0,
             "ticks": ""
            },
            "colorscale": [
             [
              0.0,
              "#0d0887"
             ],
             [
              0.1111111111111111,
              "#46039f"
             ],
             [
              0.2222222222222222,
              "#7201a8"
             ],
             [
              0.3333333333333333,
              "#9c179e"
             ],
             [
              0.4444444444444444,
              "#bd3786"
             ],
             [
              0.5555555555555556,
              "#d8576b"
             ],
             [
              0.6666666666666666,
              "#ed7953"
             ],
             [
              0.7777777777777778,
              "#fb9f3a"
             ],
             [
              0.8888888888888888,
              "#fdca26"
             ],
             [
              1.0,
              "#f0f921"
             ]
            ],
            "type": "histogram2d"
           }
          ],
          "histogram2dcontour": [
           {
            "colorbar": {
             "outlinewidth": 0,
             "ticks": ""
            },
            "colorscale": [
             [
              0.0,
              "#0d0887"
             ],
             [
              0.1111111111111111,
              "#46039f"
             ],
             [
              0.2222222222222222,
              "#7201a8"
             ],
             [
              0.3333333333333333,
              "#9c179e"
             ],
             [
              0.4444444444444444,
              "#bd3786"
             ],
             [
              0.5555555555555556,
              "#d8576b"
             ],
             [
              0.6666666666666666,
              "#ed7953"
             ],
             [
              0.7777777777777778,
              "#fb9f3a"
             ],
             [
              0.8888888888888888,
              "#fdca26"
             ],
             [
              1.0,
              "#f0f921"
             ]
            ],
            "type": "histogram2dcontour"
           }
          ],
          "mesh3d": [
           {
            "colorbar": {
             "outlinewidth": 0,
             "ticks": ""
            },
            "type": "mesh3d"
           }
          ],
          "parcoords": [
           {
            "line": {
             "colorbar": {
              "outlinewidth": 0,
              "ticks": ""
             }
            },
            "type": "parcoords"
           }
          ],
          "pie": [
           {
            "automargin": true,
            "type": "pie"
           }
          ],
          "scatter": [
           {
            "fillpattern": {
             "fillmode": "overlay",
             "size": 10,
             "solidity": 0.2
            },
            "type": "scatter"
           }
          ],
          "scatter3d": [
           {
            "line": {
             "colorbar": {
              "outlinewidth": 0,
              "ticks": ""
             }
            },
            "marker": {
             "colorbar": {
              "outlinewidth": 0,
              "ticks": ""
             }
            },
            "type": "scatter3d"
           }
          ],
          "scattercarpet": [
           {
            "marker": {
             "colorbar": {
              "outlinewidth": 0,
              "ticks": ""
             }
            },
            "type": "scattercarpet"
           }
          ],
          "scattergeo": [
           {
            "marker": {
             "colorbar": {
              "outlinewidth": 0,
              "ticks": ""
             }
            },
            "type": "scattergeo"
           }
          ],
          "scattergl": [
           {
            "marker": {
             "colorbar": {
              "outlinewidth": 0,
              "ticks": ""
             }
            },
            "type": "scattergl"
           }
          ],
          "scattermap": [
           {
            "marker": {
             "colorbar": {
              "outlinewidth": 0,
              "ticks": ""
             }
            },
            "type": "scattermap"
           }
          ],
          "scattermapbox": [
           {
            "marker": {
             "colorbar": {
              "outlinewidth": 0,
              "ticks": ""
             }
            },
            "type": "scattermapbox"
           }
          ],
          "scatterpolar": [
           {
            "marker": {
             "colorbar": {
              "outlinewidth": 0,
              "ticks": ""
             }
            },
            "type": "scatterpolar"
           }
          ],
          "scatterpolargl": [
           {
            "marker": {
             "colorbar": {
              "outlinewidth": 0,
              "ticks": ""
             }
            },
            "type": "scatterpolargl"
           }
          ],
          "scatterternary": [
           {
            "marker": {
             "colorbar": {
              "outlinewidth": 0,
              "ticks": ""
             }
            },
            "type": "scatterternary"
           }
          ],
          "surface": [
           {
            "colorbar": {
             "outlinewidth": 0,
             "ticks": ""
            },
            "colorscale": [
             [
              0.0,
              "#0d0887"
             ],
             [
              0.1111111111111111,
              "#46039f"
             ],
             [
              0.2222222222222222,
              "#7201a8"
             ],
             [
              0.3333333333333333,
              "#9c179e"
             ],
             [
              0.4444444444444444,
              "#bd3786"
             ],
             [
              0.5555555555555556,
              "#d8576b"
             ],
             [
              0.6666666666666666,
              "#ed7953"
             ],
             [
              0.7777777777777778,
              "#fb9f3a"
             ],
             [
              0.8888888888888888,
              "#fdca26"
             ],
             [
              1.0,
              "#f0f921"
             ]
            ],
            "type": "surface"
           }
          ],
          "table": [
           {
            "cells": {
             "fill": {
              "color": "#EBF0F8"
             },
             "line": {
              "color": "white"
             }
            },
            "header": {
             "fill": {
              "color": "#C8D4E3"
             },
             "line": {
              "color": "white"
             }
            },
            "type": "table"
           }
          ]
         },
         "layout": {
          "annotationdefaults": {
           "arrowcolor": "#2a3f5f",
           "arrowhead": 0,
           "arrowwidth": 1
          },
          "autotypenumbers": "strict",
          "coloraxis": {
           "colorbar": {
            "outlinewidth": 0,
            "ticks": ""
           }
          },
          "colorscale": {
           "diverging": [
            [
             0,
             "#8e0152"
            ],
            [
             0.1,
             "#c51b7d"
            ],
            [
             0.2,
             "#de77ae"
            ],
            [
             0.3,
             "#f1b6da"
            ],
            [
             0.4,
             "#fde0ef"
            ],
            [
             0.5,
             "#f7f7f7"
            ],
            [
             0.6,
             "#e6f5d0"
            ],
            [
             0.7,
             "#b8e186"
            ],
            [
             0.8,
             "#7fbc41"
            ],
            [
             0.9,
             "#4d9221"
            ],
            [
             1,
             "#276419"
            ]
           ],
           "sequential": [
            [
             0.0,
             "#0d0887"
            ],
            [
             0.1111111111111111,
             "#46039f"
            ],
            [
             0.2222222222222222,
             "#7201a8"
            ],
            [
             0.3333333333333333,
             "#9c179e"
            ],
            [
             0.4444444444444444,
             "#bd3786"
            ],
            [
             0.5555555555555556,
             "#d8576b"
            ],
            [
             0.6666666666666666,
             "#ed7953"
            ],
            [
             0.7777777777777778,
             "#fb9f3a"
            ],
            [
             0.8888888888888888,
             "#fdca26"
            ],
            [
             1.0,
             "#f0f921"
            ]
           ],
           "sequentialminus": [
            [
             0.0,
             "#0d0887"
            ],
            [
             0.1111111111111111,
             "#46039f"
            ],
            [
             0.2222222222222222,
             "#7201a8"
            ],
            [
             0.3333333333333333,
             "#9c179e"
            ],
            [
             0.4444444444444444,
             "#bd3786"
            ],
            [
             0.5555555555555556,
             "#d8576b"
            ],
            [
             0.6666666666666666,
             "#ed7953"
            ],
            [
             0.7777777777777778,
             "#fb9f3a"
            ],
            [
             0.8888888888888888,
             "#fdca26"
            ],
            [
             1.0,
             "#f0f921"
            ]
           ]
          },
          "colorway": [
           "#636efa",
           "#EF553B",
           "#00cc96",
           "#ab63fa",
           "#FFA15A",
           "#19d3f3",
           "#FF6692",
           "#B6E880",
           "#FF97FF",
           "#FECB52"
          ],
          "font": {
           "color": "#2a3f5f"
          },
          "geo": {
           "bgcolor": "white",
           "lakecolor": "white",
           "landcolor": "#E5ECF6",
           "showlakes": true,
           "showland": true,
           "subunitcolor": "white"
          },
          "hoverlabel": {
           "align": "left"
          },
          "hovermode": "closest",
          "mapbox": {
           "style": "light"
          },
          "paper_bgcolor": "white",
          "plot_bgcolor": "#E5ECF6",
          "polar": {
           "angularaxis": {
            "gridcolor": "white",
            "linecolor": "white",
            "ticks": ""
           },
           "bgcolor": "#E5ECF6",
           "radialaxis": {
            "gridcolor": "white",
            "linecolor": "white",
            "ticks": ""
           }
          },
          "scene": {
           "xaxis": {
            "backgroundcolor": "#E5ECF6",
            "gridcolor": "white",
            "gridwidth": 2,
            "linecolor": "white",
            "showbackground": true,
            "ticks": "",
            "zerolinecolor": "white"
           },
           "yaxis": {
            "backgroundcolor": "#E5ECF6",
            "gridcolor": "white",
            "gridwidth": 2,
            "linecolor": "white",
            "showbackground": true,
            "ticks": "",
            "zerolinecolor": "white"
           },
           "zaxis": {
            "backgroundcolor": "#E5ECF6",
            "gridcolor": "white",
            "gridwidth": 2,
            "linecolor": "white",
            "showbackground": true,
            "ticks": "",
            "zerolinecolor": "white"
           }
          },
          "shapedefaults": {
           "line": {
            "color": "#2a3f5f"
           }
          },
          "ternary": {
           "aaxis": {
            "gridcolor": "white",
            "linecolor": "white",
            "ticks": ""
           },
           "baxis": {
            "gridcolor": "white",
            "linecolor": "white",
            "ticks": ""
           },
           "bgcolor": "#E5ECF6",
           "caxis": {
            "gridcolor": "white",
            "linecolor": "white",
            "ticks": ""
           }
          },
          "title": {
           "x": 0.05
          },
          "xaxis": {
           "automargin": true,
           "gridcolor": "white",
           "linecolor": "white",
           "ticks": "",
           "title": {
            "standoff": 15
           },
           "zerolinecolor": "white",
           "zerolinewidth": 2
          },
          "yaxis": {
           "automargin": true,
           "gridcolor": "white",
           "linecolor": "white",
           "ticks": "",
           "title": {
            "standoff": 15
           },
           "zerolinecolor": "white",
           "zerolinewidth": 2
          }
         }
        },
        "title": {
         "text": "📦 Distribution de la Longueur des Messages par Catégorie"
        },
        "width": 600,
        "xaxis": {
         "anchor": "y",
         "categoryarray": [
          "ham",
          "spam"
         ],
         "categoryorder": "array",
         "domain": [
          0.0,
          1.0
         ],
         "title": {
          "text": "Catégorie"
         }
        },
        "yaxis": {
         "anchor": "x",
         "domain": [
          0.0,
          1.0
         ],
         "title": {
          "text": "Longueur du Message (caractères)"
         }
        }
       }
      }
     },
     "metadata": {},
     "output_type": "display_data"
    }
   ],
   "source": [
    "# Box plot de la longueur des messages\n",
    "fig = px.box(\n",
    "    df,\n",
    "    x='Category',\n",
    "    y='message_length',\n",
    "    title='📦 Distribution de la Longueur des Messages par Catégorie',\n",
    "    labels={'message_length': 'Longueur du Message (caractères)', 'Category': 'Catégorie'},\n",
    "    color='Category',\n",
    "    color_discrete_map={'ham': '#2E8B57', 'spam': '#DC143C'}\n",
    ")\n",
    "\n",
    "fig.update_layout(\n",
    "    font=dict(size=12),\n",
    "    width=600,\n",
    "    height=500\n",
    ")\n",
    "\n",
    "fig.show()"
   ]
  },
  {
   "cell_type": "markdown",
   "id": "8ec8d0d0",
   "metadata": {},
   "source": [
    "## 🤖 Entraînement du Modèle\n",
    "\n",
    "Préparation des données et entraînement du modèle TF-IDF + Régression Logistique."
   ]
  },
  {
   "cell_type": "code",
   "execution_count": 24,
   "id": "c75eab53",
   "metadata": {
    "execution": {
     "iopub.execute_input": "2025-09-04T16:03:43.089315Z",
     "iopub.status.busy": "2025-09-04T16:03:43.088313Z",
     "iopub.status.idle": "2025-09-04T16:03:43.118357Z",
     "shell.execute_reply": "2025-09-04T16:03:43.115332Z"
    }
   },
   "outputs": [
    {
     "name": "stdout",
     "output_type": "stream",
     "text": [
      "📊 Préparation des données:\n",
      "🔹 Nombre total de messages: 5572\n",
      "🔹 Messages HAM: 4825\n",
      "🔹 Messages SPAM: 747\n",
      "\n",
      "📈 Division des données:\n",
      "🔹 Entraînement: 4457 messages\n",
      "🔹 Test: 1115 messages\n"
     ]
    }
   ],
   "source": [
    "# Préparation des données\n",
    "X = df['Message']\n",
    "y = df['Category']\n",
    "\n",
    "print('📊 Préparation des données:')\n",
    "print(f'🔹 Nombre total de messages: {len(X)}')\n",
    "print(f'🔹 Messages HAM: {sum(y == \"ham\")}')\n",
    "print(f'🔹 Messages SPAM: {sum(y == \"spam\")}')\n",
    "\n",
    "# Division train/test\n",
    "X_train, X_test, y_train, y_test = train_test_split(\n",
    "    X, y, test_size=0.2, random_state=42, stratify=y\n",
    ")\n",
    "\n",
    "print(f'\\n📈 Division des données:')\n",
    "print(f'🔹 Entraînement: {len(X_train)} messages')\n",
    "print(f'🔹 Test: {len(X_test)} messages')"
   ]
  },
  {
   "cell_type": "code",
   "execution_count": 25,
   "id": "model-creation",
   "metadata": {
    "execution": {
     "iopub.execute_input": "2025-09-04T16:03:43.123330Z",
     "iopub.status.busy": "2025-09-04T16:03:43.122329Z",
     "iopub.status.idle": "2025-09-04T16:03:43.133084Z",
     "shell.execute_reply": "2025-09-04T16:03:43.130086Z"
    }
   },
   "outputs": [
    {
     "name": "stdout",
     "output_type": "stream",
     "text": [
      "🔧 Création du pipeline de modèle...\n",
      "✅ Pipeline créé avec succès!\n",
      "🔹 TF-IDF: max_features=5000, ngram_range=(1,2)\n",
      "🔹 Logistic Regression: class_weight=balanced\n"
     ]
    }
   ],
   "source": [
    "# Création du pipeline de modèle\n",
    "print('🔧 Création du pipeline de modèle...')\n",
    "\n",
    "# Pipeline TF-IDF + Régression Logistique\n",
    "model = Pipeline([\n",
    "    ('tfidf', TfidfVectorizer(\n",
    "        max_features=5000,\n",
    "        stop_words='english',\n",
    "        lowercase=True,\n",
    "        ngram_range=(1, 2)\n",
    "    )),\n",
    "    ('classifier', LogisticRegression(\n",
    "        random_state=42,\n",
    "        class_weight='balanced',\n",
    "        max_iter=1000\n",
    "    ))\n",
    "])\n",
    "\n",
    "print('✅ Pipeline créé avec succès!')\n",
    "print('🔹 TF-IDF: max_features=5000, ngram_range=(1,2)')\n",
    "print('🔹 Logistic Regression: class_weight=balanced')"
   ]
  },
  {
   "cell_type": "code",
   "execution_count": 26,
   "id": "143b27a8",
   "metadata": {
    "execution": {
     "iopub.execute_input": "2025-09-04T16:03:43.139550Z",
     "iopub.status.busy": "2025-09-04T16:03:43.139550Z",
     "iopub.status.idle": "2025-09-04T16:03:43.743442Z",
     "shell.execute_reply": "2025-09-04T16:03:43.742434Z"
    }
   },
   "outputs": [
    {
     "name": "stdout",
     "output_type": "stream",
     "text": [
      "🚀 Entraînement du modèle en cours...\n"
     ]
    },
    {
     "name": "stdout",
     "output_type": "stream",
     "text": [
      "✅ Modèle entraîné avec succès!\n",
      "⏱️ Temps d'entraînement: 0.35 secondes\n"
     ]
    },
    {
     "name": "stdout",
     "output_type": "stream",
     "text": [
      "📊 Prédictions générées pour l'évaluation\n"
     ]
    }
   ],
   "source": [
    "# Entraînement du modèle\n",
    "print('🚀 Entraînement du modèle en cours...')\n",
    "\n",
    "import time\n",
    "start_time = time.time()\n",
    "\n",
    "model.fit(X_train, y_train)\n",
    "\n",
    "training_time = time.time() - start_time\n",
    "\n",
    "print(f'✅ Modèle entraîné avec succès!')\n",
    "print(f'⏱️ Temps d\\'entraînement: {training_time:.2f} secondes')\n",
    "\n",
    "# Prédictions sur les ensembles d'entraînement et de test\n",
    "y_train_pred = model.predict(X_train)\n",
    "y_test_pred = model.predict(X_test)\n",
    "\n",
    "print('📊 Prédictions générées pour l\\'évaluation')"
   ]
  },
  {
   "cell_type": "markdown",
   "id": "9310cc4d",
   "metadata": {},
   "source": [
    "## 📈 Évaluation des Performances\n",
    "\n",
    "Analyse détaillée des performances du modèle avec métriques et visualisations."
   ]
  },
  {
   "cell_type": "code",
   "execution_count": 27,
   "id": "e8214504",
   "metadata": {
    "execution": {
     "iopub.execute_input": "2025-09-04T16:03:43.747598Z",
     "iopub.status.busy": "2025-09-04T16:03:43.745582Z",
     "iopub.status.idle": "2025-09-04T16:03:43.799591Z",
     "shell.execute_reply": "2025-09-04T16:03:43.797598Z"
    }
   },
   "outputs": [
    {
     "name": "stdout",
     "output_type": "stream",
     "text": [
      "📊 MÉTRIQUES DE PERFORMANCE\n",
      "==================================================\n",
      "🎯 ENSEMBLE DE TEST:\n",
      "🔹 Précision (Accuracy): 0.9758 (97.58%)\n",
      "🔹 Précision (Precision): 0.8961 (89.61%)\n",
      "🔹 Rappel (Recall): 0.9262 (92.62%)\n",
      "🔹 F1-Score: 0.9109 (91.09%)\n",
      "🚀 ENSEMBLE D'ENTRAÎNEMENT:\n",
      "🔹 Précision (Accuracy): 0.9930 (99.30%)\n"
     ]
    }
   ],
   "source": [
    "# Calcul des métriques de performance\n",
    "print('📊 MÉTRIQUES DE PERFORMANCE')\n",
    "print('=' * 50)\n",
    "\n",
    "# Métriques sur l'ensemble de test\n",
    "test_accuracy = accuracy_score(y_test, y_test_pred)\n",
    "test_precision = precision_score(y_test, y_test_pred, pos_label='spam')\n",
    "test_recall = recall_score(y_test, y_test_pred, pos_label='spam')\n",
    "test_f1 = f1_score(y_test, y_test_pred, pos_label='spam')\n",
    "\n",
    "print('🎯 ENSEMBLE DE TEST:')\n",
    "print(f'🔹 Précision (Accuracy): {test_accuracy:.4f} ({test_accuracy*100:.2f}%)')\n",
    "print(f'🔹 Précision (Precision): {test_precision:.4f} ({test_precision*100:.2f}%)')\n",
    "print(f'🔹 Rappel (Recall): {test_recall:.4f} ({test_recall*100:.2f}%)')\n",
    "print(f'🔹 F1-Score: {test_f1:.4f} ({test_f1*100:.2f}%)')\n",
    "\n",
    "# Métriques sur l'ensemble d'entraînement\n",
    "train_accuracy = accuracy_score(y_train, y_train_pred)\n",
    "print(f'🚀 ENSEMBLE D\\'ENTRAÎNEMENT:')\n",
    "print(f'🔹 Précision (Accuracy): {train_accuracy:.4f} ({train_accuracy*100:.2f}%)')"
   ]
  },
  {
   "cell_type": "code",
   "execution_count": 28,
   "id": "0800b822",
   "metadata": {
    "execution": {
     "iopub.execute_input": "2025-09-04T16:03:43.806592Z",
     "iopub.status.busy": "2025-09-04T16:03:43.805599Z",
     "iopub.status.idle": "2025-09-04T16:03:44.142862Z",
     "shell.execute_reply": "2025-09-04T16:03:44.142862Z"
    }
   },
   "outputs": [
    {
     "name": "stdout",
     "output_type": "stream",
     "text": [
      "\n",
      "🔍 MATRICE DE CONFUSION\n",
      "==============================\n"
     ]
    },
    {
     "name": "stderr",
     "output_type": "stream",
     "text": [
      "C:\\Users\\eloum\\AppData\\Local\\Temp\\ipykernel_16196\\1909840308.py:14: UserWarning:\n",
      "\n",
      "Glyph 128269 (\\N{LEFT-POINTING MAGNIFYING GLASS}) missing from font(s) Arial.\n",
      "\n",
      "D:\\Documents\\HETIC\\BI\\TD_MLOPS\\.venv\\Lib\\site-packages\\IPython\\core\\pylabtools.py:170: UserWarning:\n",
      "\n",
      "Glyph 128269 (\\N{LEFT-POINTING MAGNIFYING GLASS}) missing from font(s) Arial.\n",
      "\n"
     ]
    },
    {
     "data": {
      "image/png": "[encoded data removed]",
      "text/plain": [
       "<Figure size 800x600 with 2 Axes>"
      ]
     },
     "metadata": {},
     "output_type": "display_data"
    },
    {
     "name": "stdout",
     "output_type": "stream",
     "text": [
      "\n",
      "📊 Analyse détaillée:\n",
      "🔹 Vrais Négatifs (HAM correctement classés): 950\n",
      "🔹 Faux Positifs (HAM classés comme SPAM): 16\n",
      "🔹 Faux Négatifs (SPAM classés comme HAM): 11\n",
      "🔹 Vrais Positifs (SPAM correctement classés): 138\n"
     ]
    }
   ],
   "source": [
    "# Matrice de confusion\n",
    "from sklearn.metrics import ConfusionMatrixDisplay\n",
    "\n",
    "print('\\n🔍 MATRICE DE CONFUSION')\n",
    "print('=' * 30)\n",
    "\n",
    "cm = confusion_matrix(y_test, y_test_pred)\n",
    "\n",
    "# Affichage avec matplotlib\n",
    "fig, ax = plt.subplots(figsize=(8, 6))\n",
    "disp = ConfusionMatrixDisplay(confusion_matrix=cm, display_labels=['HAM', 'SPAM'])\n",
    "disp.plot(ax=ax, cmap='Blues', values_format='d')\n",
    "plt.title('🔍 Matrice de Confusion - Ensemble de Test', fontsize=14, fontweight='bold')\n",
    "plt.tight_layout()\n",
    "plt.show()\n",
    "\n",
    "# Analyse détaillée\n",
    "tn, fp, fn, tp = cm.ravel()\n",
    "print(f'\\n📊 Analyse détaillée:')\n",
    "print(f'🔹 Vrais Négatifs (HAM correctement classés): {tn}')\n",
    "print(f'🔹 Faux Positifs (HAM classés comme SPAM): {fp}')\n",
    "print(f'🔹 Faux Négatifs (SPAM classés comme HAM): {fn}')\n",
    "print(f'🔹 Vrais Positifs (SPAM correctement classés): {tp}')"
   ]
  },
  {
   "cell_type": "code",
   "execution_count": 29,
   "id": "97143688",
   "metadata": {
    "execution": {
     "iopub.execute_input": "2025-09-04T16:03:44.149049Z",
     "iopub.status.busy": "2025-09-04T16:03:44.148040Z",
     "iopub.status.idle": "2025-09-04T16:03:44.276892Z",
     "shell.execute_reply": "2025-09-04T16:03:44.275880Z"
    }
   },
   "outputs": [
    {
     "data": {
      "application/vnd.plotly.v1+json": {
       "config": {
        "plotlyServerURL": "https://plot.ly"
       },
       "data": [
        {
         "line": {
          "color": "#2E8B57",
          "width": 3
         },
         "mode": "lines",
         "name": "ROC Curve (AUC = 0.986)",
         "type": "scatter",
         "x": {
          "bdata": "AAAAAAAAAAAAAAAAAAAAAAAAAAAAAAAAAAAAAAAAAAAAAAAAAAAAAAAAAAAAAAAAAAAAAAAAAAAAAAAAAAAAAAAAAAAAAAAAAAAAAAAAAAAAAAAAAAAAAAAAAAAAAAAAAAAAAAAAAAAAAAAAAAAAAAAAAAAAAAAAAAAAAAAAAAAAAAAAAAAAAAAAAAAAAAAAoiWz+u31UD+iJbP67fVQP6Ils/rt9WA/oiWz+u31YD9yuAz45HBpPwrvX3lpM3U/24G5dmCufT/bgbl2YK59P6Ils/rt9YA/oiWz+u31gD++U7Y4J1KHPycdY7eij4s/24G5dmCujT/bgbl2YK6NP6Ils/rt9ZA/oiWz+u31kD+wvLSZCiSUP7C8tJkKJJQ/vlO2OCdSlz++U7Y4J1KXP9uBuXZgrp0/24G5dmCunT/8V17aTAWiP4Mj3ylbnKM/3VWKCbqrpD/dVYoJuqukP3K4DPjkcLk/crgM+ORwuT82Hs0fbDy6PzYezR9sPLo/velNb3rTuz+96U1vetO7P96/8tJmKsA/ofD+lZc2wz/OidQFR77DP2VWv70eAsQ/gu4qxQTdxT8ZuxV93CDGP1Tr7Iuo1sk/67fXQ4Aayj+Z1W+vhwDVPwrvX3lpM9U/TTrGbkUf1z9NOsZuRR/XP9UFR75Tttg/IGw8mj/Y2D+BhML7V17aP83qt9dDgNo/vH/lpc1U4D+8f+WlzVTgP4NYk46xW+E/qQuOfKds4T+SJEmSJEniP5IkSZIkSeI/dFcpJuiu4j+aCiQU3r/iP6Vj7Fb0ceM/yhbnROqC4z8dY7eijxvkP0MWspCFLOQ/RomfUeJn5D9sPJo/2HjkP+8qxQTdVeo/FN6/8tJm6j+mAgmF96/sP8y1A3PtwOw/9dvrIUAN7T8bj+YPNh7tP+bagbl2YO4/nud5nud57j+IADW0ZFbvP9NmKpBQeO8/ZsAnh8uA7z9EgBpaMqvvPwAAAAAAAPA/",
          "dtype": "f8"
         },
         "y": {
          "bdata": "AAAAAAAAAACLM9o9bH17P4sz2j1sfbs//XmVxRntvj9wA4ZqOubCP6imYy4RnsQ/m465RHhS0D83YKimYy7RPwzVdMwlwtM/dw9b3wYM1T8T4UlB8ufVP6+yOKPdw9Y/TIQnBcmf1z9ZnNHuYevbP/ZtwFBNx9w/5c+rLM5o5z8a7R62vg3oPyR/XmVxRus/JH9eZXFG6z+LM9o9bH3rP4sz2j1sfes/wFBNx1wi7D/AUE3HXCLsP8BQTcdcIuw/wFBNx1wi7D+PuUR4UpDsP4+5RHhSkOw/XSI8KUj+7D9dIjwpSP7sP10iPClI/uw/XSI8KUj+7D8rizPaPWztPyuLM9o9bO0/kj+vsjij7T+SP6+yOKPtP/nzKosz2u0/+fMqizPa7T9gqKZjLhHuP2CopmMuEe4/x1wiPClI7j/HXCI8KUjuP8dcIjwpSO4/x1wiPClI7j8uEZ4UJH/uPy4RnhQkf+4/lcUZ7R627j+VxRntHrbuP/15lcUZ7e4//XmVxRnt7j9kLhGeFCTvP2QuEZ4UJO8/y+KMdg9b7z/L4ox2D1vvP8vijHYPW+8/y+KMdg9b7z/L4ox2D1vvP8vijHYPW+8/y+KMdg9b7z/L4ox2D1vvP8vijHYPW+8/y+KMdg9b7z8ylwhPCpLvPzKXCE8Kku8/MpcITwqS7z8ylwhPCpLvPzKXCE8Kku8/MpcITwqS7z+ZS4QnBcnvP5lLhCcFye8/mUuEJwXJ7z+ZS4QnBcnvPwAAAAAAAPA/AAAAAAAA8D8AAAAAAADwPwAAAAAAAPA/AAAAAAAA8D8AAAAAAADwPwAAAAAAAPA/AAAAAAAA8D8AAAAAAADwPwAAAAAAAPA/AAAAAAAA8D8AAAAAAADwPwAAAAAAAPA/AAAAAAAA8D8AAAAAAADwPwAAAAAAAPA/AAAAAAAA8D8AAAAAAADwPwAAAAAAAPA/AAAAAAAA8D8AAAAAAADwPwAAAAAAAPA/",
          "dtype": "f8"
         }
        },
        {
         "line": {
          "color": "red",
          "dash": "dash",
          "width": 2
         },
         "mode": "lines",
         "name": "Classificateur Aléatoire",
         "type": "scatter",
         "x": [
          0,
          1
         ],
         "y": [
          0,
          1
         ]
        }
       ],
       "layout": {
        "font": {
         "size": 12
        },
        "height": 500,
        "template": {
         "data": {
          "bar": [
           {
            "error_x": {
             "color": "#2a3f5f"
            },
            "error_y": {
             "color": "#2a3f5f"
            },
            "marker": {
             "line": {
              "color": "#E5ECF6",
              "width": 0.5
             },
             "pattern": {
              "fillmode": "overlay",
              "size": 10,
              "solidity": 0.2
             }
            },
            "type": "bar"
           }
          ],
          "barpolar": [
           {
            "marker": {
             "line": {
              "color": "#E5ECF6",
              "width": 0.5
             },
             "pattern": {
              "fillmode": "overlay",
              "size": 10,
              "solidity": 0.2
             }
            },
            "type": "barpolar"
           }
          ],
          "carpet": [
           {
            "aaxis": {
             "endlinecolor": "#2a3f5f",
             "gridcolor": "white",
             "linecolor": "white",
             "minorgridcolor": "white",
             "startlinecolor": "#2a3f5f"
            },
            "baxis": {
             "endlinecolor": "#2a3f5f",
             "gridcolor": "white",
             "linecolor": "white",
             "minorgridcolor": "white",
             "startlinecolor": "#2a3f5f"
            },
            "type": "carpet"
           }
          ],
          "choropleth": [
           {
            "colorbar": {
             "outlinewidth": 0,
             "ticks": ""
            },
            "type": "choropleth"
           }
          ],
          "contour": [
           {
            "colorbar": {
             "outlinewidth": 0,
             "ticks": ""
            },
            "colorscale": [
             [
              0.0,
              "#0d0887"
             ],
             [
              0.1111111111111111,
              "#46039f"
             ],
             [
              0.2222222222222222,
              "#7201a8"
             ],
             [
              0.3333333333333333,
              "#9c179e"
             ],
             [
              0.4444444444444444,
              "#bd3786"
             ],
             [
              0.5555555555555556,
              "#d8576b"
             ],
             [
              0.6666666666666666,
              "#ed7953"
             ],
             [
              0.7777777777777778,
              "#fb9f3a"
             ],
             [
              0.8888888888888888,
              "#fdca26"
             ],
             [
              1.0,
              "#f0f921"
             ]
            ],
            "type": "contour"
           }
          ],
          "contourcarpet": [
           {
            "colorbar": {
             "outlinewidth": 0,
             "ticks": ""
            },
            "type": "contourcarpet"
           }
          ],
          "heatmap": [
           {
            "colorbar": {
             "outlinewidth": 0,
             "ticks": ""
            },
            "colorscale": [
             [
              0.0,
              "#0d0887"
             ],
             [
              0.1111111111111111,
              "#46039f"
             ],
             [
              0.2222222222222222,
              "#7201a8"
             ],
             [
              0.3333333333333333,
              "#9c179e"
             ],
             [
              0.4444444444444444,
              "#bd3786"
             ],
             [
              0.5555555555555556,
              "#d8576b"
             ],
             [
              0.6666666666666666,
              "#ed7953"
             ],
             [
              0.7777777777777778,
              "#fb9f3a"
             ],
             [
              0.8888888888888888,
              "#fdca26"
             ],
             [
              1.0,
              "#f0f921"
             ]
            ],
            "type": "heatmap"
           }
          ],
          "histogram": [
           {
            "marker": {
             "pattern": {
              "fillmode": "overlay",
              "size": 10,
              "solidity": 0.2
             }
            },
            "type": "histogram"
           }
          ],
          "histogram2d": [
           {
            "colorbar": {
             "outlinewidth": 0,
             "ticks": ""
            },
            "colorscale": [
             [
              0.0,
              "#0d0887"
             ],
             [
              0.1111111111111111,
              "#46039f"
             ],
             [
              0.2222222222222222,
              "#7201a8"
             ],
             [
              0.3333333333333333,
              "#9c179e"
             ],
             [
              0.4444444444444444,
              "#bd3786"
             ],
             [
              0.5555555555555556,
              "#d8576b"
             ],
             [
              0.6666666666666666,
              "#ed7953"
             ],
             [
              0.7777777777777778,
              "#fb9f3a"
             ],
             [
              0.8888888888888888,
              "#fdca26"
             ],
             [
              1.0,
              "#f0f921"
             ]
            ],
            "type": "histogram2d"
           }
          ],
          "histogram2dcontour": [
           {
            "colorbar": {
             "outlinewidth": 0,
             "ticks": ""
            },
            "colorscale": [
             [
              0.0,
              "#0d0887"
             ],
             [
              0.1111111111111111,
              "#46039f"
             ],
             [
              0.2222222222222222,
              "#7201a8"
             ],
             [
              0.3333333333333333,
              "#9c179e"
             ],
             [
              0.4444444444444444,
              "#bd3786"
             ],
             [
              0.5555555555555556,
              "#d8576b"
             ],
             [
              0.6666666666666666,
              "#ed7953"
             ],
             [
              0.7777777777777778,
              "#fb9f3a"
             ],
             [
              0.8888888888888888,
              "#fdca26"
             ],
             [
              1.0,
              "#f0f921"
             ]
            ],
            "type": "histogram2dcontour"
           }
          ],
          "mesh3d": [
           {
            "colorbar": {
             "outlinewidth": 0,
             "ticks": ""
            },
            "type": "mesh3d"
           }
          ],
          "parcoords": [
           {
            "line": {
             "colorbar": {
              "outlinewidth": 0,
              "ticks": ""
             }
            },
            "type": "parcoords"
           }
          ],
          "pie": [
           {
            "automargin": true,
            "type": "pie"
           }
          ],
          "scatter": [
           {
            "fillpattern": {
             "fillmode": "overlay",
             "size": 10,
             "solidity": 0.2
            },
            "type": "scatter"
           }
          ],
          "scatter3d": [
           {
            "line": {
             "colorbar": {
              "outlinewidth": 0,
              "ticks": ""
             }
            },
            "marker": {
             "colorbar": {
              "outlinewidth": 0,
              "ticks": ""
             }
            },
            "type": "scatter3d"
           }
          ],
          "scattercarpet": [
           {
            "marker": {
             "colorbar": {
              "outlinewidth": 0,
              "ticks": ""
             }
            },
            "type": "scattercarpet"
           }
          ],
          "scattergeo": [
           {
            "marker": {
             "colorbar": {
              "outlinewidth": 0,
              "ticks": ""
             }
            },
            "type": "scattergeo"
           }
          ],
          "scattergl": [
           {
            "marker": {
             "colorbar": {
              "outlinewidth": 0,
              "ticks": ""
             }
            },
            "type": "scattergl"
           }
          ],
          "scattermap": [
           {
            "marker": {
             "colorbar": {
              "outlinewidth": 0,
              "ticks": ""
             }
            },
            "type": "scattermap"
           }
          ],
          "scattermapbox": [
           {
            "marker": {
             "colorbar": {
              "outlinewidth": 0,
              "ticks": ""
             }
            },
            "type": "scattermapbox"
           }
          ],
          "scatterpolar": [
           {
            "marker": {
             "colorbar": {
              "outlinewidth": 0,
              "ticks": ""
             }
            },
            "type": "scatterpolar"
           }
          ],
          "scatterpolargl": [
           {
            "marker": {
             "colorbar": {
              "outlinewidth": 0,
              "ticks": ""
             }
            },
            "type": "scatterpolargl"
           }
          ],
          "scatterternary": [
           {
            "marker": {
             "colorbar": {
              "outlinewidth": 0,
              "ticks": ""
             }
            },
            "type": "scatterternary"
           }
          ],
          "surface": [
           {
            "colorbar": {
             "outlinewidth": 0,
             "ticks": ""
            },
            "colorscale": [
             [
              0.0,
              "#0d0887"
             ],
             [
              0.1111111111111111,
              "#46039f"
             ],
             [
              0.2222222222222222,
              "#7201a8"
             ],
             [
              0.3333333333333333,
              "#9c179e"
             ],
             [
              0.4444444444444444,
              "#bd3786"
             ],
             [
              0.5555555555555556,
              "#d8576b"
             ],
             [
              0.6666666666666666,
              "#ed7953"
             ],
             [
              0.7777777777777778,
              "#fb9f3a"
             ],
             [
              0.8888888888888888,
              "#fdca26"
             ],
             [
              1.0,
              "#f0f921"
             ]
            ],
            "type": "surface"
           }
          ],
          "table": [
           {
            "cells": {
             "fill": {
              "color": "#EBF0F8"
             },
             "line": {
              "color": "white"
             }
            },
            "header": {
             "fill": {
              "color": "#C8D4E3"
             },
             "line": {
              "color": "white"
             }
            },
            "type": "table"
           }
          ]
         },
         "layout": {
          "annotationdefaults": {
           "arrowcolor": "#2a3f5f",
           "arrowhead": 0,
           "arrowwidth": 1
          },
          "autotypenumbers": "strict",
          "coloraxis": {
           "colorbar": {
            "outlinewidth": 0,
            "ticks": ""
           }
          },
          "colorscale": {
           "diverging": [
            [
             0,
             "#8e0152"
            ],
            [
             0.1,
             "#c51b7d"
            ],
            [
             0.2,
             "#de77ae"
            ],
            [
             0.3,
             "#f1b6da"
            ],
            [
             0.4,
             "#fde0ef"
            ],
            [
             0.5,
             "#f7f7f7"
            ],
            [
             0.6,
             "#e6f5d0"
            ],
            [
             0.7,
             "#b8e186"
            ],
            [
             0.8,
             "#7fbc41"
            ],
            [
             0.9,
             "#4d9221"
            ],
            [
             1,
             "#276419"
            ]
           ],
           "sequential": [
            [
             0.0,
             "#0d0887"
            ],
            [
             0.1111111111111111,
             "#46039f"
            ],
            [
             0.2222222222222222,
             "#7201a8"
            ],
            [
             0.3333333333333333,
             "#9c179e"
            ],
            [
             0.4444444444444444,
             "#bd3786"
            ],
            [
             0.5555555555555556,
             "#d8576b"
            ],
            [
             0.6666666666666666,
             "#ed7953"
            ],
            [
             0.7777777777777778,
             "#fb9f3a"
            ],
            [
             0.8888888888888888,
             "#fdca26"
            ],
            [
             1.0,
             "#f0f921"
            ]
           ],
           "sequentialminus": [
            [
             0.0,
             "#0d0887"
            ],
            [
             0.1111111111111111,
             "#46039f"
            ],
            [
             0.2222222222222222,
             "#7201a8"
            ],
            [
             0.3333333333333333,
             "#9c179e"
            ],
            [
             0.4444444444444444,
             "#bd3786"
            ],
            [
             0.5555555555555556,
             "#d8576b"
            ],
            [
             0.6666666666666666,
             "#ed7953"
            ],
            [
             0.7777777777777778,
             "#fb9f3a"
            ],
            [
             0.8888888888888888,
             "#fdca26"
            ],
            [
             1.0,
             "#f0f921"
            ]
           ]
          },
          "colorway": [
           "#636efa",
           "#EF553B",
           "#00cc96",
           "#ab63fa",
           "#FFA15A",
           "#19d3f3",
           "#FF6692",
           "#B6E880",
           "#FF97FF",
           "#FECB52"
          ],
          "font": {
           "color": "#2a3f5f"
          },
          "geo": {
           "bgcolor": "white",
           "lakecolor": "white",
           "landcolor": "#E5ECF6",
           "showlakes": true,
           "showland": true,
           "subunitcolor": "white"
          },
          "hoverlabel": {
           "align": "left"
          },
          "hovermode": "closest",
          "mapbox": {
           "style": "light"
          },
          "paper_bgcolor": "white",
          "plot_bgcolor": "#E5ECF6",
          "polar": {
           "angularaxis": {
            "gridcolor": "white",
            "linecolor": "white",
            "ticks": ""
           },
           "bgcolor": "#E5ECF6",
           "radialaxis": {
            "gridcolor": "white",
            "linecolor": "white",
            "ticks": ""
           }
          },
          "scene": {
           "xaxis": {
            "backgroundcolor": "#E5ECF6",
            "gridcolor": "white",
            "gridwidth": 2,
            "linecolor": "white",
            "showbackground": true,
            "ticks": "",
            "zerolinecolor": "white"
           },
           "yaxis": {
            "backgroundcolor": "#E5ECF6",
            "gridcolor": "white",
            "gridwidth": 2,
            "linecolor": "white",
            "showbackground": true,
            "ticks": "",
            "zerolinecolor": "white"
           },
           "zaxis": {
            "backgroundcolor": "#E5ECF6",
            "gridcolor": "white",
            "gridwidth": 2,
            "linecolor": "white",
            "showbackground": true,
            "ticks": "",
            "zerolinecolor": "white"
           }
          },
          "shapedefaults": {
           "line": {
            "color": "#2a3f5f"
           }
          },
          "ternary": {
           "aaxis": {
            "gridcolor": "white",
            "linecolor": "white",
            "ticks": ""
           },
           "baxis": {
            "gridcolor": "white",
            "linecolor": "white",
            "ticks": ""
           },
           "bgcolor": "#E5ECF6",
           "caxis": {
            "gridcolor": "white",
            "linecolor": "white",
            "ticks": ""
           }
          },
          "title": {
           "x": 0.05
          },
          "xaxis": {
           "automargin": true,
           "gridcolor": "white",
           "linecolor": "white",
           "ticks": "",
           "title": {
            "standoff": 15
           },
           "zerolinecolor": "white",
           "zerolinewidth": 2
          },
          "yaxis": {
           "automargin": true,
           "gridcolor": "white",
           "linecolor": "white",
           "ticks": "",
           "title": {
            "standoff": 15
           },
           "zerolinecolor": "white",
           "zerolinewidth": 2
          }
         }
        },
        "title": {
         "text": "📈 Courbe ROC - Performance du Modèle"
        },
        "width": 700,
        "xaxis": {
         "title": {
          "text": "Taux de Faux Positifs (1 - Spécificité)"
         }
        },
        "yaxis": {
         "title": {
          "text": "Taux de Vrais Positifs (Sensibilité)"
         }
        }
       }
      }
     },
     "metadata": {},
     "output_type": "display_data"
    },
    {
     "name": "stdout",
     "output_type": "stream",
     "text": [
      "🎯 AUC-ROC Score: 0.9860\n",
      "🌟 Excellent modèle!\n"
     ]
    }
   ],
   "source": [
    "# Courbe ROC\n",
    "y_test_proba = model.predict_proba(X_test)[:, 1]  # Probabilités pour la classe 'spam'\n",
    "\n",
    "fpr, tpr, thresholds = roc_curve(y_test, y_test_proba, pos_label='spam')\n",
    "roc_auc = auc(fpr, tpr)\n",
    "\n",
    "# Graphique avec Plotly\n",
    "fig = go.Figure()\n",
    "\n",
    "# Courbe ROC\n",
    "fig.add_trace(go.Scatter(\n",
    "    x=fpr,\n",
    "    y=tpr,\n",
    "    mode='lines',\n",
    "    name=f'ROC Curve (AUC = {roc_auc:.3f})',\n",
    "    line=dict(color='#2E8B57', width=3)\n",
    "))\n",
    "\n",
    "# Ligne de référence (classificateur aléatoire)\n",
    "fig.add_trace(go.Scatter(\n",
    "    x=[0, 1],\n",
    "    y=[0, 1],\n",
    "    mode='lines',\n",
    "    name='Classificateur Aléatoire',\n",
    "    line=dict(color='red', width=2, dash='dash')\n",
    "))\n",
    "\n",
    "fig.update_layout(\n",
    "    title='📈 Courbe ROC - Performance du Modèle',\n",
    "    xaxis_title='Taux de Faux Positifs (1 - Spécificité)',\n",
    "    yaxis_title='Taux de Vrais Positifs (Sensibilité)',\n",
    "    width=700,\n",
    "    height=500,\n",
    "    font=dict(size=12)\n",
    ")\n",
    "\n",
    "fig.show()\n",
    "\n",
    "print(f'🎯 AUC-ROC Score: {roc_auc:.4f}')\n",
    "if roc_auc > 0.9:\n",
    "    print('🌟 Excellent modèle!')\n",
    "elif roc_auc > 0.8:\n",
    "    print('✅ Très bon modèle!')\n",
    "elif roc_auc > 0.7:\n",
    "    print('👍 Bon modèle!')\n",
    "else:\n",
    "    print('⚠️ Modèle à améliorer')"
   ]
  },
  {
   "cell_type": "markdown",
   "id": "da208d5c",
   "metadata": {},
   "source": [
    "## 💾 Sauvegarde du Modèle\n",
    "\n",
    "Sauvegarde du modèle entraîné pour utilisation en production."
   ]
  },
  {
   "cell_type": "code",
   "execution_count": 30,
   "id": "2240e3d2",
   "metadata": {
    "execution": {
     "iopub.execute_input": "2025-09-04T16:03:44.284060Z",
     "iopub.status.busy": "2025-09-04T16:03:44.281895Z",
     "iopub.status.idle": "2025-09-04T16:03:44.638502Z",
     "shell.execute_reply": "2025-09-04T16:03:44.637490Z"
    }
   },
   "outputs": [
    {
     "name": "stdout",
     "output_type": "stream",
     "text": [
      "💾 Sauvegarde du modèle en cours...\n"
     ]
    },
    {
     "name": "stdout",
     "output_type": "stream",
     "text": [
      "✅ Modèle sauvegardé avec succès!\n",
      "📂 Chemin: D:\\Documents\\HETIC\\BI\\TD_MLOPS\\models\\model.pkl\n",
      "📏 Taille: 0.22 MB\n",
      "\n",
      "🔄 Test de chargement du modèle...\n",
      "✅ Modèle chargé avec succès!\n"
     ]
    }
   ],
   "source": [
    "# Création du répertoire models s'il n'existe pas\n",
    "MODEL_DIR.mkdir(exist_ok=True)\n",
    "\n",
    "# Sauvegarde du modèle\n",
    "model_path = MODEL_DIR / 'model.pkl'\n",
    "\n",
    "print('💾 Sauvegarde du modèle en cours...')\n",
    "joblib.dump(model, model_path)\n",
    "\n",
    "# Vérification de la taille du fichier\n",
    "file_size = model_path.stat().st_size / (1024 * 1024)  # Taille en MB\n",
    "\n",
    "print(f'✅ Modèle sauvegardé avec succès!')\n",
    "print(f'📂 Chemin: {model_path}')\n",
    "print(f'📏 Taille: {file_size:.2f} MB')\n",
    "\n",
    "# Test de chargement\n",
    "print('\\n🔄 Test de chargement du modèle...')\n",
    "loaded_model = joblib.load(model_path)\n",
    "print('✅ Modèle chargé avec succès!')"
   ]
  },
  {
   "cell_type": "markdown",
   "id": "prediction-examples-section",
   "metadata": {},
   "source": [
    "## 🔮 Exemples de Prédiction\n",
    "\n",
    "Démonstration du modèle avec des exemples pratiques de classification."
   ]
  },
  {
   "cell_type": "code",
   "execution_count": 31,
   "id": "prediction-examples",
   "metadata": {
    "execution": {
     "iopub.execute_input": "2025-09-04T16:03:44.641502Z",
     "iopub.status.busy": "2025-09-04T16:03:44.641502Z",
     "iopub.status.idle": "2025-09-04T16:03:44.672116Z",
     "shell.execute_reply": "2025-09-04T16:03:44.671105Z"
    }
   },
   "outputs": [
    {
     "name": "stdout",
     "output_type": "stream",
     "text": [
      "🔮 EXEMPLES DE PRÉDICTION\n",
      "==================================================\n",
      "\n",
      "📧 Message 1:\n",
      "Message: Congratulations! You've won a £1000 cash prize! Call now to ...\n",
      "🚨 Prédiction: SPAM (Confiance: 94.3%)\n",
      "📊 Probabilités: HAM=5.7%, SPAM=94.3%\n",
      "\n",
      "📧 Message 2:\n",
      "Message: Hey, are we still meeting for lunch tomorrow at 12pm?\n",
      "✅ Prédiction: HAM (Confiance: 95.2%)\n",
      "📊 Probabilités: HAM=95.2%, SPAM=4.8%\n",
      "\n",
      "📧 Message 3:\n",
      "Message: URGENT: Your account will be suspended. Click here to verify...\n",
      "🚨 Prédiction: SPAM (Confiance: 62.0%)\n",
      "📊 Probabilités: HAM=38.0%, SPAM=62.0%\n",
      "\n",
      "📧 Message 4:\n",
      "Message: Thanks for the great meeting today. I'll send you the docume...\n",
      "✅ Prédiction: HAM (Confiance: 91.4%)\n",
      "📊 Probabilités: HAM=91.4%, SPAM=8.6%\n",
      "\n",
      "📧 Message 5:\n",
      "Message: FREE! Win a brand new iPhone! Text WIN to 12345 now! Limited...\n",
      "🚨 Prédiction: SPAM (Confiance: 94.4%)\n",
      "📊 Probabilités: HAM=5.6%, SPAM=94.4%\n"
     ]
    }
   ],
   "source": [
    "# Exemples de messages pour tester le modèle\n",
    "test_messages = [\n",
    "    \"Congratulations! You've won a £1000 cash prize! Call now to claim your reward!\",\n",
    "    \"Hey, are we still meeting for lunch tomorrow at 12pm?\",\n",
    "    \"URGENT: Your account will be suspended. Click here to verify your details immediately!\",\n",
    "    \"Thanks for the great meeting today. I'll send you the documents by email.\",\n",
    "    \"FREE! Win a brand new iPhone! Text WIN to 12345 now! Limited time offer!\"\n",
    "]\n",
    "\n",
    "print('🔮 EXEMPLES DE PRÉDICTION')\n",
    "print('=' * 50)\n",
    "\n",
    "for i, message in enumerate(test_messages, 1):\n",
    "    # Prédiction\n",
    "    prediction = model.predict([message])[0]\n",
    "    probability = model.predict_proba([message])[0]\n",
    "    \n",
    "    # Probabilité pour chaque classe\n",
    "    ham_prob = probability[0] if model.classes_[0] == 'ham' else probability[1]\n",
    "    spam_prob = probability[1] if model.classes_[1] == 'spam' else probability[0]\n",
    "    \n",
    "    print(f'\\n📧 Message {i}:')\n",
    "    message_display = message[:60] + ('...' if len(message) > 60 else '')\n",
    "    print(f'Message: {message_display}')\n",
    "    \n",
    "    if prediction == 'spam':\n",
    "        print(f'🚨 Prédiction: SPAM (Confiance: {spam_prob:.1%})')\n",
    "    else:\n",
    "        print(f'✅ Prédiction: HAM (Confiance: {ham_prob:.1%})')\n",
    "    \n",
    "    print(f'📊 Probabilités: HAM={ham_prob:.1%}, SPAM={spam_prob:.1%}')"
   ]
  },
  {
   "cell_type": "markdown",
   "id": "11430e2e",
   "metadata": {},
   "source": [
    "## 🎯 Conclusion et Intégration\n",
    "\n",
    "### Résumé du Modèle\n",
    "\n",
    "Le modèle de détection de spam développé combine:\n",
    "- **TF-IDF Vectorizer** : Transformation du texte en features numériques\n",
    "- **Logistic Regression** : Classification binaire avec équilibrage des classes\n",
    "- **Pipeline intégré** : Preprocessing et prédiction en une seule étape\n",
    "\n",
    "### Intégration Streamlit\n",
    "\n",
    "Le modèle sauvegardé peut être utilisé directement dans l'application Streamlit:\n",
    "\n",
    "```python\n",
    "import joblib\n",
    "\n",
    "# Chargement du modèle\n",
    "model = joblib.load('models/model.pkl')\n",
    "\n",
    "# Prédiction\n",
    "prediction = model.predict([message])[0]\n",
    "probability = model.predict_proba([message])[0]\n",
    "```\n",
    "\n",
    "### Améliorations Futures\n",
    "\n",
    "- Utilisation de modèles plus avancés (BERT, RoBERTa)\n",
    "- Augmentation des données d'entraînement\n",
    "- Optimisation des hyperparamètres\n",
    "- Validation croisée plus poussée"
   ]
  }
 ],
 "metadata": {
  "kernelspec": {
   "display_name": ".venv",
   "language": "python",
   "name": "python3"
  },
  "language_info": {
   "codemirror_mode": {
    "name": "ipython",
    "version": 3
   },
   "file_extension": ".py",
   "mimetype": "text/x-python",
   "name": "python",
   "nbconvert_exporter": "python",
   "pygments_lexer": "ipython3",
   "version": "3.12.9"
  }
 },
 "nbformat": 4,
 "nbformat_minor": 5
}
